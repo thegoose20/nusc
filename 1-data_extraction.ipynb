{
 "cells": [
  {
   "cell_type": "code",
   "execution_count": 10,
   "id": "a1b09478-57fb-42a0-a3fb-bc0539e4807a",
   "metadata": {
    "scrolled": true
   },
   "outputs": [],
   "source": [
    "# Libraries to extract metadata descriptions from XML data\n",
    "import xml.etree.ElementTree as ET\n",
    "import urllib.request\n",
    "\n",
    "# Libraries for data analysis\n",
    "import pandas as pd\n",
    "import numpy as np\n",
    "import csv\n",
    "\n",
    "# Custom variables\n",
    "import config"
   ]
  },
  {
   "cell_type": "markdown",
   "id": "f9bebaad-d0dc-48f4-a87e-9cf0f87ee55e",
   "metadata": {},
   "source": [
    "**Step 1:** Read the CSV file with XML path data for the Newcastle University Special Collections archival catalog."
   ]
  },
  {
   "cell_type": "code",
   "execution_count": 20,
   "id": "2b630b3d-8ea2-4d5b-b6f9-ca1808ce7ec2",
   "metadata": {},
   "outputs": [
    {
     "name": "stdout",
     "output_type": "stream",
     "text": [
      "rows: 11 | columns: 3\n"
     ]
    },
    {
     "data": {
      "text/html": [
       "<div>\n",
       "<style scoped>\n",
       "    .dataframe tbody tr th:only-of-type {\n",
       "        vertical-align: middle;\n",
       "    }\n",
       "\n",
       "    .dataframe tbody tr th {\n",
       "        vertical-align: top;\n",
       "    }\n",
       "\n",
       "    .dataframe thead th {\n",
       "        text-align: right;\n",
       "    }\n",
       "</style>\n",
       "<table border=\"1\" class=\"dataframe\">\n",
       "  <thead>\n",
       "    <tr style=\"text-align: right;\">\n",
       "      <th></th>\n",
       "      <th>collection_name</th>\n",
       "      <th>xml_path</th>\n",
       "      <th>xml_format</th>\n",
       "    </tr>\n",
       "  </thead>\n",
       "  <tbody>\n",
       "    <tr>\n",
       "      <th>0</th>\n",
       "      <td>Bloodaxe Books Archive</td>\n",
       "      <td>https://specialcollections.ncl.ac.uk/downloads...</td>\n",
       "      <td>EAD</td>\n",
       "    </tr>\n",
       "    <tr>\n",
       "      <th>1</th>\n",
       "      <td>Bell (Gertrude) Archive</td>\n",
       "      <td>https://gertrudebell.ncl.ac.uk/export/</td>\n",
       "      <td>custom</td>\n",
       "    </tr>\n",
       "    <tr>\n",
       "      <th>2</th>\n",
       "      <td>Hill (Selima) Archive</td>\n",
       "      <td>https://specialcollections.ncl.ac.uk/downloads...</td>\n",
       "      <td>EAD</td>\n",
       "    </tr>\n",
       "  </tbody>\n",
       "</table>\n",
       "</div>"
      ],
      "text/plain": [
       "           collection_name                                           xml_path  \\\n",
       "0   Bloodaxe Books Archive  https://specialcollections.ncl.ac.uk/downloads...   \n",
       "1  Bell (Gertrude) Archive             https://gertrudebell.ncl.ac.uk/export/   \n",
       "2    Hill (Selima) Archive  https://specialcollections.ncl.ac.uk/downloads...   \n",
       "\n",
       "  xml_format  \n",
       "0        EAD  \n",
       "1     custom  \n",
       "2        EAD  "
      ]
     },
     "execution_count": 20,
     "metadata": {},
     "output_type": "execute_result"
    }
   ],
   "source": [
    "df_xml = pd.read_csv(config.xml_paths)\n",
    "row_count = df_xml.shape[0]\n",
    "col_count = df_xml.shape[1]\n",
    "print(\"rows:\",row_count, \"| columns:\",col_count)\n",
    "df_xml.head(3)"
   ]
  },
  {
   "cell_type": "code",
   "execution_count": 28,
   "id": "9ac7361f-531d-44f3-9fc7-8612d380460d",
   "metadata": {},
   "outputs": [
    {
     "name": "stdout",
     "output_type": "stream",
     "text": [
      "https://specialcollections.ncl.ac.uk/downloads/exports/ead/2000f6325dfc4fc3201fc45ed01c7a5d.ead.xml\n",
      "https://gertrudebell.ncl.ac.uk/export/\n"
     ]
    }
   ],
   "source": [
    "ead_xml_paths = [df_xml.iloc[i,1] for i in range(0,row_count) if df_xml.iloc[i,2] == \"EAD\"]\n",
    "other_xml_paths = [df_xml.iloc[i,1] for i in range(0,row_count) if df_xml.iloc[i,2] != \"EAD\"] \n",
    "assert(ead_xml_paths[0] == df_xml.iloc[0,1]), \"The first EAD XML list value should be the first XML path in the DataFrame.\"\n",
    "assert(other_xml_paths[0] == df_xml.iloc[1,1]), \"There should only be one non-EAD XML path, that of the Bell Archive.\"\n",
    "print(ead_xml_paths[0])\n",
    "print(other_xml_paths[0])"
   ]
  },
  {
   "cell_type": "code",
   "execution_count": 29,
   "id": "0e44eee8-c3b7-4b25-a8f5-7664270501c8",
   "metadata": {},
   "outputs": [],
   "source": [
    "xml_path = ead_xml_paths[0]"
   ]
  },
  {
   "cell_type": "markdown",
   "id": "34675652-ef0d-4af6-a203-e730937d87a9",
   "metadata": {},
   "source": [
    "Parse the XML data:"
   ]
  },
  {
   "cell_type": "code",
   "execution_count": 30,
   "id": "b5a1dcdc-8ef8-4b16-ae29-cb4731a25df2",
   "metadata": {},
   "outputs": [],
   "source": [
    "content = urllib.request.urlopen(xml_path)\n",
    "xmlTree = ET.parse(content)"
   ]
  },
  {
   "cell_type": "markdown",
   "id": "06a2962e-d0b6-4451-83d5-3efa2228f414",
   "metadata": {},
   "source": [
    "Extract the descriptive text in the metadata fields listed below from the XML data.\n",
    "\n",
    "For each collection, extract the:\n",
    "* EADID: `<eadid>`\n",
    "\n",
    "At all levels of the archival hierarchy, from the collection overall (i.e., `<archdesc>`) down to the item level (e.g., `<c level=\"...\">` (e.g., \"subfonds,\" \"subseries,\" \"file,\" \"item\"), extract the:\n",
    "* Title: `<unittitle>`\n",
    "* Identifier: `<unitid>`\n",
    "* Date (of material?): `<unitdate>`\n",
    "* Language of material: `<langmaterial>`\n",
    "* Biographical / Historical: `<bioghist>`\n",
    "* Scope and Contents: `<scopecontent>`\n",
    "* Processing Information: `<processinfo>`\n",
    "\n",
    "We'll store the extracted data in a DataFrame."
   ]
  },
  {
   "cell_type": "code",
   "execution_count": 38,
   "id": "3c9e7dc3-c7fd-4dec-8d17-592b84146b79",
   "metadata": {},
   "outputs": [
    {
     "name": "stdout",
     "output_type": "stream",
     "text": [
      "eadid BXB archdesc did\n"
     ]
    }
   ],
   "source": [
    "root = xmlTree.getroot()\n",
    "print(root[0][0].tag, root[0][0].text, root[1].tag, root[1][0].tag)"
   ]
  },
  {
   "cell_type": "code",
   "execution_count": 34,
   "id": "cfe2603b-287d-427e-a22a-74927978c2df",
   "metadata": {},
   "outputs": [],
   "source": [
    "level_tags = [\n",
    "    \"archdesc\", \"c\"\n",
    "]\n",
    "metadata_field_tags = [\n",
    "    \"unittitle\", \"unitid\", \"unitdate\", \"langmaterial\", \n",
    "    \"bioghist\", \"scopecontent\", \"processinfo\"\n",
    "]\n",
    "eadids, levels, titles, ids, dates, langmaterials = [], [], [], [], [], []\n",
    "bioghists, scopecontents, processinfos = [], [], []"
   ]
  },
  {
   "cell_type": "code",
   "execution_count": null,
   "id": "6cd279c7-31fb-41ad-9cc8-2aa2057310b4",
   "metadata": {},
   "outputs": [],
   "source": [
    "for child in root.iter():\n",
    "    tag = child.tag\n",
    "    if tag == level_tags[0]\n",
    "    "
   ]
  },
  {
   "cell_type": "code",
   "execution_count": null,
   "id": "8f367b13-a381-427f-8764-9e49f0302d7e",
   "metadata": {},
   "outputs": [],
   "source": []
  },
  {
   "cell_type": "code",
   "execution_count": null,
   "id": "2d758887-c39e-41c8-aa61-b4e1480896f8",
   "metadata": {},
   "outputs": [],
   "source": [
    "metadata_df = pd.DataFrame.from_dict({\n",
    "    \"eadid\": eadids, \"level\": levels, \"unittitle\": titles, \"unitid\": ids, \n",
    "    \"unitdate\": dates, \"langmaterial\":, langmaterials, \"bioghist\": bioghists, \n",
    "    \"scopecontent\": scopecontents, \"processinfo\": processinfos\n",
    "})"
   ]
  }
 ],
 "metadata": {
  "kernelspec": {
   "display_name": "Python 3 (ipykernel)",
   "language": "python",
   "name": "python3"
  },
  "language_info": {
   "codemirror_mode": {
    "name": "ipython",
    "version": 3
   },
   "file_extension": ".py",
   "mimetype": "text/x-python",
   "name": "python",
   "nbconvert_exporter": "python",
   "pygments_lexer": "ipython3",
   "version": "3.12.7"
  }
 },
 "nbformat": 4,
 "nbformat_minor": 5
}
