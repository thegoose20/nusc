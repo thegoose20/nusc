{
 "cells": [
  {
   "cell_type": "code",
   "execution_count": 110,
   "id": "a1b09478-57fb-42a0-a3fb-bc0539e4807a",
   "metadata": {
    "scrolled": true
   },
   "outputs": [],
   "source": [
    "# Libraries to extract metadata descriptions from XML data\n",
    "import xml.etree.ElementTree as ET\n",
    "import urllib.request\n",
    "\n",
    "# Libraries for data analysis\n",
    "import pandas as pd\n",
    "import numpy as np\n",
    "import csv\n",
    "\n",
    "# Custom variables\n",
    "import config\n",
    "\n",
    "# For writing data and creating directories\n",
    "from pathlib import Path"
   ]
  },
  {
   "cell_type": "markdown",
   "id": "f9bebaad-d0dc-48f4-a87e-9cf0f87ee55e",
   "metadata": {},
   "source": [
    "**Step 1:** Read the CSV file with XML path data for the Newcastle University Special Collections archival catalog."
   ]
  },
  {
   "cell_type": "code",
   "execution_count": 2,
   "id": "2b630b3d-8ea2-4d5b-b6f9-ca1808ce7ec2",
   "metadata": {},
   "outputs": [
    {
     "name": "stdout",
     "output_type": "stream",
     "text": [
      "rows: 11 | columns: 3\n"
     ]
    },
    {
     "data": {
      "text/html": [
       "<div>\n",
       "<style scoped>\n",
       "    .dataframe tbody tr th:only-of-type {\n",
       "        vertical-align: middle;\n",
       "    }\n",
       "\n",
       "    .dataframe tbody tr th {\n",
       "        vertical-align: top;\n",
       "    }\n",
       "\n",
       "    .dataframe thead th {\n",
       "        text-align: right;\n",
       "    }\n",
       "</style>\n",
       "<table border=\"1\" class=\"dataframe\">\n",
       "  <thead>\n",
       "    <tr style=\"text-align: right;\">\n",
       "      <th></th>\n",
       "      <th>collection_name</th>\n",
       "      <th>xml_path</th>\n",
       "      <th>xml_format</th>\n",
       "    </tr>\n",
       "  </thead>\n",
       "  <tbody>\n",
       "    <tr>\n",
       "      <th>0</th>\n",
       "      <td>Bloodaxe Books Archive</td>\n",
       "      <td>https://specialcollections.ncl.ac.uk/downloads...</td>\n",
       "      <td>EAD</td>\n",
       "    </tr>\n",
       "    <tr>\n",
       "      <th>1</th>\n",
       "      <td>Bell (Gertrude) Archive</td>\n",
       "      <td>https://gertrudebell.ncl.ac.uk/export/</td>\n",
       "      <td>custom</td>\n",
       "    </tr>\n",
       "    <tr>\n",
       "      <th>2</th>\n",
       "      <td>Hill (Selima) Archive</td>\n",
       "      <td>https://specialcollections.ncl.ac.uk/downloads...</td>\n",
       "      <td>EAD</td>\n",
       "    </tr>\n",
       "  </tbody>\n",
       "</table>\n",
       "</div>"
      ],
      "text/plain": [
       "           collection_name                                           xml_path  \\\n",
       "0   Bloodaxe Books Archive  https://specialcollections.ncl.ac.uk/downloads...   \n",
       "1  Bell (Gertrude) Archive             https://gertrudebell.ncl.ac.uk/export/   \n",
       "2    Hill (Selima) Archive  https://specialcollections.ncl.ac.uk/downloads...   \n",
       "\n",
       "  xml_format  \n",
       "0        EAD  \n",
       "1     custom  \n",
       "2        EAD  "
      ]
     },
     "execution_count": 2,
     "metadata": {},
     "output_type": "execute_result"
    }
   ],
   "source": [
    "df_xml = pd.read_csv(config.xml_paths)\n",
    "row_count = df_xml.shape[0]\n",
    "col_count = df_xml.shape[1]\n",
    "print(\"rows:\",row_count, \"| columns:\",col_count)\n",
    "df_xml.head(3)"
   ]
  },
  {
   "cell_type": "code",
   "execution_count": 3,
   "id": "9ac7361f-531d-44f3-9fc7-8612d380460d",
   "metadata": {
    "editable": true,
    "slideshow": {
     "slide_type": ""
    },
    "tags": []
   },
   "outputs": [
    {
     "name": "stdout",
     "output_type": "stream",
     "text": [
      "https://specialcollections.ncl.ac.uk/downloads/exports/ead/2000f6325dfc4fc3201fc45ed01c7a5d.ead.xml\n",
      "https://gertrudebell.ncl.ac.uk/export/\n"
     ]
    }
   ],
   "source": [
    "ead_xml_paths = [df_xml.iloc[i,1] for i in range(0,row_count) if df_xml.iloc[i,2] == \"EAD\"]\n",
    "other_xml_paths = [df_xml.iloc[i,1] for i in range(0,row_count) if df_xml.iloc[i,2] != \"EAD\"] \n",
    "assert(ead_xml_paths[0] == df_xml.iloc[0,1]), \"The first EAD XML list value should be the first XML path in the DataFrame.\"\n",
    "assert(other_xml_paths[0] == df_xml.iloc[1,1]), \"There should only be one non-EAD XML path, that of the Bell Archive.\"\n",
    "print(ead_xml_paths[0])\n",
    "print(other_xml_paths[0])"
   ]
  },
  {
   "cell_type": "code",
   "execution_count": 4,
   "id": "0e44eee8-c3b7-4b25-a8f5-7664270501c8",
   "metadata": {},
   "outputs": [],
   "source": [
    "xml_path = ead_xml_paths[0]"
   ]
  },
  {
   "cell_type": "markdown",
   "id": "34675652-ef0d-4af6-a203-e730937d87a9",
   "metadata": {},
   "source": [
    "Parse the XML data:"
   ]
  },
  {
   "cell_type": "code",
   "execution_count": 5,
   "id": "b5a1dcdc-8ef8-4b16-ae29-cb4731a25df2",
   "metadata": {},
   "outputs": [],
   "source": [
    "content = urllib.request.urlopen(xml_path)\n",
    "xmlTree = ET.parse(content)"
   ]
  },
  {
   "cell_type": "markdown",
   "id": "06a2962e-d0b6-4451-83d5-3efa2228f414",
   "metadata": {},
   "source": [
    "Extract the descriptive text in the metadata fields listed below from the XML data.\n",
    "\n",
    "For each collection, extract the:\n",
    "* EADID: `<eadid>`\n",
    "\n",
    "At all levels of the archival hierarchy, from the collection overall (i.e., `<archdesc>`) down to the item level (e.g., `<c level=\"...\">` for `\"subfonds\"`, `\"subseries\"`, `\"file\"`, `\"item\"`, etc.), extract the following tags' text:\n",
    "* Title: `<unittitle>`\n",
    "* Identifier: `<unitid>`\n",
    "* Date (of material?): `<unitdate>`\n",
    "* Language of material: `<langmaterial>`\n",
    "* Biographical / Historical: `<bioghist>`\n",
    "* Scope and Contents: `<scopecontent>`\n",
    "* Processing Information: `<processinfo>`\n",
    "\n",
    "Then, store the extracted data in a DataFrame."
   ]
  },
  {
   "cell_type": "code",
   "execution_count": 6,
   "id": "3c9e7dc3-c7fd-4dec-8d17-592b84146b79",
   "metadata": {},
   "outputs": [
    {
     "name": "stdout",
     "output_type": "stream",
     "text": [
      "eadid BXB gb186-bxb\n",
      "archdesc did\n"
     ]
    }
   ],
   "source": [
    "root = xmlTree.getroot()\n",
    "print(root[0][0].tag, root[0][0].text, root[0][0].attrib[\"identifier\"])\n",
    "print(root[1].tag, root[1][0].tag)"
   ]
  },
  {
   "cell_type": "code",
   "execution_count": null,
   "id": "47274d1d-0cac-4010-bb85-9236303ab057",
   "metadata": {},
   "outputs": [],
   "source": [
    "# d = {\n",
    "#     # \"eadid\": eadids, \"level\": levels, \n",
    "#     \"unittitle\": titles, \"unitid\": unitids, \n",
    "#     # \"unitdate\": dates, \"langmaterial\": langmaterials, \n",
    "#     \"bioghist\": bioghists, \"scopecontent\": scopecontents, \"processinfo\": processinfos\n",
    "# }"
   ]
  },
  {
   "cell_type": "code",
   "execution_count": null,
   "id": "71cc9c9d-8457-4a38-9035-9c0e9b94df28",
   "metadata": {},
   "outputs": [],
   "source": []
  },
  {
   "cell_type": "code",
   "execution_count": 134,
   "id": "6cd279c7-31fb-41ad-9cc8-2aa2057310b4",
   "metadata": {
    "scrolled": true
   },
   "outputs": [],
   "source": [
    "metadata_field_tags = [\n",
    "    \"unittitle\", \"unitid\", \"unitdate\", \"bioghist\", \"scopecontent\", \n",
    "    \"processinfo\", \"langmaterial\", \"controlaccess\"\n",
    "]\n",
    "d_descs = {\n",
    "    'unittitle': \"\", 'unitid': \"\", 'unitdate': \"\", 'bioghist': \"\", 'scopecontent': \"\", \n",
    "    'processinfo': \"\", 'langmaterial': \"\", 'controlaccess': \"\"\n",
    "}\n",
    "list_metadata = []\n",
    "for child in xmlTree.iter():\n",
    "    tag = child.tag\n",
    "    # Each time loop hits <archdesc> or <c> tags, record the metadata descriptions gathered\n",
    "    # thus far and start a new d_descs dictionary\n",
    "    if tag == \"c\":\n",
    "        list_metadata += [d_descs]\n",
    "        d_descs = {\n",
    "            'unittitle': \"\", 'unitid': \"\", 'unitdate': \"\", 'bioghist': \"\", 'scopecontent': \"\", \n",
    "            'processinfo': \"\", 'langmaterial': \"\", 'controlaccess': \"\"\n",
    "        }\n",
    "    elif tag in metadata_field_tags:\n",
    "        all_text = \"\"\n",
    "        # Gather all the text under metadata field tags, including those enclosed in\n",
    "        # additional tags (for example: <p> or <note> tags)\n",
    "        for text_block in child.itertext():\n",
    "            if len(text_block) > 0:\n",
    "                text_block = text_block.strip()\n",
    "                # Include a paragraph break because sequences of text strings enclosed\n",
    "                # in <p> or <note> tags will otherwise have no separation between them.\n",
    "                all_text = all_text + text_block + \"\\n\"\n",
    "        if (tag == 'langmaterial') or (tag == 'controlaccess'):\n",
    "            all_text = all_text.strip()\n",
    "            if \"\\xa01953-\\xa0\" in all_text:\n",
    "                    all_text = all_text.replace(\"\\xa01953-\\xa0\",\"-\")\n",
    "            text_list = all_text.split(\"\\n\\n\")\n",
    "            d_descs[tag] = text_list\n",
    "        else:\n",
    "            d_descs[tag] = all_text.strip()    # Remove leading and trailing whitespace\n",
    "    else:\n",
    "        continue"
   ]
  },
  {
   "cell_type": "code",
   "execution_count": 135,
   "id": "2d758887-c39e-41c8-aa61-b4e1480896f8",
   "metadata": {
    "scrolled": true
   },
   "outputs": [
    {
     "name": "stdout",
     "output_type": "stream",
     "text": [
      "5770\n"
     ]
    }
   ],
   "source": [
    "print(len(list_metadata))\n",
    "# print(list_metadata[0])\n",
    "# print(list_metadata[100][\"unitid\"]+\":\", list_metadata[100][\"scopecontent\"])"
   ]
  },
  {
   "cell_type": "code",
   "execution_count": 141,
   "id": "4348e354-4799-4d45-851a-4288befdf3d9",
   "metadata": {},
   "outputs": [],
   "source": [
    "# Create list of first unitid value (which is the eadid) to set as another column - so \n",
    "# list of eadids should have length equal to length of list_metadata"
   ]
  },
  {
   "cell_type": "code",
   "execution_count": 142,
   "id": "af7e0a9f-80f4-4687-8295-bff686f3c1f1",
   "metadata": {},
   "outputs": [],
   "source": []
  },
  {
   "cell_type": "code",
   "execution_count": null,
   "id": "9544a65b-78c7-4cac-98ac-8b31e2d01deb",
   "metadata": {},
   "outputs": [],
   "source": []
  },
  {
   "cell_type": "code",
   "execution_count": null,
   "id": "710d93aa-3a94-40ab-b634-08ad978ea1c9",
   "metadata": {},
   "outputs": [],
   "source": []
  },
  {
   "cell_type": "code",
   "execution_count": 138,
   "id": "1ac33fd1-a3e4-4da3-89ae-f5658b87fa49",
   "metadata": {},
   "outputs": [
    {
     "data": {
      "text/html": [
       "<div>\n",
       "<style scoped>\n",
       "    .dataframe tbody tr th:only-of-type {\n",
       "        vertical-align: middle;\n",
       "    }\n",
       "\n",
       "    .dataframe tbody tr th {\n",
       "        vertical-align: top;\n",
       "    }\n",
       "\n",
       "    .dataframe thead th {\n",
       "        text-align: right;\n",
       "    }\n",
       "</style>\n",
       "<table border=\"1\" class=\"dataframe\">\n",
       "  <thead>\n",
       "    <tr style=\"text-align: right;\">\n",
       "      <th></th>\n",
       "      <th>unittitle</th>\n",
       "      <th>unitid</th>\n",
       "      <th>unitdate</th>\n",
       "      <th>bioghist</th>\n",
       "      <th>scopecontent</th>\n",
       "      <th>processinfo</th>\n",
       "      <th>langmaterial</th>\n",
       "      <th>controlaccess</th>\n",
       "    </tr>\n",
       "  </thead>\n",
       "  <tbody>\n",
       "    <tr>\n",
       "      <th>0</th>\n",
       "      <td>Bloodaxe Books Archive</td>\n",
       "      <td>BXB</td>\n",
       "      <td>1978 - [ongoing]</td>\n",
       "      <td>Bloodaxe Books is one of Britain's leading poe...</td>\n",
       "      <td>Consists of letters and proofs relating to pub...</td>\n",
       "      <td>This catalogue was created by Rebecca Bradley,...</td>\n",
       "      <td>[Bengali, Czech, Danish, English, Finnish, Fre...</td>\n",
       "      <td>[Bloodaxe Books, 1978 -, Astley, Neil,-, poet ...</td>\n",
       "    </tr>\n",
       "    <tr>\n",
       "      <th>1</th>\n",
       "      <td>Editorial</td>\n",
       "      <td>BXB/1</td>\n",
       "      <td>1978 - [ongoing]</td>\n",
       "      <td></td>\n",
       "      <td>Consists of letters and proofs relating to poe...</td>\n",
       "      <td></td>\n",
       "      <td></td>\n",
       "      <td></td>\n",
       "    </tr>\n",
       "    <tr>\n",
       "      <th>2</th>\n",
       "      <td>Published Poetry and Translations by Author</td>\n",
       "      <td>BXB/1/1</td>\n",
       "      <td>1978 - [ongoing]</td>\n",
       "      <td></td>\n",
       "      <td>Consists of letters and proofs relating to pub...</td>\n",
       "      <td></td>\n",
       "      <td></td>\n",
       "      <td></td>\n",
       "    </tr>\n",
       "    <tr>\n",
       "      <th>3</th>\n",
       "      <td>Robert Adamson</td>\n",
       "      <td>BXB/1/1/ADA</td>\n",
       "      <td>2004 - 2009</td>\n",
       "      <td>Robert Adamson was born in Sydney in 1943 and ...</td>\n",
       "      <td>Consists of letters and proofs relating to the...</td>\n",
       "      <td></td>\n",
       "      <td></td>\n",
       "      <td>[Adamson, Robert, 1943 -,  Poet]</td>\n",
       "    </tr>\n",
       "    <tr>\n",
       "      <th>4</th>\n",
       "      <td>Reading the River: Selected Poems</td>\n",
       "      <td>BXB/1/1/ADA/1</td>\n",
       "      <td>2004</td>\n",
       "      <td>Robert Adamson was born in Sydney in 1943 and ...</td>\n",
       "      <td>Consists of letters and manuscripts relating t...</td>\n",
       "      <td></td>\n",
       "      <td></td>\n",
       "      <td></td>\n",
       "    </tr>\n",
       "  </tbody>\n",
       "</table>\n",
       "</div>"
      ],
      "text/plain": [
       "                                     unittitle         unitid  \\\n",
       "0                       Bloodaxe Books Archive            BXB   \n",
       "1                                    Editorial          BXB/1   \n",
       "2  Published Poetry and Translations by Author        BXB/1/1   \n",
       "3                               Robert Adamson    BXB/1/1/ADA   \n",
       "4            Reading the River: Selected Poems  BXB/1/1/ADA/1   \n",
       "\n",
       "           unitdate                                           bioghist  \\\n",
       "0  1978 - [ongoing]  Bloodaxe Books is one of Britain's leading poe...   \n",
       "1  1978 - [ongoing]                                                      \n",
       "2  1978 - [ongoing]                                                      \n",
       "3       2004 - 2009  Robert Adamson was born in Sydney in 1943 and ...   \n",
       "4              2004  Robert Adamson was born in Sydney in 1943 and ...   \n",
       "\n",
       "                                        scopecontent  \\\n",
       "0  Consists of letters and proofs relating to pub...   \n",
       "1  Consists of letters and proofs relating to poe...   \n",
       "2  Consists of letters and proofs relating to pub...   \n",
       "3  Consists of letters and proofs relating to the...   \n",
       "4  Consists of letters and manuscripts relating t...   \n",
       "\n",
       "                                         processinfo  \\\n",
       "0  This catalogue was created by Rebecca Bradley,...   \n",
       "1                                                      \n",
       "2                                                      \n",
       "3                                                      \n",
       "4                                                      \n",
       "\n",
       "                                        langmaterial  \\\n",
       "0  [Bengali, Czech, Danish, English, Finnish, Fre...   \n",
       "1                                                      \n",
       "2                                                      \n",
       "3                                                      \n",
       "4                                                      \n",
       "\n",
       "                                       controlaccess  \n",
       "0  [Bloodaxe Books, 1978 -, Astley, Neil,-, poet ...  \n",
       "1                                                     \n",
       "2                                                     \n",
       "3                   [Adamson, Robert, 1943 -,  Poet]  \n",
       "4                                                     "
      ]
     },
     "execution_count": 138,
     "metadata": {},
     "output_type": "execute_result"
    }
   ],
   "source": [
    "metadata_df = pd.DataFrame.from_records(list_metadata)\n",
    "metadata_df.head()"
   ]
  },
  {
   "cell_type": "code",
   "execution_count": null,
   "id": "eb8b8771-7c1f-442a-a8d9-48470ce3ce10",
   "metadata": {},
   "outputs": [],
   "source": []
  },
  {
   "cell_type": "code",
   "execution_count": 139,
   "id": "8a1a8143-36cc-41ec-b5c5-563d2033aa5a",
   "metadata": {},
   "outputs": [
    {
     "data": {
      "text/html": [
       "<div>\n",
       "<style scoped>\n",
       "    .dataframe tbody tr th:only-of-type {\n",
       "        vertical-align: middle;\n",
       "    }\n",
       "\n",
       "    .dataframe tbody tr th {\n",
       "        vertical-align: top;\n",
       "    }\n",
       "\n",
       "    .dataframe thead th {\n",
       "        text-align: right;\n",
       "    }\n",
       "</style>\n",
       "<table border=\"1\" class=\"dataframe\">\n",
       "  <thead>\n",
       "    <tr style=\"text-align: right;\">\n",
       "      <th></th>\n",
       "      <th>unittitle</th>\n",
       "      <th>unitid</th>\n",
       "      <th>unitdate</th>\n",
       "      <th>bioghist</th>\n",
       "      <th>scopecontent</th>\n",
       "      <th>processinfo</th>\n",
       "      <th>langmaterial</th>\n",
       "      <th>controlaccess</th>\n",
       "    </tr>\n",
       "  </thead>\n",
       "  <tbody>\n",
       "    <tr>\n",
       "      <th>5765</th>\n",
       "      <td>Readings</td>\n",
       "      <td>BXB/5/1/2</td>\n",
       "      <td>c. 1977</td>\n",
       "      <td></td>\n",
       "      <td>Consists of reading pamphlets, typescripts of ...</td>\n",
       "      <td></td>\n",
       "      <td></td>\n",
       "      <td></td>\n",
       "    </tr>\n",
       "    <tr>\n",
       "      <th>5766</th>\n",
       "      <td>Thoth Anthology</td>\n",
       "      <td>BXB/5/1/3</td>\n",
       "      <td>1968 - 1978</td>\n",
       "      <td></td>\n",
       "      <td>Consists of correspondence regarding Morden To...</td>\n",
       "      <td></td>\n",
       "      <td></td>\n",
       "      <td></td>\n",
       "    </tr>\n",
       "    <tr>\n",
       "      <th>5767</th>\n",
       "      <td>Correspondence</td>\n",
       "      <td>BXB/5/1/4</td>\n",
       "      <td>c. 1978</td>\n",
       "      <td></td>\n",
       "      <td>Consists of correspondence between Neil Astley...</td>\n",
       "      <td></td>\n",
       "      <td></td>\n",
       "      <td></td>\n",
       "    </tr>\n",
       "    <tr>\n",
       "      <th>5768</th>\n",
       "      <td>Readings</td>\n",
       "      <td>BXB/5/2</td>\n",
       "      <td>c. 1980</td>\n",
       "      <td></td>\n",
       "      <td>Consists of material relating to readings base...</td>\n",
       "      <td></td>\n",
       "      <td></td>\n",
       "      <td></td>\n",
       "    </tr>\n",
       "    <tr>\n",
       "      <th>5769</th>\n",
       "      <td>Correspondence</td>\n",
       "      <td>BXB/5/2/1</td>\n",
       "      <td>c. 1983</td>\n",
       "      <td></td>\n",
       "      <td>Consists of correspondence regarding readings ...</td>\n",
       "      <td></td>\n",
       "      <td></td>\n",
       "      <td></td>\n",
       "    </tr>\n",
       "  </tbody>\n",
       "</table>\n",
       "</div>"
      ],
      "text/plain": [
       "            unittitle     unitid     unitdate bioghist  \\\n",
       "5765         Readings  BXB/5/1/2      c. 1977            \n",
       "5766  Thoth Anthology  BXB/5/1/3  1968 - 1978            \n",
       "5767   Correspondence  BXB/5/1/4      c. 1978            \n",
       "5768         Readings    BXB/5/2      c. 1980            \n",
       "5769   Correspondence  BXB/5/2/1      c. 1983            \n",
       "\n",
       "                                           scopecontent processinfo  \\\n",
       "5765  Consists of reading pamphlets, typescripts of ...               \n",
       "5766  Consists of correspondence regarding Morden To...               \n",
       "5767  Consists of correspondence between Neil Astley...               \n",
       "5768  Consists of material relating to readings base...               \n",
       "5769  Consists of correspondence regarding readings ...               \n",
       "\n",
       "     langmaterial controlaccess  \n",
       "5765                             \n",
       "5766                             \n",
       "5767                             \n",
       "5768                             \n",
       "5769                             "
      ]
     },
     "execution_count": 139,
     "metadata": {},
     "output_type": "execute_result"
    }
   ],
   "source": [
    "metadata_df.tail()"
   ]
  },
  {
   "cell_type": "code",
   "execution_count": 140,
   "id": "d5969fab-f8fd-487f-bc90-bc4b3db29edf",
   "metadata": {},
   "outputs": [],
   "source": [
    "extracted_dir = \"data/extracted/\"\n",
    "Path(extracted_dir).mkdir(parents=True, exist_ok=True)\n",
    "metadata_df.to_csv(extracted_dir + \"BloodaxeBooksArchive.csv\")"
   ]
  },
  {
   "cell_type": "code",
   "execution_count": null,
   "id": "48eb1a60-bed6-41d0-b75c-69892a69d262",
   "metadata": {},
   "outputs": [],
   "source": []
  }
 ],
 "metadata": {
  "kernelspec": {
   "display_name": "Python 3 (ipykernel)",
   "language": "python",
   "name": "python3"
  },
  "language_info": {
   "codemirror_mode": {
    "name": "ipython",
    "version": 3
   },
   "file_extension": ".py",
   "mimetype": "text/x-python",
   "name": "python",
   "nbconvert_exporter": "python",
   "pygments_lexer": "ipython3",
   "version": "3.12.7"
  }
 },
 "nbformat": 4,
 "nbformat_minor": 5
}
