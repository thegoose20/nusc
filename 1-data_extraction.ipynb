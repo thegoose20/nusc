{
 "cells": [
  {
   "cell_type": "code",
   "execution_count": 1,
   "id": "a1b09478-57fb-42a0-a3fb-bc0539e4807a",
   "metadata": {
    "scrolled": true
   },
   "outputs": [],
   "source": [
    "# Libraries to extract metadata descriptions from XML data\n",
    "import xml.etree.ElementTree as ET\n",
    "import urllib.request\n",
    "\n",
    "# Libraries for data analysis\n",
    "import pandas as pd\n",
    "import numpy as np\n",
    "import csv\n",
    "\n",
    "# Custom variables\n",
    "import config\n",
    "import utils\n",
    "\n",
    "# For writing data and creating directories\n",
    "from pathlib import Path"
   ]
  },
  {
   "cell_type": "markdown",
   "id": "f9bebaad-d0dc-48f4-a87e-9cf0f87ee55e",
   "metadata": {},
   "source": [
    "**Step 1:** Read the CSV file with XML path data for the Newcastle University Special Collections archival catalog."
   ]
  },
  {
   "cell_type": "code",
   "execution_count": 2,
   "id": "2b630b3d-8ea2-4d5b-b6f9-ca1808ce7ec2",
   "metadata": {},
   "outputs": [
    {
     "name": "stdout",
     "output_type": "stream",
     "text": [
      "rows: 11 | columns: 3\n"
     ]
    },
    {
     "data": {
      "text/html": [
       "<div>\n",
       "<style scoped>\n",
       "    .dataframe tbody tr th:only-of-type {\n",
       "        vertical-align: middle;\n",
       "    }\n",
       "\n",
       "    .dataframe tbody tr th {\n",
       "        vertical-align: top;\n",
       "    }\n",
       "\n",
       "    .dataframe thead th {\n",
       "        text-align: right;\n",
       "    }\n",
       "</style>\n",
       "<table border=\"1\" class=\"dataframe\">\n",
       "  <thead>\n",
       "    <tr style=\"text-align: right;\">\n",
       "      <th></th>\n",
       "      <th>collection_name</th>\n",
       "      <th>xml_path</th>\n",
       "      <th>xml_format</th>\n",
       "    </tr>\n",
       "  </thead>\n",
       "  <tbody>\n",
       "    <tr>\n",
       "      <th>0</th>\n",
       "      <td>Bloodaxe Books Archive</td>\n",
       "      <td>https://specialcollections.ncl.ac.uk/downloads...</td>\n",
       "      <td>EAD</td>\n",
       "    </tr>\n",
       "    <tr>\n",
       "      <th>1</th>\n",
       "      <td>Bell (Gertrude) Archive</td>\n",
       "      <td>https://gertrudebell.ncl.ac.uk/export/</td>\n",
       "      <td>custom</td>\n",
       "    </tr>\n",
       "    <tr>\n",
       "      <th>2</th>\n",
       "      <td>Hill (Selima) Archive</td>\n",
       "      <td>https://specialcollections.ncl.ac.uk/downloads...</td>\n",
       "      <td>EAD</td>\n",
       "    </tr>\n",
       "  </tbody>\n",
       "</table>\n",
       "</div>"
      ],
      "text/plain": [
       "           collection_name                                           xml_path  \\\n",
       "0   Bloodaxe Books Archive  https://specialcollections.ncl.ac.uk/downloads...   \n",
       "1  Bell (Gertrude) Archive             https://gertrudebell.ncl.ac.uk/export/   \n",
       "2    Hill (Selima) Archive  https://specialcollections.ncl.ac.uk/downloads...   \n",
       "\n",
       "  xml_format  \n",
       "0        EAD  \n",
       "1     custom  \n",
       "2        EAD  "
      ]
     },
     "execution_count": 2,
     "metadata": {},
     "output_type": "execute_result"
    }
   ],
   "source": [
    "df_xml = pd.read_csv(config.xml_paths)\n",
    "row_count = df_xml.shape[0]\n",
    "col_count = df_xml.shape[1]\n",
    "print(\"rows:\",row_count, \"| columns:\",col_count)\n",
    "df_xml.head(3)"
   ]
  },
  {
   "cell_type": "code",
   "execution_count": 3,
   "id": "9ac7361f-531d-44f3-9fc7-8612d380460d",
   "metadata": {
    "editable": true,
    "slideshow": {
     "slide_type": ""
    },
    "tags": []
   },
   "outputs": [
    {
     "name": "stdout",
     "output_type": "stream",
     "text": [
      "https://specialcollections.ncl.ac.uk/downloads/exports/ead/2000f6325dfc4fc3201fc45ed01c7a5d.ead.xml\n",
      "https://gertrudebell.ncl.ac.uk/export/\n"
     ]
    }
   ],
   "source": [
    "ead_xml_paths = [df_xml.iloc[i,1] for i in range(0,row_count) if df_xml.iloc[i,2] == \"EAD\"]\n",
    "other_xml_paths = [df_xml.iloc[i,1] for i in range(0,row_count) if df_xml.iloc[i,2] != \"EAD\"] \n",
    "assert(ead_xml_paths[0] == df_xml.iloc[0,1]), \"The first EAD XML list value should be the first XML path in the DataFrame.\"\n",
    "assert(other_xml_paths[0] == df_xml.iloc[1,1]), \"There should only be one non-EAD XML path, that of the Bell Archive.\"\n",
    "print(ead_xml_paths[0])\n",
    "print(other_xml_paths[0])"
   ]
  },
  {
   "cell_type": "markdown",
   "id": "06a2962e-d0b6-4451-83d5-3efa2228f414",
   "metadata": {},
   "source": [
    "Parse the XML data as an ElementTree tree. \n",
    "\n",
    "Then, at all levels of the archival hierarchy, from the fonds (i.e., `<archdesc>`) down to the item level (e.g., `<c level=\"...\">` for `\"subfonds\"`, `\"subseries\"`, `\"file\"`, `\"item\"`, etc.), extract the following tags' text:\n",
    "* Title: `<unittitle>`\n",
    "* Identifier: `<unitid>`\n",
    "* Date (of material?): `<unitdate>`\n",
    "* Language of material: `<langmaterial>`\n",
    "* Biographical / Historical: `<bioghist>`\n",
    "* Scope and Contents: `<scopecontent>`\n",
    "* Processing Information: `<processinfo>`\n",
    "\n",
    "The Encoded Archival Description Identifier, or EADID (e.g., `<eadid>BXB<\\eadid>`), will also be the first Unit ID of a fonds (e.g., `<unitid>BXB</unitid>`).\n",
    "\n",
    "*Note: \"Fonds\" is the archival term for collection.  It is the top-most level of a single archive's (or archival collection's) hierarchy.*"
   ]
  },
  {
   "cell_type": "code",
   "execution_count": 4,
   "id": "6cd279c7-31fb-41ad-9cc8-2aa2057310b4",
   "metadata": {
    "scrolled": true
   },
   "outputs": [],
   "source": [
    "all_fonds = []\n",
    "for xml_path in ead_xml_paths:\n",
    "    fonds_list = utils.extractMetadata(xml_path)\n",
    "    all_fonds += [fonds_list]"
   ]
  },
  {
   "cell_type": "code",
   "execution_count": 5,
   "id": "2d758887-c39e-41c8-aa61-b4e1480896f8",
   "metadata": {
    "scrolled": true
   },
   "outputs": [],
   "source": [
    "assert len(all_fonds) == row_count - 1"
   ]
  },
  {
   "cell_type": "markdown",
   "id": "43ec1466-a534-4368-acfd-efdada1f1693",
   "metadata": {},
   "source": [
    "Store the extracted data in a DataFrame."
   ]
  },
  {
   "cell_type": "code",
   "execution_count": 8,
   "id": "710d93aa-3a94-40ab-b634-08ad978ea1c9",
   "metadata": {},
   "outputs": [
    {
     "name": "stdout",
     "output_type": "stream",
     "text": [
      "(16682, 8)\n"
     ]
    }
   ],
   "source": [
    "metadata_df = pd.DataFrame()\n",
    "for fonds_list in all_fonds:\n",
    "    df = pd.DataFrame.from_records(fonds_list)\n",
    "    metadata_df = pd.concat([metadata_df, df])\n",
    "print(metadata_df.shape)"
   ]
  },
  {
   "cell_type": "code",
   "execution_count": 9,
   "id": "1ac33fd1-a3e4-4da3-89ae-f5658b87fa49",
   "metadata": {},
   "outputs": [
    {
     "data": {
      "text/html": [
       "<div>\n",
       "<style scoped>\n",
       "    .dataframe tbody tr th:only-of-type {\n",
       "        vertical-align: middle;\n",
       "    }\n",
       "\n",
       "    .dataframe tbody tr th {\n",
       "        vertical-align: top;\n",
       "    }\n",
       "\n",
       "    .dataframe thead th {\n",
       "        text-align: right;\n",
       "    }\n",
       "</style>\n",
       "<table border=\"1\" class=\"dataframe\">\n",
       "  <thead>\n",
       "    <tr style=\"text-align: right;\">\n",
       "      <th></th>\n",
       "      <th>unittitle</th>\n",
       "      <th>unitid</th>\n",
       "      <th>unitdate</th>\n",
       "      <th>bioghist</th>\n",
       "      <th>scopecontent</th>\n",
       "      <th>processinfo</th>\n",
       "      <th>langmaterial</th>\n",
       "      <th>controlaccess</th>\n",
       "    </tr>\n",
       "  </thead>\n",
       "  <tbody>\n",
       "    <tr>\n",
       "      <th>0</th>\n",
       "      <td>Bloodaxe Books Archive</td>\n",
       "      <td>BXB</td>\n",
       "      <td>1978 - [ongoing]</td>\n",
       "      <td>Bloodaxe Books is one of Britain's leading poe...</td>\n",
       "      <td>Consists of letters and proofs relating to pub...</td>\n",
       "      <td>This catalogue was created by Rebecca Bradley,...</td>\n",
       "      <td>[Bengali, Czech, Danish, English, Finnish, Fre...</td>\n",
       "      <td>[Bloodaxe Books, 1978 -, Astley, Neil, - , poe...</td>\n",
       "    </tr>\n",
       "    <tr>\n",
       "      <th>1</th>\n",
       "      <td>Editorial</td>\n",
       "      <td>BXB/1</td>\n",
       "      <td>1978 - [ongoing]</td>\n",
       "      <td></td>\n",
       "      <td>Consists of letters and proofs relating to poe...</td>\n",
       "      <td></td>\n",
       "      <td></td>\n",
       "      <td></td>\n",
       "    </tr>\n",
       "    <tr>\n",
       "      <th>2</th>\n",
       "      <td>Published Poetry and Translations by Author</td>\n",
       "      <td>BXB/1/1</td>\n",
       "      <td>1978 - [ongoing]</td>\n",
       "      <td></td>\n",
       "      <td>Consists of letters and proofs relating to pub...</td>\n",
       "      <td></td>\n",
       "      <td></td>\n",
       "      <td></td>\n",
       "    </tr>\n",
       "    <tr>\n",
       "      <th>3</th>\n",
       "      <td>Robert Adamson</td>\n",
       "      <td>BXB/1/1/ADA</td>\n",
       "      <td>2004 - 2009</td>\n",
       "      <td>Robert Adamson was born in Sydney in 1943 and ...</td>\n",
       "      <td>Consists of letters and proofs relating to the...</td>\n",
       "      <td></td>\n",
       "      <td></td>\n",
       "      <td>[Adamson, Robert, 1943 -,  Poet]</td>\n",
       "    </tr>\n",
       "    <tr>\n",
       "      <th>4</th>\n",
       "      <td>Reading the River: Selected Poems</td>\n",
       "      <td>BXB/1/1/ADA/1</td>\n",
       "      <td>2004</td>\n",
       "      <td>Robert Adamson was born in Sydney in 1943 and ...</td>\n",
       "      <td>Consists of letters and manuscripts relating t...</td>\n",
       "      <td></td>\n",
       "      <td></td>\n",
       "      <td></td>\n",
       "    </tr>\n",
       "  </tbody>\n",
       "</table>\n",
       "</div>"
      ],
      "text/plain": [
       "                                     unittitle         unitid  \\\n",
       "0                       Bloodaxe Books Archive            BXB   \n",
       "1                                    Editorial          BXB/1   \n",
       "2  Published Poetry and Translations by Author        BXB/1/1   \n",
       "3                               Robert Adamson    BXB/1/1/ADA   \n",
       "4            Reading the River: Selected Poems  BXB/1/1/ADA/1   \n",
       "\n",
       "           unitdate                                           bioghist  \\\n",
       "0  1978 - [ongoing]  Bloodaxe Books is one of Britain's leading poe...   \n",
       "1  1978 - [ongoing]                                                      \n",
       "2  1978 - [ongoing]                                                      \n",
       "3       2004 - 2009  Robert Adamson was born in Sydney in 1943 and ...   \n",
       "4              2004  Robert Adamson was born in Sydney in 1943 and ...   \n",
       "\n",
       "                                        scopecontent  \\\n",
       "0  Consists of letters and proofs relating to pub...   \n",
       "1  Consists of letters and proofs relating to poe...   \n",
       "2  Consists of letters and proofs relating to pub...   \n",
       "3  Consists of letters and proofs relating to the...   \n",
       "4  Consists of letters and manuscripts relating t...   \n",
       "\n",
       "                                         processinfo  \\\n",
       "0  This catalogue was created by Rebecca Bradley,...   \n",
       "1                                                      \n",
       "2                                                      \n",
       "3                                                      \n",
       "4                                                      \n",
       "\n",
       "                                        langmaterial  \\\n",
       "0  [Bengali, Czech, Danish, English, Finnish, Fre...   \n",
       "1                                                      \n",
       "2                                                      \n",
       "3                                                      \n",
       "4                                                      \n",
       "\n",
       "                                       controlaccess  \n",
       "0  [Bloodaxe Books, 1978 -, Astley, Neil, - , poe...  \n",
       "1                                                     \n",
       "2                                                     \n",
       "3                   [Adamson, Robert, 1943 -,  Poet]  \n",
       "4                                                     "
      ]
     },
     "execution_count": 9,
     "metadata": {},
     "output_type": "execute_result"
    }
   ],
   "source": [
    "metadata_df.head()"
   ]
  },
  {
   "cell_type": "code",
   "execution_count": 10,
   "id": "eb8b8771-7c1f-442a-a8d9-48470ce3ce10",
   "metadata": {},
   "outputs": [
    {
     "data": {
      "text/html": [
       "<div>\n",
       "<style scoped>\n",
       "    .dataframe tbody tr th:only-of-type {\n",
       "        vertical-align: middle;\n",
       "    }\n",
       "\n",
       "    .dataframe tbody tr th {\n",
       "        vertical-align: top;\n",
       "    }\n",
       "\n",
       "    .dataframe thead th {\n",
       "        text-align: right;\n",
       "    }\n",
       "</style>\n",
       "<table border=\"1\" class=\"dataframe\">\n",
       "  <thead>\n",
       "    <tr style=\"text-align: right;\">\n",
       "      <th></th>\n",
       "      <th>unittitle</th>\n",
       "      <th>unitid</th>\n",
       "      <th>unitdate</th>\n",
       "      <th>bioghist</th>\n",
       "      <th>scopecontent</th>\n",
       "      <th>processinfo</th>\n",
       "      <th>langmaterial</th>\n",
       "      <th>controlaccess</th>\n",
       "    </tr>\n",
       "  </thead>\n",
       "  <tbody>\n",
       "    <tr>\n",
       "      <th>1067</th>\n",
       "      <td>Portrait Photograph of Richard Owen</td>\n",
       "      <td>SW/11/55</td>\n",
       "      <td>c. 1860s</td>\n",
       "      <td></td>\n",
       "      <td>Black and white Portrait Photograph of Richard...</td>\n",
       "      <td></td>\n",
       "      <td></td>\n",
       "      <td>[Owen, Sir Richard, 1804-1892, Knight, compara...</td>\n",
       "    </tr>\n",
       "    <tr>\n",
       "      <th>1068</th>\n",
       "      <td>Portrait photograph</td>\n",
       "      <td>SW/11/56</td>\n",
       "      <td>1860s - 1900s</td>\n",
       "      <td></td>\n",
       "      <td>Black and white portrait photograph</td>\n",
       "      <td></td>\n",
       "      <td></td>\n",
       "      <td></td>\n",
       "    </tr>\n",
       "    <tr>\n",
       "      <th>1069</th>\n",
       "      <td>Portrait photograph</td>\n",
       "      <td>SW/11/57</td>\n",
       "      <td>c. 1860s - 1900s</td>\n",
       "      <td></td>\n",
       "      <td>Black and white portrait photograph</td>\n",
       "      <td></td>\n",
       "      <td></td>\n",
       "      <td></td>\n",
       "    </tr>\n",
       "    <tr>\n",
       "      <th>1070</th>\n",
       "      <td>Portrait Photograph of David Lloyd George</td>\n",
       "      <td>SW/11/58</td>\n",
       "      <td>c. 1860s - 1900s</td>\n",
       "      <td></td>\n",
       "      <td>Black and white portrait photograph</td>\n",
       "      <td></td>\n",
       "      <td></td>\n",
       "      <td>[George, David Lloyd, 1863-1945, 1st Earl Lloy...</td>\n",
       "    </tr>\n",
       "    <tr>\n",
       "      <th>1071</th>\n",
       "      <td>Portrait print</td>\n",
       "      <td>SW/11/59</td>\n",
       "      <td>c. 1860s - 1900s</td>\n",
       "      <td></td>\n",
       "      <td>Portrait print</td>\n",
       "      <td></td>\n",
       "      <td></td>\n",
       "      <td></td>\n",
       "    </tr>\n",
       "  </tbody>\n",
       "</table>\n",
       "</div>"
      ],
      "text/plain": [
       "                                      unittitle    unitid          unitdate  \\\n",
       "1067        Portrait Photograph of Richard Owen  SW/11/55          c. 1860s   \n",
       "1068                        Portrait photograph  SW/11/56     1860s - 1900s   \n",
       "1069                        Portrait photograph  SW/11/57  c. 1860s - 1900s   \n",
       "1070  Portrait Photograph of David Lloyd George  SW/11/58  c. 1860s - 1900s   \n",
       "1071                             Portrait print  SW/11/59  c. 1860s - 1900s   \n",
       "\n",
       "     bioghist                                       scopecontent processinfo  \\\n",
       "1067           Black and white Portrait Photograph of Richard...               \n",
       "1068                         Black and white portrait photograph               \n",
       "1069                         Black and white portrait photograph               \n",
       "1070                         Black and white portrait photograph               \n",
       "1071                                              Portrait print               \n",
       "\n",
       "     langmaterial                                      controlaccess  \n",
       "1067               [Owen, Sir Richard, 1804-1892, Knight, compara...  \n",
       "1068                                                                  \n",
       "1069                                                                  \n",
       "1070               [George, David Lloyd, 1863-1945, 1st Earl Lloy...  \n",
       "1071                                                                  "
      ]
     },
     "execution_count": 10,
     "metadata": {},
     "output_type": "execute_result"
    }
   ],
   "source": [
    "metadata_df.tail()"
   ]
  },
  {
   "cell_type": "code",
   "execution_count": 11,
   "id": "d5969fab-f8fd-487f-bc90-bc4b3db29edf",
   "metadata": {},
   "outputs": [],
   "source": [
    "extracted_dir = \"data/extracted/\"\n",
    "Path(extracted_dir).mkdir(parents=True, exist_ok=True)\n",
    "metadata_df.to_csv(extracted_dir + \"newcastle_archival_metadata_sample.csv\")"
   ]
  },
  {
   "cell_type": "code",
   "execution_count": null,
   "id": "48eb1a60-bed6-41d0-b75c-69892a69d262",
   "metadata": {},
   "outputs": [],
   "source": []
  }
 ],
 "metadata": {
  "kernelspec": {
   "display_name": "Python 3 (ipykernel)",
   "language": "python",
   "name": "python3"
  },
  "language_info": {
   "codemirror_mode": {
    "name": "ipython",
    "version": 3
   },
   "file_extension": ".py",
   "mimetype": "text/x-python",
   "name": "python",
   "nbconvert_exporter": "python",
   "pygments_lexer": "ipython3",
   "version": "3.12.7"
  }
 },
 "nbformat": 4,
 "nbformat_minor": 5
}
