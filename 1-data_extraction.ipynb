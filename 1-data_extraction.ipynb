{
 "cells": [
  {
   "cell_type": "code",
   "execution_count": 1,
   "id": "a1b09478-57fb-42a0-a3fb-bc0539e4807a",
   "metadata": {
    "scrolled": true
   },
   "outputs": [],
   "source": [
    "# Libraries to extract metadata descriptions from XML data\n",
    "import xml.etree.ElementTree as ET\n",
    "import urllib.request\n",
    "\n",
    "# Libraries for data analysis\n",
    "import pandas as pd\n",
    "import numpy as np\n",
    "import csv\n",
    "\n",
    "# Custom variables\n",
    "import config"
   ]
  },
  {
   "cell_type": "markdown",
   "id": "f9bebaad-d0dc-48f4-a87e-9cf0f87ee55e",
   "metadata": {},
   "source": [
    "**Step 1:** Read the CSV file with XML path data for the Newcastle University Special Collections archival catalog."
   ]
  },
  {
   "cell_type": "code",
   "execution_count": 2,
   "id": "2b630b3d-8ea2-4d5b-b6f9-ca1808ce7ec2",
   "metadata": {},
   "outputs": [
    {
     "name": "stdout",
     "output_type": "stream",
     "text": [
      "rows: 11 | columns: 3\n"
     ]
    },
    {
     "data": {
      "text/html": [
       "<div>\n",
       "<style scoped>\n",
       "    .dataframe tbody tr th:only-of-type {\n",
       "        vertical-align: middle;\n",
       "    }\n",
       "\n",
       "    .dataframe tbody tr th {\n",
       "        vertical-align: top;\n",
       "    }\n",
       "\n",
       "    .dataframe thead th {\n",
       "        text-align: right;\n",
       "    }\n",
       "</style>\n",
       "<table border=\"1\" class=\"dataframe\">\n",
       "  <thead>\n",
       "    <tr style=\"text-align: right;\">\n",
       "      <th></th>\n",
       "      <th>collection_name</th>\n",
       "      <th>xml_path</th>\n",
       "      <th>xml_format</th>\n",
       "    </tr>\n",
       "  </thead>\n",
       "  <tbody>\n",
       "    <tr>\n",
       "      <th>0</th>\n",
       "      <td>Bloodaxe Books Archive</td>\n",
       "      <td>https://specialcollections.ncl.ac.uk/downloads...</td>\n",
       "      <td>EAD</td>\n",
       "    </tr>\n",
       "    <tr>\n",
       "      <th>1</th>\n",
       "      <td>Bell (Gertrude) Archive</td>\n",
       "      <td>https://gertrudebell.ncl.ac.uk/export/</td>\n",
       "      <td>custom</td>\n",
       "    </tr>\n",
       "    <tr>\n",
       "      <th>2</th>\n",
       "      <td>Hill (Selima) Archive</td>\n",
       "      <td>https://specialcollections.ncl.ac.uk/downloads...</td>\n",
       "      <td>EAD</td>\n",
       "    </tr>\n",
       "  </tbody>\n",
       "</table>\n",
       "</div>"
      ],
      "text/plain": [
       "           collection_name                                           xml_path  \\\n",
       "0   Bloodaxe Books Archive  https://specialcollections.ncl.ac.uk/downloads...   \n",
       "1  Bell (Gertrude) Archive             https://gertrudebell.ncl.ac.uk/export/   \n",
       "2    Hill (Selima) Archive  https://specialcollections.ncl.ac.uk/downloads...   \n",
       "\n",
       "  xml_format  \n",
       "0        EAD  \n",
       "1     custom  \n",
       "2        EAD  "
      ]
     },
     "execution_count": 2,
     "metadata": {},
     "output_type": "execute_result"
    }
   ],
   "source": [
    "df_xml = pd.read_csv(config.xml_paths)\n",
    "row_count = df_xml.shape[0]\n",
    "col_count = df_xml.shape[1]\n",
    "print(\"rows:\",row_count, \"| columns:\",col_count)\n",
    "df_xml.head(3)"
   ]
  },
  {
   "cell_type": "code",
   "execution_count": 3,
   "id": "9ac7361f-531d-44f3-9fc7-8612d380460d",
   "metadata": {
    "editable": true,
    "slideshow": {
     "slide_type": ""
    },
    "tags": []
   },
   "outputs": [
    {
     "name": "stdout",
     "output_type": "stream",
     "text": [
      "https://specialcollections.ncl.ac.uk/downloads/exports/ead/2000f6325dfc4fc3201fc45ed01c7a5d.ead.xml\n",
      "https://gertrudebell.ncl.ac.uk/export/\n"
     ]
    }
   ],
   "source": [
    "ead_xml_paths = [df_xml.iloc[i,1] for i in range(0,row_count) if df_xml.iloc[i,2] == \"EAD\"]\n",
    "other_xml_paths = [df_xml.iloc[i,1] for i in range(0,row_count) if df_xml.iloc[i,2] != \"EAD\"] \n",
    "assert(ead_xml_paths[0] == df_xml.iloc[0,1]), \"The first EAD XML list value should be the first XML path in the DataFrame.\"\n",
    "assert(other_xml_paths[0] == df_xml.iloc[1,1]), \"There should only be one non-EAD XML path, that of the Bell Archive.\"\n",
    "print(ead_xml_paths[0])\n",
    "print(other_xml_paths[0])"
   ]
  },
  {
   "cell_type": "code",
   "execution_count": 4,
   "id": "0e44eee8-c3b7-4b25-a8f5-7664270501c8",
   "metadata": {},
   "outputs": [],
   "source": [
    "xml_path = ead_xml_paths[0]"
   ]
  },
  {
   "cell_type": "markdown",
   "id": "34675652-ef0d-4af6-a203-e730937d87a9",
   "metadata": {},
   "source": [
    "Parse the XML data:"
   ]
  },
  {
   "cell_type": "code",
   "execution_count": 5,
   "id": "b5a1dcdc-8ef8-4b16-ae29-cb4731a25df2",
   "metadata": {},
   "outputs": [],
   "source": [
    "content = urllib.request.urlopen(xml_path)\n",
    "xmlTree = ET.parse(content)"
   ]
  },
  {
   "cell_type": "markdown",
   "id": "06a2962e-d0b6-4451-83d5-3efa2228f414",
   "metadata": {},
   "source": [
    "Extract the descriptive text in the metadata fields listed below from the XML data.\n",
    "\n",
    "For each collection, extract the:\n",
    "* EADID: `<eadid>`\n",
    "\n",
    "At all levels of the archival hierarchy, from the collection overall (i.e., `<archdesc>`) down to the item level (e.g., `<c level=\"...\">` for `\"subfonds\"`, `\"subseries\"`, `\"file\"`, `\"item\"`, etc.), extract the following tags' text:\n",
    "* Title: `<unittitle>`\n",
    "* Identifier: `<unitid>`\n",
    "* Date (of material?): `<unitdate>`\n",
    "* Language of material: `<langmaterial>`\n",
    "* Biographical / Historical: `<bioghist>`\n",
    "* Scope and Contents: `<scopecontent>`\n",
    "* Processing Information: `<processinfo>`\n",
    "\n",
    "Then, store the extracted data in a DataFrame."
   ]
  },
  {
   "cell_type": "code",
   "execution_count": 13,
   "id": "3c9e7dc3-c7fd-4dec-8d17-592b84146b79",
   "metadata": {},
   "outputs": [
    {
     "name": "stdout",
     "output_type": "stream",
     "text": [
      "eadid BXB gb186-bxb\n",
      "archdesc did\n"
     ]
    }
   ],
   "source": [
    "root = xmlTree.getroot()\n",
    "print(root[0][0].tag, root[0][0].text, root[0][0].attrib[\"identifier\"])\n",
    "print(root[1].tag, root[1][0].tag)"
   ]
  },
  {
   "cell_type": "code",
   "execution_count": 80,
   "id": "cfe2603b-287d-427e-a22a-74927978c2df",
   "metadata": {},
   "outputs": [],
   "source": [
    "level_tags = [\n",
    "    \"archdesc\", \"c\"\n",
    "]\n",
    "metadata_field_tags = [\n",
    "    \"unittitle\", \"unitid\", \"unitdate\", \"langmaterial\", \n",
    "    \"bioghist\", \"scopecontent\", \"processinfo\"\n",
    "]\n",
    "metadata_desc_tags = [\"bioghist\", \"scopecontent\", \"processinfo\"]"
   ]
  },
  {
   "cell_type": "code",
   "execution_count": 85,
   "id": "6cd279c7-31fb-41ad-9cc8-2aa2057310b4",
   "metadata": {
    "scrolled": true
   },
   "outputs": [],
   "source": [
    "# eadids, levels = [], []\n",
    "titles, ids, dates, langmaterials = [], [], [], []\n",
    "bioghists, scopecontents, processinfos = [], [], []\n",
    "d = {\n",
    "    # \"eadid\": eadids, \"level\": levels, \n",
    "    \"unittitle\": titles, \"unitid\": ids, \n",
    "    \"unitdate\": dates, \"langmaterial\": langmaterials, \"bioghist\": bioghists, \n",
    "    \"scopecontent\": scopecontents, \"processinfo\": processinfos\n",
    "}\n",
    "tracker = {\n",
    "    \"unittitle\": False, \"unitid\": False, \n",
    "    \"unitdate\": False, \"langmaterial\": False, \"bioghist\": False, \n",
    "    \"scopecontent\": False, \"processinfo\": False\n",
    "}\n",
    "for child in xmlTree.iter():\n",
    "    tag = child.tag\n",
    "    if (tag == \"archdesc\") or (tag == \"c\"):\n",
    "        level = tag.attrib[\"level\"]\n",
    "        # ... stopped here - trying to make sure lists are all same length!\n",
    "    if tag in metadata_field_tags:\n",
    "        if tag in metadata_desc_tags:\n",
    "            all_text = \"\"\n",
    "            for text_block in child.itertext():\n",
    "                if len(text_block) > 0:\n",
    "                    all_text = all_text + text_block + \"\\n\"\n",
    "            d[tag] += [all_text.strip()]\n",
    "        else:\n",
    "            d[tag] += [child.text]\n",
    "        tracker[tag] = True\n",
    "    else:\n",
    "        continue"
   ]
  },
  {
   "cell_type": "raw",
   "id": "5040d7b1-9479-4687-8d32-41d109986154",
   "metadata": {},
   "source": [
    "print(len(d[\"eadid\"]))"
   ]
  },
  {
   "cell_type": "code",
   "execution_count": null,
   "id": "e6082b76-38fb-41ac-979d-501afa6da486",
   "metadata": {},
   "outputs": [],
   "source": []
  },
  {
   "cell_type": "code",
   "execution_count": 86,
   "id": "2d758887-c39e-41c8-aa61-b4e1480896f8",
   "metadata": {
    "scrolled": true
   },
   "outputs": [
    {
     "name": "stdout",
     "output_type": "stream",
     "text": [
      "5771\n"
     ]
    }
   ],
   "source": [
    "print(len(d['unittitle']))"
   ]
  },
  {
   "cell_type": "code",
   "execution_count": 87,
   "id": "af7e0a9f-80f4-4687-8295-bff686f3c1f1",
   "metadata": {},
   "outputs": [
    {
     "name": "stdout",
     "output_type": "stream",
     "text": [
      "['Bloodaxe Books Archive', ' Editorial ', 'Published Poetry and Translations by Author', 'Robert Adamson', 'Reading the River: Selected Poems', 'Jacket cover proof', 'Information sheet', \"The Kingfisher's Soul\", 'Jacket cover proof', 'Fleur Adcock']\n"
     ]
    }
   ],
   "source": [
    "print(d[\"unittitle\"][0:10])"
   ]
  },
  {
   "cell_type": "code",
   "execution_count": 88,
   "id": "38eb9aa5-3164-4fa5-8538-1352ff8ef409",
   "metadata": {},
   "outputs": [
    {
     "name": "stdout",
     "output_type": "stream",
     "text": [
      "Bloodaxe Books is one of Britain's leading poetry publishers, named after Erik Bloodaxe, the last Viking king of independent Northumbria. Based at Hexham, Northumberland, its finance and administration is handled by sister company Pandon Press from Bala in North Wales. The company is internationally renowned for its quality in literature and excellence in book design. Their authors and books have won virtually every major literary award given to poetry, from the T.S. Eliot Prize and Pulitzer to the Nobel Prize. Bloodaxe Books has also broken new ground by opening up contemporary poetry to many thousands of new readers through publishing books such as the Staying Alive trilogy.\n",
      "Bloodaxe Books was founded by Neil Astley in Newcastle upon Tyne in 1978. Initially working from his own flat, Neil used the Tyneside Free Press Workshop for typesetting whilst also working as the sole sales rep for Bloodaxe. As a poetry reader, Neil understood the lack of diversity in poetry publishing during the 1970’s. In response to this, Bloodaxe was set up to publish a wide variety of authors and bring poetry into context to make it accessible to a wider readership. As well as diversifying the authors published, Neil Astley was inspired to develop the visual representation of publications by using full colour paintings and images, individualising each book. This not only appealed to a wider audience, but developed a specific, recognisable Bloodaxe Books publishing style. Throughout the company history, Bloodaxe has developed their output to keep up-to-date with changing technologies; producing poetry via all kinds of media, including live performance, audio, video, internet, radio, television and e-books. Working with many people and organisations (radio producers, literary editors on newspapers, festivals and events organisers), Bloodaxe Books has aimed to allow poets to be heard as much as possible as well as read on the page.\n",
      "In 1982 Bloodaxe became a non-profit company limited by guarantee and Simon Thirsk joined as the company’s co-director. The offices were originally based on Newcastle’s Quayside for many years and later behind Newcastle Central station. During the 1980’s a sister company, Bloodaxe (Projects) Limited was set up to publish local interest books. Towards the end of the 1980’s Bloodaxe Books experienced some financial difficulty when three distributors they used ceased trading. To prevent future financial difficulties of this sort, Bloodaxe (Project) Limited was rebranded Pandon Press (1991) and was and still is used to control Bloodaxe Books finances.\n",
      "In 1997 the operation was split three ways. Distribution was taken over by Littlehampton Book Services and sales and finance was managed by sister company Pandon Press at Bala in North Wales, with editorial, publicity and rights management moving to Northumberland, initially to offices at Elrington, Otterburn and Falstone, and from 2000 to 2014 at Highgreen Manor in the Tarset valley.\n",
      "Bloodaxe’s editorial, publicity and rights office is now at South Park, Hexham, Northumberland. Sales are still handled in Bala, but distribution is now with Grantham Book Services Ltd (GBS), while book trade marketing is done by PGUK in London.\n"
     ]
    }
   ],
   "source": [
    "print(d[\"bioghist\"][0])"
   ]
  },
  {
   "cell_type": "code",
   "execution_count": 89,
   "id": "1ac33fd1-a3e4-4da3-89ae-f5658b87fa49",
   "metadata": {},
   "outputs": [
    {
     "ename": "ValueError",
     "evalue": "All arrays must be of the same length",
     "output_type": "error",
     "traceback": [
      "\u001b[0;31m---------------------------------------------------------------------------\u001b[0m",
      "\u001b[0;31mValueError\u001b[0m                                Traceback (most recent call last)",
      "Cell \u001b[0;32mIn[89], line 1\u001b[0m\n\u001b[0;32m----> 1\u001b[0m metadata_df \u001b[38;5;241m=\u001b[39m pd\u001b[38;5;241m.\u001b[39mDataFrame\u001b[38;5;241m.\u001b[39mfrom_dict(d)\n\u001b[1;32m      2\u001b[0m metadata_df\u001b[38;5;241m.\u001b[39mhead()\n",
      "File \u001b[0;32m~/miniconda3/envs/nusc/lib/python3.12/site-packages/pandas/core/frame.py:1917\u001b[0m, in \u001b[0;36mDataFrame.from_dict\u001b[0;34m(cls, data, orient, dtype, columns)\u001b[0m\n\u001b[1;32m   1911\u001b[0m     \u001b[38;5;28;01mraise\u001b[39;00m \u001b[38;5;167;01mValueError\u001b[39;00m(\n\u001b[1;32m   1912\u001b[0m         \u001b[38;5;124mf\u001b[39m\u001b[38;5;124m\"\u001b[39m\u001b[38;5;124mExpected \u001b[39m\u001b[38;5;124m'\u001b[39m\u001b[38;5;124mindex\u001b[39m\u001b[38;5;124m'\u001b[39m\u001b[38;5;124m, \u001b[39m\u001b[38;5;124m'\u001b[39m\u001b[38;5;124mcolumns\u001b[39m\u001b[38;5;124m'\u001b[39m\u001b[38;5;124m or \u001b[39m\u001b[38;5;124m'\u001b[39m\u001b[38;5;124mtight\u001b[39m\u001b[38;5;124m'\u001b[39m\u001b[38;5;124m for orient parameter. \u001b[39m\u001b[38;5;124m\"\u001b[39m\n\u001b[1;32m   1913\u001b[0m         \u001b[38;5;124mf\u001b[39m\u001b[38;5;124m\"\u001b[39m\u001b[38;5;124mGot \u001b[39m\u001b[38;5;124m'\u001b[39m\u001b[38;5;132;01m{\u001b[39;00morient\u001b[38;5;132;01m}\u001b[39;00m\u001b[38;5;124m'\u001b[39m\u001b[38;5;124m instead\u001b[39m\u001b[38;5;124m\"\u001b[39m\n\u001b[1;32m   1914\u001b[0m     )\n\u001b[1;32m   1916\u001b[0m \u001b[38;5;28;01mif\u001b[39;00m orient \u001b[38;5;241m!=\u001b[39m \u001b[38;5;124m\"\u001b[39m\u001b[38;5;124mtight\u001b[39m\u001b[38;5;124m\"\u001b[39m:\n\u001b[0;32m-> 1917\u001b[0m     \u001b[38;5;28;01mreturn\u001b[39;00m \u001b[38;5;28mcls\u001b[39m(data, index\u001b[38;5;241m=\u001b[39mindex, columns\u001b[38;5;241m=\u001b[39mcolumns, dtype\u001b[38;5;241m=\u001b[39mdtype)\n\u001b[1;32m   1918\u001b[0m \u001b[38;5;28;01melse\u001b[39;00m:\n\u001b[1;32m   1919\u001b[0m     realdata \u001b[38;5;241m=\u001b[39m data[\u001b[38;5;124m\"\u001b[39m\u001b[38;5;124mdata\u001b[39m\u001b[38;5;124m\"\u001b[39m]\n",
      "File \u001b[0;32m~/miniconda3/envs/nusc/lib/python3.12/site-packages/pandas/core/frame.py:778\u001b[0m, in \u001b[0;36mDataFrame.__init__\u001b[0;34m(self, data, index, columns, dtype, copy)\u001b[0m\n\u001b[1;32m    772\u001b[0m     mgr \u001b[38;5;241m=\u001b[39m \u001b[38;5;28mself\u001b[39m\u001b[38;5;241m.\u001b[39m_init_mgr(\n\u001b[1;32m    773\u001b[0m         data, axes\u001b[38;5;241m=\u001b[39m{\u001b[38;5;124m\"\u001b[39m\u001b[38;5;124mindex\u001b[39m\u001b[38;5;124m\"\u001b[39m: index, \u001b[38;5;124m\"\u001b[39m\u001b[38;5;124mcolumns\u001b[39m\u001b[38;5;124m\"\u001b[39m: columns}, dtype\u001b[38;5;241m=\u001b[39mdtype, copy\u001b[38;5;241m=\u001b[39mcopy\n\u001b[1;32m    774\u001b[0m     )\n\u001b[1;32m    776\u001b[0m \u001b[38;5;28;01melif\u001b[39;00m \u001b[38;5;28misinstance\u001b[39m(data, \u001b[38;5;28mdict\u001b[39m):\n\u001b[1;32m    777\u001b[0m     \u001b[38;5;66;03m# GH#38939 de facto copy defaults to False only in non-dict cases\u001b[39;00m\n\u001b[0;32m--> 778\u001b[0m     mgr \u001b[38;5;241m=\u001b[39m dict_to_mgr(data, index, columns, dtype\u001b[38;5;241m=\u001b[39mdtype, copy\u001b[38;5;241m=\u001b[39mcopy, typ\u001b[38;5;241m=\u001b[39mmanager)\n\u001b[1;32m    779\u001b[0m \u001b[38;5;28;01melif\u001b[39;00m \u001b[38;5;28misinstance\u001b[39m(data, ma\u001b[38;5;241m.\u001b[39mMaskedArray):\n\u001b[1;32m    780\u001b[0m     \u001b[38;5;28;01mfrom\u001b[39;00m \u001b[38;5;21;01mnumpy\u001b[39;00m\u001b[38;5;21;01m.\u001b[39;00m\u001b[38;5;21;01mma\u001b[39;00m \u001b[38;5;28;01mimport\u001b[39;00m mrecords\n",
      "File \u001b[0;32m~/miniconda3/envs/nusc/lib/python3.12/site-packages/pandas/core/internals/construction.py:503\u001b[0m, in \u001b[0;36mdict_to_mgr\u001b[0;34m(data, index, columns, dtype, typ, copy)\u001b[0m\n\u001b[1;32m    499\u001b[0m     \u001b[38;5;28;01melse\u001b[39;00m:\n\u001b[1;32m    500\u001b[0m         \u001b[38;5;66;03m# dtype check to exclude e.g. range objects, scalars\u001b[39;00m\n\u001b[1;32m    501\u001b[0m         arrays \u001b[38;5;241m=\u001b[39m [x\u001b[38;5;241m.\u001b[39mcopy() \u001b[38;5;28;01mif\u001b[39;00m \u001b[38;5;28mhasattr\u001b[39m(x, \u001b[38;5;124m\"\u001b[39m\u001b[38;5;124mdtype\u001b[39m\u001b[38;5;124m\"\u001b[39m) \u001b[38;5;28;01melse\u001b[39;00m x \u001b[38;5;28;01mfor\u001b[39;00m x \u001b[38;5;129;01min\u001b[39;00m arrays]\n\u001b[0;32m--> 503\u001b[0m \u001b[38;5;28;01mreturn\u001b[39;00m arrays_to_mgr(arrays, columns, index, dtype\u001b[38;5;241m=\u001b[39mdtype, typ\u001b[38;5;241m=\u001b[39mtyp, consolidate\u001b[38;5;241m=\u001b[39mcopy)\n",
      "File \u001b[0;32m~/miniconda3/envs/nusc/lib/python3.12/site-packages/pandas/core/internals/construction.py:114\u001b[0m, in \u001b[0;36marrays_to_mgr\u001b[0;34m(arrays, columns, index, dtype, verify_integrity, typ, consolidate)\u001b[0m\n\u001b[1;32m    111\u001b[0m \u001b[38;5;28;01mif\u001b[39;00m verify_integrity:\n\u001b[1;32m    112\u001b[0m     \u001b[38;5;66;03m# figure out the index, if necessary\u001b[39;00m\n\u001b[1;32m    113\u001b[0m     \u001b[38;5;28;01mif\u001b[39;00m index \u001b[38;5;129;01mis\u001b[39;00m \u001b[38;5;28;01mNone\u001b[39;00m:\n\u001b[0;32m--> 114\u001b[0m         index \u001b[38;5;241m=\u001b[39m _extract_index(arrays)\n\u001b[1;32m    115\u001b[0m     \u001b[38;5;28;01melse\u001b[39;00m:\n\u001b[1;32m    116\u001b[0m         index \u001b[38;5;241m=\u001b[39m ensure_index(index)\n",
      "File \u001b[0;32m~/miniconda3/envs/nusc/lib/python3.12/site-packages/pandas/core/internals/construction.py:677\u001b[0m, in \u001b[0;36m_extract_index\u001b[0;34m(data)\u001b[0m\n\u001b[1;32m    675\u001b[0m lengths \u001b[38;5;241m=\u001b[39m \u001b[38;5;28mlist\u001b[39m(\u001b[38;5;28mset\u001b[39m(raw_lengths))\n\u001b[1;32m    676\u001b[0m \u001b[38;5;28;01mif\u001b[39;00m \u001b[38;5;28mlen\u001b[39m(lengths) \u001b[38;5;241m>\u001b[39m \u001b[38;5;241m1\u001b[39m:\n\u001b[0;32m--> 677\u001b[0m     \u001b[38;5;28;01mraise\u001b[39;00m \u001b[38;5;167;01mValueError\u001b[39;00m(\u001b[38;5;124m\"\u001b[39m\u001b[38;5;124mAll arrays must be of the same length\u001b[39m\u001b[38;5;124m\"\u001b[39m)\n\u001b[1;32m    679\u001b[0m \u001b[38;5;28;01mif\u001b[39;00m have_dicts:\n\u001b[1;32m    680\u001b[0m     \u001b[38;5;28;01mraise\u001b[39;00m \u001b[38;5;167;01mValueError\u001b[39;00m(\n\u001b[1;32m    681\u001b[0m         \u001b[38;5;124m\"\u001b[39m\u001b[38;5;124mMixing dicts with non-Series may lead to ambiguous ordering.\u001b[39m\u001b[38;5;124m\"\u001b[39m\n\u001b[1;32m    682\u001b[0m     )\n",
      "\u001b[0;31mValueError\u001b[0m: All arrays must be of the same length"
     ]
    }
   ],
   "source": [
    "metadata_df = pd.DataFrame.from_dict(d)\n",
    "metadata_df.head()"
   ]
  },
  {
   "cell_type": "code",
   "execution_count": null,
   "id": "8a1a8143-36cc-41ec-b5c5-563d2033aa5a",
   "metadata": {},
   "outputs": [],
   "source": [
    "# print(\"On tag\", tag)\n",
    "    if tag == \"eadid\":\n",
    "        eadid = child.text\n",
    "    # for grandchild in child.iter():\n",
    "    elif tag == level_tags[0]:\n",
    "        level = \"fonds\"\n",
    "    elif tag == level_tags[1]:\n",
    "        level = child.attrib[\"level\"]\n",
    "        # for greatgrandchild in child.iter():\n",
    "            # if greatgrandchild.tag in metadata_field_tags:\n",
    "                # d[greatgrandchild.tag] += [greatgrandchild.text]\n",
    "                    # d[tag] += [child.text]\n",
    "                    # d[\"eadid\"] += [eadid]\n",
    "                    # d[\"level\"] += [level]\n",
    "                        #     break\n",
    "                        # else:\n",
    "                        #     continue\n",
    "    el"
   ]
  }
 ],
 "metadata": {
  "kernelspec": {
   "display_name": "Python 3 (ipykernel)",
   "language": "python",
   "name": "python3"
  },
  "language_info": {
   "codemirror_mode": {
    "name": "ipython",
    "version": 3
   },
   "file_extension": ".py",
   "mimetype": "text/x-python",
   "name": "python",
   "nbconvert_exporter": "python",
   "pygments_lexer": "ipython3",
   "version": "3.12.7"
  }
 },
 "nbformat": 4,
 "nbformat_minor": 5
}
