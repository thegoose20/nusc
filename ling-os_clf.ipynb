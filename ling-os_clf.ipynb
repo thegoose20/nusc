{
 "cells": [
  {
   "cell_type": "markdown",
   "metadata": {},
   "source": [
    "# Classification\n",
    "\n",
    "## Linguistic Classifier (LC) + Omission & Stereotype Classifier (OSC)"
   ]
  },
  {
   "cell_type": "code",
   "execution_count": 2,
   "metadata": {},
   "outputs": [
    {
     "name": "stderr",
     "output_type": "stream",
     "text": [
      "[nltk_data] Downloading package punkt to\n",
      "[nltk_data]     /Users/lucyhavens/nltk_data...\n",
      "[nltk_data]   Package punkt is already up-to-date!\n"
     ]
    }
   ],
   "source": [
    "# Custom filepaths and functions\n",
    "import config, clf_utils\n",
    "\n",
    "# Libraries for data, file, and model loading\n",
    "import pandas as pd\n",
    "import joblib\n",
    "from joblib import load\n",
    "import nltk\n",
    "nltk.download('punkt')\n",
    "from nltk.tokenize import word_tokenize\n",
    "from pathlib import Path\n",
    "\n",
    "# Libraries for classification\n",
    "from gensim.models import FastText\n",
    "from gensim.utils import tokenize\n",
    "from gensim import utils\n",
    "from gensim.test.utils import get_tmpfile\n",
    "from sklearn.preprocessing import MultiLabelBinarizer\n",
    "from sklearn.feature_extraction.text import CountVectorizer\n",
    "from skmultilearn.problem_transform import ClassifierChain\n",
    "from sklearn.ensemble import RandomForestClassifier\n",
    "from sklearn.multiclass import OneVsRestClassifier\n",
    "from sklearn.linear_model import SGDClassifier\n",
    "import scipy\n",
    "import sklearn.metrics\n",
    "from sklearn.metrics import confusion_matrix, multilabel_confusion_matrix\n",
    "from sklearn.metrics import precision_recall_fscore_support"
   ]
  },
  {
   "cell_type": "markdown",
   "metadata": {},
   "source": [
    "### 1. Load the Data"
   ]
  },
  {
   "cell_type": "code",
   "execution_count": 4,
   "metadata": {},
   "outputs": [
    {
     "data": {
      "text/html": [
       "<div>\n",
       "<style scoped>\n",
       "    .dataframe tbody tr th:only-of-type {\n",
       "        vertical-align: middle;\n",
       "    }\n",
       "\n",
       "    .dataframe tbody tr th {\n",
       "        vertical-align: top;\n",
       "    }\n",
       "\n",
       "    .dataframe thead th {\n",
       "        text-align: right;\n",
       "    }\n",
       "</style>\n",
       "<table border=\"1\" class=\"dataframe\">\n",
       "  <thead>\n",
       "    <tr style=\"text-align: right;\">\n",
       "      <th></th>\n",
       "      <th>description_id</th>\n",
       "      <th>eadid</th>\n",
       "      <th>rowid</th>\n",
       "      <th>field</th>\n",
       "      <th>doc</th>\n",
       "    </tr>\n",
       "  </thead>\n",
       "  <tbody>\n",
       "    <tr>\n",
       "      <th>0</th>\n",
       "      <td>0</td>\n",
       "      <td>BP</td>\n",
       "      <td>BP</td>\n",
       "      <td>processinfo</td>\n",
       "      <td>This EAD description created by Ruth Sheret 27...</td>\n",
       "    </tr>\n",
       "    <tr>\n",
       "      <th>1</th>\n",
       "      <td>1</td>\n",
       "      <td>BP</td>\n",
       "      <td>BP</td>\n",
       "      <td>scopecontent</td>\n",
       "      <td>The papers of the distinguished public servant...</td>\n",
       "    </tr>\n",
       "    <tr>\n",
       "      <th>2</th>\n",
       "      <td>2</td>\n",
       "      <td>BP</td>\n",
       "      <td>BP</td>\n",
       "      <td>unittitle</td>\n",
       "      <td>Plowden (Lady Bridget) Archive</td>\n",
       "    </tr>\n",
       "    <tr>\n",
       "      <th>3</th>\n",
       "      <td>3</td>\n",
       "      <td>BP</td>\n",
       "      <td>BP/01</td>\n",
       "      <td>scopecontent</td>\n",
       "      <td>Formerly the 'Working Ladies Guild', the organ...</td>\n",
       "    </tr>\n",
       "    <tr>\n",
       "      <th>4</th>\n",
       "      <td>4</td>\n",
       "      <td>BP</td>\n",
       "      <td>BP/01</td>\n",
       "      <td>unittitle</td>\n",
       "      <td>Chairman (Managing Committee) of the Mary Fiel...</td>\n",
       "    </tr>\n",
       "  </tbody>\n",
       "</table>\n",
       "</div>"
      ],
      "text/plain": [
       "   description_id eadid  rowid         field  \\\n",
       "0               0    BP     BP   processinfo   \n",
       "1               1    BP     BP  scopecontent   \n",
       "2               2    BP     BP     unittitle   \n",
       "3               3    BP  BP/01  scopecontent   \n",
       "4               4    BP  BP/01     unittitle   \n",
       "\n",
       "                                                 doc  \n",
       "0  This EAD description created by Ruth Sheret 27...  \n",
       "1  The papers of the distinguished public servant...  \n",
       "2                     Plowden (Lady Bridget) Archive  \n",
       "3  Formerly the 'Working Ladies Guild', the organ...  \n",
       "4  Chairman (Managing Committee) of the Mary Fiel...  "
      ]
     },
     "execution_count": 4,
     "metadata": {},
     "output_type": "execute_result"
    }
   ],
   "source": [
    "extracted_dir = \"data/extracted/\"\n",
    "doc_df = pd.read_csv(extracted_dir+\"nusc_archival_descs_for_clf.csv\", index_col=0)\n",
    "doc_df.head()"
   ]
  },
  {
   "cell_type": "code",
   "execution_count": 5,
   "metadata": {},
   "outputs": [
    {
     "data": {
      "text/html": [
       "<div>\n",
       "<style scoped>\n",
       "    .dataframe tbody tr th:only-of-type {\n",
       "        vertical-align: middle;\n",
       "    }\n",
       "\n",
       "    .dataframe tbody tr th {\n",
       "        vertical-align: top;\n",
       "    }\n",
       "\n",
       "    .dataframe thead th {\n",
       "        text-align: right;\n",
       "    }\n",
       "</style>\n",
       "<table border=\"1\" class=\"dataframe\">\n",
       "  <thead>\n",
       "    <tr style=\"text-align: right;\">\n",
       "      <th></th>\n",
       "      <th>description_id</th>\n",
       "      <th>token_id</th>\n",
       "      <th>token</th>\n",
       "    </tr>\n",
       "  </thead>\n",
       "  <tbody>\n",
       "    <tr>\n",
       "      <th>0</th>\n",
       "      <td>0</td>\n",
       "      <td>0</td>\n",
       "      <td>This</td>\n",
       "    </tr>\n",
       "    <tr>\n",
       "      <th>0</th>\n",
       "      <td>0</td>\n",
       "      <td>1</td>\n",
       "      <td>EAD</td>\n",
       "    </tr>\n",
       "    <tr>\n",
       "      <th>0</th>\n",
       "      <td>0</td>\n",
       "      <td>2</td>\n",
       "      <td>description</td>\n",
       "    </tr>\n",
       "    <tr>\n",
       "      <th>0</th>\n",
       "      <td>0</td>\n",
       "      <td>3</td>\n",
       "      <td>created</td>\n",
       "    </tr>\n",
       "    <tr>\n",
       "      <th>0</th>\n",
       "      <td>0</td>\n",
       "      <td>4</td>\n",
       "      <td>by</td>\n",
       "    </tr>\n",
       "  </tbody>\n",
       "</table>\n",
       "</div>"
      ],
      "text/plain": [
       "   description_id token_id        token\n",
       "0               0        0         This\n",
       "0               0        1          EAD\n",
       "0               0        2  description\n",
       "0               0        3      created\n",
       "0               0        4           by"
      ]
     },
     "execution_count": 5,
     "metadata": {},
     "output_type": "execute_result"
    }
   ],
   "source": [
    "text_cols = [\"doc\"]\n",
    "token_df = clf_utils.getTokenDF(doc_df, text_cols)\n",
    "token_df.head()"
   ]
  },
  {
   "cell_type": "code",
   "execution_count": 6,
   "metadata": {},
   "outputs": [
    {
     "data": {
      "text/html": [
       "<div>\n",
       "<style scoped>\n",
       "    .dataframe tbody tr th:only-of-type {\n",
       "        vertical-align: middle;\n",
       "    }\n",
       "\n",
       "    .dataframe tbody tr th {\n",
       "        vertical-align: top;\n",
       "    }\n",
       "\n",
       "    .dataframe thead th {\n",
       "        text-align: right;\n",
       "    }\n",
       "</style>\n",
       "<table border=\"1\" class=\"dataframe\">\n",
       "  <thead>\n",
       "    <tr style=\"text-align: right;\">\n",
       "      <th></th>\n",
       "      <th>description_id</th>\n",
       "      <th>token_id</th>\n",
       "      <th>token</th>\n",
       "    </tr>\n",
       "  </thead>\n",
       "  <tbody>\n",
       "    <tr>\n",
       "      <th>57946</th>\n",
       "      <td>57946</td>\n",
       "      <td>1258138</td>\n",
       "      <td>of</td>\n",
       "    </tr>\n",
       "    <tr>\n",
       "      <th>57946</th>\n",
       "      <td>57946</td>\n",
       "      <td>1258139</td>\n",
       "      <td>Lady</td>\n",
       "    </tr>\n",
       "    <tr>\n",
       "      <th>57946</th>\n",
       "      <td>57946</td>\n",
       "      <td>1258140</td>\n",
       "      <td>Pauline</td>\n",
       "    </tr>\n",
       "    <tr>\n",
       "      <th>57946</th>\n",
       "      <td>57946</td>\n",
       "      <td>1258141</td>\n",
       "      <td>'s</td>\n",
       "    </tr>\n",
       "    <tr>\n",
       "      <th>57946</th>\n",
       "      <td>57946</td>\n",
       "      <td>1258142</td>\n",
       "      <td>Diaries</td>\n",
       "    </tr>\n",
       "  </tbody>\n",
       "</table>\n",
       "</div>"
      ],
      "text/plain": [
       "       description_id token_id    token\n",
       "57946           57946  1258138       of\n",
       "57946           57946  1258139     Lady\n",
       "57946           57946  1258140  Pauline\n",
       "57946           57946  1258141       's\n",
       "57946           57946  1258142  Diaries"
      ]
     },
     "execution_count": 6,
     "metadata": {},
     "output_type": "execute_result"
    }
   ],
   "source": [
    "token_df.tail()"
   ]
  },
  {
   "cell_type": "code",
   "execution_count": 7,
   "metadata": {},
   "outputs": [
    {
     "data": {
      "text/plain": [
       "(1258143, 3)"
      ]
     },
     "execution_count": 7,
     "metadata": {},
     "output_type": "execute_result"
    }
   ],
   "source": [
    "token_df.shape"
   ]
  },
  {
   "cell_type": "markdown",
   "metadata": {},
   "source": [
    "### 2. Linguistic Classification\n",
    "Classify the data using the Linguistic Classifier to create *Generalization*, *Gendered Pronoun*, and *Gendered Role* features to input into the Omission and Stereotype Classifier."
   ]
  },
  {
   "cell_type": "markdown",
   "metadata": {},
   "source": [
    "Load the models."
   ]
  },
  {
   "cell_type": "code",
   "execution_count": 8,
   "metadata": {},
   "outputs": [],
   "source": [
    "ft_model = FastText.load(\"models/embeddings/fasttextcbow100_lowercased/fasttext_cbow_100d.model\")\n",
    "mlb_ling = joblib.load(\"models/transform_labels/mlb_targets_ling.joblib\")  # formerly named mlb_linlabels.joblib\n",
    "ling_clf = joblib.load(\"models/ling_osc/cc-rf_F-fasttextcbow100_T-linglabels.joblib\")"
   ]
  },
  {
   "cell_type": "code",
   "execution_count": 9,
   "metadata": {},
   "outputs": [
    {
     "name": "stdout",
     "output_type": "stream",
     "text": [
      "Classification targets: ['Gendered-Pronoun' 'Gendered-Role' 'Generalization']\n"
     ]
    }
   ],
   "source": [
    "print(\"Classification targets:\", mlb_ling.classes_)"
   ]
  },
  {
   "cell_type": "markdown",
   "metadata": {},
   "source": [
    "Transform the token data into an embedding matrix to input into the classifier."
   ]
  },
  {
   "cell_type": "code",
   "execution_count": 10,
   "metadata": {},
   "outputs": [],
   "source": [
    "X = clf_utils.getFeatures(token_df, embedding_model=ft_model)"
   ]
  },
  {
   "cell_type": "markdown",
   "metadata": {},
   "source": [
    "Classify the tokens."
   ]
  },
  {
   "cell_type": "code",
   "execution_count": 11,
   "metadata": {},
   "outputs": [],
   "source": [
    "y = ling_clf.predict(X)"
   ]
  },
  {
   "cell_type": "code",
   "execution_count": 12,
   "metadata": {},
   "outputs": [],
   "source": [
    "predictions = mlb_ling.inverse_transform(y)\n",
    "new_preds = [pred[0] if len(pred) > 0 else \"O\" for pred in predictions]"
   ]
  },
  {
   "cell_type": "code",
   "execution_count": 13,
   "metadata": {},
   "outputs": [
    {
     "data": {
      "text/html": [
       "<div>\n",
       "<style scoped>\n",
       "    .dataframe tbody tr th:only-of-type {\n",
       "        vertical-align: middle;\n",
       "    }\n",
       "\n",
       "    .dataframe tbody tr th {\n",
       "        vertical-align: top;\n",
       "    }\n",
       "\n",
       "    .dataframe thead th {\n",
       "        text-align: right;\n",
       "    }\n",
       "</style>\n",
       "<table border=\"1\" class=\"dataframe\">\n",
       "  <thead>\n",
       "    <tr style=\"text-align: right;\">\n",
       "      <th></th>\n",
       "      <th>description_id</th>\n",
       "      <th>token_id</th>\n",
       "      <th>token</th>\n",
       "      <th>prediction</th>\n",
       "    </tr>\n",
       "  </thead>\n",
       "  <tbody>\n",
       "    <tr>\n",
       "      <th>0</th>\n",
       "      <td>0</td>\n",
       "      <td>0</td>\n",
       "      <td>This</td>\n",
       "      <td>O</td>\n",
       "    </tr>\n",
       "    <tr>\n",
       "      <th>0</th>\n",
       "      <td>0</td>\n",
       "      <td>1</td>\n",
       "      <td>EAD</td>\n",
       "      <td>O</td>\n",
       "    </tr>\n",
       "    <tr>\n",
       "      <th>0</th>\n",
       "      <td>0</td>\n",
       "      <td>2</td>\n",
       "      <td>description</td>\n",
       "      <td>O</td>\n",
       "    </tr>\n",
       "    <tr>\n",
       "      <th>0</th>\n",
       "      <td>0</td>\n",
       "      <td>3</td>\n",
       "      <td>created</td>\n",
       "      <td>O</td>\n",
       "    </tr>\n",
       "    <tr>\n",
       "      <th>0</th>\n",
       "      <td>0</td>\n",
       "      <td>4</td>\n",
       "      <td>by</td>\n",
       "      <td>O</td>\n",
       "    </tr>\n",
       "  </tbody>\n",
       "</table>\n",
       "</div>"
      ],
      "text/plain": [
       "   description_id token_id        token prediction\n",
       "0               0        0         This          O\n",
       "0               0        1          EAD          O\n",
       "0               0        2  description          O\n",
       "0               0        3      created          O\n",
       "0               0        4           by          O"
      ]
     },
     "execution_count": 13,
     "metadata": {},
     "output_type": "execute_result"
    }
   ],
   "source": [
    "pred_col = \"prediction\"\n",
    "token_df.insert(len(token_df.columns), pred_col, new_preds)\n",
    "token_df.head()"
   ]
  },
  {
   "cell_type": "code",
   "execution_count": 14,
   "metadata": {},
   "outputs": [
    {
     "data": {
      "text/plain": [
       "O                   1235218\n",
       "Gendered-Pronoun      18548\n",
       "Gendered-Role          4015\n",
       "Generalization          362\n",
       "Name: prediction, dtype: int64"
      ]
     },
     "execution_count": 14,
     "metadata": {},
     "output_type": "execute_result"
    }
   ],
   "source": [
    "token_df[pred_col].value_counts()"
   ]
  },
  {
   "cell_type": "code",
   "execution_count": 15,
   "metadata": {},
   "outputs": [],
   "source": [
    "token_df.to_csv(config.classified_data_path+\"baseline_lc_predictions.csv\")"
   ]
  },
  {
   "cell_type": "markdown",
   "metadata": {},
   "source": [
    "### 3. Omission & Stereotype Classification\n",
    "Classify the data using the Omission and Stereotype Classifier to assign *Omission* and *Stereotype* codes to NUSC archival metadata descriptions."
   ]
  },
  {
   "cell_type": "markdown",
   "metadata": {},
   "source": [
    "### 3.1 Preprocessing"
   ]
  },
  {
   "cell_type": "code",
   "execution_count": 51,
   "metadata": {},
   "outputs": [],
   "source": [
    "# ling_preds_file = config.classified_data_path+\"baseline_lc_predictions.csv\" # token_df\n",
    "# token_df = pd.read_csv(ling_preds_file, index_col=0)\n",
    "# token_df.head()"
   ]
  },
  {
   "cell_type": "code",
   "execution_count": 16,
   "metadata": {},
   "outputs": [
    {
     "data": {
      "text/html": [
       "<div>\n",
       "<style scoped>\n",
       "    .dataframe tbody tr th:only-of-type {\n",
       "        vertical-align: middle;\n",
       "    }\n",
       "\n",
       "    .dataframe tbody tr th {\n",
       "        vertical-align: top;\n",
       "    }\n",
       "\n",
       "    .dataframe thead th {\n",
       "        text-align: right;\n",
       "    }\n",
       "</style>\n",
       "<table border=\"1\" class=\"dataframe\">\n",
       "  <thead>\n",
       "    <tr style=\"text-align: right;\">\n",
       "      <th></th>\n",
       "      <th>token_id</th>\n",
       "      <th>prediction</th>\n",
       "    </tr>\n",
       "    <tr>\n",
       "      <th>description_id</th>\n",
       "      <th></th>\n",
       "      <th></th>\n",
       "    </tr>\n",
       "  </thead>\n",
       "  <tbody>\n",
       "    <tr>\n",
       "      <th>0</th>\n",
       "      <td>[0, 1, 2, 3, 4, 5, 6, 7, 8, 9, 10, 11, 12, 13,...</td>\n",
       "      <td>[O]</td>\n",
       "    </tr>\n",
       "    <tr>\n",
       "      <th>1</th>\n",
       "      <td>[16, 17, 18, 19, 20, 21, 22, 23, 24, 25, 26, 2...</td>\n",
       "      <td>[Gendered-Pronoun, Gendered-Role, Generalization]</td>\n",
       "    </tr>\n",
       "    <tr>\n",
       "      <th>2</th>\n",
       "      <td>[267, 268, 269, 270, 271, 272]</td>\n",
       "      <td>[Gendered-Role]</td>\n",
       "    </tr>\n",
       "    <tr>\n",
       "      <th>3</th>\n",
       "      <td>[273, 274, 275, 276, 277, 278, 279, 280, 281, ...</td>\n",
       "      <td>[Gendered-Pronoun, Gendered-Role, Generalization]</td>\n",
       "    </tr>\n",
       "    <tr>\n",
       "      <th>4</th>\n",
       "      <td>[352, 353, 354, 355, 342, 343, 344, 345, 346, ...</td>\n",
       "      <td>[Generalization]</td>\n",
       "    </tr>\n",
       "  </tbody>\n",
       "</table>\n",
       "</div>"
      ],
      "text/plain": [
       "                                                         token_id  \\\n",
       "description_id                                                      \n",
       "0               [0, 1, 2, 3, 4, 5, 6, 7, 8, 9, 10, 11, 12, 13,...   \n",
       "1               [16, 17, 18, 19, 20, 21, 22, 23, 24, 25, 26, 2...   \n",
       "2                                  [267, 268, 269, 270, 271, 272]   \n",
       "3               [273, 274, 275, 276, 277, 278, 279, 280, 281, ...   \n",
       "4               [352, 353, 354, 355, 342, 343, 344, 345, 346, ...   \n",
       "\n",
       "                                                       prediction  \n",
       "description_id                                                     \n",
       "0                                                             [O]  \n",
       "1               [Gendered-Pronoun, Gendered-Role, Generalization]  \n",
       "2                                                 [Gendered-Role]  \n",
       "3               [Gendered-Pronoun, Gendered-Role, Generalization]  \n",
       "4                                                [Generalization]  "
      ]
     },
     "execution_count": 16,
     "metadata": {},
     "output_type": "execute_result"
    }
   ],
   "source": [
    "# Group the data by description so it can be combined with the description data\n",
    "df_features = clf_utils.implodeDataFrameUnique(token_df[[\"description_id\", \"token_id\", pred_col]], [\"description_id\"])\n",
    "\n",
    "# Deduplicate lists in description_id, token_id, and prediction columns\n",
    "cols = [\"token_id\", pred_col]\n",
    "for col in cols:\n",
    "    old_col = list(df_features[col])\n",
    "    new_col = []\n",
    "    if col == pred_col:\n",
    "        for values in old_col:\n",
    "            if (len(values) > 1) and (\"O\" in values):\n",
    "                values.remove(\"O\")\n",
    "            values_list = list(values)\n",
    "            values_list.sort()\n",
    "            new_col += [values_list]\n",
    "    else:\n",
    "        new_col = old_col\n",
    "    col_i = list(df_features.columns).index(col)\n",
    "    df_features = df_features.drop(columns=[col])\n",
    "    df_features.insert(col_i, col, new_col)\n",
    "\n",
    "df_features.head()"
   ]
  },
  {
   "cell_type": "code",
   "execution_count": 17,
   "metadata": {},
   "outputs": [
    {
     "data": {
      "text/html": [
       "<div>\n",
       "<style scoped>\n",
       "    .dataframe tbody tr th:only-of-type {\n",
       "        vertical-align: middle;\n",
       "    }\n",
       "\n",
       "    .dataframe tbody tr th {\n",
       "        vertical-align: top;\n",
       "    }\n",
       "\n",
       "    .dataframe thead th {\n",
       "        text-align: right;\n",
       "    }\n",
       "</style>\n",
       "<table border=\"1\" class=\"dataframe\">\n",
       "  <thead>\n",
       "    <tr style=\"text-align: right;\">\n",
       "      <th></th>\n",
       "      <th>token_id</th>\n",
       "      <th>prediction</th>\n",
       "    </tr>\n",
       "    <tr>\n",
       "      <th>description_id</th>\n",
       "      <th></th>\n",
       "      <th></th>\n",
       "    </tr>\n",
       "  </thead>\n",
       "  <tbody>\n",
       "    <tr>\n",
       "      <th>57942</th>\n",
       "      <td>[1258106]</td>\n",
       "      <td>[O]</td>\n",
       "    </tr>\n",
       "    <tr>\n",
       "      <th>57943</th>\n",
       "      <td>[1258107, 1258108, 1258109, 1258110, 1258111]</td>\n",
       "      <td>[O]</td>\n",
       "    </tr>\n",
       "    <tr>\n",
       "      <th>57944</th>\n",
       "      <td>[1258112, 1258113, 1258114, 1258115, 1258116, ...</td>\n",
       "      <td>[Gendered-Role]</td>\n",
       "    </tr>\n",
       "    <tr>\n",
       "      <th>57945</th>\n",
       "      <td>[1258118, 1258119, 1258120, 1258121, 1258122, ...</td>\n",
       "      <td>[O]</td>\n",
       "    </tr>\n",
       "    <tr>\n",
       "      <th>57946</th>\n",
       "      <td>[1258136, 1258137, 1258138, 1258139, 1258140, ...</td>\n",
       "      <td>[Gendered-Role]</td>\n",
       "    </tr>\n",
       "  </tbody>\n",
       "</table>\n",
       "</div>"
      ],
      "text/plain": [
       "                                                         token_id  \\\n",
       "description_id                                                      \n",
       "57942                                                   [1258106]   \n",
       "57943               [1258107, 1258108, 1258109, 1258110, 1258111]   \n",
       "57944           [1258112, 1258113, 1258114, 1258115, 1258116, ...   \n",
       "57945           [1258118, 1258119, 1258120, 1258121, 1258122, ...   \n",
       "57946           [1258136, 1258137, 1258138, 1258139, 1258140, ...   \n",
       "\n",
       "                     prediction  \n",
       "description_id                   \n",
       "57942                       [O]  \n",
       "57943                       [O]  \n",
       "57944           [Gendered-Role]  \n",
       "57945                       [O]  \n",
       "57946           [Gendered-Role]  "
      ]
     },
     "execution_count": 17,
     "metadata": {},
     "output_type": "execute_result"
    }
   ],
   "source": [
    "df_features.tail()"
   ]
  },
  {
   "cell_type": "code",
   "execution_count": 18,
   "metadata": {},
   "outputs": [
    {
     "data": {
      "text/plain": [
       "[O]                                                  50746\n",
       "[Gendered-Pronoun]                                    4037\n",
       "[Gendered-Role]                                       1741\n",
       "[Gendered-Pronoun, Gendered-Role]                     1081\n",
       "[Generalization]                                       256\n",
       "[Gendered-Role, Generalization]                         35\n",
       "[Gendered-Pronoun, Generalization]                      26\n",
       "[Gendered-Pronoun, Gendered-Role, Generalization]       25\n",
       "Name: prediction, dtype: int64"
      ]
     },
     "execution_count": 18,
     "metadata": {},
     "output_type": "execute_result"
    }
   ],
   "source": [
    "df_features[pred_col].value_counts()"
   ]
  },
  {
   "cell_type": "markdown",
   "metadata": {},
   "source": [
    "### 3.2 Feature Extraction\n",
    "\n",
    "Join the feature data (i.e., classifier-predicted *Gendered Pronoun*, *Gendered Role*, and *Generalization* labels) to the document data (i.e., NUSC archival catalog metadata descriptions)."
   ]
  },
  {
   "cell_type": "code",
   "execution_count": 19,
   "metadata": {},
   "outputs": [
    {
     "data": {
      "text/html": [
       "<div>\n",
       "<style scoped>\n",
       "    .dataframe tbody tr th:only-of-type {\n",
       "        vertical-align: middle;\n",
       "    }\n",
       "\n",
       "    .dataframe tbody tr th {\n",
       "        vertical-align: top;\n",
       "    }\n",
       "\n",
       "    .dataframe thead th {\n",
       "        text-align: right;\n",
       "    }\n",
       "</style>\n",
       "<table border=\"1\" class=\"dataframe\">\n",
       "  <thead>\n",
       "    <tr style=\"text-align: right;\">\n",
       "      <th></th>\n",
       "      <th>token_id</th>\n",
       "      <th>eadid</th>\n",
       "      <th>rowid</th>\n",
       "      <th>linguistic_prediction</th>\n",
       "      <th>field</th>\n",
       "      <th>doc</th>\n",
       "    </tr>\n",
       "    <tr>\n",
       "      <th>description_id</th>\n",
       "      <th></th>\n",
       "      <th></th>\n",
       "      <th></th>\n",
       "      <th></th>\n",
       "      <th></th>\n",
       "      <th></th>\n",
       "    </tr>\n",
       "  </thead>\n",
       "  <tbody>\n",
       "    <tr>\n",
       "      <th>0</th>\n",
       "      <td>[0, 1, 2, 3, 4, 5, 6, 7, 8, 9, 10, 11, 12, 13,...</td>\n",
       "      <td>BP</td>\n",
       "      <td>BP</td>\n",
       "      <td>[O]</td>\n",
       "      <td>processinfo</td>\n",
       "      <td>This EAD description created by Ruth Sheret 27...</td>\n",
       "    </tr>\n",
       "    <tr>\n",
       "      <th>1</th>\n",
       "      <td>[16, 17, 18, 19, 20, 21, 22, 23, 24, 25, 26, 2...</td>\n",
       "      <td>BP</td>\n",
       "      <td>BP</td>\n",
       "      <td>[Gendered-Pronoun, Gendered-Role, Generalization]</td>\n",
       "      <td>scopecontent</td>\n",
       "      <td>The papers of the distinguished public servant...</td>\n",
       "    </tr>\n",
       "    <tr>\n",
       "      <th>2</th>\n",
       "      <td>[267, 268, 269, 270, 271, 272]</td>\n",
       "      <td>BP</td>\n",
       "      <td>BP</td>\n",
       "      <td>[Gendered-Role]</td>\n",
       "      <td>unittitle</td>\n",
       "      <td>Plowden (Lady Bridget) Archive</td>\n",
       "    </tr>\n",
       "    <tr>\n",
       "      <th>3</th>\n",
       "      <td>[273, 274, 275, 276, 277, 278, 279, 280, 281, ...</td>\n",
       "      <td>BP</td>\n",
       "      <td>BP/01</td>\n",
       "      <td>[Gendered-Pronoun, Gendered-Role, Generalization]</td>\n",
       "      <td>scopecontent</td>\n",
       "      <td>Formerly the 'Working Ladies Guild', the organ...</td>\n",
       "    </tr>\n",
       "    <tr>\n",
       "      <th>4</th>\n",
       "      <td>[352, 353, 354, 355, 342, 343, 344, 345, 346, ...</td>\n",
       "      <td>BP</td>\n",
       "      <td>BP/01</td>\n",
       "      <td>[Generalization]</td>\n",
       "      <td>unittitle</td>\n",
       "      <td>Chairman (Managing Committee) of the Mary Fiel...</td>\n",
       "    </tr>\n",
       "  </tbody>\n",
       "</table>\n",
       "</div>"
      ],
      "text/plain": [
       "                                                         token_id eadid  \\\n",
       "description_id                                                            \n",
       "0               [0, 1, 2, 3, 4, 5, 6, 7, 8, 9, 10, 11, 12, 13,...    BP   \n",
       "1               [16, 17, 18, 19, 20, 21, 22, 23, 24, 25, 26, 2...    BP   \n",
       "2                                  [267, 268, 269, 270, 271, 272]    BP   \n",
       "3               [273, 274, 275, 276, 277, 278, 279, 280, 281, ...    BP   \n",
       "4               [352, 353, 354, 355, 342, 343, 344, 345, 346, ...    BP   \n",
       "\n",
       "                rowid                              linguistic_prediction  \\\n",
       "description_id                                                             \n",
       "0                  BP                                                [O]   \n",
       "1                  BP  [Gendered-Pronoun, Gendered-Role, Generalization]   \n",
       "2                  BP                                    [Gendered-Role]   \n",
       "3               BP/01  [Gendered-Pronoun, Gendered-Role, Generalization]   \n",
       "4               BP/01                                   [Generalization]   \n",
       "\n",
       "                       field  \\\n",
       "description_id                 \n",
       "0                processinfo   \n",
       "1               scopecontent   \n",
       "2                  unittitle   \n",
       "3               scopecontent   \n",
       "4                  unittitle   \n",
       "\n",
       "                                                              doc  \n",
       "description_id                                                     \n",
       "0               This EAD description created by Ruth Sheret 27...  \n",
       "1               The papers of the distinguished public servant...  \n",
       "2                                  Plowden (Lady Bridget) Archive  \n",
       "3               Formerly the 'Working Ladies Guild', the organ...  \n",
       "4               Chairman (Managing Committee) of the Mary Fiel...  "
      ]
     },
     "execution_count": 19,
     "metadata": {},
     "output_type": "execute_result"
    }
   ],
   "source": [
    "df = df_features.join(doc_df.set_index(\"description_id\"), on=\"description_id\", how=\"right\")\n",
    "\n",
    "# Rename label columns for clarity\n",
    "feature_col = \"linguistic_prediction\"\n",
    "df = df.rename(columns={pred_col:feature_col})\n",
    "\n",
    "# Remove \"O\" from linguistic prediction lists if other labels are present in the list\n",
    "ling_pred = list(df[feature_col])\n",
    "new_ling_pred = []\n",
    "for pred in ling_pred:\n",
    "    if len(pred) > 1:\n",
    "        if \"O\" in pred:\n",
    "            pred.remove(\"O\")\n",
    "    new_ling_pred += [pred]\n",
    "\n",
    "df = df.drop(columns=[feature_col])\n",
    "df.insert(3, feature_col, new_ling_pred)\n",
    "df.head()"
   ]
  },
  {
   "cell_type": "markdown",
   "metadata": {},
   "source": [
    "### 3.3 Classification"
   ]
  },
  {
   "cell_type": "code",
   "execution_count": 20,
   "metadata": {},
   "outputs": [],
   "source": [
    "clf_os = joblib.load(\"models/ling_osc/sgd-svm_F-tfidf-ling_T-os.joblib\")\n",
    "mlb_os = joblib.load(\"models/transform_labels/mlb_targets_os.joblib\")\n",
    "cvectorizer = joblib.load(\"models/transform_docs/count_vectorizer.joblib\")\n",
    "tfidf_transformer = joblib.load(\"models/transform_docs/tfidf_transformer.joblib\")"
   ]
  },
  {
   "cell_type": "code",
   "execution_count": 21,
   "metadata": {},
   "outputs": [
    {
     "name": "stdout",
     "output_type": "stream",
     "text": [
      "['Gendered-Pronoun' 'Gendered-Role' 'Generalization']\n",
      "['Omission' 'Stereotype']\n"
     ]
    }
   ],
   "source": [
    "print(mlb_ling.classes_)\n",
    "print(mlb_os.classes_)"
   ]
  },
  {
   "cell_type": "code",
   "execution_count": 22,
   "metadata": {},
   "outputs": [],
   "source": [
    "docs = df[\"doc\"]\n",
    "vectorized = cvectorizer.transform(docs)\n",
    "tfidf_matrix = tfidf_transformer.transform(vectorized)"
   ]
  },
  {
   "cell_type": "code",
   "execution_count": 23,
   "metadata": {},
   "outputs": [
    {
     "name": "stderr",
     "output_type": "stream",
     "text": [
      "/Users/lucyhavens/miniconda3/envs/gender-bias-env/lib/python3.9/site-packages/sklearn/preprocessing/_label.py:895: UserWarning: unknown class(es) ['O'] will be ignored\n",
      "  warnings.warn(\n"
     ]
    }
   ],
   "source": [
    "features = mlb_ling.transform(df[feature_col])\n",
    "X = scipy.sparse.hstack([tfidf_matrix, features])"
   ]
  },
  {
   "cell_type": "code",
   "execution_count": 24,
   "metadata": {},
   "outputs": [
    {
     "data": {
      "text/html": [
       "<div>\n",
       "<style scoped>\n",
       "    .dataframe tbody tr th:only-of-type {\n",
       "        vertical-align: middle;\n",
       "    }\n",
       "\n",
       "    .dataframe tbody tr th {\n",
       "        vertical-align: top;\n",
       "    }\n",
       "\n",
       "    .dataframe thead th {\n",
       "        text-align: right;\n",
       "    }\n",
       "</style>\n",
       "<table border=\"1\" class=\"dataframe\">\n",
       "  <thead>\n",
       "    <tr style=\"text-align: right;\">\n",
       "      <th></th>\n",
       "      <th>token_id</th>\n",
       "      <th>eadid</th>\n",
       "      <th>rowid</th>\n",
       "      <th>linguistic_prediction</th>\n",
       "      <th>field</th>\n",
       "      <th>doc</th>\n",
       "      <th>os_predictions</th>\n",
       "    </tr>\n",
       "    <tr>\n",
       "      <th>description_id</th>\n",
       "      <th></th>\n",
       "      <th></th>\n",
       "      <th></th>\n",
       "      <th></th>\n",
       "      <th></th>\n",
       "      <th></th>\n",
       "      <th></th>\n",
       "    </tr>\n",
       "  </thead>\n",
       "  <tbody>\n",
       "    <tr>\n",
       "      <th>0</th>\n",
       "      <td>[0, 1, 2, 3, 4, 5, 6, 7, 8, 9, 10, 11, 12, 13,...</td>\n",
       "      <td>BP</td>\n",
       "      <td>BP</td>\n",
       "      <td>[O]</td>\n",
       "      <td>processinfo</td>\n",
       "      <td>This EAD description created by Ruth Sheret 27...</td>\n",
       "      <td>()</td>\n",
       "    </tr>\n",
       "    <tr>\n",
       "      <th>1</th>\n",
       "      <td>[16, 17, 18, 19, 20, 21, 22, 23, 24, 25, 26, 2...</td>\n",
       "      <td>BP</td>\n",
       "      <td>BP</td>\n",
       "      <td>[Gendered-Pronoun, Gendered-Role, Generalization]</td>\n",
       "      <td>scopecontent</td>\n",
       "      <td>The papers of the distinguished public servant...</td>\n",
       "      <td>(Omission,)</td>\n",
       "    </tr>\n",
       "    <tr>\n",
       "      <th>2</th>\n",
       "      <td>[267, 268, 269, 270, 271, 272]</td>\n",
       "      <td>BP</td>\n",
       "      <td>BP</td>\n",
       "      <td>[Gendered-Role]</td>\n",
       "      <td>unittitle</td>\n",
       "      <td>Plowden (Lady Bridget) Archive</td>\n",
       "      <td>()</td>\n",
       "    </tr>\n",
       "    <tr>\n",
       "      <th>3</th>\n",
       "      <td>[273, 274, 275, 276, 277, 278, 279, 280, 281, ...</td>\n",
       "      <td>BP</td>\n",
       "      <td>BP/01</td>\n",
       "      <td>[Gendered-Pronoun, Gendered-Role, Generalization]</td>\n",
       "      <td>scopecontent</td>\n",
       "      <td>Formerly the 'Working Ladies Guild', the organ...</td>\n",
       "      <td>(Omission,)</td>\n",
       "    </tr>\n",
       "    <tr>\n",
       "      <th>4</th>\n",
       "      <td>[352, 353, 354, 355, 342, 343, 344, 345, 346, ...</td>\n",
       "      <td>BP</td>\n",
       "      <td>BP/01</td>\n",
       "      <td>[Generalization]</td>\n",
       "      <td>unittitle</td>\n",
       "      <td>Chairman (Managing Committee) of the Mary Fiel...</td>\n",
       "      <td>()</td>\n",
       "    </tr>\n",
       "  </tbody>\n",
       "</table>\n",
       "</div>"
      ],
      "text/plain": [
       "                                                         token_id eadid  \\\n",
       "description_id                                                            \n",
       "0               [0, 1, 2, 3, 4, 5, 6, 7, 8, 9, 10, 11, 12, 13,...    BP   \n",
       "1               [16, 17, 18, 19, 20, 21, 22, 23, 24, 25, 26, 2...    BP   \n",
       "2                                  [267, 268, 269, 270, 271, 272]    BP   \n",
       "3               [273, 274, 275, 276, 277, 278, 279, 280, 281, ...    BP   \n",
       "4               [352, 353, 354, 355, 342, 343, 344, 345, 346, ...    BP   \n",
       "\n",
       "                rowid                              linguistic_prediction  \\\n",
       "description_id                                                             \n",
       "0                  BP                                                [O]   \n",
       "1                  BP  [Gendered-Pronoun, Gendered-Role, Generalization]   \n",
       "2                  BP                                    [Gendered-Role]   \n",
       "3               BP/01  [Gendered-Pronoun, Gendered-Role, Generalization]   \n",
       "4               BP/01                                   [Generalization]   \n",
       "\n",
       "                       field  \\\n",
       "description_id                 \n",
       "0                processinfo   \n",
       "1               scopecontent   \n",
       "2                  unittitle   \n",
       "3               scopecontent   \n",
       "4                  unittitle   \n",
       "\n",
       "                                                              doc  \\\n",
       "description_id                                                      \n",
       "0               This EAD description created by Ruth Sheret 27...   \n",
       "1               The papers of the distinguished public servant...   \n",
       "2                                  Plowden (Lady Bridget) Archive   \n",
       "3               Formerly the 'Working Ladies Guild', the organ...   \n",
       "4               Chairman (Managing Committee) of the Mary Fiel...   \n",
       "\n",
       "               os_predictions  \n",
       "description_id                 \n",
       "0                          ()  \n",
       "1                 (Omission,)  \n",
       "2                          ()  \n",
       "3                 (Omission,)  \n",
       "4                          ()  "
      ]
     },
     "execution_count": 24,
     "metadata": {},
     "output_type": "execute_result"
    }
   ],
   "source": [
    "y = clf_os.predict(X)\n",
    "predictions = mlb_os.inverse_transform(y)\n",
    "df.insert(len(df.columns), \"os_predictions\", predictions)\n",
    "df.head()"
   ]
  },
  {
   "cell_type": "code",
   "execution_count": 25,
   "metadata": {},
   "outputs": [
    {
     "data": {
      "text/plain": [
       "()                        54648\n",
       "(Omission,)                2096\n",
       "(Omission, Stereotype)      918\n",
       "(Stereotype,)               285\n",
       "Name: os_predictions, dtype: int64"
      ]
     },
     "execution_count": 25,
     "metadata": {},
     "output_type": "execute_result"
    }
   ],
   "source": [
    "df.os_predictions.value_counts()"
   ]
  },
  {
   "cell_type": "code",
   "execution_count": 27,
   "metadata": {},
   "outputs": [
    {
     "name": "stdout",
     "output_type": "stream",
     "text": [
      "Proportion of descriptions classified: 0.06036817449860928\n"
     ]
    }
   ],
   "source": [
    "print(\"Proportion of descriptions classified:\", (2096+918+285)/54648) # about 6 percent (1% more than found with baseline)"
   ]
  },
  {
   "cell_type": "markdown",
   "metadata": {},
   "source": [
    "Save the classified data."
   ]
  },
  {
   "cell_type": "code",
   "execution_count": 26,
   "metadata": {},
   "outputs": [],
   "source": [
    "df.to_csv(config.classified_data_path+\"lc-osc_predictions.csv\")"
   ]
  },
  {
   "cell_type": "code",
   "execution_count": null,
   "metadata": {},
   "outputs": [],
   "source": []
  }
 ],
 "metadata": {
  "kernelspec": {
   "display_name": "gender-bias-env",
   "language": "python",
   "name": "python3"
  },
  "language_info": {
   "codemirror_mode": {
    "name": "ipython",
    "version": 3
   },
   "file_extension": ".py",
   "mimetype": "text/x-python",
   "name": "python",
   "nbconvert_exporter": "python",
   "pygments_lexer": "ipython3",
   "version": "3.9.20"
  }
 },
 "nbformat": 4,
 "nbformat_minor": 2
}
