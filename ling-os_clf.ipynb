{
 "cells": [
  {
   "cell_type": "markdown",
   "metadata": {},
   "source": [
    "# Classification\n",
    "\n",
    "## Linguistic Classifier (LC) + Omission & Stereotype Classifier (OSC)"
   ]
  },
  {
   "cell_type": "code",
   "execution_count": 1,
   "metadata": {},
   "outputs": [
    {
     "name": "stderr",
     "output_type": "stream",
     "text": [
      "[nltk_data] Downloading package punkt to\n",
      "[nltk_data]     /Users/lucyhavens/nltk_data...\n",
      "[nltk_data]   Package punkt is already up-to-date!\n",
      "[nltk_data] Downloading package punkt to\n",
      "[nltk_data]     /Users/lucyhavens/nltk_data...\n",
      "[nltk_data]   Package punkt is already up-to-date!\n"
     ]
    }
   ],
   "source": [
    "# Custom filepaths and functions\n",
    "import config, clf_utils\n",
    "\n",
    "# Libraries for data, file, and model loading\n",
    "import pandas as pd\n",
    "import random\n",
    "import joblib\n",
    "from joblib import load\n",
    "import numpy as np\n",
    "import nltk\n",
    "nltk.download('punkt')\n",
    "from nltk.tokenize import word_tokenize\n",
    "from pathlib import Path\n",
    "\n",
    "# Libraries for classification\n",
    "from gensim.models import FastText\n",
    "from gensim.utils import tokenize\n",
    "from gensim import utils\n",
    "from gensim.test.utils import get_tmpfile\n",
    "from sklearn.preprocessing import MultiLabelBinarizer\n",
    "from sklearn.feature_extraction.text import CountVectorizer\n",
    "from skmultilearn.problem_transform import ClassifierChain\n",
    "from sklearn.ensemble import RandomForestClassifier\n",
    "from sklearn.multiclass import OneVsRestClassifier\n",
    "from sklearn.linear_model import SGDClassifier\n",
    "import scipy\n",
    "import sklearn.metrics\n",
    "from sklearn.metrics import confusion_matrix, multilabel_confusion_matrix\n",
    "from sklearn.metrics import precision_recall_fscore_support"
   ]
  },
  {
   "cell_type": "markdown",
   "metadata": {},
   "source": [
    "### 1. Load the Data"
   ]
  },
  {
   "cell_type": "code",
   "execution_count": 2,
   "metadata": {},
   "outputs": [
    {
     "data": {
      "text/html": [
       "<div>\n",
       "<style scoped>\n",
       "    .dataframe tbody tr th:only-of-type {\n",
       "        vertical-align: middle;\n",
       "    }\n",
       "\n",
       "    .dataframe tbody tr th {\n",
       "        vertical-align: top;\n",
       "    }\n",
       "\n",
       "    .dataframe thead th {\n",
       "        text-align: right;\n",
       "    }\n",
       "</style>\n",
       "<table border=\"1\" class=\"dataframe\">\n",
       "  <thead>\n",
       "    <tr style=\"text-align: right;\">\n",
       "      <th></th>\n",
       "      <th>index</th>\n",
       "      <th>doc</th>\n",
       "      <th>gender_bias_manual</th>\n",
       "      <th>omission_manual</th>\n",
       "      <th>stereotype_manual</th>\n",
       "      <th>type</th>\n",
       "      <th>note</th>\n",
       "      <th>eadid</th>\n",
       "      <th>description_id</th>\n",
       "      <th>rowid</th>\n",
       "      <th>field</th>\n",
       "      <th>baseline_prediction</th>\n",
       "    </tr>\n",
       "  </thead>\n",
       "  <tbody>\n",
       "    <tr>\n",
       "      <th>0</th>\n",
       "      <td>11452</td>\n",
       "      <td>Drafts and meeting notes relating to the creat...</td>\n",
       "      <td>n</td>\n",
       "      <td>n</td>\n",
       "      <td>n</td>\n",
       "      <td>NaN</td>\n",
       "      <td>NaN</td>\n",
       "      <td>CHE</td>\n",
       "      <td>11452</td>\n",
       "      <td>CHE/01/01</td>\n",
       "      <td>scopecontent</td>\n",
       "      <td>()</td>\n",
       "    </tr>\n",
       "    <tr>\n",
       "      <th>1</th>\n",
       "      <td>11467</td>\n",
       "      <td>CHE Supporters Review</td>\n",
       "      <td>n</td>\n",
       "      <td>n</td>\n",
       "      <td>n</td>\n",
       "      <td>NaN</td>\n",
       "      <td>NaN</td>\n",
       "      <td>CHE</td>\n",
       "      <td>11467</td>\n",
       "      <td>CHE/02/04</td>\n",
       "      <td>unittitle</td>\n",
       "      <td>()</td>\n",
       "    </tr>\n",
       "    <tr>\n",
       "      <th>2</th>\n",
       "      <td>11471</td>\n",
       "      <td>Friend Newcastle Annual Reports</td>\n",
       "      <td>n</td>\n",
       "      <td>n</td>\n",
       "      <td>n</td>\n",
       "      <td>NaN</td>\n",
       "      <td>NaN</td>\n",
       "      <td>CHE</td>\n",
       "      <td>11471</td>\n",
       "      <td>CHE/02/06</td>\n",
       "      <td>unittitle</td>\n",
       "      <td>()</td>\n",
       "    </tr>\n",
       "    <tr>\n",
       "      <th>3</th>\n",
       "      <td>11554</td>\n",
       "      <td>Collection of documents on sex education in sc...</td>\n",
       "      <td>n</td>\n",
       "      <td>n</td>\n",
       "      <td>n</td>\n",
       "      <td>NaN</td>\n",
       "      <td>NaN</td>\n",
       "      <td>CHE</td>\n",
       "      <td>11554</td>\n",
       "      <td>CHE/03/06/12</td>\n",
       "      <td>unittitle</td>\n",
       "      <td>()</td>\n",
       "    </tr>\n",
       "    <tr>\n",
       "      <th>4</th>\n",
       "      <td>11555</td>\n",
       "      <td>Letters, newsletters and leaflets on the topic...</td>\n",
       "      <td>n</td>\n",
       "      <td>n</td>\n",
       "      <td>n</td>\n",
       "      <td>NaN</td>\n",
       "      <td>NaN</td>\n",
       "      <td>CHE</td>\n",
       "      <td>11555</td>\n",
       "      <td>CHE/03/06/13</td>\n",
       "      <td>unittitle</td>\n",
       "      <td>()</td>\n",
       "    </tr>\n",
       "  </tbody>\n",
       "</table>\n",
       "</div>"
      ],
      "text/plain": [
       "   index                                                doc  \\\n",
       "0  11452  Drafts and meeting notes relating to the creat...   \n",
       "1  11467                              CHE Supporters Review   \n",
       "2  11471                    Friend Newcastle Annual Reports   \n",
       "3  11554  Collection of documents on sex education in sc...   \n",
       "4  11555  Letters, newsletters and leaflets on the topic...   \n",
       "\n",
       "  gender_bias_manual omission_manual stereotype_manual type note eadid  \\\n",
       "0                  n               n                 n  NaN  NaN   CHE   \n",
       "1                  n               n                 n  NaN  NaN   CHE   \n",
       "2                  n               n                 n  NaN  NaN   CHE   \n",
       "3                  n               n                 n  NaN  NaN   CHE   \n",
       "4                  n               n                 n  NaN  NaN   CHE   \n",
       "\n",
       "   description_id         rowid         field baseline_prediction  \n",
       "0           11452     CHE/01/01  scopecontent                  ()  \n",
       "1           11467     CHE/02/04     unittitle                  ()  \n",
       "2           11471     CHE/02/06     unittitle                  ()  \n",
       "3           11554  CHE/03/06/12     unittitle                  ()  \n",
       "4           11555  CHE/03/06/13     unittitle                  ()  "
      ]
     },
     "execution_count": 2,
     "metadata": {},
     "output_type": "execute_result"
    }
   ],
   "source": [
    "# extracted_dir = \"data/extracted/\"\n",
    "# doc_df = pd.read_csv(extracted_dir+\"nusc_archival_descs_for_clf.csv\", index_col=0)\n",
    "\n",
    "filename = \"manually_coded_baselineosc.csv\"\n",
    "doc_df = pd.read_csv(config.coded_data_path+filename)\n",
    "\n",
    "doc_df.head()"
   ]
  },
  {
   "cell_type": "code",
   "execution_count": 3,
   "metadata": {},
   "outputs": [
    {
     "data": {
      "text/html": [
       "<div>\n",
       "<style scoped>\n",
       "    .dataframe tbody tr th:only-of-type {\n",
       "        vertical-align: middle;\n",
       "    }\n",
       "\n",
       "    .dataframe tbody tr th {\n",
       "        vertical-align: top;\n",
       "    }\n",
       "\n",
       "    .dataframe thead th {\n",
       "        text-align: right;\n",
       "    }\n",
       "</style>\n",
       "<table border=\"1\" class=\"dataframe\">\n",
       "  <thead>\n",
       "    <tr style=\"text-align: right;\">\n",
       "      <th></th>\n",
       "      <th>description_id</th>\n",
       "      <th>token_id</th>\n",
       "      <th>token</th>\n",
       "    </tr>\n",
       "  </thead>\n",
       "  <tbody>\n",
       "    <tr>\n",
       "      <th>0</th>\n",
       "      <td>11452</td>\n",
       "      <td>0</td>\n",
       "      <td>Drafts</td>\n",
       "    </tr>\n",
       "    <tr>\n",
       "      <th>0</th>\n",
       "      <td>11452</td>\n",
       "      <td>1</td>\n",
       "      <td>and</td>\n",
       "    </tr>\n",
       "    <tr>\n",
       "      <th>0</th>\n",
       "      <td>11452</td>\n",
       "      <td>2</td>\n",
       "      <td>meeting</td>\n",
       "    </tr>\n",
       "    <tr>\n",
       "      <th>0</th>\n",
       "      <td>11452</td>\n",
       "      <td>3</td>\n",
       "      <td>notes</td>\n",
       "    </tr>\n",
       "    <tr>\n",
       "      <th>0</th>\n",
       "      <td>11452</td>\n",
       "      <td>4</td>\n",
       "      <td>relating</td>\n",
       "    </tr>\n",
       "  </tbody>\n",
       "</table>\n",
       "</div>"
      ],
      "text/plain": [
       "   description_id token_id     token\n",
       "0           11452        0    Drafts\n",
       "0           11452        1       and\n",
       "0           11452        2   meeting\n",
       "0           11452        3     notes\n",
       "0           11452        4  relating"
      ]
     },
     "execution_count": 3,
     "metadata": {},
     "output_type": "execute_result"
    }
   ],
   "source": [
    "text_cols = [\"doc\"]\n",
    "token_df = clf_utils.getTokenDF(doc_df, text_cols)\n",
    "token_df.head()"
   ]
  },
  {
   "cell_type": "code",
   "execution_count": 4,
   "metadata": {},
   "outputs": [
    {
     "data": {
      "text/html": [
       "<div>\n",
       "<style scoped>\n",
       "    .dataframe tbody tr th:only-of-type {\n",
       "        vertical-align: middle;\n",
       "    }\n",
       "\n",
       "    .dataframe tbody tr th {\n",
       "        vertical-align: top;\n",
       "    }\n",
       "\n",
       "    .dataframe thead th {\n",
       "        text-align: right;\n",
       "    }\n",
       "</style>\n",
       "<table border=\"1\" class=\"dataframe\">\n",
       "  <thead>\n",
       "    <tr style=\"text-align: right;\">\n",
       "      <th></th>\n",
       "      <th>description_id</th>\n",
       "      <th>token_id</th>\n",
       "      <th>token</th>\n",
       "    </tr>\n",
       "  </thead>\n",
       "  <tbody>\n",
       "    <tr>\n",
       "      <th>12118</th>\n",
       "      <td>32933</td>\n",
       "      <td>645696</td>\n",
       "      <td>Thomas</td>\n",
       "    </tr>\n",
       "    <tr>\n",
       "      <th>12118</th>\n",
       "      <td>32933</td>\n",
       "      <td>645697</td>\n",
       "      <td>Sharp</td>\n",
       "    </tr>\n",
       "    <tr>\n",
       "      <th>12118</th>\n",
       "      <td>32933</td>\n",
       "      <td>645698</td>\n",
       "      <td>Memorial</td>\n",
       "    </tr>\n",
       "    <tr>\n",
       "      <th>12118</th>\n",
       "      <td>32933</td>\n",
       "      <td>645699</td>\n",
       "      <td>Lecture</td>\n",
       "    </tr>\n",
       "    <tr>\n",
       "      <th>12118</th>\n",
       "      <td>32933</td>\n",
       "      <td>645700</td>\n",
       "      <td>.</td>\n",
       "    </tr>\n",
       "  </tbody>\n",
       "</table>\n",
       "</div>"
      ],
      "text/plain": [
       "       description_id token_id     token\n",
       "12118           32933   645696    Thomas\n",
       "12118           32933   645697     Sharp\n",
       "12118           32933   645698  Memorial\n",
       "12118           32933   645699   Lecture\n",
       "12118           32933   645700         ."
      ]
     },
     "execution_count": 4,
     "metadata": {},
     "output_type": "execute_result"
    }
   ],
   "source": [
    "token_df.tail()"
   ]
  },
  {
   "cell_type": "code",
   "execution_count": 5,
   "metadata": {},
   "outputs": [
    {
     "data": {
      "text/plain": [
       "(645701, 3)"
      ]
     },
     "execution_count": 5,
     "metadata": {},
     "output_type": "execute_result"
    }
   ],
   "source": [
    "token_df.shape"
   ]
  },
  {
   "cell_type": "markdown",
   "metadata": {},
   "source": [
    "### 2. Linguistic Classification\n",
    "Classify the data using the Linguistic Classifier to create *Generalization*, *Gendered Pronoun*, and *Gendered Role* features to input into the Omission and Stereotype Classifier."
   ]
  },
  {
   "cell_type": "markdown",
   "metadata": {},
   "source": [
    "Load the models."
   ]
  },
  {
   "cell_type": "code",
   "execution_count": 6,
   "metadata": {},
   "outputs": [],
   "source": [
    "ft_model = FastText.load(\"models/embeddings/fasttextcbow100_lowercased/fasttext_cbow_100d.model\")\n",
    "mlb_ling = joblib.load(\"models/transform_labels/mlb_targets_ling.joblib\")  # formerly named mlb_linlabels.joblib\n",
    "ling_clf = joblib.load(\"models/ling_osc/cc-rf_F-fasttextcbow100_T-linglabels.joblib\")"
   ]
  },
  {
   "cell_type": "code",
   "execution_count": 7,
   "metadata": {},
   "outputs": [
    {
     "name": "stdout",
     "output_type": "stream",
     "text": [
      "Classification targets: ['Gendered-Pronoun' 'Gendered-Role' 'Generalization']\n"
     ]
    }
   ],
   "source": [
    "print(\"Classification targets:\", mlb_ling.classes_)"
   ]
  },
  {
   "cell_type": "markdown",
   "metadata": {},
   "source": [
    "Transform the token data into an embedding matrix to input into the classifier."
   ]
  },
  {
   "cell_type": "code",
   "execution_count": 8,
   "metadata": {},
   "outputs": [],
   "source": [
    "X = clf_utils.getFeatures(token_df, embedding_model=ft_model)"
   ]
  },
  {
   "cell_type": "markdown",
   "metadata": {},
   "source": [
    "Classify the tokens."
   ]
  },
  {
   "cell_type": "code",
   "execution_count": 9,
   "metadata": {},
   "outputs": [],
   "source": [
    "y = ling_clf.predict(X)"
   ]
  },
  {
   "cell_type": "code",
   "execution_count": 10,
   "metadata": {},
   "outputs": [],
   "source": [
    "predictions = mlb_ling.inverse_transform(y)\n",
    "new_preds = [pred[0] if len(pred) > 0 else \"O\" for pred in predictions]"
   ]
  },
  {
   "cell_type": "code",
   "execution_count": 11,
   "metadata": {},
   "outputs": [
    {
     "data": {
      "text/html": [
       "<div>\n",
       "<style scoped>\n",
       "    .dataframe tbody tr th:only-of-type {\n",
       "        vertical-align: middle;\n",
       "    }\n",
       "\n",
       "    .dataframe tbody tr th {\n",
       "        vertical-align: top;\n",
       "    }\n",
       "\n",
       "    .dataframe thead th {\n",
       "        text-align: right;\n",
       "    }\n",
       "</style>\n",
       "<table border=\"1\" class=\"dataframe\">\n",
       "  <thead>\n",
       "    <tr style=\"text-align: right;\">\n",
       "      <th></th>\n",
       "      <th>description_id</th>\n",
       "      <th>token_id</th>\n",
       "      <th>token</th>\n",
       "      <th>prediction</th>\n",
       "    </tr>\n",
       "  </thead>\n",
       "  <tbody>\n",
       "    <tr>\n",
       "      <th>0</th>\n",
       "      <td>11452</td>\n",
       "      <td>0</td>\n",
       "      <td>Drafts</td>\n",
       "      <td>O</td>\n",
       "    </tr>\n",
       "    <tr>\n",
       "      <th>0</th>\n",
       "      <td>11452</td>\n",
       "      <td>1</td>\n",
       "      <td>and</td>\n",
       "      <td>O</td>\n",
       "    </tr>\n",
       "    <tr>\n",
       "      <th>0</th>\n",
       "      <td>11452</td>\n",
       "      <td>2</td>\n",
       "      <td>meeting</td>\n",
       "      <td>O</td>\n",
       "    </tr>\n",
       "    <tr>\n",
       "      <th>0</th>\n",
       "      <td>11452</td>\n",
       "      <td>3</td>\n",
       "      <td>notes</td>\n",
       "      <td>O</td>\n",
       "    </tr>\n",
       "    <tr>\n",
       "      <th>0</th>\n",
       "      <td>11452</td>\n",
       "      <td>4</td>\n",
       "      <td>relating</td>\n",
       "      <td>O</td>\n",
       "    </tr>\n",
       "  </tbody>\n",
       "</table>\n",
       "</div>"
      ],
      "text/plain": [
       "   description_id token_id     token prediction\n",
       "0           11452        0    Drafts          O\n",
       "0           11452        1       and          O\n",
       "0           11452        2   meeting          O\n",
       "0           11452        3     notes          O\n",
       "0           11452        4  relating          O"
      ]
     },
     "execution_count": 11,
     "metadata": {},
     "output_type": "execute_result"
    }
   ],
   "source": [
    "pred_col = \"prediction\"\n",
    "token_df.insert(len(token_df.columns), pred_col, new_preds)\n",
    "token_df.head()"
   ]
  },
  {
   "cell_type": "code",
   "execution_count": 12,
   "metadata": {},
   "outputs": [
    {
     "data": {
      "text/plain": [
       "O                   632030\n",
       "Gendered-Pronoun     12913\n",
       "Gendered-Role          649\n",
       "Generalization         109\n",
       "Name: prediction, dtype: int64"
      ]
     },
     "execution_count": 12,
     "metadata": {},
     "output_type": "execute_result"
    }
   ],
   "source": [
    "token_df[pred_col].value_counts()"
   ]
  },
  {
   "cell_type": "code",
   "execution_count": 13,
   "metadata": {},
   "outputs": [],
   "source": [
    "# token_df.to_csv(config.classified_data_path+\"baseline_lc_predictions.csv\")\n",
    "\n",
    "token_df.to_csv(config.coded_data_path+\"manually_coded_baselinelc.csv\")"
   ]
  },
  {
   "cell_type": "markdown",
   "metadata": {},
   "source": [
    "### 3. Omission & Stereotype Classification\n",
    "Classify the data using the Omission and Stereotype Classifier to assign *Omission* and *Stereotype* codes to NUSC archival metadata descriptions."
   ]
  },
  {
   "cell_type": "markdown",
   "metadata": {},
   "source": [
    "### 3.1 Preprocessing"
   ]
  },
  {
   "cell_type": "code",
   "execution_count": 51,
   "metadata": {},
   "outputs": [],
   "source": [
    "# ling_preds_file = config.classified_data_path+\"baseline_lc_predictions.csv\" # token_df\n",
    "# token_df = pd.read_csv(ling_preds_file, index_col=0)\n",
    "# token_df.head()"
   ]
  },
  {
   "cell_type": "code",
   "execution_count": 14,
   "metadata": {},
   "outputs": [
    {
     "data": {
      "text/html": [
       "<div>\n",
       "<style scoped>\n",
       "    .dataframe tbody tr th:only-of-type {\n",
       "        vertical-align: middle;\n",
       "    }\n",
       "\n",
       "    .dataframe tbody tr th {\n",
       "        vertical-align: top;\n",
       "    }\n",
       "\n",
       "    .dataframe thead th {\n",
       "        text-align: right;\n",
       "    }\n",
       "</style>\n",
       "<table border=\"1\" class=\"dataframe\">\n",
       "  <thead>\n",
       "    <tr style=\"text-align: right;\">\n",
       "      <th></th>\n",
       "      <th>token_id</th>\n",
       "      <th>prediction</th>\n",
       "    </tr>\n",
       "    <tr>\n",
       "      <th>description_id</th>\n",
       "      <th></th>\n",
       "      <th></th>\n",
       "    </tr>\n",
       "  </thead>\n",
       "  <tbody>\n",
       "    <tr>\n",
       "      <th>0</th>\n",
       "      <td>[26957, 26958, 26959, 26960, 26961, 26962, 269...</td>\n",
       "      <td>[O]</td>\n",
       "    </tr>\n",
       "    <tr>\n",
       "      <th>1</th>\n",
       "      <td>[22033, 22034, 22035, 22036, 22037, 22038, 220...</td>\n",
       "      <td>[Gendered-Pronoun, Gendered-Role, Generalization]</td>\n",
       "    </tr>\n",
       "    <tr>\n",
       "      <th>2</th>\n",
       "      <td>[19977, 19978, 19979, 19980, 19981, 19982]</td>\n",
       "      <td>[Gendered-Role]</td>\n",
       "    </tr>\n",
       "    <tr>\n",
       "      <th>3</th>\n",
       "      <td>[16288, 16289, 16290, 16291, 16292, 16293, 162...</td>\n",
       "      <td>[Gendered-Pronoun, Gendered-Role, Generalization]</td>\n",
       "    </tr>\n",
       "    <tr>\n",
       "      <th>4</th>\n",
       "      <td>[13184, 13171, 13172, 13173, 13174, 13175, 131...</td>\n",
       "      <td>[Generalization]</td>\n",
       "    </tr>\n",
       "  </tbody>\n",
       "</table>\n",
       "</div>"
      ],
      "text/plain": [
       "                                                         token_id  \\\n",
       "description_id                                                      \n",
       "0               [26957, 26958, 26959, 26960, 26961, 26962, 269...   \n",
       "1               [22033, 22034, 22035, 22036, 22037, 22038, 220...   \n",
       "2                      [19977, 19978, 19979, 19980, 19981, 19982]   \n",
       "3               [16288, 16289, 16290, 16291, 16292, 16293, 162...   \n",
       "4               [13184, 13171, 13172, 13173, 13174, 13175, 131...   \n",
       "\n",
       "                                                       prediction  \n",
       "description_id                                                     \n",
       "0                                                             [O]  \n",
       "1               [Gendered-Pronoun, Gendered-Role, Generalization]  \n",
       "2                                                 [Gendered-Role]  \n",
       "3               [Gendered-Pronoun, Gendered-Role, Generalization]  \n",
       "4                                                [Generalization]  "
      ]
     },
     "execution_count": 14,
     "metadata": {},
     "output_type": "execute_result"
    }
   ],
   "source": [
    "# Group the data by description so it can be combined with the description data\n",
    "df_features = clf_utils.implodeDataFrameUnique(token_df[[\"description_id\", \"token_id\", pred_col]], [\"description_id\"])\n",
    "\n",
    "# Deduplicate lists in description_id, token_id, and prediction columns\n",
    "cols = [\"token_id\", pred_col]\n",
    "for col in cols:\n",
    "    old_col = list(df_features[col])\n",
    "    new_col = []\n",
    "    if col == pred_col:\n",
    "        for values in old_col:\n",
    "            if (len(values) > 1) and (\"O\" in values):\n",
    "                values.remove(\"O\")\n",
    "            values_list = list(values)\n",
    "            values_list.sort()\n",
    "            new_col += [values_list]\n",
    "    else:\n",
    "        new_col = old_col\n",
    "    col_i = list(df_features.columns).index(col)\n",
    "    df_features = df_features.drop(columns=[col])\n",
    "    df_features.insert(col_i, col, new_col)\n",
    "\n",
    "df_features.head()"
   ]
  },
  {
   "cell_type": "code",
   "execution_count": 15,
   "metadata": {},
   "outputs": [
    {
     "data": {
      "text/html": [
       "<div>\n",
       "<style scoped>\n",
       "    .dataframe tbody tr th:only-of-type {\n",
       "        vertical-align: middle;\n",
       "    }\n",
       "\n",
       "    .dataframe tbody tr th {\n",
       "        vertical-align: top;\n",
       "    }\n",
       "\n",
       "    .dataframe thead th {\n",
       "        text-align: right;\n",
       "    }\n",
       "</style>\n",
       "<table border=\"1\" class=\"dataframe\">\n",
       "  <thead>\n",
       "    <tr style=\"text-align: right;\">\n",
       "      <th></th>\n",
       "      <th>token_id</th>\n",
       "      <th>prediction</th>\n",
       "    </tr>\n",
       "    <tr>\n",
       "      <th>description_id</th>\n",
       "      <th></th>\n",
       "      <th></th>\n",
       "    </tr>\n",
       "  </thead>\n",
       "  <tbody>\n",
       "    <tr>\n",
       "      <th>57853</th>\n",
       "      <td>[8102, 8103, 8104, 8105, 8106]</td>\n",
       "      <td>[O]</td>\n",
       "    </tr>\n",
       "    <tr>\n",
       "      <th>57857</th>\n",
       "      <td>[8107, 8108, 8109, 8110, 8111, 8112, 8113]</td>\n",
       "      <td>[O]</td>\n",
       "    </tr>\n",
       "    <tr>\n",
       "      <th>57861</th>\n",
       "      <td>[8114, 8115, 8116, 8117, 8118, 8119, 8120, 812...</td>\n",
       "      <td>[Gendered-Pronoun]</td>\n",
       "    </tr>\n",
       "    <tr>\n",
       "      <th>57883</th>\n",
       "      <td>[8141, 8142, 8143, 8144, 8145, 8146, 8147, 814...</td>\n",
       "      <td>[O]</td>\n",
       "    </tr>\n",
       "    <tr>\n",
       "      <th>57906</th>\n",
       "      <td>[8182, 8183, 8184, 8185, 8186, 8187, 8188, 8189]</td>\n",
       "      <td>[O]</td>\n",
       "    </tr>\n",
       "  </tbody>\n",
       "</table>\n",
       "</div>"
      ],
      "text/plain": [
       "                                                         token_id  \\\n",
       "description_id                                                      \n",
       "57853                              [8102, 8103, 8104, 8105, 8106]   \n",
       "57857                  [8107, 8108, 8109, 8110, 8111, 8112, 8113]   \n",
       "57861           [8114, 8115, 8116, 8117, 8118, 8119, 8120, 812...   \n",
       "57883           [8141, 8142, 8143, 8144, 8145, 8146, 8147, 814...   \n",
       "57906            [8182, 8183, 8184, 8185, 8186, 8187, 8188, 8189]   \n",
       "\n",
       "                        prediction  \n",
       "description_id                      \n",
       "57853                          [O]  \n",
       "57857                          [O]  \n",
       "57861           [Gendered-Pronoun]  \n",
       "57883                          [O]  \n",
       "57906                          [O]  "
      ]
     },
     "execution_count": 15,
     "metadata": {},
     "output_type": "execute_result"
    }
   ],
   "source": [
    "df_features.tail()"
   ]
  },
  {
   "cell_type": "code",
   "execution_count": 16,
   "metadata": {},
   "outputs": [
    {
     "data": {
      "text/plain": [
       "[O]                                                  9587\n",
       "[Gendered-Pronoun]                                   1949\n",
       "[Gendered-Role]                                       443\n",
       "[Generalization]                                       79\n",
       "[Gendered-Pronoun, Gendered-Role]                      37\n",
       "[Gendered-Role, Generalization]                        12\n",
       "[Gendered-Pronoun, Gendered-Role, Generalization]       7\n",
       "[Gendered-Pronoun, Generalization]                      5\n",
       "Name: prediction, dtype: int64"
      ]
     },
     "execution_count": 16,
     "metadata": {},
     "output_type": "execute_result"
    }
   ],
   "source": [
    "df_features[pred_col].value_counts()"
   ]
  },
  {
   "cell_type": "markdown",
   "metadata": {},
   "source": [
    "### 3.2 Feature Extraction\n",
    "\n",
    "Join the feature data (i.e., classifier-predicted *Gendered Pronoun*, *Gendered Role*, and *Generalization* labels) to the document data (i.e., NUSC archival catalog metadata descriptions)."
   ]
  },
  {
   "cell_type": "code",
   "execution_count": 17,
   "metadata": {},
   "outputs": [
    {
     "data": {
      "text/html": [
       "<div>\n",
       "<style scoped>\n",
       "    .dataframe tbody tr th:only-of-type {\n",
       "        vertical-align: middle;\n",
       "    }\n",
       "\n",
       "    .dataframe tbody tr th {\n",
       "        vertical-align: top;\n",
       "    }\n",
       "\n",
       "    .dataframe thead th {\n",
       "        text-align: right;\n",
       "    }\n",
       "</style>\n",
       "<table border=\"1\" class=\"dataframe\">\n",
       "  <thead>\n",
       "    <tr style=\"text-align: right;\">\n",
       "      <th></th>\n",
       "      <th>token_id</th>\n",
       "      <th>index</th>\n",
       "      <th>doc</th>\n",
       "      <th>linguistic_prediction</th>\n",
       "      <th>gender_bias_manual</th>\n",
       "      <th>omission_manual</th>\n",
       "      <th>stereotype_manual</th>\n",
       "      <th>type</th>\n",
       "      <th>note</th>\n",
       "      <th>eadid</th>\n",
       "      <th>rowid</th>\n",
       "      <th>field</th>\n",
       "      <th>baseline_prediction</th>\n",
       "    </tr>\n",
       "    <tr>\n",
       "      <th>description_id</th>\n",
       "      <th></th>\n",
       "      <th></th>\n",
       "      <th></th>\n",
       "      <th></th>\n",
       "      <th></th>\n",
       "      <th></th>\n",
       "      <th></th>\n",
       "      <th></th>\n",
       "      <th></th>\n",
       "      <th></th>\n",
       "      <th></th>\n",
       "      <th></th>\n",
       "      <th></th>\n",
       "    </tr>\n",
       "  </thead>\n",
       "  <tbody>\n",
       "    <tr>\n",
       "      <th>11452</th>\n",
       "      <td>[0, 1, 2, 3, 4, 5, 6, 7, 8, 9, 10, 11, 12, 13,...</td>\n",
       "      <td>11452</td>\n",
       "      <td>Drafts and meeting notes relating to the creat...</td>\n",
       "      <td>[O]</td>\n",
       "      <td>n</td>\n",
       "      <td>n</td>\n",
       "      <td>n</td>\n",
       "      <td>NaN</td>\n",
       "      <td>NaN</td>\n",
       "      <td>CHE</td>\n",
       "      <td>CHE/01/01</td>\n",
       "      <td>scopecontent</td>\n",
       "      <td>()</td>\n",
       "    </tr>\n",
       "    <tr>\n",
       "      <th>11467</th>\n",
       "      <td>[16, 17, 15]</td>\n",
       "      <td>11467</td>\n",
       "      <td>CHE Supporters Review</td>\n",
       "      <td>[O]</td>\n",
       "      <td>n</td>\n",
       "      <td>n</td>\n",
       "      <td>n</td>\n",
       "      <td>NaN</td>\n",
       "      <td>NaN</td>\n",
       "      <td>CHE</td>\n",
       "      <td>CHE/02/04</td>\n",
       "      <td>unittitle</td>\n",
       "      <td>()</td>\n",
       "    </tr>\n",
       "    <tr>\n",
       "      <th>11471</th>\n",
       "      <td>[18, 19, 20, 21]</td>\n",
       "      <td>11471</td>\n",
       "      <td>Friend Newcastle Annual Reports</td>\n",
       "      <td>[O]</td>\n",
       "      <td>n</td>\n",
       "      <td>n</td>\n",
       "      <td>n</td>\n",
       "      <td>NaN</td>\n",
       "      <td>NaN</td>\n",
       "      <td>CHE</td>\n",
       "      <td>CHE/02/06</td>\n",
       "      <td>unittitle</td>\n",
       "      <td>()</td>\n",
       "    </tr>\n",
       "    <tr>\n",
       "      <th>11554</th>\n",
       "      <td>[22, 23, 24, 25, 26, 27, 28, 29]</td>\n",
       "      <td>11554</td>\n",
       "      <td>Collection of documents on sex education in sc...</td>\n",
       "      <td>[O]</td>\n",
       "      <td>n</td>\n",
       "      <td>n</td>\n",
       "      <td>n</td>\n",
       "      <td>NaN</td>\n",
       "      <td>NaN</td>\n",
       "      <td>CHE</td>\n",
       "      <td>CHE/03/06/12</td>\n",
       "      <td>unittitle</td>\n",
       "      <td>()</td>\n",
       "    </tr>\n",
       "    <tr>\n",
       "      <th>11555</th>\n",
       "      <td>[32, 33, 34, 35, 36, 37, 38, 39, 40, 41, 42, 3...</td>\n",
       "      <td>11555</td>\n",
       "      <td>Letters, newsletters and leaflets on the topic...</td>\n",
       "      <td>[O]</td>\n",
       "      <td>n</td>\n",
       "      <td>n</td>\n",
       "      <td>n</td>\n",
       "      <td>NaN</td>\n",
       "      <td>NaN</td>\n",
       "      <td>CHE</td>\n",
       "      <td>CHE/03/06/13</td>\n",
       "      <td>unittitle</td>\n",
       "      <td>()</td>\n",
       "    </tr>\n",
       "  </tbody>\n",
       "</table>\n",
       "</div>"
      ],
      "text/plain": [
       "                                                         token_id  index  \\\n",
       "description_id                                                             \n",
       "11452           [0, 1, 2, 3, 4, 5, 6, 7, 8, 9, 10, 11, 12, 13,...  11452   \n",
       "11467                                                [16, 17, 15]  11467   \n",
       "11471                                            [18, 19, 20, 21]  11471   \n",
       "11554                            [22, 23, 24, 25, 26, 27, 28, 29]  11554   \n",
       "11555           [32, 33, 34, 35, 36, 37, 38, 39, 40, 41, 42, 3...  11555   \n",
       "\n",
       "                                                              doc  \\\n",
       "description_id                                                      \n",
       "11452           Drafts and meeting notes relating to the creat...   \n",
       "11467                                       CHE Supporters Review   \n",
       "11471                             Friend Newcastle Annual Reports   \n",
       "11554           Collection of documents on sex education in sc...   \n",
       "11555           Letters, newsletters and leaflets on the topic...   \n",
       "\n",
       "               linguistic_prediction gender_bias_manual omission_manual  \\\n",
       "description_id                                                            \n",
       "11452                            [O]                  n               n   \n",
       "11467                            [O]                  n               n   \n",
       "11471                            [O]                  n               n   \n",
       "11554                            [O]                  n               n   \n",
       "11555                            [O]                  n               n   \n",
       "\n",
       "               stereotype_manual type note eadid         rowid         field  \\\n",
       "description_id                                                                 \n",
       "11452                          n  NaN  NaN   CHE     CHE/01/01  scopecontent   \n",
       "11467                          n  NaN  NaN   CHE     CHE/02/04     unittitle   \n",
       "11471                          n  NaN  NaN   CHE     CHE/02/06     unittitle   \n",
       "11554                          n  NaN  NaN   CHE  CHE/03/06/12     unittitle   \n",
       "11555                          n  NaN  NaN   CHE  CHE/03/06/13     unittitle   \n",
       "\n",
       "               baseline_prediction  \n",
       "description_id                      \n",
       "11452                           ()  \n",
       "11467                           ()  \n",
       "11471                           ()  \n",
       "11554                           ()  \n",
       "11555                           ()  "
      ]
     },
     "execution_count": 17,
     "metadata": {},
     "output_type": "execute_result"
    }
   ],
   "source": [
    "df = df_features.join(doc_df.set_index(\"description_id\"), on=\"description_id\", how=\"right\")\n",
    "\n",
    "# Rename label columns for clarity\n",
    "feature_col = \"linguistic_prediction\"\n",
    "df = df.rename(columns={pred_col:feature_col})\n",
    "\n",
    "# Remove \"O\" from linguistic prediction lists if other labels are present in the list\n",
    "ling_pred = list(df[feature_col])\n",
    "new_ling_pred = []\n",
    "for pred in ling_pred:\n",
    "    if len(pred) > 1:\n",
    "        if \"O\" in pred:\n",
    "            pred.remove(\"O\")\n",
    "    new_ling_pred += [pred]\n",
    "\n",
    "df = df.drop(columns=[feature_col])\n",
    "df.insert(3, feature_col, new_ling_pred)\n",
    "df.head()"
   ]
  },
  {
   "cell_type": "markdown",
   "metadata": {},
   "source": [
    "### 3.3 Classification"
   ]
  },
  {
   "cell_type": "code",
   "execution_count": 18,
   "metadata": {},
   "outputs": [],
   "source": [
    "clf_os = joblib.load(\"models/ling_osc/sgd-svm_F-tfidf-ling_T-os.joblib\")\n",
    "mlb_os = joblib.load(\"models/transform_labels/mlb_targets_os.joblib\")\n",
    "cvectorizer = joblib.load(\"models/transform_docs/count_vectorizer.joblib\")\n",
    "tfidf_transformer = joblib.load(\"models/transform_docs/tfidf_transformer.joblib\")"
   ]
  },
  {
   "cell_type": "code",
   "execution_count": 19,
   "metadata": {},
   "outputs": [
    {
     "name": "stdout",
     "output_type": "stream",
     "text": [
      "['Gendered-Pronoun' 'Gendered-Role' 'Generalization']\n",
      "['Omission' 'Stereotype']\n"
     ]
    }
   ],
   "source": [
    "print(mlb_ling.classes_)\n",
    "print(mlb_os.classes_)"
   ]
  },
  {
   "cell_type": "code",
   "execution_count": 20,
   "metadata": {},
   "outputs": [],
   "source": [
    "docs = df[\"doc\"]\n",
    "vectorized = cvectorizer.transform(docs)\n",
    "tfidf_matrix = tfidf_transformer.transform(vectorized)"
   ]
  },
  {
   "cell_type": "code",
   "execution_count": 21,
   "metadata": {},
   "outputs": [
    {
     "name": "stderr",
     "output_type": "stream",
     "text": [
      "/Users/lucyhavens/miniconda3/envs/gender-bias-env/lib/python3.9/site-packages/sklearn/preprocessing/_label.py:895: UserWarning: unknown class(es) ['O'] will be ignored\n",
      "  warnings.warn(\n"
     ]
    }
   ],
   "source": [
    "features = mlb_ling.transform(df[feature_col])\n",
    "X = scipy.sparse.hstack([tfidf_matrix, features])"
   ]
  },
  {
   "cell_type": "code",
   "execution_count": null,
   "metadata": {},
   "outputs": [
    {
     "data": {
      "text/html": [
       "<div>\n",
       "<style scoped>\n",
       "    .dataframe tbody tr th:only-of-type {\n",
       "        vertical-align: middle;\n",
       "    }\n",
       "\n",
       "    .dataframe tbody tr th {\n",
       "        vertical-align: top;\n",
       "    }\n",
       "\n",
       "    .dataframe thead th {\n",
       "        text-align: right;\n",
       "    }\n",
       "</style>\n",
       "<table border=\"1\" class=\"dataframe\">\n",
       "  <thead>\n",
       "    <tr style=\"text-align: right;\">\n",
       "      <th></th>\n",
       "      <th>token_id</th>\n",
       "      <th>index</th>\n",
       "      <th>doc</th>\n",
       "      <th>linguistic_prediction</th>\n",
       "      <th>gender_bias_manual</th>\n",
       "      <th>omission_manual</th>\n",
       "      <th>stereotype_manual</th>\n",
       "      <th>type</th>\n",
       "      <th>note</th>\n",
       "      <th>eadid</th>\n",
       "      <th>rowid</th>\n",
       "      <th>field</th>\n",
       "      <th>baseline_prediction</th>\n",
       "      <th>lcosc_prediction</th>\n",
       "    </tr>\n",
       "    <tr>\n",
       "      <th>description_id</th>\n",
       "      <th></th>\n",
       "      <th></th>\n",
       "      <th></th>\n",
       "      <th></th>\n",
       "      <th></th>\n",
       "      <th></th>\n",
       "      <th></th>\n",
       "      <th></th>\n",
       "      <th></th>\n",
       "      <th></th>\n",
       "      <th></th>\n",
       "      <th></th>\n",
       "      <th></th>\n",
       "      <th></th>\n",
       "    </tr>\n",
       "  </thead>\n",
       "  <tbody>\n",
       "    <tr>\n",
       "      <th>11452</th>\n",
       "      <td>[0, 1, 2, 3, 4, 5, 6, 7, 8, 9, 10, 11, 12, 13,...</td>\n",
       "      <td>11452</td>\n",
       "      <td>Drafts and meeting notes relating to the creat...</td>\n",
       "      <td>[O]</td>\n",
       "      <td>n</td>\n",
       "      <td>n</td>\n",
       "      <td>n</td>\n",
       "      <td>NaN</td>\n",
       "      <td>NaN</td>\n",
       "      <td>CHE</td>\n",
       "      <td>CHE/01/01</td>\n",
       "      <td>scopecontent</td>\n",
       "      <td>()</td>\n",
       "      <td>()</td>\n",
       "    </tr>\n",
       "    <tr>\n",
       "      <th>11467</th>\n",
       "      <td>[16, 17, 15]</td>\n",
       "      <td>11467</td>\n",
       "      <td>CHE Supporters Review</td>\n",
       "      <td>[O]</td>\n",
       "      <td>n</td>\n",
       "      <td>n</td>\n",
       "      <td>n</td>\n",
       "      <td>NaN</td>\n",
       "      <td>NaN</td>\n",
       "      <td>CHE</td>\n",
       "      <td>CHE/02/04</td>\n",
       "      <td>unittitle</td>\n",
       "      <td>()</td>\n",
       "      <td>()</td>\n",
       "    </tr>\n",
       "    <tr>\n",
       "      <th>11471</th>\n",
       "      <td>[18, 19, 20, 21]</td>\n",
       "      <td>11471</td>\n",
       "      <td>Friend Newcastle Annual Reports</td>\n",
       "      <td>[O]</td>\n",
       "      <td>n</td>\n",
       "      <td>n</td>\n",
       "      <td>n</td>\n",
       "      <td>NaN</td>\n",
       "      <td>NaN</td>\n",
       "      <td>CHE</td>\n",
       "      <td>CHE/02/06</td>\n",
       "      <td>unittitle</td>\n",
       "      <td>()</td>\n",
       "      <td>()</td>\n",
       "    </tr>\n",
       "    <tr>\n",
       "      <th>11554</th>\n",
       "      <td>[22, 23, 24, 25, 26, 27, 28, 29]</td>\n",
       "      <td>11554</td>\n",
       "      <td>Collection of documents on sex education in sc...</td>\n",
       "      <td>[O]</td>\n",
       "      <td>n</td>\n",
       "      <td>n</td>\n",
       "      <td>n</td>\n",
       "      <td>NaN</td>\n",
       "      <td>NaN</td>\n",
       "      <td>CHE</td>\n",
       "      <td>CHE/03/06/12</td>\n",
       "      <td>unittitle</td>\n",
       "      <td>()</td>\n",
       "      <td>()</td>\n",
       "    </tr>\n",
       "    <tr>\n",
       "      <th>11555</th>\n",
       "      <td>[32, 33, 34, 35, 36, 37, 38, 39, 40, 41, 42, 3...</td>\n",
       "      <td>11555</td>\n",
       "      <td>Letters, newsletters and leaflets on the topic...</td>\n",
       "      <td>[O]</td>\n",
       "      <td>n</td>\n",
       "      <td>n</td>\n",
       "      <td>n</td>\n",
       "      <td>NaN</td>\n",
       "      <td>NaN</td>\n",
       "      <td>CHE</td>\n",
       "      <td>CHE/03/06/13</td>\n",
       "      <td>unittitle</td>\n",
       "      <td>()</td>\n",
       "      <td>()</td>\n",
       "    </tr>\n",
       "  </tbody>\n",
       "</table>\n",
       "</div>"
      ],
      "text/plain": [
       "                                                         token_id  index  \\\n",
       "description_id                                                             \n",
       "11452           [0, 1, 2, 3, 4, 5, 6, 7, 8, 9, 10, 11, 12, 13,...  11452   \n",
       "11467                                                [16, 17, 15]  11467   \n",
       "11471                                            [18, 19, 20, 21]  11471   \n",
       "11554                            [22, 23, 24, 25, 26, 27, 28, 29]  11554   \n",
       "11555           [32, 33, 34, 35, 36, 37, 38, 39, 40, 41, 42, 3...  11555   \n",
       "\n",
       "                                                              doc  \\\n",
       "description_id                                                      \n",
       "11452           Drafts and meeting notes relating to the creat...   \n",
       "11467                                       CHE Supporters Review   \n",
       "11471                             Friend Newcastle Annual Reports   \n",
       "11554           Collection of documents on sex education in sc...   \n",
       "11555           Letters, newsletters and leaflets on the topic...   \n",
       "\n",
       "               linguistic_prediction gender_bias_manual omission_manual  \\\n",
       "description_id                                                            \n",
       "11452                            [O]                  n               n   \n",
       "11467                            [O]                  n               n   \n",
       "11471                            [O]                  n               n   \n",
       "11554                            [O]                  n               n   \n",
       "11555                            [O]                  n               n   \n",
       "\n",
       "               stereotype_manual type note eadid         rowid         field  \\\n",
       "description_id                                                                 \n",
       "11452                          n  NaN  NaN   CHE     CHE/01/01  scopecontent   \n",
       "11467                          n  NaN  NaN   CHE     CHE/02/04     unittitle   \n",
       "11471                          n  NaN  NaN   CHE     CHE/02/06     unittitle   \n",
       "11554                          n  NaN  NaN   CHE  CHE/03/06/12     unittitle   \n",
       "11555                          n  NaN  NaN   CHE  CHE/03/06/13     unittitle   \n",
       "\n",
       "               baseline_prediction lcosc_prediction  \n",
       "description_id                                       \n",
       "11452                           ()               ()  \n",
       "11467                           ()               ()  \n",
       "11471                           ()               ()  \n",
       "11554                           ()               ()  \n",
       "11555                           ()               ()  "
      ]
     },
     "execution_count": 24,
     "metadata": {},
     "output_type": "execute_result"
    }
   ],
   "source": [
    "y = clf_os.predict(X)\n",
    "predictions = mlb_os.inverse_transform(y)\n",
    "pred_col_name = \"lcosc_prediction\"\n",
    "df.insert(len(df.columns), pred_col_name, predictions)\n",
    "df.head()"
   ]
  },
  {
   "cell_type": "code",
   "execution_count": 25,
   "metadata": {},
   "outputs": [
    {
     "data": {
      "text/plain": [
       "()                        11851\n",
       "(Omission,)                 262\n",
       "(Omission, Stereotype)        3\n",
       "(Stereotype,)                 3\n",
       "Name: lcosc_prediction, dtype: int64"
      ]
     },
     "execution_count": 25,
     "metadata": {},
     "output_type": "execute_result"
    }
   ],
   "source": [
    "df[pred_col_name].value_counts()"
   ]
  },
  {
   "cell_type": "code",
   "execution_count": null,
   "metadata": {},
   "outputs": [
    {
     "name": "stdout",
     "output_type": "stream",
     "text": [
      "Proportion of manually coded descriptions classified: 0.022114035811535607\n"
     ]
    }
   ],
   "source": [
    "# print(\"Proportion of descriptions classified:\", (2096+918+285)/(54648+2096+918+285)) # CHECK THIS: about 5.7% percent (1% more than found with baseline)\n",
    "print(\"Proportion of manually coded descriptions classified:\", (262+3+3)/(11851+262+3+3)) # about 2.2%"
   ]
  },
  {
   "cell_type": "markdown",
   "metadata": {},
   "source": [
    "Save the classified data."
   ]
  },
  {
   "cell_type": "code",
   "execution_count": 31,
   "metadata": {},
   "outputs": [],
   "source": [
    "# filename = \"lc-osc_predictions.csv\"\n",
    "# df.to_csv(config.classified_data_path+filename)\n",
    "\n",
    "filename = \"manually_coded_lcosc.csv\"\n",
    "df.to_csv(config.coded_data_path+filename)"
   ]
  },
  {
   "cell_type": "markdown",
   "metadata": {},
   "source": [
    "***\n",
    "Deduplicate the descriptions and create a new export where each row has a unique doc-eadid-prediction combination."
   ]
  },
  {
   "cell_type": "code",
   "execution_count": 50,
   "metadata": {},
   "outputs": [
    {
     "name": "stdout",
     "output_type": "stream",
     "text": [
      "(27235, 7)\n",
      "(27209, 7)\n",
      "(27209, 7)\n"
     ]
    }
   ],
   "source": [
    "df_dedup1 = df.drop_duplicates(subset=[\"eadid\", \"doc\", \"os_prediction\"])\n",
    "df_dedup2 = df.drop_duplicates(subset=[\"doc\", \"os_prediction\"])\n",
    "df_dedup3 = df.drop_duplicates(subset=[\"doc\"])\n",
    "print(df_dedup1.shape)\n",
    "print(df_dedup2.shape)  # as expected, same as next\n",
    "print(df_dedup3.shape)  # as expected, same as previous"
   ]
  },
  {
   "cell_type": "code",
   "execution_count": 51,
   "metadata": {},
   "outputs": [],
   "source": [
    "dedup_filename = \"lc-osc_predictions_deduplicated.csv\"\n",
    "df_dedup1.to_csv(config.classified_data_path+dedup_filename)"
   ]
  },
  {
   "cell_type": "code",
   "execution_count": 52,
   "metadata": {},
   "outputs": [
    {
     "data": {
      "text/plain": [
       "()                        24330\n",
       "(Omission,)                1869\n",
       "(Omission, Stereotype)      779\n",
       "(Stereotype,)               257\n",
       "Name: os_prediction, dtype: int64"
      ]
     },
     "execution_count": 52,
     "metadata": {},
     "output_type": "execute_result"
    }
   ],
   "source": [
    "df_dedup1.os_prediction.value_counts()"
   ]
  },
  {
   "cell_type": "code",
   "execution_count": null,
   "metadata": {},
   "outputs": [
    {
     "name": "stdout",
     "output_type": "stream",
     "text": [
      "Proportion of unique descriptions classified: 0.10666421883605655\n"
     ]
    }
   ],
   "source": [
    "print(\"Proportion of unique descriptions classified:\", (1869+779+257)/(24330+1869+779+257)) # about 10.7%"
   ]
  },
  {
   "cell_type": "markdown",
   "metadata": {},
   "source": [
    "### 3. Manual Review\n",
    "\n",
    "Export the same selection of descriptions, with their predictions, as was selected for the Baseline Omission and Stereotype Classifier."
   ]
  },
  {
   "cell_type": "code",
   "execution_count": null,
   "metadata": {},
   "outputs": [],
   "source": []
  },
  {
   "cell_type": "markdown",
   "metadata": {},
   "source": [
    "#### 3.1 Analysis\n",
    "Calculate quantities of classified and unclassified descriptions."
   ]
  },
  {
   "cell_type": "code",
   "execution_count": 54,
   "metadata": {},
   "outputs": [
    {
     "data": {
      "text/html": [
       "<div>\n",
       "<style scoped>\n",
       "    .dataframe tbody tr th:only-of-type {\n",
       "        vertical-align: middle;\n",
       "    }\n",
       "\n",
       "    .dataframe tbody tr th {\n",
       "        vertical-align: top;\n",
       "    }\n",
       "\n",
       "    .dataframe thead th {\n",
       "        text-align: right;\n",
       "    }\n",
       "</style>\n",
       "<table border=\"1\" class=\"dataframe\">\n",
       "  <thead>\n",
       "    <tr style=\"text-align: right;\">\n",
       "      <th></th>\n",
       "      <th>token_id</th>\n",
       "      <th>eadid</th>\n",
       "      <th>rowid</th>\n",
       "      <th>linguistic_prediction</th>\n",
       "      <th>field</th>\n",
       "      <th>doc</th>\n",
       "      <th>os_prediction</th>\n",
       "    </tr>\n",
       "    <tr>\n",
       "      <th>description_id</th>\n",
       "      <th></th>\n",
       "      <th></th>\n",
       "      <th></th>\n",
       "      <th></th>\n",
       "      <th></th>\n",
       "      <th></th>\n",
       "      <th></th>\n",
       "    </tr>\n",
       "  </thead>\n",
       "  <tbody>\n",
       "    <tr>\n",
       "      <th>0</th>\n",
       "      <td>[0, 1, 2, 3, 4, 5, 6, 7, 8, 9, 10, 11, 12, 13,...</td>\n",
       "      <td>BP</td>\n",
       "      <td>BP</td>\n",
       "      <td>[O]</td>\n",
       "      <td>processinfo</td>\n",
       "      <td>This EAD description created by Ruth Sheret 27...</td>\n",
       "      <td>()</td>\n",
       "    </tr>\n",
       "    <tr>\n",
       "      <th>2</th>\n",
       "      <td>[267, 268, 269, 270, 271, 272]</td>\n",
       "      <td>BP</td>\n",
       "      <td>BP</td>\n",
       "      <td>[Gendered-Role]</td>\n",
       "      <td>unittitle</td>\n",
       "      <td>Plowden (Lady Bridget) Archive</td>\n",
       "      <td>()</td>\n",
       "    </tr>\n",
       "    <tr>\n",
       "      <th>4</th>\n",
       "      <td>[352, 353, 354, 355, 342, 343, 344, 345, 346, ...</td>\n",
       "      <td>BP</td>\n",
       "      <td>BP/01</td>\n",
       "      <td>[Generalization]</td>\n",
       "      <td>unittitle</td>\n",
       "      <td>Chairman (Managing Committee) of the Mary Fiel...</td>\n",
       "      <td>()</td>\n",
       "    </tr>\n",
       "    <tr>\n",
       "      <th>5</th>\n",
       "      <td>[384, 356, 357, 358, 359, 360, 361, 362, 363, ...</td>\n",
       "      <td>BP</td>\n",
       "      <td>BP/01/01</td>\n",
       "      <td>[O]</td>\n",
       "      <td>scopecontent</td>\n",
       "      <td>Annual reports covering the years 1959 - 1995....</td>\n",
       "      <td>()</td>\n",
       "    </tr>\n",
       "    <tr>\n",
       "      <th>6</th>\n",
       "      <td>[385, 386]</td>\n",
       "      <td>BP</td>\n",
       "      <td>BP/01/01</td>\n",
       "      <td>[O]</td>\n",
       "      <td>unittitle</td>\n",
       "      <td>Annual Reports</td>\n",
       "      <td>()</td>\n",
       "    </tr>\n",
       "  </tbody>\n",
       "</table>\n",
       "</div>"
      ],
      "text/plain": [
       "                                                         token_id eadid  \\\n",
       "description_id                                                            \n",
       "0               [0, 1, 2, 3, 4, 5, 6, 7, 8, 9, 10, 11, 12, 13,...    BP   \n",
       "2                                  [267, 268, 269, 270, 271, 272]    BP   \n",
       "4               [352, 353, 354, 355, 342, 343, 344, 345, 346, ...    BP   \n",
       "5               [384, 356, 357, 358, 359, 360, 361, 362, 363, ...    BP   \n",
       "6                                                      [385, 386]    BP   \n",
       "\n",
       "                   rowid linguistic_prediction         field  \\\n",
       "description_id                                                 \n",
       "0                     BP                   [O]   processinfo   \n",
       "2                     BP       [Gendered-Role]     unittitle   \n",
       "4                  BP/01      [Generalization]     unittitle   \n",
       "5               BP/01/01                   [O]  scopecontent   \n",
       "6               BP/01/01                   [O]     unittitle   \n",
       "\n",
       "                                                              doc  \\\n",
       "description_id                                                      \n",
       "0               This EAD description created by Ruth Sheret 27...   \n",
       "2                                  Plowden (Lady Bridget) Archive   \n",
       "4               Chairman (Managing Committee) of the Mary Fiel...   \n",
       "5               Annual reports covering the years 1959 - 1995....   \n",
       "6                                                  Annual Reports   \n",
       "\n",
       "               os_prediction  \n",
       "description_id                \n",
       "0                         ()  \n",
       "2                         ()  \n",
       "4                         ()  \n",
       "5                         ()  \n",
       "6                         ()  "
      ]
     },
     "execution_count": 54,
     "metadata": {},
     "output_type": "execute_result"
    }
   ],
   "source": [
    "unclf_docs = df_dedup1.loc[df_dedup1.os_prediction == tuple()]\n",
    "unclf_docs.head()"
   ]
  },
  {
   "cell_type": "code",
   "execution_count": 55,
   "metadata": {},
   "outputs": [
    {
     "data": {
      "text/html": [
       "<div>\n",
       "<style scoped>\n",
       "    .dataframe tbody tr th:only-of-type {\n",
       "        vertical-align: middle;\n",
       "    }\n",
       "\n",
       "    .dataframe tbody tr th {\n",
       "        vertical-align: top;\n",
       "    }\n",
       "\n",
       "    .dataframe thead th {\n",
       "        text-align: right;\n",
       "    }\n",
       "</style>\n",
       "<table border=\"1\" class=\"dataframe\">\n",
       "  <thead>\n",
       "    <tr style=\"text-align: right;\">\n",
       "      <th></th>\n",
       "      <th>token_id</th>\n",
       "      <th>eadid</th>\n",
       "      <th>rowid</th>\n",
       "      <th>linguistic_prediction</th>\n",
       "      <th>field</th>\n",
       "      <th>doc</th>\n",
       "      <th>os_prediction</th>\n",
       "    </tr>\n",
       "    <tr>\n",
       "      <th>description_id</th>\n",
       "      <th></th>\n",
       "      <th></th>\n",
       "      <th></th>\n",
       "      <th></th>\n",
       "      <th></th>\n",
       "      <th></th>\n",
       "      <th></th>\n",
       "    </tr>\n",
       "  </thead>\n",
       "  <tbody>\n",
       "    <tr>\n",
       "      <th>1</th>\n",
       "      <td>[16, 17, 18, 19, 20, 21, 22, 23, 24, 25, 26, 2...</td>\n",
       "      <td>BP</td>\n",
       "      <td>BP</td>\n",
       "      <td>[Gendered-Pronoun, Gendered-Role, Generalization]</td>\n",
       "      <td>scopecontent</td>\n",
       "      <td>The papers of the distinguished public servant...</td>\n",
       "      <td>(Omission,)</td>\n",
       "    </tr>\n",
       "    <tr>\n",
       "      <th>3</th>\n",
       "      <td>[273, 274, 275, 276, 277, 278, 279, 280, 281, ...</td>\n",
       "      <td>BP</td>\n",
       "      <td>BP/01</td>\n",
       "      <td>[Gendered-Pronoun, Gendered-Role, Generalization]</td>\n",
       "      <td>scopecontent</td>\n",
       "      <td>Formerly the 'Working Ladies Guild', the organ...</td>\n",
       "      <td>(Omission,)</td>\n",
       "    </tr>\n",
       "    <tr>\n",
       "      <th>20</th>\n",
       "      <td>[549, 550, 551, 552, 553, 554, 555, 556, 557, ...</td>\n",
       "      <td>BP</td>\n",
       "      <td>BP/01/04</td>\n",
       "      <td>[Gendered-Role, Generalization]</td>\n",
       "      <td>scopecontent</td>\n",
       "      <td>Correspondence in relation to Lady Plowden's p...</td>\n",
       "      <td>(Omission,)</td>\n",
       "    </tr>\n",
       "    <tr>\n",
       "      <th>22</th>\n",
       "      <td>[640, 641, 642, 643, 644, 645, 646, 647, 648, ...</td>\n",
       "      <td>BP</td>\n",
       "      <td>BP/01/05</td>\n",
       "      <td>[Gendered-Role]</td>\n",
       "      <td>scopecontent</td>\n",
       "      <td>Small file of research (not carried out by Lad...</td>\n",
       "      <td>(Omission,)</td>\n",
       "    </tr>\n",
       "    <tr>\n",
       "      <th>30</th>\n",
       "      <td>[768, 769, 770, 771, 772, 773, 774, 775, 776, ...</td>\n",
       "      <td>BP</td>\n",
       "      <td>BP/02/03</td>\n",
       "      <td>[Gendered-Role]</td>\n",
       "      <td>scopecontent</td>\n",
       "      <td>Correspondence in relation to Lady Plowden's p...</td>\n",
       "      <td>(Omission,)</td>\n",
       "    </tr>\n",
       "  </tbody>\n",
       "</table>\n",
       "</div>"
      ],
      "text/plain": [
       "                                                         token_id eadid  \\\n",
       "description_id                                                            \n",
       "1               [16, 17, 18, 19, 20, 21, 22, 23, 24, 25, 26, 2...    BP   \n",
       "3               [273, 274, 275, 276, 277, 278, 279, 280, 281, ...    BP   \n",
       "20              [549, 550, 551, 552, 553, 554, 555, 556, 557, ...    BP   \n",
       "22              [640, 641, 642, 643, 644, 645, 646, 647, 648, ...    BP   \n",
       "30              [768, 769, 770, 771, 772, 773, 774, 775, 776, ...    BP   \n",
       "\n",
       "                   rowid                              linguistic_prediction  \\\n",
       "description_id                                                                \n",
       "1                     BP  [Gendered-Pronoun, Gendered-Role, Generalization]   \n",
       "3                  BP/01  [Gendered-Pronoun, Gendered-Role, Generalization]   \n",
       "20              BP/01/04                    [Gendered-Role, Generalization]   \n",
       "22              BP/01/05                                    [Gendered-Role]   \n",
       "30              BP/02/03                                    [Gendered-Role]   \n",
       "\n",
       "                       field  \\\n",
       "description_id                 \n",
       "1               scopecontent   \n",
       "3               scopecontent   \n",
       "20              scopecontent   \n",
       "22              scopecontent   \n",
       "30              scopecontent   \n",
       "\n",
       "                                                              doc  \\\n",
       "description_id                                                      \n",
       "1               The papers of the distinguished public servant...   \n",
       "3               Formerly the 'Working Ladies Guild', the organ...   \n",
       "20              Correspondence in relation to Lady Plowden's p...   \n",
       "22              Small file of research (not carried out by Lad...   \n",
       "30              Correspondence in relation to Lady Plowden's p...   \n",
       "\n",
       "               os_prediction  \n",
       "description_id                \n",
       "1                (Omission,)  \n",
       "3                (Omission,)  \n",
       "20               (Omission,)  \n",
       "22               (Omission,)  \n",
       "30               (Omission,)  "
      ]
     },
     "execution_count": 55,
     "metadata": {},
     "output_type": "execute_result"
    }
   ],
   "source": [
    "clf_docs = df_dedup1.loc[df_dedup1.os_prediction != tuple()]\n",
    "clf_docs.head()"
   ]
  },
  {
   "cell_type": "code",
   "execution_count": 56,
   "metadata": {},
   "outputs": [
    {
     "name": "stdout",
     "output_type": "stream",
     "text": [
      "(24330, 7)\n",
      "(2905, 7)\n"
     ]
    }
   ],
   "source": [
    "print(unclf_docs.shape)\n",
    "print(clf_docs.shape)"
   ]
  },
  {
   "cell_type": "code",
   "execution_count": 57,
   "metadata": {},
   "outputs": [
    {
     "name": "stdout",
     "output_type": "stream",
     "text": [
      "The papers of the distinguished public servant Lady Plowden (1910-2000) were generously gifted to Newcastle University Library in 2003 by the Plowden family.\n",
      "Held in Special Collections, Lady Plowden's papers are an extensive and rich resource reflecting her many areas of concern. Lady Plowden held a number of high-profile public roles in the spheres of education reform and television broadcasting, most notably as Chairman of the Central Advisory Council for Education (England), 1963 – 1967, Vice-Chairman of the BBC Board of Governors, 1970 – 1975, and Chairman of the Independent Broadcasting Authority (IBA), 1975 – 1980. A large and varied number of public roles followed, many of which retained this focus on primary and pre-school education reform as well as the promotion of high-quality television broadcasting. Lady Plowden's interests were wide however and these papers also reflect Lady Plowden's roles within organisations related to Romany and Traveller education and rights, adult education, the care and resettlement of offenders, the role of voluntary work, young adult unemployment and training, and women and employment.\n",
      "Lady Plowden (nee Richmond) was a niece of Gertrude Bell and a cousin of the Trevelyans of Wallington. An additional deposit of material made by the Plowden family comprise of a number of family photograph albums and correspondence files relating to the Richmond, Bell and Trevelyan families.\n"
     ]
    }
   ],
   "source": [
    "unclf_docs_list = list(unclf_docs.doc)\n",
    "clf_docs_list = list(clf_docs.doc)\n",
    "print(clf_docs_list[0])"
   ]
  },
  {
   "cell_type": "code",
   "execution_count": 58,
   "metadata": {},
   "outputs": [
    {
     "name": "stdout",
     "output_type": "stream",
     "text": [
      "16\n",
      "251\n"
     ]
    }
   ],
   "source": [
    "unclf_token_counts = [len(word_tokenize(doc)) for doc in unclf_docs_list]\n",
    "clf_token_counts = [len(word_tokenize(doc)) for doc in clf_docs_list]\n",
    "print(unclf_token_counts[0])\n",
    "print(clf_token_counts[0])"
   ]
  },
  {
   "cell_type": "code",
   "execution_count": 60,
   "metadata": {},
   "outputs": [
    {
     "name": "stdout",
     "output_type": "stream",
     "text": [
      "Minimum, average, standard deviation, median, and maximum token counts in UNCLASSIFIED descriptions:\n",
      "1\n",
      "16.016933826551583\n",
      "22.144144438023456\n",
      "11.0\n",
      "706\n"
     ]
    }
   ],
   "source": [
    "print(\"Minimum, average, standard deviation, median, and maximum token counts in UNCLASSIFIED descriptions:\")\n",
    "print(np.min(unclf_token_counts))\n",
    "print(np.mean(unclf_token_counts))\n",
    "print(np.std(unclf_token_counts))\n",
    "print(np.median(unclf_token_counts))\n",
    "print(np.max(unclf_token_counts))"
   ]
  },
  {
   "cell_type": "code",
   "execution_count": 61,
   "metadata": {},
   "outputs": [
    {
     "name": "stdout",
     "output_type": "stream",
     "text": [
      "Minimum, average, standard deviation, median, and maximum token counts in CLASSIFIED descriptions:\n",
      "2\n",
      "41.64647160068847\n",
      "89.38022192312549\n",
      "18.0\n",
      "2478\n"
     ]
    }
   ],
   "source": [
    "print(\"Minimum, average, standard deviation, median, and maximum token counts in CLASSIFIED descriptions:\")\n",
    "print(np.min(clf_token_counts))\n",
    "print(np.mean(clf_token_counts))\n",
    "print(np.std(clf_token_counts))\n",
    "print(np.median(clf_token_counts))\n",
    "print(np.max(clf_token_counts))"
   ]
  },
  {
   "cell_type": "code",
   "execution_count": 69,
   "metadata": {},
   "outputs": [],
   "source": [
    "clf_docs = clf_docs.reset_index()\n",
    "unclf_docs = unclf_docs.reset_index()"
   ]
  },
  {
   "cell_type": "code",
   "execution_count": 70,
   "metadata": {},
   "outputs": [
    {
     "name": "stdout",
     "output_type": "stream",
     "text": [
      "(1869, 8)\n"
     ]
    },
    {
     "data": {
      "text/html": [
       "<div>\n",
       "<style scoped>\n",
       "    .dataframe tbody tr th:only-of-type {\n",
       "        vertical-align: middle;\n",
       "    }\n",
       "\n",
       "    .dataframe tbody tr th {\n",
       "        vertical-align: top;\n",
       "    }\n",
       "\n",
       "    .dataframe thead th {\n",
       "        text-align: right;\n",
       "    }\n",
       "</style>\n",
       "<table border=\"1\" class=\"dataframe\">\n",
       "  <thead>\n",
       "    <tr style=\"text-align: right;\">\n",
       "      <th></th>\n",
       "      <th>description_id</th>\n",
       "      <th>token_id</th>\n",
       "      <th>eadid</th>\n",
       "      <th>rowid</th>\n",
       "      <th>linguistic_prediction</th>\n",
       "      <th>field</th>\n",
       "      <th>doc</th>\n",
       "      <th>os_prediction</th>\n",
       "    </tr>\n",
       "  </thead>\n",
       "  <tbody>\n",
       "    <tr>\n",
       "      <th>0</th>\n",
       "      <td>1</td>\n",
       "      <td>[16, 17, 18, 19, 20, 21, 22, 23, 24, 25, 26, 2...</td>\n",
       "      <td>BP</td>\n",
       "      <td>BP</td>\n",
       "      <td>[Gendered-Pronoun, Gendered-Role, Generalization]</td>\n",
       "      <td>scopecontent</td>\n",
       "      <td>The papers of the distinguished public servant...</td>\n",
       "      <td>(Omission,)</td>\n",
       "    </tr>\n",
       "    <tr>\n",
       "      <th>1</th>\n",
       "      <td>3</td>\n",
       "      <td>[273, 274, 275, 276, 277, 278, 279, 280, 281, ...</td>\n",
       "      <td>BP</td>\n",
       "      <td>BP/01</td>\n",
       "      <td>[Gendered-Pronoun, Gendered-Role, Generalization]</td>\n",
       "      <td>scopecontent</td>\n",
       "      <td>Formerly the 'Working Ladies Guild', the organ...</td>\n",
       "      <td>(Omission,)</td>\n",
       "    </tr>\n",
       "    <tr>\n",
       "      <th>2</th>\n",
       "      <td>20</td>\n",
       "      <td>[549, 550, 551, 552, 553, 554, 555, 556, 557, ...</td>\n",
       "      <td>BP</td>\n",
       "      <td>BP/01/04</td>\n",
       "      <td>[Gendered-Role, Generalization]</td>\n",
       "      <td>scopecontent</td>\n",
       "      <td>Correspondence in relation to Lady Plowden's p...</td>\n",
       "      <td>(Omission,)</td>\n",
       "    </tr>\n",
       "    <tr>\n",
       "      <th>3</th>\n",
       "      <td>22</td>\n",
       "      <td>[640, 641, 642, 643, 644, 645, 646, 647, 648, ...</td>\n",
       "      <td>BP</td>\n",
       "      <td>BP/01/05</td>\n",
       "      <td>[Gendered-Role]</td>\n",
       "      <td>scopecontent</td>\n",
       "      <td>Small file of research (not carried out by Lad...</td>\n",
       "      <td>(Omission,)</td>\n",
       "    </tr>\n",
       "    <tr>\n",
       "      <th>4</th>\n",
       "      <td>30</td>\n",
       "      <td>[768, 769, 770, 771, 772, 773, 774, 775, 776, ...</td>\n",
       "      <td>BP</td>\n",
       "      <td>BP/02/03</td>\n",
       "      <td>[Gendered-Role]</td>\n",
       "      <td>scopecontent</td>\n",
       "      <td>Correspondence in relation to Lady Plowden's p...</td>\n",
       "      <td>(Omission,)</td>\n",
       "    </tr>\n",
       "  </tbody>\n",
       "</table>\n",
       "</div>"
      ],
      "text/plain": [
       "   description_id                                           token_id eadid  \\\n",
       "0               1  [16, 17, 18, 19, 20, 21, 22, 23, 24, 25, 26, 2...    BP   \n",
       "1               3  [273, 274, 275, 276, 277, 278, 279, 280, 281, ...    BP   \n",
       "2              20  [549, 550, 551, 552, 553, 554, 555, 556, 557, ...    BP   \n",
       "3              22  [640, 641, 642, 643, 644, 645, 646, 647, 648, ...    BP   \n",
       "4              30  [768, 769, 770, 771, 772, 773, 774, 775, 776, ...    BP   \n",
       "\n",
       "      rowid                              linguistic_prediction         field  \\\n",
       "0        BP  [Gendered-Pronoun, Gendered-Role, Generalization]  scopecontent   \n",
       "1     BP/01  [Gendered-Pronoun, Gendered-Role, Generalization]  scopecontent   \n",
       "2  BP/01/04                    [Gendered-Role, Generalization]  scopecontent   \n",
       "3  BP/01/05                                    [Gendered-Role]  scopecontent   \n",
       "4  BP/02/03                                    [Gendered-Role]  scopecontent   \n",
       "\n",
       "                                                 doc os_prediction  \n",
       "0  The papers of the distinguished public servant...   (Omission,)  \n",
       "1  Formerly the 'Working Ladies Guild', the organ...   (Omission,)  \n",
       "2  Correspondence in relation to Lady Plowden's p...   (Omission,)  \n",
       "3  Small file of research (not carried out by Lad...   (Omission,)  \n",
       "4  Correspondence in relation to Lady Plowden's p...   (Omission,)  "
      ]
     },
     "execution_count": 70,
     "metadata": {},
     "output_type": "execute_result"
    }
   ],
   "source": [
    "o_docs = clf_docs.loc[clf_docs.os_prediction == ('Omission',)]\n",
    "print(o_docs.shape)\n",
    "o_docs.head()"
   ]
  },
  {
   "cell_type": "code",
   "execution_count": 71,
   "metadata": {},
   "outputs": [
    {
     "name": "stdout",
     "output_type": "stream",
     "text": [
      "(779, 8)\n"
     ]
    },
    {
     "data": {
      "text/html": [
       "<div>\n",
       "<style scoped>\n",
       "    .dataframe tbody tr th:only-of-type {\n",
       "        vertical-align: middle;\n",
       "    }\n",
       "\n",
       "    .dataframe tbody tr th {\n",
       "        vertical-align: top;\n",
       "    }\n",
       "\n",
       "    .dataframe thead th {\n",
       "        text-align: right;\n",
       "    }\n",
       "</style>\n",
       "<table border=\"1\" class=\"dataframe\">\n",
       "  <thead>\n",
       "    <tr style=\"text-align: right;\">\n",
       "      <th></th>\n",
       "      <th>description_id</th>\n",
       "      <th>token_id</th>\n",
       "      <th>eadid</th>\n",
       "      <th>rowid</th>\n",
       "      <th>linguistic_prediction</th>\n",
       "      <th>field</th>\n",
       "      <th>doc</th>\n",
       "      <th>os_prediction</th>\n",
       "    </tr>\n",
       "  </thead>\n",
       "  <tbody>\n",
       "    <tr>\n",
       "      <th>56</th>\n",
       "      <td>459</td>\n",
       "      <td>[16129, 16130, 16131, 16132, 16133, 16134]</td>\n",
       "      <td>BP</td>\n",
       "      <td>BP/27/39</td>\n",
       "      <td>[Gendered-Role]</td>\n",
       "      <td>unittitle</td>\n",
       "      <td>Research File: Women and Work</td>\n",
       "      <td>(Omission, Stereotype)</td>\n",
       "    </tr>\n",
       "    <tr>\n",
       "      <th>89</th>\n",
       "      <td>655</td>\n",
       "      <td>[23424, 23425, 23426, 23427, 23428, 23429, 234...</td>\n",
       "      <td>BXB</td>\n",
       "      <td>BXB/1/1/AGA/1/4</td>\n",
       "      <td>[Gendered-Role]</td>\n",
       "      <td>scopecontent</td>\n",
       "      <td>Consists of a photocopy of both the book cover...</td>\n",
       "      <td>(Omission, Stereotype)</td>\n",
       "    </tr>\n",
       "    <tr>\n",
       "      <th>90</th>\n",
       "      <td>724</td>\n",
       "      <td>[24465, 24466, 24467, 24468, 24469, 24470, 244...</td>\n",
       "      <td>BXB</td>\n",
       "      <td>BXB/1/1/AGA/6/11</td>\n",
       "      <td>[Gendered-Role]</td>\n",
       "      <td>scopecontent</td>\n",
       "      <td>Consists of photocopies of a poem entitled 'Ma...</td>\n",
       "      <td>(Omission, Stereotype)</td>\n",
       "    </tr>\n",
       "    <tr>\n",
       "      <th>96</th>\n",
       "      <td>840</td>\n",
       "      <td>[27001, 27002, 27003]</td>\n",
       "      <td>BXB</td>\n",
       "      <td>BXB/1/1/ALV/1</td>\n",
       "      <td>[Gendered-Role]</td>\n",
       "      <td>unittitle</td>\n",
       "      <td>Carrying My Wife</td>\n",
       "      <td>(Omission, Stereotype)</td>\n",
       "    </tr>\n",
       "    <tr>\n",
       "      <th>98</th>\n",
       "      <td>871</td>\n",
       "      <td>[27235, 27236, 27237, 27238, 27239, 27240, 272...</td>\n",
       "      <td>BXB</td>\n",
       "      <td>BXB/1/1/ARM</td>\n",
       "      <td>[Gendered-Pronoun, Gendered-Role]</td>\n",
       "      <td>bioghist</td>\n",
       "      <td>Simon Armitage was born in 1963 in Huddersfiel...</td>\n",
       "      <td>(Omission, Stereotype)</td>\n",
       "    </tr>\n",
       "  </tbody>\n",
       "</table>\n",
       "</div>"
      ],
      "text/plain": [
       "    description_id                                           token_id eadid  \\\n",
       "56             459         [16129, 16130, 16131, 16132, 16133, 16134]    BP   \n",
       "89             655  [23424, 23425, 23426, 23427, 23428, 23429, 234...   BXB   \n",
       "90             724  [24465, 24466, 24467, 24468, 24469, 24470, 244...   BXB   \n",
       "96             840                              [27001, 27002, 27003]   BXB   \n",
       "98             871  [27235, 27236, 27237, 27238, 27239, 27240, 272...   BXB   \n",
       "\n",
       "               rowid              linguistic_prediction         field  \\\n",
       "56          BP/27/39                    [Gendered-Role]     unittitle   \n",
       "89   BXB/1/1/AGA/1/4                    [Gendered-Role]  scopecontent   \n",
       "90  BXB/1/1/AGA/6/11                    [Gendered-Role]  scopecontent   \n",
       "96     BXB/1/1/ALV/1                    [Gendered-Role]     unittitle   \n",
       "98       BXB/1/1/ARM  [Gendered-Pronoun, Gendered-Role]      bioghist   \n",
       "\n",
       "                                                  doc           os_prediction  \n",
       "56                      Research File: Women and Work  (Omission, Stereotype)  \n",
       "89  Consists of a photocopy of both the book cover...  (Omission, Stereotype)  \n",
       "90  Consists of photocopies of a poem entitled 'Ma...  (Omission, Stereotype)  \n",
       "96                                   Carrying My Wife  (Omission, Stereotype)  \n",
       "98  Simon Armitage was born in 1963 in Huddersfiel...  (Omission, Stereotype)  "
      ]
     },
     "execution_count": 71,
     "metadata": {},
     "output_type": "execute_result"
    }
   ],
   "source": [
    "os_docs = clf_docs.loc[clf_docs.os_prediction == ('Omission', 'Stereotype')]\n",
    "print(os_docs.shape)\n",
    "os_docs.head()"
   ]
  },
  {
   "cell_type": "code",
   "execution_count": 72,
   "metadata": {},
   "outputs": [
    {
     "name": "stdout",
     "output_type": "stream",
     "text": [
      "(257, 8)\n"
     ]
    },
    {
     "data": {
      "text/html": [
       "<div>\n",
       "<style scoped>\n",
       "    .dataframe tbody tr th:only-of-type {\n",
       "        vertical-align: middle;\n",
       "    }\n",
       "\n",
       "    .dataframe tbody tr th {\n",
       "        vertical-align: top;\n",
       "    }\n",
       "\n",
       "    .dataframe thead th {\n",
       "        text-align: right;\n",
       "    }\n",
       "</style>\n",
       "<table border=\"1\" class=\"dataframe\">\n",
       "  <thead>\n",
       "    <tr style=\"text-align: right;\">\n",
       "      <th></th>\n",
       "      <th>description_id</th>\n",
       "      <th>token_id</th>\n",
       "      <th>eadid</th>\n",
       "      <th>rowid</th>\n",
       "      <th>linguistic_prediction</th>\n",
       "      <th>field</th>\n",
       "      <th>doc</th>\n",
       "      <th>os_prediction</th>\n",
       "    </tr>\n",
       "  </thead>\n",
       "  <tbody>\n",
       "    <tr>\n",
       "      <th>45</th>\n",
       "      <td>374</td>\n",
       "      <td>[10017, 10018, 10019]</td>\n",
       "      <td>BP</td>\n",
       "      <td>BP/19/02/10</td>\n",
       "      <td>[Gendered-Role]</td>\n",
       "      <td>unittitle</td>\n",
       "      <td>Women and Employment</td>\n",
       "      <td>(Stereotype,)</td>\n",
       "    </tr>\n",
       "    <tr>\n",
       "      <th>57</th>\n",
       "      <td>460</td>\n",
       "      <td>[16135, 16136, 16137, 16138, 16139, 16140, 161...</td>\n",
       "      <td>BP</td>\n",
       "      <td>BP/27/40</td>\n",
       "      <td>[O]</td>\n",
       "      <td>unittitle</td>\n",
       "      <td>Research File: A Woman's View of the Recession...</td>\n",
       "      <td>(Stereotype,)</td>\n",
       "    </tr>\n",
       "    <tr>\n",
       "      <th>108</th>\n",
       "      <td>1180</td>\n",
       "      <td>[33428, 33429, 33430]</td>\n",
       "      <td>BXB</td>\n",
       "      <td>BXB/1/1/BOL/1</td>\n",
       "      <td>[O]</td>\n",
       "      <td>unittitle</td>\n",
       "      <td>The Peepshow Girl</td>\n",
       "      <td>(Stereotype,)</td>\n",
       "    </tr>\n",
       "    <tr>\n",
       "      <th>172</th>\n",
       "      <td>3912</td>\n",
       "      <td>[79353, 79354, 79355, 79356, 79357, 79358, 79359]</td>\n",
       "      <td>BXB</td>\n",
       "      <td>BXB/1/1/HOJ/1</td>\n",
       "      <td>[O]</td>\n",
       "      <td>unittitle</td>\n",
       "      <td>The Brief History of a Disreputable Woman</td>\n",
       "      <td>(Stereotype,)</td>\n",
       "    </tr>\n",
       "    <tr>\n",
       "      <th>188</th>\n",
       "      <td>4714</td>\n",
       "      <td>[92263, 92264, 92265, 92266, 92267]</td>\n",
       "      <td>BXB</td>\n",
       "      <td>BXB/1/1/KEB/6</td>\n",
       "      <td>[Gendered-Role]</td>\n",
       "      <td>unittitle</td>\n",
       "      <td>Euripides' The Trojan Women</td>\n",
       "      <td>(Stereotype,)</td>\n",
       "    </tr>\n",
       "  </tbody>\n",
       "</table>\n",
       "</div>"
      ],
      "text/plain": [
       "     description_id                                           token_id eadid  \\\n",
       "45              374                              [10017, 10018, 10019]    BP   \n",
       "57              460  [16135, 16136, 16137, 16138, 16139, 16140, 161...    BP   \n",
       "108            1180                              [33428, 33429, 33430]   BXB   \n",
       "172            3912  [79353, 79354, 79355, 79356, 79357, 79358, 79359]   BXB   \n",
       "188            4714                [92263, 92264, 92265, 92266, 92267]   BXB   \n",
       "\n",
       "             rowid linguistic_prediction      field  \\\n",
       "45     BP/19/02/10       [Gendered-Role]  unittitle   \n",
       "57        BP/27/40                   [O]  unittitle   \n",
       "108  BXB/1/1/BOL/1                   [O]  unittitle   \n",
       "172  BXB/1/1/HOJ/1                   [O]  unittitle   \n",
       "188  BXB/1/1/KEB/6       [Gendered-Role]  unittitle   \n",
       "\n",
       "                                                   doc  os_prediction  \n",
       "45                                Women and Employment  (Stereotype,)  \n",
       "57   Research File: A Woman's View of the Recession...  (Stereotype,)  \n",
       "108                                  The Peepshow Girl  (Stereotype,)  \n",
       "172          The Brief History of a Disreputable Woman  (Stereotype,)  \n",
       "188                        Euripides' The Trojan Women  (Stereotype,)  "
      ]
     },
     "execution_count": 72,
     "metadata": {},
     "output_type": "execute_result"
    }
   ],
   "source": [
    "s_docs = clf_docs.loc[clf_docs.os_prediction == ('Stereotype',)]\n",
    "print(s_docs.shape)\n",
    "s_docs.head()"
   ]
  }
 ],
 "metadata": {
  "kernelspec": {
   "display_name": "gender-bias-env",
   "language": "python",
   "name": "python3"
  },
  "language_info": {
   "codemirror_mode": {
    "name": "ipython",
    "version": 3
   },
   "file_extension": ".py",
   "mimetype": "text/x-python",
   "name": "python",
   "nbconvert_exporter": "python",
   "pygments_lexer": "ipython3",
   "version": "3.9.20"
  }
 },
 "nbformat": 4,
 "nbformat_minor": 2
}
