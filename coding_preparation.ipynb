{
 "cells": [
  {
   "cell_type": "markdown",
   "metadata": {},
   "source": [
    "# Coding Preparation\n",
    "\n",
    "Create subsets of the unclassified and classified NUSC archival catalog metadata descriptions, one per collection, to share with each collection's designated expert for manual coding and classification evaluation."
   ]
  },
  {
   "cell_type": "code",
   "execution_count": 1,
   "metadata": {},
   "outputs": [],
   "source": [
    "# Libraries for data analysis\n",
    "import pandas as pd\n",
    "\n",
    "# Custom variables\n",
    "import config\n",
    "\n",
    "# For writing data and creating directories\n",
    "from pathlib import Path"
   ]
  },
  {
   "cell_type": "code",
   "execution_count": 2,
   "metadata": {},
   "outputs": [],
   "source": [
    "unclf_df = pd.read_csv(\"data/extracted/nusc_archival_descs_for_clf.csv\", index_col = 0)\n",
    "clf_osc_df = pd.read_csv(\"data/classified/baseline_osc_predictions.csv\", index_col = 0)\n",
    "clf_lc_osc_df = pd.read_csv(\"data/classified/lc-osc_predictions.csv\")"
   ]
  },
  {
   "cell_type": "code",
   "execution_count": 3,
   "metadata": {},
   "outputs": [],
   "source": [
    "unclf_dir = \"data/extracted/for_review/unclassified/\"\n",
    "Path(unclf_dir).mkdir(parents=True, exist_ok=True)\n",
    "\n",
    "clf_dir = \"data/extracted/for_review/classified/\"\n",
    "Path(clf_dir).mkdir(parents=True, exist_ok=True)"
   ]
  },
  {
   "cell_type": "code",
   "execution_count": 4,
   "metadata": {},
   "outputs": [
    {
     "data": {
      "text/html": [
       "<div>\n",
       "<style scoped>\n",
       "    .dataframe tbody tr th:only-of-type {\n",
       "        vertical-align: middle;\n",
       "    }\n",
       "\n",
       "    .dataframe tbody tr th {\n",
       "        vertical-align: top;\n",
       "    }\n",
       "\n",
       "    .dataframe thead th {\n",
       "        text-align: right;\n",
       "    }\n",
       "</style>\n",
       "<table border=\"1\" class=\"dataframe\">\n",
       "  <thead>\n",
       "    <tr style=\"text-align: right;\">\n",
       "      <th></th>\n",
       "      <th>description_id</th>\n",
       "      <th>token_id</th>\n",
       "      <th>eadid</th>\n",
       "      <th>rowid</th>\n",
       "      <th>linguistic_prediction</th>\n",
       "      <th>field</th>\n",
       "      <th>doc</th>\n",
       "      <th>os_predictions</th>\n",
       "    </tr>\n",
       "  </thead>\n",
       "  <tbody>\n",
       "    <tr>\n",
       "      <th>0</th>\n",
       "      <td>0</td>\n",
       "      <td>[0, 1, 2, 3, 4, 5, 6, 7, 8, 9, 10, 11, 12, 13,...</td>\n",
       "      <td>BP</td>\n",
       "      <td>BP</td>\n",
       "      <td>['O']</td>\n",
       "      <td>processinfo</td>\n",
       "      <td>This EAD description created by Ruth Sheret 27...</td>\n",
       "      <td>()</td>\n",
       "    </tr>\n",
       "    <tr>\n",
       "      <th>1</th>\n",
       "      <td>1</td>\n",
       "      <td>[16, 17, 18, 19, 20, 21, 22, 23, 24, 25, 26, 2...</td>\n",
       "      <td>BP</td>\n",
       "      <td>BP</td>\n",
       "      <td>['Gendered-Pronoun', 'Gendered-Role', 'General...</td>\n",
       "      <td>scopecontent</td>\n",
       "      <td>The papers of the distinguished public servant...</td>\n",
       "      <td>('Omission',)</td>\n",
       "    </tr>\n",
       "    <tr>\n",
       "      <th>2</th>\n",
       "      <td>2</td>\n",
       "      <td>[267, 268, 269, 270, 271, 272]</td>\n",
       "      <td>BP</td>\n",
       "      <td>BP</td>\n",
       "      <td>['Gendered-Role']</td>\n",
       "      <td>unittitle</td>\n",
       "      <td>Plowden (Lady Bridget) Archive</td>\n",
       "      <td>()</td>\n",
       "    </tr>\n",
       "    <tr>\n",
       "      <th>3</th>\n",
       "      <td>3</td>\n",
       "      <td>[273, 274, 275, 276, 277, 278, 279, 280, 281, ...</td>\n",
       "      <td>BP</td>\n",
       "      <td>BP/01</td>\n",
       "      <td>['Gendered-Pronoun', 'Gendered-Role', 'General...</td>\n",
       "      <td>scopecontent</td>\n",
       "      <td>Formerly the 'Working Ladies Guild', the organ...</td>\n",
       "      <td>('Omission',)</td>\n",
       "    </tr>\n",
       "    <tr>\n",
       "      <th>4</th>\n",
       "      <td>4</td>\n",
       "      <td>[352, 353, 354, 355, 342, 343, 344, 345, 346, ...</td>\n",
       "      <td>BP</td>\n",
       "      <td>BP/01</td>\n",
       "      <td>['Generalization']</td>\n",
       "      <td>unittitle</td>\n",
       "      <td>Chairman (Managing Committee) of the Mary Fiel...</td>\n",
       "      <td>()</td>\n",
       "    </tr>\n",
       "  </tbody>\n",
       "</table>\n",
       "</div>"
      ],
      "text/plain": [
       "   description_id                                           token_id eadid  \\\n",
       "0               0  [0, 1, 2, 3, 4, 5, 6, 7, 8, 9, 10, 11, 12, 13,...    BP   \n",
       "1               1  [16, 17, 18, 19, 20, 21, 22, 23, 24, 25, 26, 2...    BP   \n",
       "2               2                     [267, 268, 269, 270, 271, 272]    BP   \n",
       "3               3  [273, 274, 275, 276, 277, 278, 279, 280, 281, ...    BP   \n",
       "4               4  [352, 353, 354, 355, 342, 343, 344, 345, 346, ...    BP   \n",
       "\n",
       "   rowid                              linguistic_prediction         field  \\\n",
       "0     BP                                              ['O']   processinfo   \n",
       "1     BP  ['Gendered-Pronoun', 'Gendered-Role', 'General...  scopecontent   \n",
       "2     BP                                  ['Gendered-Role']     unittitle   \n",
       "3  BP/01  ['Gendered-Pronoun', 'Gendered-Role', 'General...  scopecontent   \n",
       "4  BP/01                                 ['Generalization']     unittitle   \n",
       "\n",
       "                                                 doc os_predictions  \n",
       "0  This EAD description created by Ruth Sheret 27...             ()  \n",
       "1  The papers of the distinguished public servant...  ('Omission',)  \n",
       "2                     Plowden (Lady Bridget) Archive             ()  \n",
       "3  Formerly the 'Working Ladies Guild', the organ...  ('Omission',)  \n",
       "4  Chairman (Managing Committee) of the Mary Fiel...             ()  "
      ]
     },
     "execution_count": 4,
     "metadata": {},
     "output_type": "execute_result"
    }
   ],
   "source": [
    "# unclf_df.head()\n",
    "# clf_osc_df.head()\n",
    "clf_lc_osc_df.head()"
   ]
  },
  {
   "cell_type": "code",
   "execution_count": 5,
   "metadata": {},
   "outputs": [],
   "source": [
    "# col_name = \"gender_bias?\"\n",
    "# df = unclf_df\n",
    "# file_suffix = \"_unclassified.csv\"\n",
    "# file_dir = unclf_dir\n",
    "\n",
    "col_name = \"agree?\"\n",
    "df = clf_osc_df\n",
    "file_suffix = \"_classified.csv\"\n",
    "file_dir = clf_dir"
   ]
  },
  {
   "cell_type": "code",
   "execution_count": 6,
   "metadata": {},
   "outputs": [],
   "source": [
    "df = df.rename(columns={\"prediction\":\"prediction1\"})"
   ]
  },
  {
   "cell_type": "code",
   "execution_count": 7,
   "metadata": {},
   "outputs": [
    {
     "name": "stdout",
     "output_type": "stream",
     "text": [
      "(34225, 6)\n",
      "(34225, 8)\n"
     ]
    }
   ],
   "source": [
    "print(df.shape)\n",
    "print(clf_lc_osc_df.shape)"
   ]
  },
  {
   "cell_type": "code",
   "execution_count": 8,
   "metadata": {},
   "outputs": [
    {
     "name": "stdout",
     "output_type": "stream",
     "text": [
      "(34225, 7)\n"
     ]
    },
    {
     "data": {
      "text/html": [
       "<div>\n",
       "<style scoped>\n",
       "    .dataframe tbody tr th:only-of-type {\n",
       "        vertical-align: middle;\n",
       "    }\n",
       "\n",
       "    .dataframe tbody tr th {\n",
       "        vertical-align: top;\n",
       "    }\n",
       "\n",
       "    .dataframe thead th {\n",
       "        text-align: right;\n",
       "    }\n",
       "</style>\n",
       "<table border=\"1\" class=\"dataframe\">\n",
       "  <thead>\n",
       "    <tr style=\"text-align: right;\">\n",
       "      <th></th>\n",
       "      <th>description_id</th>\n",
       "      <th>eadid</th>\n",
       "      <th>rowid</th>\n",
       "      <th>field</th>\n",
       "      <th>doc</th>\n",
       "      <th>prediction1</th>\n",
       "      <th>prediction2</th>\n",
       "    </tr>\n",
       "  </thead>\n",
       "  <tbody>\n",
       "    <tr>\n",
       "      <th>0</th>\n",
       "      <td>0</td>\n",
       "      <td>BP</td>\n",
       "      <td>BP</td>\n",
       "      <td>processinfo</td>\n",
       "      <td>This EAD description created by Ruth Sheret 27...</td>\n",
       "      <td>()</td>\n",
       "      <td>()</td>\n",
       "    </tr>\n",
       "    <tr>\n",
       "      <th>1</th>\n",
       "      <td>1</td>\n",
       "      <td>BP</td>\n",
       "      <td>BP</td>\n",
       "      <td>scopecontent</td>\n",
       "      <td>The papers of the distinguished public servant...</td>\n",
       "      <td>()</td>\n",
       "      <td>('Omission',)</td>\n",
       "    </tr>\n",
       "    <tr>\n",
       "      <th>2</th>\n",
       "      <td>2</td>\n",
       "      <td>BP</td>\n",
       "      <td>BP</td>\n",
       "      <td>unittitle</td>\n",
       "      <td>Plowden (Lady Bridget) Archive</td>\n",
       "      <td>()</td>\n",
       "      <td>()</td>\n",
       "    </tr>\n",
       "    <tr>\n",
       "      <th>3</th>\n",
       "      <td>3</td>\n",
       "      <td>BP</td>\n",
       "      <td>BP/01</td>\n",
       "      <td>scopecontent</td>\n",
       "      <td>Formerly the 'Working Ladies Guild', the organ...</td>\n",
       "      <td>()</td>\n",
       "      <td>('Omission',)</td>\n",
       "    </tr>\n",
       "    <tr>\n",
       "      <th>4</th>\n",
       "      <td>4</td>\n",
       "      <td>BP</td>\n",
       "      <td>BP/01</td>\n",
       "      <td>unittitle</td>\n",
       "      <td>Chairman (Managing Committee) of the Mary Fiel...</td>\n",
       "      <td>()</td>\n",
       "      <td>()</td>\n",
       "    </tr>\n",
       "  </tbody>\n",
       "</table>\n",
       "</div>"
      ],
      "text/plain": [
       "   description_id eadid  rowid         field  \\\n",
       "0               0    BP     BP   processinfo   \n",
       "1               1    BP     BP  scopecontent   \n",
       "2               2    BP     BP     unittitle   \n",
       "3               3    BP  BP/01  scopecontent   \n",
       "4               4    BP  BP/01     unittitle   \n",
       "\n",
       "                                                 doc prediction1  \\\n",
       "0  This EAD description created by Ruth Sheret 27...          ()   \n",
       "1  The papers of the distinguished public servant...          ()   \n",
       "2                     Plowden (Lady Bridget) Archive          ()   \n",
       "3  Formerly the 'Working Ladies Guild', the organ...          ()   \n",
       "4  Chairman (Managing Committee) of the Mary Fiel...          ()   \n",
       "\n",
       "     prediction2  \n",
       "0             ()  \n",
       "1  ('Omission',)  \n",
       "2             ()  \n",
       "3  ('Omission',)  \n",
       "4             ()  "
      ]
     },
     "execution_count": 8,
     "metadata": {},
     "output_type": "execute_result"
    }
   ],
   "source": [
    "index_cols = [\"description_id\", \"eadid\", \"rowid\", \"field\", \"doc\"]\n",
    "df = df.join(clf_lc_osc_df[[\"description_id\", \"eadid\", \"rowid\", \"field\", \"doc\", \"os_predictions\"]].set_index(index_cols), on=index_cols)\n",
    "df = df.rename(columns={\"os_predictions\":\"prediction2\"})\n",
    "print(df.shape)\n",
    "df.head()"
   ]
  },
  {
   "cell_type": "code",
   "execution_count": 9,
   "metadata": {},
   "outputs": [
    {
     "data": {
      "text/html": [
       "<div>\n",
       "<style scoped>\n",
       "    .dataframe tbody tr th:only-of-type {\n",
       "        vertical-align: middle;\n",
       "    }\n",
       "\n",
       "    .dataframe tbody tr th {\n",
       "        vertical-align: top;\n",
       "    }\n",
       "\n",
       "    .dataframe thead th {\n",
       "        text-align: right;\n",
       "    }\n",
       "</style>\n",
       "<table border=\"1\" class=\"dataframe\">\n",
       "  <thead>\n",
       "    <tr style=\"text-align: right;\">\n",
       "      <th></th>\n",
       "      <th>description_id</th>\n",
       "      <th>eadid</th>\n",
       "      <th>rowid</th>\n",
       "      <th>field</th>\n",
       "      <th>doc</th>\n",
       "      <th>prediction1</th>\n",
       "      <th>prediction2</th>\n",
       "      <th>agree?</th>\n",
       "    </tr>\n",
       "  </thead>\n",
       "  <tbody>\n",
       "    <tr>\n",
       "      <th>34220</th>\n",
       "      <td>34220</td>\n",
       "      <td>WCT</td>\n",
       "      <td>WCT/8</td>\n",
       "      <td>unittitle</td>\n",
       "      <td>Diaries</td>\n",
       "      <td>()</td>\n",
       "      <td>()</td>\n",
       "      <td></td>\n",
       "    </tr>\n",
       "    <tr>\n",
       "      <th>34221</th>\n",
       "      <td>34221</td>\n",
       "      <td>WCT</td>\n",
       "      <td>WCT/9</td>\n",
       "      <td>scopecontent</td>\n",
       "      <td>Personal diaries and notebooks.</td>\n",
       "      <td>()</td>\n",
       "      <td>()</td>\n",
       "      <td></td>\n",
       "    </tr>\n",
       "    <tr>\n",
       "      <th>34222</th>\n",
       "      <td>34222</td>\n",
       "      <td>WCT</td>\n",
       "      <td>WCT/9</td>\n",
       "      <td>unittitle</td>\n",
       "      <td>Diaries and notebooks of Lady Pauline</td>\n",
       "      <td>()</td>\n",
       "      <td>()</td>\n",
       "      <td></td>\n",
       "    </tr>\n",
       "    <tr>\n",
       "      <th>34223</th>\n",
       "      <td>34223</td>\n",
       "      <td>WCT</td>\n",
       "      <td>WCT/9/4</td>\n",
       "      <td>scopecontent</td>\n",
       "      <td>Microfilm reels of Pauline's diaries and sketc...</td>\n",
       "      <td>()</td>\n",
       "      <td>()</td>\n",
       "      <td></td>\n",
       "    </tr>\n",
       "    <tr>\n",
       "      <th>34224</th>\n",
       "      <td>34224</td>\n",
       "      <td>WCT</td>\n",
       "      <td>WCT/9/4</td>\n",
       "      <td>unittitle</td>\n",
       "      <td>Microfilm copies of Lady Pauline's Diaries</td>\n",
       "      <td>()</td>\n",
       "      <td>()</td>\n",
       "      <td></td>\n",
       "    </tr>\n",
       "  </tbody>\n",
       "</table>\n",
       "</div>"
      ],
      "text/plain": [
       "       description_id eadid    rowid         field  \\\n",
       "34220           34220   WCT    WCT/8     unittitle   \n",
       "34221           34221   WCT    WCT/9  scopecontent   \n",
       "34222           34222   WCT    WCT/9     unittitle   \n",
       "34223           34223   WCT  WCT/9/4  scopecontent   \n",
       "34224           34224   WCT  WCT/9/4     unittitle   \n",
       "\n",
       "                                                     doc prediction1  \\\n",
       "34220                                            Diaries          ()   \n",
       "34221                    Personal diaries and notebooks.          ()   \n",
       "34222              Diaries and notebooks of Lady Pauline          ()   \n",
       "34223  Microfilm reels of Pauline's diaries and sketc...          ()   \n",
       "34224         Microfilm copies of Lady Pauline's Diaries          ()   \n",
       "\n",
       "      prediction2 agree?  \n",
       "34220          ()         \n",
       "34221          ()         \n",
       "34222          ()         \n",
       "34223          ()         \n",
       "34224          ()         "
      ]
     },
     "execution_count": 9,
     "metadata": {},
     "output_type": "execute_result"
    }
   ],
   "source": [
    "empty_col = [\"\"]*df.shape[0]\n",
    "df.insert(len(df.columns), col_name, empty_col)\n",
    "df.tail()"
   ]
  },
  {
   "cell_type": "code",
   "execution_count": 10,
   "metadata": {},
   "outputs": [
    {
     "name": "stdout",
     "output_type": "stream",
     "text": [
      "['BP', 'BXB', 'CHE', 'CPT', 'GB', 'HL', 'OBR', 'SH', 'SW', 'THS', 'WCT']\n"
     ]
    }
   ],
   "source": [
    "eadids = list(df.eadid.unique())\n",
    "print(eadids)"
   ]
  },
  {
   "cell_type": "code",
   "execution_count": 11,
   "metadata": {},
   "outputs": [],
   "source": [
    "eadid_col = \"eadid\""
   ]
  },
  {
   "cell_type": "code",
   "execution_count": 12,
   "metadata": {},
   "outputs": [],
   "source": [
    "for eadid in eadids:\n",
    "    subdf = df.loc[df[eadid_col] == eadid]\n",
    "    subdf.to_csv(file_dir+eadid+file_suffix)"
   ]
  },
  {
   "cell_type": "code",
   "execution_count": null,
   "metadata": {},
   "outputs": [],
   "source": []
  }
 ],
 "metadata": {
  "kernelspec": {
   "display_name": "nusc",
   "language": "python",
   "name": "python3"
  },
  "language_info": {
   "codemirror_mode": {
    "name": "ipython",
    "version": 3
   },
   "file_extension": ".py",
   "mimetype": "text/x-python",
   "name": "python",
   "nbconvert_exporter": "python",
   "pygments_lexer": "ipython3",
   "version": "3.12.7"
  }
 },
 "nbformat": 4,
 "nbformat_minor": 2
}
