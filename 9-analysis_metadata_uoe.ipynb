{
 "cells": [
  {
   "cell_type": "markdown",
   "id": "7de3dd8c",
   "metadata": {},
   "source": [
    "# Analysis of Select University of Edinburgh Archival Metadata Descriptions\n",
    "\n",
    "* **Source:** [University of Edinburgh Archive and Manuscript Collections](https://archives.collections.ed.ac.uk)\n",
    "* **Content:** Descriptions from the archival catalog's *Title*, *Biographical / Historical*, *Scope and Contents*, and *Processing Information* metadata fields\n",
    "* **Date extracted:** October 2020\n",
    "\n",
    "***\n",
    "\n",
    "**Table of Contents**\n",
    "* [Exploratory Analysis](#exploratory-analysis)\n",
    "  * [Counts by Description](#counts-by-description)\n",
    "  * [Counts by Sentence](#counts-by-sentence)\n",
    "  * [Counts Overall](#counts-overall)\n",
    "* [Root Forms](#root-forms)\n",
    "* [Grammatically and Lexically Gendered Word Counts](#grammatically-and-lexically-gendered-word-counts)\n",
    "* [Part of Speech Tagging](#part-of-speech-tagging)\n",
    "* [Concordances](#concordances)\n",
    "\n",
    "***"
   ]
  },
  {
   "cell_type": "code",
   "execution_count": 18,
   "id": "b7b24c11",
   "metadata": {},
   "outputs": [
    {
     "name": "stderr",
     "output_type": "stream",
     "text": [
      "[nltk_data] Downloading package punkt to\n",
      "[nltk_data]     /Users/lucyhavens/nltk_data...\n",
      "[nltk_data]   Package punkt is already up-to-date!\n",
      "[nltk_data] Downloading package punkt_tab to\n",
      "[nltk_data]     /Users/lucyhavens/nltk_data...\n",
      "[nltk_data]   Package punkt_tab is already up-to-date!\n",
      "[nltk_data] Downloading package wordnet to\n",
      "[nltk_data]     /Users/lucyhavens/nltk_data...\n",
      "[nltk_data]   Package wordnet is already up-to-date!\n",
      "[nltk_data] Downloading package stopwords to\n",
      "[nltk_data]     /Users/lucyhavens/nltk_data...\n",
      "[nltk_data]   Package stopwords is already up-to-date!\n",
      "[nltk_data] Downloading package averaged_perceptron_tagger_eng to\n",
      "[nltk_data]     /Users/lucyhavens/nltk_data...\n",
      "[nltk_data]   Package averaged_perceptron_tagger_eng is already up-to-\n",
      "[nltk_data]       date!\n",
      "[nltk_data] Downloading package tagsets to\n",
      "[nltk_data]     /Users/lucyhavens/nltk_data...\n",
      "[nltk_data]   Package tagsets is already up-to-date!\n"
     ]
    }
   ],
   "source": [
    "import analysis_utils\n",
    "\n",
    "import os\n",
    "import pandas as pd\n",
    "import numpy as np\n",
    "import re\n",
    "import matplotlib.pyplot as plt\n",
    "import string\n",
    "\n",
    "import nltk\n",
    "from nltk.tokenize import word_tokenize, sent_tokenize\n",
    "nltk.download('punkt')\n",
    "nltk.download('punkt_tab')\n",
    "from nltk.corpus import PlaintextCorpusReader\n",
    "nltk.download('wordnet')\n",
    "from nltk.corpus import wordnet\n",
    "nltk.download('stopwords')\n",
    "from nltk.corpus import stopwords\n",
    "from nltk.text import Text\n",
    "from nltk.stem.porter import PorterStemmer\n",
    "from nltk.probability import FreqDist\n",
    "nltk.download('averaged_perceptron_tagger_eng')\n",
    "from nltk.tag import pos_tag, pos_tag_sents\n",
    "nltk.download('tagsets')  # part of speech tags\n",
    "\n",
    "from pathlib import Path"
   ]
  },
  {
   "cell_type": "markdown",
   "id": "cc77601c",
   "metadata": {},
   "source": [
    "Create a directory to save analysis outputs to."
   ]
  },
  {
   "cell_type": "code",
   "execution_count": 2,
   "id": "e0b728c2",
   "metadata": {},
   "outputs": [],
   "source": [
    "extracted_dir = \"data/uoe/analysis/\"\n",
    "Path(extracted_dir).mkdir(parents=True, exist_ok=True)"
   ]
  },
  {
   "cell_type": "markdown",
   "id": "7d13f799",
   "metadata": {},
   "source": [
    "Load the descriptive metadata extracted from NUSC's catalog as a DataFrame."
   ]
  },
  {
   "cell_type": "code",
   "execution_count": 3,
   "id": "98601736",
   "metadata": {},
   "outputs": [],
   "source": [
    "f = \"data/uoe/all_token_data.csv\"  #tagged_tokens.csv\""
   ]
  },
  {
   "cell_type": "code",
   "execution_count": 4,
   "id": "fea1f78a",
   "metadata": {},
   "outputs": [
    {
     "name": "stdout",
     "output_type": "stream",
     "text": [
      "(779270, 8)\n"
     ]
    },
    {
     "data": {
      "text/html": [
       "<div>\n",
       "<style scoped>\n",
       "    .dataframe tbody tr th:only-of-type {\n",
       "        vertical-align: middle;\n",
       "    }\n",
       "\n",
       "    .dataframe tbody tr th {\n",
       "        vertical-align: top;\n",
       "    }\n",
       "\n",
       "    .dataframe thead th {\n",
       "        text-align: right;\n",
       "    }\n",
       "</style>\n",
       "<table border=\"1\" class=\"dataframe\">\n",
       "  <thead>\n",
       "    <tr style=\"text-align: right;\">\n",
       "      <th></th>\n",
       "      <th>description_id</th>\n",
       "      <th>sentence_id</th>\n",
       "      <th>ann_id</th>\n",
       "      <th>token_id</th>\n",
       "      <th>token</th>\n",
       "      <th>token_offsets</th>\n",
       "      <th>pos</th>\n",
       "      <th>tag</th>\n",
       "    </tr>\n",
       "  </thead>\n",
       "  <tbody>\n",
       "    <tr>\n",
       "      <th>0</th>\n",
       "      <td>0</td>\n",
       "      <td>0</td>\n",
       "      <td>99999</td>\n",
       "      <td>0</td>\n",
       "      <td>Identifier</td>\n",
       "      <td>(0, 10)</td>\n",
       "      <td>NN</td>\n",
       "      <td>O</td>\n",
       "    </tr>\n",
       "    <tr>\n",
       "      <th>1</th>\n",
       "      <td>0</td>\n",
       "      <td>0</td>\n",
       "      <td>99999</td>\n",
       "      <td>1</td>\n",
       "      <td>:</td>\n",
       "      <td>(10, 11)</td>\n",
       "      <td>:</td>\n",
       "      <td>O</td>\n",
       "    </tr>\n",
       "    <tr>\n",
       "      <th>2</th>\n",
       "      <td>0</td>\n",
       "      <td>0</td>\n",
       "      <td>99999</td>\n",
       "      <td>2</td>\n",
       "      <td>AA5</td>\n",
       "      <td>(12, 15)</td>\n",
       "      <td>NN</td>\n",
       "      <td>O</td>\n",
       "    </tr>\n",
       "    <tr>\n",
       "      <th>3</th>\n",
       "      <td>1</td>\n",
       "      <td>1</td>\n",
       "      <td>99999</td>\n",
       "      <td>3</td>\n",
       "      <td>Title</td>\n",
       "      <td>(17, 22)</td>\n",
       "      <td>NN</td>\n",
       "      <td>O</td>\n",
       "    </tr>\n",
       "    <tr>\n",
       "      <th>4</th>\n",
       "      <td>1</td>\n",
       "      <td>1</td>\n",
       "      <td>99999</td>\n",
       "      <td>4</td>\n",
       "      <td>:</td>\n",
       "      <td>(22, 23)</td>\n",
       "      <td>:</td>\n",
       "      <td>O</td>\n",
       "    </tr>\n",
       "  </tbody>\n",
       "</table>\n",
       "</div>"
      ],
      "text/plain": [
       "   description_id  sentence_id  ann_id  token_id       token token_offsets  \\\n",
       "0               0            0   99999         0  Identifier       (0, 10)   \n",
       "1               0            0   99999         1           :      (10, 11)   \n",
       "2               0            0   99999         2         AA5      (12, 15)   \n",
       "3               1            1   99999         3       Title      (17, 22)   \n",
       "4               1            1   99999         4           :      (22, 23)   \n",
       "\n",
       "  pos tag  \n",
       "0  NN   O  \n",
       "1   :   O  \n",
       "2  NN   O  \n",
       "3  NN   O  \n",
       "4   :   O  "
      ]
     },
     "execution_count": 4,
     "metadata": {},
     "output_type": "execute_result"
    }
   ],
   "source": [
    "df = pd.read_csv(f, index_col=0)\n",
    "print(df.shape)\n",
    "df.head()"
   ]
  },
  {
   "cell_type": "markdown",
   "id": "5092e2c6",
   "metadata": {},
   "source": [
    "Remove the names of the metadata fields and the punctuation from the `token` column."
   ]
  },
  {
   "cell_type": "code",
   "execution_count": 5,
   "id": "ef203b92",
   "metadata": {},
   "outputs": [
    {
     "name": "stdout",
     "output_type": "stream",
     "text": [
      "['!', '\"', '#', '$', '%', '&', \"'\", '(', ')', '*', '+', ',', '-', '.', '/', ':', ';', '<', '=', '>', '?', '@', '[', '\\\\', ']', '^', '_', '`', '{', '|', '}', '~']\n"
     ]
    }
   ],
   "source": [
    "punctuation = list(string.punctuation)\n",
    "print(punctuation)\n",
    "field_names_tokens = [\"Identifier\", \"Title\", \"Biographical\", \"Historical\", \"Scope\", \"Contents\", \"Processing\", \"Information\"]\n",
    "to_exclude = punctuation + field_names_tokens"
   ]
  },
  {
   "cell_type": "code",
   "execution_count": 6,
   "id": "b769a237",
   "metadata": {},
   "outputs": [
    {
     "name": "stdout",
     "output_type": "stream",
     "text": [
      "(542635, 5)\n"
     ]
    }
   ],
   "source": [
    "sub_df = df[[\"description_id\", \"sentence_id\", \"token_id\", \"token\", \"pos\"]]\n",
    "sub_df = sub_df.drop_duplicates()\n",
    "for char in to_exclude:\n",
    "    sub_df = sub_df.loc[sub_df.token != char]\n",
    "print(sub_df.shape)"
   ]
  },
  {
   "cell_type": "code",
   "execution_count": 7,
   "id": "a74a35a8",
   "metadata": {},
   "outputs": [
    {
     "data": {
      "text/html": [
       "<div>\n",
       "<style scoped>\n",
       "    .dataframe tbody tr th:only-of-type {\n",
       "        vertical-align: middle;\n",
       "    }\n",
       "\n",
       "    .dataframe tbody tr th {\n",
       "        vertical-align: top;\n",
       "    }\n",
       "\n",
       "    .dataframe thead th {\n",
       "        text-align: right;\n",
       "    }\n",
       "</style>\n",
       "<table border=\"1\" class=\"dataframe\">\n",
       "  <thead>\n",
       "    <tr style=\"text-align: right;\">\n",
       "      <th></th>\n",
       "      <th>description_id</th>\n",
       "      <th>sentence_id</th>\n",
       "      <th>token_id</th>\n",
       "      <th>token</th>\n",
       "      <th>pos</th>\n",
       "    </tr>\n",
       "  </thead>\n",
       "  <tbody>\n",
       "    <tr>\n",
       "      <th>2</th>\n",
       "      <td>0</td>\n",
       "      <td>0</td>\n",
       "      <td>2</td>\n",
       "      <td>AA5</td>\n",
       "      <td>NN</td>\n",
       "    </tr>\n",
       "    <tr>\n",
       "      <th>5</th>\n",
       "      <td>1</td>\n",
       "      <td>1</td>\n",
       "      <td>5</td>\n",
       "      <td>Papers</td>\n",
       "      <td>NNS</td>\n",
       "    </tr>\n",
       "    <tr>\n",
       "      <th>6</th>\n",
       "      <td>1</td>\n",
       "      <td>1</td>\n",
       "      <td>6</td>\n",
       "      <td>of</td>\n",
       "      <td>IN</td>\n",
       "    </tr>\n",
       "    <tr>\n",
       "      <th>7</th>\n",
       "      <td>1</td>\n",
       "      <td>1</td>\n",
       "      <td>7</td>\n",
       "      <td>The</td>\n",
       "      <td>DT</td>\n",
       "    </tr>\n",
       "    <tr>\n",
       "      <th>10</th>\n",
       "      <td>1</td>\n",
       "      <td>1</td>\n",
       "      <td>8</td>\n",
       "      <td>Very</td>\n",
       "      <td>NNP</td>\n",
       "    </tr>\n",
       "  </tbody>\n",
       "</table>\n",
       "</div>"
      ],
      "text/plain": [
       "    description_id  sentence_id  token_id   token  pos\n",
       "2                0            0         2     AA5   NN\n",
       "5                1            1         5  Papers  NNS\n",
       "6                1            1         6      of   IN\n",
       "7                1            1         7     The   DT\n",
       "10               1            1         8    Very  NNP"
      ]
     },
     "execution_count": 7,
     "metadata": {},
     "output_type": "execute_result"
    }
   ],
   "source": [
    "sub_df.head()"
   ]
  },
  {
   "cell_type": "markdown",
   "id": "e8630565",
   "metadata": {},
   "source": [
    "Group the tokens and their pos tags by sentence and by description."
   ]
  },
  {
   "cell_type": "code",
   "execution_count": 8,
   "id": "1cf409d2",
   "metadata": {},
   "outputs": [
    {
     "data": {
      "text/html": [
       "<div>\n",
       "<style scoped>\n",
       "    .dataframe tbody tr th:only-of-type {\n",
       "        vertical-align: middle;\n",
       "    }\n",
       "\n",
       "    .dataframe tbody tr th {\n",
       "        vertical-align: top;\n",
       "    }\n",
       "\n",
       "    .dataframe thead th {\n",
       "        text-align: right;\n",
       "    }\n",
       "</style>\n",
       "<table border=\"1\" class=\"dataframe\">\n",
       "  <thead>\n",
       "    <tr style=\"text-align: right;\">\n",
       "      <th></th>\n",
       "      <th>description_id</th>\n",
       "      <th>sentence_id</th>\n",
       "      <th>token_id</th>\n",
       "      <th>token</th>\n",
       "      <th>pos</th>\n",
       "    </tr>\n",
       "  </thead>\n",
       "  <tbody>\n",
       "    <tr>\n",
       "      <th>0</th>\n",
       "      <td>0</td>\n",
       "      <td>[0]</td>\n",
       "      <td>[2]</td>\n",
       "      <td>[AA5]</td>\n",
       "      <td>[NN]</td>\n",
       "    </tr>\n",
       "    <tr>\n",
       "      <th>1</th>\n",
       "      <td>1</td>\n",
       "      <td>[1, 1, 1, 1, 1, 1, 1, 1, 1]</td>\n",
       "      <td>[5, 6, 7, 8, 9, 10, 11, 12, 14]</td>\n",
       "      <td>[Papers, of, The, Very, Rev, Prof, James, Whyt...</td>\n",
       "      <td>[NNS, IN, DT, NNP, NNP, NNP, NNP, NNP, CD]</td>\n",
       "    </tr>\n",
       "    <tr>\n",
       "      <th>2</th>\n",
       "      <td>2</td>\n",
       "      <td>[2, 2, 2, 2, 2, 2, 2, 2, 2, 2, 2, 2, 2, 2, 2, ...</td>\n",
       "      <td>[17, 20, 21, 22, 24, 26, 28, 30, 31, 32, 33, 3...</td>\n",
       "      <td>[and, Sermons, and, addresses, 1948-1996, lect...</td>\n",
       "      <td>[CC, NNS, CC, NNS, JJ, NNS, JJ, NN, NNS, CC, N...</td>\n",
       "    </tr>\n",
       "    <tr>\n",
       "      <th>3</th>\n",
       "      <td>3</td>\n",
       "      <td>[3, 3, 3, 3, 3, 3, 3, 3, 3, 3, 3, 3, 3, 3, 3, ...</td>\n",
       "      <td>[113, 114, 115, 116, 117, 118, 119, 120, 121, ...</td>\n",
       "      <td>[Professor, James, Aitken, White, was, a, lead...</td>\n",
       "      <td>[NNP, NNP, NNP, NNP, VBD, DT, JJ, JJ, NN, CC, ...</td>\n",
       "    </tr>\n",
       "    <tr>\n",
       "      <th>4</th>\n",
       "      <td>4</td>\n",
       "      <td>[11]</td>\n",
       "      <td>[310]</td>\n",
       "      <td>[AA6]</td>\n",
       "      <td>[NN]</td>\n",
       "    </tr>\n",
       "  </tbody>\n",
       "</table>\n",
       "</div>"
      ],
      "text/plain": [
       "   description_id                                        sentence_id  \\\n",
       "0               0                                                [0]   \n",
       "1               1                        [1, 1, 1, 1, 1, 1, 1, 1, 1]   \n",
       "2               2  [2, 2, 2, 2, 2, 2, 2, 2, 2, 2, 2, 2, 2, 2, 2, ...   \n",
       "3               3  [3, 3, 3, 3, 3, 3, 3, 3, 3, 3, 3, 3, 3, 3, 3, ...   \n",
       "4               4                                               [11]   \n",
       "\n",
       "                                            token_id  \\\n",
       "0                                                [2]   \n",
       "1                    [5, 6, 7, 8, 9, 10, 11, 12, 14]   \n",
       "2  [17, 20, 21, 22, 24, 26, 28, 30, 31, 32, 33, 3...   \n",
       "3  [113, 114, 115, 116, 117, 118, 119, 120, 121, ...   \n",
       "4                                              [310]   \n",
       "\n",
       "                                               token  \\\n",
       "0                                              [AA5]   \n",
       "1  [Papers, of, The, Very, Rev, Prof, James, Whyt...   \n",
       "2  [and, Sermons, and, addresses, 1948-1996, lect...   \n",
       "3  [Professor, James, Aitken, White, was, a, lead...   \n",
       "4                                              [AA6]   \n",
       "\n",
       "                                                 pos  \n",
       "0                                               [NN]  \n",
       "1         [NNS, IN, DT, NNP, NNP, NNP, NNP, NNP, CD]  \n",
       "2  [CC, NNS, CC, NNS, JJ, NNS, JJ, NN, NNS, CC, N...  \n",
       "3  [NNP, NNP, NNP, NNP, VBD, DT, JJ, JJ, NN, CC, ...  \n",
       "4                                               [NN]  "
      ]
     },
     "execution_count": 8,
     "metadata": {},
     "output_type": "execute_result"
    }
   ],
   "source": [
    "cols_to_groupby = [\"description_id\"]\n",
    "cols_to_agg = [\"sentence_id\", \"token_id\", \"token\", \"pos\"]\n",
    "agg_dict = dict.fromkeys(cols_to_agg, lambda x: x.tolist())\n",
    "df_tokens = sub_df.groupby(cols_to_groupby).agg(agg_dict).reset_index()\n",
    "df_tokens.head()"
   ]
  },
  {
   "cell_type": "code",
   "execution_count": 9,
   "id": "874b7b51",
   "metadata": {},
   "outputs": [
    {
     "data": {
      "text/html": [
       "<div>\n",
       "<style scoped>\n",
       "    .dataframe tbody tr th:only-of-type {\n",
       "        vertical-align: middle;\n",
       "    }\n",
       "\n",
       "    .dataframe tbody tr th {\n",
       "        vertical-align: top;\n",
       "    }\n",
       "\n",
       "    .dataframe thead th {\n",
       "        text-align: right;\n",
       "    }\n",
       "</style>\n",
       "<table border=\"1\" class=\"dataframe\">\n",
       "  <thead>\n",
       "    <tr style=\"text-align: right;\">\n",
       "      <th></th>\n",
       "      <th>description_id</th>\n",
       "      <th>sentence_id</th>\n",
       "      <th>token_id</th>\n",
       "      <th>token</th>\n",
       "      <th>pos</th>\n",
       "    </tr>\n",
       "  </thead>\n",
       "  <tbody>\n",
       "    <tr>\n",
       "      <th>0</th>\n",
       "      <td>0</td>\n",
       "      <td>0</td>\n",
       "      <td>[2]</td>\n",
       "      <td>[AA5]</td>\n",
       "      <td>[NN]</td>\n",
       "    </tr>\n",
       "    <tr>\n",
       "      <th>1</th>\n",
       "      <td>1</td>\n",
       "      <td>1</td>\n",
       "      <td>[5, 6, 7, 8, 9, 10, 11, 12, 14]</td>\n",
       "      <td>[Papers, of, The, Very, Rev, Prof, James, Whyt...</td>\n",
       "      <td>[NNS, IN, DT, NNP, NNP, NNP, NNP, NNP, CD]</td>\n",
       "    </tr>\n",
       "    <tr>\n",
       "      <th>2</th>\n",
       "      <td>2</td>\n",
       "      <td>2</td>\n",
       "      <td>[17, 20, 21, 22, 24, 26, 28, 30, 31, 32, 33, 3...</td>\n",
       "      <td>[and, Sermons, and, addresses, 1948-1996, lect...</td>\n",
       "      <td>[CC, NNS, CC, NNS, JJ, NNS, JJ, NN, NNS, CC, N...</td>\n",
       "    </tr>\n",
       "    <tr>\n",
       "      <th>3</th>\n",
       "      <td>3</td>\n",
       "      <td>3</td>\n",
       "      <td>[113, 114, 115, 116, 117, 118, 119, 120, 121, ...</td>\n",
       "      <td>[Professor, James, Aitken, White, was, a, lead...</td>\n",
       "      <td>[NNP, NNP, NNP, NNP, VBD, DT, JJ, JJ, NN, CC, ...</td>\n",
       "    </tr>\n",
       "    <tr>\n",
       "      <th>4</th>\n",
       "      <td>3</td>\n",
       "      <td>4</td>\n",
       "      <td>[134, 135, 136, 137, 138, 139, 140, 141, 142, ...</td>\n",
       "      <td>[He, was, educated, at, Daniel, Stewart, 's, C...</td>\n",
       "      <td>[PRP, VBD, VBN, IN, NNP, NNP, POS, NNP, CC, DT...</td>\n",
       "    </tr>\n",
       "  </tbody>\n",
       "</table>\n",
       "</div>"
      ],
      "text/plain": [
       "   description_id  sentence_id  \\\n",
       "0               0            0   \n",
       "1               1            1   \n",
       "2               2            2   \n",
       "3               3            3   \n",
       "4               3            4   \n",
       "\n",
       "                                            token_id  \\\n",
       "0                                                [2]   \n",
       "1                    [5, 6, 7, 8, 9, 10, 11, 12, 14]   \n",
       "2  [17, 20, 21, 22, 24, 26, 28, 30, 31, 32, 33, 3...   \n",
       "3  [113, 114, 115, 116, 117, 118, 119, 120, 121, ...   \n",
       "4  [134, 135, 136, 137, 138, 139, 140, 141, 142, ...   \n",
       "\n",
       "                                               token  \\\n",
       "0                                              [AA5]   \n",
       "1  [Papers, of, The, Very, Rev, Prof, James, Whyt...   \n",
       "2  [and, Sermons, and, addresses, 1948-1996, lect...   \n",
       "3  [Professor, James, Aitken, White, was, a, lead...   \n",
       "4  [He, was, educated, at, Daniel, Stewart, 's, C...   \n",
       "\n",
       "                                                 pos  \n",
       "0                                               [NN]  \n",
       "1         [NNS, IN, DT, NNP, NNP, NNP, NNP, NNP, CD]  \n",
       "2  [CC, NNS, CC, NNS, JJ, NNS, JJ, NN, NNS, CC, N...  \n",
       "3  [NNP, NNP, NNP, NNP, VBD, DT, JJ, JJ, NN, CC, ...  \n",
       "4  [PRP, VBD, VBN, IN, NNP, NNP, POS, NNP, CC, DT...  "
      ]
     },
     "execution_count": 9,
     "metadata": {},
     "output_type": "execute_result"
    }
   ],
   "source": [
    "cols_to_groupby = [\"description_id\", \"sentence_id\"]\n",
    "cols_to_agg = [\"token_id\", \"token\", \"pos\"]\n",
    "agg_dict = dict.fromkeys(cols_to_agg, lambda x: x.tolist())\n",
    "df_sents = sub_df.groupby(cols_to_groupby).agg(agg_dict).reset_index()\n",
    "df_sents.head()"
   ]
  },
  {
   "cell_type": "code",
   "execution_count": 10,
   "id": "d2afd58c",
   "metadata": {},
   "outputs": [
    {
     "data": {
      "text/html": [
       "<div>\n",
       "<style scoped>\n",
       "    .dataframe tbody tr th:only-of-type {\n",
       "        vertical-align: middle;\n",
       "    }\n",
       "\n",
       "    .dataframe tbody tr th {\n",
       "        vertical-align: top;\n",
       "    }\n",
       "\n",
       "    .dataframe thead th {\n",
       "        text-align: right;\n",
       "    }\n",
       "</style>\n",
       "<table border=\"1\" class=\"dataframe\">\n",
       "  <thead>\n",
       "    <tr style=\"text-align: right;\">\n",
       "      <th></th>\n",
       "      <th>description_id</th>\n",
       "      <th>sentence_id</th>\n",
       "      <th>token_id</th>\n",
       "      <th>token</th>\n",
       "      <th>pos</th>\n",
       "    </tr>\n",
       "  </thead>\n",
       "  <tbody>\n",
       "    <tr>\n",
       "      <th>0</th>\n",
       "      <td>0</td>\n",
       "      <td>[0]</td>\n",
       "      <td>[[2]]</td>\n",
       "      <td>[[AA5]]</td>\n",
       "      <td>[[NN]]</td>\n",
       "    </tr>\n",
       "    <tr>\n",
       "      <th>1</th>\n",
       "      <td>1</td>\n",
       "      <td>[1]</td>\n",
       "      <td>[[5, 6, 7, 8, 9, 10, 11, 12, 14]]</td>\n",
       "      <td>[[Papers, of, The, Very, Rev, Prof, James, Why...</td>\n",
       "      <td>[[NNS, IN, DT, NNP, NNP, NNP, NNP, NNP, CD]]</td>\n",
       "    </tr>\n",
       "    <tr>\n",
       "      <th>2</th>\n",
       "      <td>2</td>\n",
       "      <td>[2]</td>\n",
       "      <td>[[17, 20, 21, 22, 24, 26, 28, 30, 31, 32, 33, ...</td>\n",
       "      <td>[[and, Sermons, and, addresses, 1948-1996, lec...</td>\n",
       "      <td>[[CC, NNS, CC, NNS, JJ, NNS, JJ, NN, NNS, CC, ...</td>\n",
       "    </tr>\n",
       "    <tr>\n",
       "      <th>3</th>\n",
       "      <td>3</td>\n",
       "      <td>[3, 4, 5, 6, 7, 8, 9, 10]</td>\n",
       "      <td>[[113, 114, 115, 116, 117, 118, 119, 120, 121,...</td>\n",
       "      <td>[[Professor, James, Aitken, White, was, a, lea...</td>\n",
       "      <td>[[NNP, NNP, NNP, NNP, VBD, DT, JJ, JJ, NN, CC,...</td>\n",
       "    </tr>\n",
       "    <tr>\n",
       "      <th>4</th>\n",
       "      <td>4</td>\n",
       "      <td>[11]</td>\n",
       "      <td>[[310]]</td>\n",
       "      <td>[[AA6]]</td>\n",
       "      <td>[[NN]]</td>\n",
       "    </tr>\n",
       "  </tbody>\n",
       "</table>\n",
       "</div>"
      ],
      "text/plain": [
       "   description_id                sentence_id  \\\n",
       "0               0                        [0]   \n",
       "1               1                        [1]   \n",
       "2               2                        [2]   \n",
       "3               3  [3, 4, 5, 6, 7, 8, 9, 10]   \n",
       "4               4                       [11]   \n",
       "\n",
       "                                            token_id  \\\n",
       "0                                              [[2]]   \n",
       "1                  [[5, 6, 7, 8, 9, 10, 11, 12, 14]]   \n",
       "2  [[17, 20, 21, 22, 24, 26, 28, 30, 31, 32, 33, ...   \n",
       "3  [[113, 114, 115, 116, 117, 118, 119, 120, 121,...   \n",
       "4                                            [[310]]   \n",
       "\n",
       "                                               token  \\\n",
       "0                                            [[AA5]]   \n",
       "1  [[Papers, of, The, Very, Rev, Prof, James, Why...   \n",
       "2  [[and, Sermons, and, addresses, 1948-1996, lec...   \n",
       "3  [[Professor, James, Aitken, White, was, a, lea...   \n",
       "4                                            [[AA6]]   \n",
       "\n",
       "                                                 pos  \n",
       "0                                             [[NN]]  \n",
       "1       [[NNS, IN, DT, NNP, NNP, NNP, NNP, NNP, CD]]  \n",
       "2  [[CC, NNS, CC, NNS, JJ, NNS, JJ, NN, NNS, CC, ...  \n",
       "3  [[NNP, NNP, NNP, NNP, VBD, DT, JJ, JJ, NN, CC,...  \n",
       "4                                             [[NN]]  "
      ]
     },
     "execution_count": 10,
     "metadata": {},
     "output_type": "execute_result"
    }
   ],
   "source": [
    "cols_to_groupby = [\"description_id\"]\n",
    "cols_to_agg = [\"sentence_id\", \"token_id\", \"token\", \"pos\"]\n",
    "agg_dict = dict.fromkeys(cols_to_agg, lambda x: x.tolist())\n",
    "df_descs = df_sents.groupby(cols_to_groupby).agg(agg_dict).reset_index()\n",
    "df_descs.head()"
   ]
  },
  {
   "cell_type": "code",
   "execution_count": 32,
   "id": "a79eefcb",
   "metadata": {},
   "outputs": [],
   "source": [
    "df_descs.to_csv(extracted_dir + \"uoe_descs.csv\")"
   ]
  },
  {
   "cell_type": "markdown",
   "id": "0047e264",
   "metadata": {},
   "source": [
    "## Exploratory Analysis"
   ]
  },
  {
   "cell_type": "code",
   "execution_count": 11,
   "id": "f636b56d",
   "metadata": {},
   "outputs": [
    {
     "name": "stdout",
     "output_type": "stream",
     "text": [
      "8\n",
      "['Professor', 'James', 'Aitken', 'White', 'was', 'a', 'leading', 'Scottish', 'Theologian', 'and', 'Moderator', 'of', 'the', 'General', 'Assembly', 'of', 'the', 'Church', 'of', 'Scotland']\n"
     ]
    }
   ],
   "source": [
    "sentences = list(df_descs[\"token\"])\n",
    "print(len(sentences[3]))\n",
    "print(sentences[3][0])"
   ]
  },
  {
   "cell_type": "code",
   "execution_count": 12,
   "id": "2a93a58a",
   "metadata": {},
   "outputs": [
    {
     "name": "stdout",
     "output_type": "stream",
     "text": [
      "['Papers', 'of', 'The', 'Very', 'Rev', 'Prof', 'James', 'Whyte', '1920-2005']\n",
      "9\n"
     ]
    }
   ],
   "source": [
    "tokens = list(df_tokens[\"token\"])  # one list of tokens per description\n",
    "print(tokens[1])\n",
    "print(len(tokens[1]))"
   ]
  },
  {
   "cell_type": "code",
   "execution_count": 13,
   "id": "8c97736e",
   "metadata": {},
   "outputs": [
    {
     "name": "stdout",
     "output_type": "stream",
     "text": [
      "['AA5', 'Papers', 'of', 'The', 'Very', 'Rev', 'Prof', 'James', 'Whyte', '1920-2005']\n"
     ]
    }
   ],
   "source": [
    "tokens_flat = list(sub_df[\"token\"])  # maintaining original capitalization\n",
    "print(tokens_flat[0:10])"
   ]
  },
  {
   "cell_type": "code",
   "execution_count": 14,
   "id": "2a3d5c72",
   "metadata": {},
   "outputs": [
    {
     "name": "stdout",
     "output_type": "stream",
     "text": [
      "['aa5', 'papers', 'of', 'the', 'very', 'rev', 'prof', 'james', 'whyte', '1920-2005']\n"
     ]
    }
   ],
   "source": [
    "tokens_flat_lower = [t.lower() for t in tokens_flat]  # lowercasing all tokens\n",
    "print(tokens_flat_lower[:10])"
   ]
  },
  {
   "cell_type": "markdown",
   "id": "0852f4b5",
   "metadata": {},
   "source": [
    "### Counts by Description"
   ]
  },
  {
   "cell_type": "code",
   "execution_count": 16,
   "id": "86349058",
   "metadata": {},
   "outputs": [
    {
     "name": "stdout",
     "output_type": "stream",
     "text": [
      "Mean: 1.5015494378783512\n",
      "Median: 1.0\n",
      "Standard Deviation: 5.377457449631\n",
      "Minimum: 1\n",
      "Maximum: 742\n"
     ]
    }
   ],
   "source": [
    "sentence_counts = [len(sentence_list) for sentence_list in sentences]  # count of sentences per description\n",
    "print(\"Mean:\", np.mean(sentence_counts))\n",
    "print(\"Median:\", np.median(sentence_counts))\n",
    "print(\"Standard Deviation:\", np.std(sentence_counts))\n",
    "print(\"Minimum:\", np.min(sentence_counts))\n",
    "print(\"Maximum:\", np.max(sentence_counts))"
   ]
  },
  {
   "cell_type": "code",
   "execution_count": 21,
   "id": "fefa30b0",
   "metadata": {},
   "outputs": [
    {
     "name": "stdout",
     "output_type": "stream",
     "text": [
      "Mean: 19.55300518881522\n",
      "Median: 10.0\n",
      "Standard Deviation: 97.62714507877716\n",
      "Minimum: 1\n",
      "Maximum: 14097\n"
     ]
    }
   ],
   "source": [
    "token_counts = [len(token_list) for token_list in tokens]  # count of tokens per description\n",
    "print(\"Mean:\", np.mean(token_counts))\n",
    "print(\"Median:\", np.median(token_counts))\n",
    "print(\"Standard Deviation:\", np.std(token_counts))\n",
    "print(\"Minimum:\", np.min(token_counts))\n",
    "print(\"Maximum:\", np.max(token_counts))"
   ]
  },
  {
   "cell_type": "code",
   "execution_count": 22,
   "id": "aaf55f4d",
   "metadata": {},
   "outputs": [
    {
     "data": {
      "text/html": [
       "<div>\n",
       "<style scoped>\n",
       "    .dataframe tbody tr th:only-of-type {\n",
       "        vertical-align: middle;\n",
       "    }\n",
       "\n",
       "    .dataframe tbody tr th {\n",
       "        vertical-align: top;\n",
       "    }\n",
       "\n",
       "    .dataframe thead th {\n",
       "        text-align: right;\n",
       "    }\n",
       "</style>\n",
       "<table border=\"1\" class=\"dataframe\">\n",
       "  <thead>\n",
       "    <tr style=\"text-align: right;\">\n",
       "      <th></th>\n",
       "      <th>sentences_per_description</th>\n",
       "      <th>tokens_per_description</th>\n",
       "    </tr>\n",
       "  </thead>\n",
       "  <tbody>\n",
       "    <tr>\n",
       "      <th>mean</th>\n",
       "      <td>1.501549</td>\n",
       "      <td>19.553005</td>\n",
       "    </tr>\n",
       "    <tr>\n",
       "      <th>median</th>\n",
       "      <td>1.000000</td>\n",
       "      <td>10.000000</td>\n",
       "    </tr>\n",
       "    <tr>\n",
       "      <th>standard_deviation</th>\n",
       "      <td>5.377457</td>\n",
       "      <td>97.627145</td>\n",
       "    </tr>\n",
       "    <tr>\n",
       "      <th>minimum</th>\n",
       "      <td>1.000000</td>\n",
       "      <td>1.000000</td>\n",
       "    </tr>\n",
       "    <tr>\n",
       "      <th>maximum</th>\n",
       "      <td>742.000000</td>\n",
       "      <td>14097.000000</td>\n",
       "    </tr>\n",
       "  </tbody>\n",
       "</table>\n",
       "</div>"
      ],
      "text/plain": [
       "                    sentences_per_description  tokens_per_description\n",
       "mean                                 1.501549               19.553005\n",
       "median                               1.000000               10.000000\n",
       "standard_deviation                   5.377457               97.627145\n",
       "minimum                              1.000000                1.000000\n",
       "maximum                            742.000000            14097.000000"
      ]
     },
     "execution_count": 22,
     "metadata": {},
     "output_type": "execute_result"
    }
   ],
   "source": [
    "df_by_desc = pd.DataFrame({\n",
    "    \"sentences_per_description\":[np.mean(sentence_counts), np.median(sentence_counts), np.std(sentence_counts), np.min(sentence_counts), np.max(sentence_counts)],\n",
    "    \"tokens_per_description\":[np.mean(token_counts), np.median(token_counts), np.std(token_counts), np.min(token_counts), np.max(token_counts)]\n",
    "}, index=[\"mean\", \"median\", \"standard_deviation\", \"minimum\", \"maximum\"])\n",
    "df_by_desc"
   ]
  },
  {
   "cell_type": "markdown",
   "id": "091cae9c",
   "metadata": {},
   "source": [
    "### Counts by Sentence"
   ]
  },
  {
   "cell_type": "code",
   "execution_count": 23,
   "id": "705d73ad",
   "metadata": {},
   "outputs": [
    {
     "name": "stdout",
     "output_type": "stream",
     "text": [
      "['AA5']\n",
      "[1, 9, 63, 20, 19, 23, 37, 16, 22, 19]\n"
     ]
    }
   ],
   "source": [
    "tokens_by_sentence = list(df_sents[\"token\"])\n",
    "token_counts_by_sentence = [len(s) for s in tokens_by_sentence]\n",
    "print(tokens_by_sentence[0])\n",
    "print(token_counts_by_sentence[:10])"
   ]
  },
  {
   "cell_type": "code",
   "execution_count": 24,
   "id": "e5bc59a8",
   "metadata": {},
   "outputs": [
    {
     "name": "stdout",
     "output_type": "stream",
     "text": [
      "Mean: 13.021885723884717\n",
      "Median: 9.0\n",
      "Standard Deviation: 14.97473738394984\n",
      "Minimum: 1\n",
      "Maximum: 551\n"
     ]
    }
   ],
   "source": [
    "print(\"Mean:\", np.mean(token_counts_by_sentence))\n",
    "print(\"Median:\", np.median(token_counts_by_sentence))\n",
    "print(\"Standard Deviation:\", np.std(token_counts_by_sentence))\n",
    "print(\"Minimum:\", np.min(token_counts_by_sentence))\n",
    "print(\"Maximum:\", np.max(token_counts_by_sentence))"
   ]
  },
  {
   "cell_type": "code",
   "execution_count": 25,
   "id": "4dcfbc87",
   "metadata": {},
   "outputs": [
    {
     "data": {
      "text/html": [
       "<div>\n",
       "<style scoped>\n",
       "    .dataframe tbody tr th:only-of-type {\n",
       "        vertical-align: middle;\n",
       "    }\n",
       "\n",
       "    .dataframe tbody tr th {\n",
       "        vertical-align: top;\n",
       "    }\n",
       "\n",
       "    .dataframe thead th {\n",
       "        text-align: right;\n",
       "    }\n",
       "</style>\n",
       "<table border=\"1\" class=\"dataframe\">\n",
       "  <thead>\n",
       "    <tr style=\"text-align: right;\">\n",
       "      <th></th>\n",
       "      <th>tokens_per_sentence</th>\n",
       "    </tr>\n",
       "  </thead>\n",
       "  <tbody>\n",
       "    <tr>\n",
       "      <th>mean</th>\n",
       "      <td>13.021886</td>\n",
       "    </tr>\n",
       "    <tr>\n",
       "      <th>median</th>\n",
       "      <td>9.000000</td>\n",
       "    </tr>\n",
       "    <tr>\n",
       "      <th>standard_deviation</th>\n",
       "      <td>14.974737</td>\n",
       "    </tr>\n",
       "    <tr>\n",
       "      <th>minimum</th>\n",
       "      <td>1.000000</td>\n",
       "    </tr>\n",
       "    <tr>\n",
       "      <th>maximum</th>\n",
       "      <td>551.000000</td>\n",
       "    </tr>\n",
       "  </tbody>\n",
       "</table>\n",
       "</div>"
      ],
      "text/plain": [
       "                    tokens_per_sentence\n",
       "mean                          13.021886\n",
       "median                         9.000000\n",
       "standard_deviation            14.974737\n",
       "minimum                        1.000000\n",
       "maximum                      551.000000"
      ]
     },
     "execution_count": 25,
     "metadata": {},
     "output_type": "execute_result"
    }
   ],
   "source": [
    "df_by_sent = pd.DataFrame({\n",
    "    \"tokens_per_sentence\":[np.mean(token_counts_by_sentence), np.median(token_counts_by_sentence), np.std(token_counts_by_sentence), np.min(token_counts_by_sentence), np.max(token_counts_by_sentence)]\n",
    "}, index=[\"mean\", \"median\", \"standard_deviation\", \"minimum\", \"maximum\"])\n",
    "df_by_sent"
   ]
  },
  {
   "cell_type": "code",
   "execution_count": 26,
   "id": "a95de00a",
   "metadata": {},
   "outputs": [
    {
     "data": {
      "text/html": [
       "<div>\n",
       "<style scoped>\n",
       "    .dataframe tbody tr th:only-of-type {\n",
       "        vertical-align: middle;\n",
       "    }\n",
       "\n",
       "    .dataframe tbody tr th {\n",
       "        vertical-align: top;\n",
       "    }\n",
       "\n",
       "    .dataframe thead th {\n",
       "        text-align: right;\n",
       "    }\n",
       "</style>\n",
       "<table border=\"1\" class=\"dataframe\">\n",
       "  <thead>\n",
       "    <tr style=\"text-align: right;\">\n",
       "      <th></th>\n",
       "      <th>sentences_per_description</th>\n",
       "      <th>tokens_per_description</th>\n",
       "      <th>tokens_per_sentence</th>\n",
       "    </tr>\n",
       "  </thead>\n",
       "  <tbody>\n",
       "    <tr>\n",
       "      <th>mean</th>\n",
       "      <td>1.501549</td>\n",
       "      <td>19.553005</td>\n",
       "      <td>13.021886</td>\n",
       "    </tr>\n",
       "    <tr>\n",
       "      <th>median</th>\n",
       "      <td>1.000000</td>\n",
       "      <td>10.000000</td>\n",
       "      <td>9.000000</td>\n",
       "    </tr>\n",
       "    <tr>\n",
       "      <th>standard_deviation</th>\n",
       "      <td>5.377457</td>\n",
       "      <td>97.627145</td>\n",
       "      <td>14.974737</td>\n",
       "    </tr>\n",
       "    <tr>\n",
       "      <th>minimum</th>\n",
       "      <td>1.000000</td>\n",
       "      <td>1.000000</td>\n",
       "      <td>1.000000</td>\n",
       "    </tr>\n",
       "    <tr>\n",
       "      <th>maximum</th>\n",
       "      <td>742.000000</td>\n",
       "      <td>14097.000000</td>\n",
       "      <td>551.000000</td>\n",
       "    </tr>\n",
       "  </tbody>\n",
       "</table>\n",
       "</div>"
      ],
      "text/plain": [
       "                    sentences_per_description  tokens_per_description  \\\n",
       "mean                                 1.501549               19.553005   \n",
       "median                               1.000000               10.000000   \n",
       "standard_deviation                   5.377457               97.627145   \n",
       "minimum                              1.000000                1.000000   \n",
       "maximum                            742.000000            14097.000000   \n",
       "\n",
       "                    tokens_per_sentence  \n",
       "mean                          13.021886  \n",
       "median                         9.000000  \n",
       "standard_deviation            14.974737  \n",
       "minimum                        1.000000  \n",
       "maximum                      551.000000  "
      ]
     },
     "execution_count": 26,
     "metadata": {},
     "output_type": "execute_result"
    }
   ],
   "source": [
    "df_stats = pd.concat([df_by_desc, df_by_sent], axis=1)\n",
    "df_stats"
   ]
  },
  {
   "cell_type": "markdown",
   "id": "f40d5112",
   "metadata": {},
   "source": [
    "### Counts Overall"
   ]
  },
  {
   "cell_type": "code",
   "execution_count": 27,
   "id": "67981fa5",
   "metadata": {},
   "outputs": [
    {
     "name": "stdout",
     "output_type": "stream",
     "text": [
      "Total descriptions: 27752\n",
      "Total sentences: 41671\n",
      "Total tokens: 542635\n"
     ]
    }
   ],
   "source": [
    "assert len(df_descs.description_id.unique()) == df_descs.shape[0]\n",
    "total_descriptions = df_descs.shape[0]\n",
    "print(\"Total descriptions:\", total_descriptions)\n",
    "assert len(df_sents.sentence_id.unique()) == df_sents.shape[0]\n",
    "total_sentences = df_sents.shape[0]\n",
    "print(\"Total sentences:\", total_sentences)\n",
    "assert (len(tokens_flat) == sum(token_counts))\n",
    "total_tokens = len(tokens_flat)\n",
    "print(\"Total tokens:\", total_tokens)"
   ]
  },
  {
   "cell_type": "code",
   "execution_count": 28,
   "id": "a51339ed",
   "metadata": {},
   "outputs": [
    {
     "name": "stdout",
     "output_type": "stream",
     "text": [
      "Unique tokens:  40949\n"
     ]
    }
   ],
   "source": [
    "print(\"Unique tokens: \", len(set(tokens_flat_lower)))"
   ]
  },
  {
   "cell_type": "code",
   "execution_count": 29,
   "id": "b994d6f6",
   "metadata": {},
   "outputs": [
    {
     "data": {
      "text/html": [
       "<div>\n",
       "<style scoped>\n",
       "    .dataframe tbody tr th:only-of-type {\n",
       "        vertical-align: middle;\n",
       "    }\n",
       "\n",
       "    .dataframe tbody tr th {\n",
       "        vertical-align: top;\n",
       "    }\n",
       "\n",
       "    .dataframe thead th {\n",
       "        text-align: right;\n",
       "    }\n",
       "</style>\n",
       "<table border=\"1\" class=\"dataframe\">\n",
       "  <thead>\n",
       "    <tr style=\"text-align: right;\">\n",
       "      <th></th>\n",
       "      <th>sentences_per_description</th>\n",
       "      <th>tokens_per_description</th>\n",
       "      <th>tokens_per_sentence</th>\n",
       "    </tr>\n",
       "  </thead>\n",
       "  <tbody>\n",
       "    <tr>\n",
       "      <th>total</th>\n",
       "      <td>41671</td>\n",
       "      <td>542635</td>\n",
       "      <td>542635</td>\n",
       "    </tr>\n",
       "  </tbody>\n",
       "</table>\n",
       "</div>"
      ],
      "text/plain": [
       "       sentences_per_description  tokens_per_description  tokens_per_sentence\n",
       "total                      41671                  542635               542635"
      ]
     },
     "execution_count": 29,
     "metadata": {},
     "output_type": "execute_result"
    }
   ],
   "source": [
    "df_total = pd.DataFrame({\"sentences_per_description\":total_sentences, \"tokens_per_description\":total_tokens, \"tokens_per_sentence\":total_tokens}, index=[\"total\"])\n",
    "df_total"
   ]
  },
  {
   "cell_type": "code",
   "execution_count": 30,
   "id": "c64b2c39",
   "metadata": {},
   "outputs": [
    {
     "data": {
      "text/html": [
       "<div>\n",
       "<style scoped>\n",
       "    .dataframe tbody tr th:only-of-type {\n",
       "        vertical-align: middle;\n",
       "    }\n",
       "\n",
       "    .dataframe tbody tr th {\n",
       "        vertical-align: top;\n",
       "    }\n",
       "\n",
       "    .dataframe thead th {\n",
       "        text-align: right;\n",
       "    }\n",
       "</style>\n",
       "<table border=\"1\" class=\"dataframe\">\n",
       "  <thead>\n",
       "    <tr style=\"text-align: right;\">\n",
       "      <th></th>\n",
       "      <th>sentences_per_description</th>\n",
       "      <th>tokens_per_description</th>\n",
       "      <th>tokens_per_sentence</th>\n",
       "    </tr>\n",
       "  </thead>\n",
       "  <tbody>\n",
       "    <tr>\n",
       "      <th>mean</th>\n",
       "      <td>1.501549</td>\n",
       "      <td>19.553005</td>\n",
       "      <td>13.021886</td>\n",
       "    </tr>\n",
       "    <tr>\n",
       "      <th>median</th>\n",
       "      <td>1.000000</td>\n",
       "      <td>10.000000</td>\n",
       "      <td>9.000000</td>\n",
       "    </tr>\n",
       "    <tr>\n",
       "      <th>standard_deviation</th>\n",
       "      <td>5.377457</td>\n",
       "      <td>97.627145</td>\n",
       "      <td>14.974737</td>\n",
       "    </tr>\n",
       "    <tr>\n",
       "      <th>minimum</th>\n",
       "      <td>1.000000</td>\n",
       "      <td>1.000000</td>\n",
       "      <td>1.000000</td>\n",
       "    </tr>\n",
       "    <tr>\n",
       "      <th>maximum</th>\n",
       "      <td>742.000000</td>\n",
       "      <td>14097.000000</td>\n",
       "      <td>551.000000</td>\n",
       "    </tr>\n",
       "    <tr>\n",
       "      <th>total</th>\n",
       "      <td>41671.000000</td>\n",
       "      <td>542635.000000</td>\n",
       "      <td>542635.000000</td>\n",
       "    </tr>\n",
       "  </tbody>\n",
       "</table>\n",
       "</div>"
      ],
      "text/plain": [
       "                    sentences_per_description  tokens_per_description  \\\n",
       "mean                                 1.501549               19.553005   \n",
       "median                               1.000000               10.000000   \n",
       "standard_deviation                   5.377457               97.627145   \n",
       "minimum                              1.000000                1.000000   \n",
       "maximum                            742.000000            14097.000000   \n",
       "total                            41671.000000           542635.000000   \n",
       "\n",
       "                    tokens_per_sentence  \n",
       "mean                          13.021886  \n",
       "median                         9.000000  \n",
       "standard_deviation            14.974737  \n",
       "minimum                        1.000000  \n",
       "maximum                      551.000000  \n",
       "total                     542635.000000  "
      ]
     },
     "execution_count": 30,
     "metadata": {},
     "output_type": "execute_result"
    }
   ],
   "source": [
    "df_stats = pd.concat([df_stats, df_total], axis=0)\n",
    "df_stats"
   ]
  },
  {
   "cell_type": "markdown",
   "id": "1632af13",
   "metadata": {},
   "source": [
    "Save the table of descriptive statistics as a CSV file."
   ]
  },
  {
   "cell_type": "code",
   "execution_count": 31,
   "id": "9bb6acb1",
   "metadata": {},
   "outputs": [],
   "source": [
    "df_stats.to_csv(extracted_dir + \"uoe_ead_descs_oct2020_stats.csv\")"
   ]
  },
  {
   "cell_type": "markdown",
   "id": "a2a49cec",
   "metadata": {},
   "source": [
    "### Root Forms\n",
    "#### Lemmatize & Stem"
   ]
  },
  {
   "cell_type": "code",
   "execution_count": 69,
   "id": "9a070c75",
   "metadata": {},
   "outputs": [],
   "source": [
    "stop_words = set(stopwords.words('english') + list(string.punctuation) + list(string.digits))"
   ]
  },
  {
   "cell_type": "code",
   "execution_count": 70,
   "id": "d55843ad",
   "metadata": {},
   "outputs": [
    {
     "name": "stdout",
     "output_type": "stream",
     "text": [
      "{'but', 'into', 'it', 'to', '?', \"he'll\", \"shan't\", '+', \"needn't\", 'should', '@', 'some', \"wouldn't\", 'because', \"she's\", 'having', 'did', 'their', '.', \"hadn't\", '\\\\', \"that'll\", \"wasn't\", 'while', '#', 'with', 's', 'any', 'does', 'here', 'mustn', 'other', \"we'll\", 'ours', 'ourselves', '!', 'most', '_', 'll', 'then', 'as', 'will', 'further', 'herself', 'her', ')', 'you', \"couldn't\", 'being', 'nor', 'by', 'do', 'o', '(', 'no', 'once', 'had', \"we've\", 'when', 'between', 'own', '}', \"i've\", \"i'm\", 'was', 'our', 'theirs', 'yourself', 'weren', ':', '0', 'are', 'yourselves', '>', '6', 'we', 'in', 'out', 'very', 'wasn', 'your', 'about', 'each', \"hasn't\", \"you've\", \"should've\", 'she', 'down', \"i'll\", 'has', \"won't\", 'few', 'those', '3', '<', \"haven't\", 'doesn', 'can', '{', 'until', 'he', \"i'd\", 'don', 'where', \"it'd\", 'both', \"shouldn't\", 'off', 'why', 'hasn', '\"', 'below', 'themselves', 'itself', 'and', \"mustn't\", 'who', ';', 'himself', 'his', 'through', 'after', '8', 'only', 'there', '*', 'hadn', 'this', '1', 'ain', 'over', 're', \"'\", 'yours', 'what', '9', 'against', 'too', \"you're\", 'all', 'ma', '/', 'myself', 'its', ',', \"they're\", 'not', 've', \"weren't\", '&', 'than', 'didn', 'shouldn', 'under', \"you'll\", '%', 'couldn', 'during', 'that', 'shan', 'just', 'them', 'have', '2', 'i', 'how', 't', '7', 'from', 'at', 'be', \"doesn't\", 'for', '5', 'y', \"he'd\", 'up', 'whom', \"mightn't\", 'mightn', 'if', '-', 'won', 'been', 'again', \"don't\", 'these', '`', '=', 'above', 'him', \"you'd\", \"he's\", '|', \"it's\", \"we're\", 'am', ']', 'aren', 'me', 'more', '[', 'd', 'a', \"aren't\", \"they'd\", \"isn't\", \"didn't\", 'or', 'the', 'hers', '4', 'same', 'my', 'isn', 'they', \"she'll\", 'now', \"it'll\", 'were', 'on', 'such', 'so', \"they'll\", '^', 'before', '$', \"she'd\", 'which', 'doing', '~', 'needn', 'm', 'haven', 'of', 'is', \"we'd\", 'wouldn', 'an', \"they've\"}\n"
     ]
    }
   ],
   "source": [
    "print(stop_words)"
   ]
  },
  {
   "cell_type": "code",
   "execution_count": null,
   "id": "ee9f2bfa",
   "metadata": {},
   "outputs": [],
   "source": [
    "filtered_tokens = [t for t in tokens_flat_lower if t not in stop_words]\n",
    "filtered_tokens = [t for t in filtered_tokens if t.isalpha()]\n",
    "filtered_tokens_fdist = FreqDist(filtered_tokens)"
   ]
  },
  {
   "cell_type": "code",
   "execution_count": 71,
   "id": "83ce7f6b",
   "metadata": {},
   "outputs": [
    {
     "name": "stdout",
     "output_type": "stream",
     "text": [
      "Total lemmas:  495600\n",
      "Total filtered lemmas:  321407\n",
      "Unique lemmas:  27999\n",
      "Unique filtered lemmas:  27869\n"
     ]
    }
   ],
   "source": [
    "wnl = nltk.WordNetLemmatizer()\n",
    "lemmas = [wnl.lemmatize(t) for t in tokens_flat_lower if t.isalpha()]\n",
    "filtered_lemmas = [l for l in lemmas if l not in stop_words]\n",
    "print(\"Total lemmas: \", len(lemmas))\n",
    "print(\"Total filtered lemmas: \", len(filtered_lemmas))\n",
    "print(\"Unique lemmas: \", len(set(lemmas)))\n",
    "print(\"Unique filtered lemmas: \", len(set(filtered_lemmas)))"
   ]
  },
  {
   "cell_type": "code",
   "execution_count": 72,
   "id": "aed2ca64",
   "metadata": {},
   "outputs": [
    {
     "name": "stdout",
     "output_type": "stream",
     "text": [
      "Total stems:  495600\n",
      "Total filtered stems:  326810\n",
      "Unique stems:  24379\n",
      "Unique filtered stems:  24264\n"
     ]
    }
   ],
   "source": [
    "ps = PorterStemmer()\n",
    "stems = [ps.stem(t) for t in tokens_flat_lower if t.isalpha()]\n",
    "filtered_stems = [s for s in stems if s not in stop_words]\n",
    "print(\"Total stems: \", len(stems))\n",
    "print(\"Total filtered stems: \", len(filtered_stems))\n",
    "print(\"Unique stems: \", len(set(stems)))\n",
    "print(\"Unique filtered stems: \", len(set(filtered_stems)))"
   ]
  },
  {
   "cell_type": "code",
   "execution_count": 73,
   "id": "7877b04b",
   "metadata": {},
   "outputs": [
    {
     "name": "stdout",
     "output_type": "stream",
     "text": [
      "['a', 'an', 'army', 'chaplain', 'and', 'then', 'in', 'wa', 'inducted', 'to']\n",
      "['as', 'an', 'armi', 'chaplain', 'and', 'then', 'in', 'wa', 'induct', 'to']\n"
     ]
    }
   ],
   "source": [
    "print(lemmas[100:110])\n",
    "print(stems[100:110])"
   ]
  },
  {
   "cell_type": "code",
   "execution_count": 80,
   "id": "ed33a64b",
   "metadata": {},
   "outputs": [
    {
     "name": "stdout",
     "output_type": "stream",
     "text": [
      "Total alphabetic tokens: 321023\n"
     ]
    }
   ],
   "source": [
    "print(\"Total alphabetic tokens:\", len(filtered_tokens))"
   ]
  },
  {
   "cell_type": "code",
   "execution_count": 83,
   "id": "f9848dc3",
   "metadata": {},
   "outputs": [
    {
     "data": {
      "text/plain": [
       "<Axes: title={'center': 'Top 30 most common alphabetic tokens'}, xlabel='Samples', ylabel='Counts'>"
      ]
     },
     "execution_count": 83,
     "metadata": {},
     "output_type": "execute_result"
    },
    {
     "data": {
      "image/png": "[encoded data removed]",
      "text/plain": [
       "<Figure size 800x400 with 1 Axes>"
      ]
     },
     "metadata": {},
     "output_type": "display_data"
    }
   ],
   "source": [
    "fdist_tokens = FreqDist(filtered_tokens)\n",
    "plt.figure(figsize=(8, 4))\n",
    "plt.rc('font', size=10)\n",
    "n = 30\n",
    "fdist_tokens.plot(n, title=f\"Top {n} most common alphabetic tokens\")"
   ]
  },
  {
   "cell_type": "code",
   "execution_count": 84,
   "id": "f8216c3b",
   "metadata": {},
   "outputs": [
    {
     "data": {
      "text/plain": [
       "<Axes: title={'center': 'Top 30 most common lemmas'}, xlabel='Samples', ylabel='Counts'>"
      ]
     },
     "execution_count": 84,
     "metadata": {},
     "output_type": "execute_result"
    },
    {
     "data": {
      "image/png": "[encoded data removed]",
      "text/plain": [
       "<Figure size 800x400 with 1 Axes>"
      ]
     },
     "metadata": {},
     "output_type": "display_data"
    }
   ],
   "source": [
    "fdist_lemmas = FreqDist(filtered_lemmas)\n",
    "plt.figure(figsize=(8, 4))\n",
    "plt.rc('font', size=10)\n",
    "n = 30 #10\n",
    "fdist_lemmas.plot(n, title=f\"Top {n} most common lemmas\")"
   ]
  },
  {
   "cell_type": "code",
   "execution_count": 82,
   "id": "3f01e185",
   "metadata": {},
   "outputs": [
    {
     "data": {
      "text/plain": [
       "<Axes: title={'center': 'Top 30 most common stems'}, xlabel='Samples', ylabel='Counts'>"
      ]
     },
     "execution_count": 82,
     "metadata": {},
     "output_type": "execute_result"
    },
    {
     "data": {
      "image/png": "[encoded data removed]",
      "text/plain": [
       "<Figure size 800x400 with 1 Axes>"
      ]
     },
     "metadata": {},
     "output_type": "display_data"
    }
   ],
   "source": [
    "fdist_stems = FreqDist(filtered_stems)\n",
    "plt.figure(figsize=(8, 4))\n",
    "plt.rc('font', size=10)\n",
    "n = 30 #10\n",
    "fdist_stems.plot(n, title=f\"Top {n} most common stems\")"
   ]
  },
  {
   "cell_type": "markdown",
   "id": "65bc304a",
   "metadata": {},
   "source": [
    "### Grammatically and Lexically Gendered Word Counts"
   ]
  },
  {
   "cell_type": "code",
   "execution_count": 15,
   "id": "8f1bcbf9",
   "metadata": {},
   "outputs": [],
   "source": [
    "word_list = [\n",
    "    \"woman\", \"women\", \"girl\", \"girls\", \"man\", \"men\", \"boy\", \"boys\", \n",
    "    \"she\", \"he\", \"her\", \"him\", \"hers\", \"his\",\n",
    "    \"mother\", \"father\", \"daughter\", \"son\", \"sister\", \"brother\",\n",
    "    \"aunt\", \"uncle\", \"niece\", \"nephew\", \"grandmother\", \"grandfather\",\n",
    "    \"granddaughter\", \"grandson\", \"wife\", \"husband\"\n",
    "    ]"
   ]
  },
  {
   "cell_type": "code",
   "execution_count": null,
   "id": "5eb96fbf",
   "metadata": {},
   "outputs": [
    {
     "data": {
      "text/html": [
       "<div>\n",
       "<style scoped>\n",
       "    .dataframe tbody tr th:only-of-type {\n",
       "        vertical-align: middle;\n",
       "    }\n",
       "\n",
       "    .dataframe tbody tr th {\n",
       "        vertical-align: top;\n",
       "    }\n",
       "\n",
       "    .dataframe thead th {\n",
       "        text-align: right;\n",
       "    }\n",
       "</style>\n",
       "<table border=\"1\" class=\"dataframe\">\n",
       "  <thead>\n",
       "    <tr style=\"text-align: right;\">\n",
       "      <th></th>\n",
       "      <th>word</th>\n",
       "      <th>count</th>\n",
       "    </tr>\n",
       "  </thead>\n",
       "  <tbody>\n",
       "    <tr>\n",
       "      <th>9</th>\n",
       "      <td>he</td>\n",
       "      <td>0</td>\n",
       "    </tr>\n",
       "    <tr>\n",
       "      <th>22</th>\n",
       "      <td>niece</td>\n",
       "      <td>0</td>\n",
       "    </tr>\n",
       "    <tr>\n",
       "      <th>13</th>\n",
       "      <td>his</td>\n",
       "      <td>0</td>\n",
       "    </tr>\n",
       "    <tr>\n",
       "      <th>12</th>\n",
       "      <td>hers</td>\n",
       "      <td>0</td>\n",
       "    </tr>\n",
       "    <tr>\n",
       "      <th>26</th>\n",
       "      <td>granddaughter</td>\n",
       "      <td>0</td>\n",
       "    </tr>\n",
       "    <tr>\n",
       "      <th>11</th>\n",
       "      <td>him</td>\n",
       "      <td>0</td>\n",
       "    </tr>\n",
       "    <tr>\n",
       "      <th>10</th>\n",
       "      <td>her</td>\n",
       "      <td>0</td>\n",
       "    </tr>\n",
       "    <tr>\n",
       "      <th>8</th>\n",
       "      <td>she</td>\n",
       "      <td>0</td>\n",
       "    </tr>\n",
       "    <tr>\n",
       "      <th>20</th>\n",
       "      <td>aunt</td>\n",
       "      <td>2</td>\n",
       "    </tr>\n",
       "    <tr>\n",
       "      <th>24</th>\n",
       "      <td>grandmother</td>\n",
       "      <td>4</td>\n",
       "    </tr>\n",
       "    <tr>\n",
       "      <th>27</th>\n",
       "      <td>grandson</td>\n",
       "      <td>4</td>\n",
       "    </tr>\n",
       "    <tr>\n",
       "      <th>23</th>\n",
       "      <td>nephew</td>\n",
       "      <td>5</td>\n",
       "    </tr>\n",
       "    <tr>\n",
       "      <th>25</th>\n",
       "      <td>grandfather</td>\n",
       "      <td>8</td>\n",
       "    </tr>\n",
       "    <tr>\n",
       "      <th>21</th>\n",
       "      <td>uncle</td>\n",
       "      <td>15</td>\n",
       "    </tr>\n",
       "    <tr>\n",
       "      <th>3</th>\n",
       "      <td>girls</td>\n",
       "      <td>23</td>\n",
       "    </tr>\n",
       "    <tr>\n",
       "      <th>29</th>\n",
       "      <td>husband</td>\n",
       "      <td>23</td>\n",
       "    </tr>\n",
       "    <tr>\n",
       "      <th>18</th>\n",
       "      <td>sister</td>\n",
       "      <td>27</td>\n",
       "    </tr>\n",
       "    <tr>\n",
       "      <th>2</th>\n",
       "      <td>girl</td>\n",
       "      <td>32</td>\n",
       "    </tr>\n",
       "    <tr>\n",
       "      <th>7</th>\n",
       "      <td>boys</td>\n",
       "      <td>48</td>\n",
       "    </tr>\n",
       "    <tr>\n",
       "      <th>6</th>\n",
       "      <td>boy</td>\n",
       "      <td>52</td>\n",
       "    </tr>\n",
       "    <tr>\n",
       "      <th>14</th>\n",
       "      <td>mother</td>\n",
       "      <td>53</td>\n",
       "    </tr>\n",
       "    <tr>\n",
       "      <th>16</th>\n",
       "      <td>daughter</td>\n",
       "      <td>60</td>\n",
       "    </tr>\n",
       "    <tr>\n",
       "      <th>19</th>\n",
       "      <td>brother</td>\n",
       "      <td>65</td>\n",
       "    </tr>\n",
       "    <tr>\n",
       "      <th>15</th>\n",
       "      <td>father</td>\n",
       "      <td>106</td>\n",
       "    </tr>\n",
       "    <tr>\n",
       "      <th>28</th>\n",
       "      <td>wife</td>\n",
       "      <td>109</td>\n",
       "    </tr>\n",
       "    <tr>\n",
       "      <th>17</th>\n",
       "      <td>son</td>\n",
       "      <td>145</td>\n",
       "    </tr>\n",
       "    <tr>\n",
       "      <th>1</th>\n",
       "      <td>women</td>\n",
       "      <td>157</td>\n",
       "    </tr>\n",
       "    <tr>\n",
       "      <th>0</th>\n",
       "      <td>woman</td>\n",
       "      <td>279</td>\n",
       "    </tr>\n",
       "    <tr>\n",
       "      <th>5</th>\n",
       "      <td>men</td>\n",
       "      <td>452</td>\n",
       "    </tr>\n",
       "    <tr>\n",
       "      <th>4</th>\n",
       "      <td>man</td>\n",
       "      <td>656</td>\n",
       "    </tr>\n",
       "  </tbody>\n",
       "</table>\n",
       "</div>"
      ],
      "text/plain": [
       "             word  count\n",
       "9              he      0\n",
       "22          niece      0\n",
       "13            his      0\n",
       "12           hers      0\n",
       "26  granddaughter      0\n",
       "11            him      0\n",
       "10            her      0\n",
       "8             she      0\n",
       "20           aunt      2\n",
       "24    grandmother      4\n",
       "27       grandson      4\n",
       "23         nephew      5\n",
       "25    grandfather      8\n",
       "21          uncle     15\n",
       "3           girls     23\n",
       "29        husband     23\n",
       "18         sister     27\n",
       "2            girl     32\n",
       "7            boys     48\n",
       "6             boy     52\n",
       "14         mother     53\n",
       "16       daughter     60\n",
       "19        brother     65\n",
       "15         father    106\n",
       "28           wife    109\n",
       "17            son    145\n",
       "1           women    157\n",
       "0           woman    279\n",
       "5             men    452\n",
       "4             man    656"
      ]
     },
     "metadata": {},
     "output_type": "display_data"
    }
   ],
   "source": [
    "\n",
    "lower_tokens_counts = []\n",
    "for w in word_list:\n",
    "    lower_tokens_counts += [filtered_tokens_fdist[w]]\n",
    "lower_tokens_df = pd.DataFrame({\"word\":word_list, \"count\":lower_tokens_counts})\n",
    "lower_tokens_df = lower_tokens_df.sort_values(by=\"count\")\n",
    "lower_tokens_df\n"
   ]
  },
  {
   "cell_type": "code",
   "execution_count": null,
   "id": "ba70679c",
   "metadata": {},
   "outputs": [],
   "source": [
    "lower_tokens_df.to_csv(extracted_dir+\"uoe_ead_gendered_lower_token_counts_oct2020.csv\", index=False)"
   ]
  },
  {
   "cell_type": "code",
   "execution_count": 16,
   "id": "b9047a13",
   "metadata": {},
   "outputs": [],
   "source": [
    "capitalized_word_list = [\n",
    "    \"Mrs\", \"Ms\", \"Miss\", \"Mr\", \"Messrs\", \"Lady\", \"Lord\",\n",
    "    \"gentleman\", \"gentlemen\", \"ladies\", \"lady\", \"Duke\", \"Duchess\",\n",
    "    \"King\", \"Queen\", \"Prince\", \"Princess\", \"Countess\", \"Count\",\n",
    "    \"Baroness\", \"Baron\", \"Viscountess\", \"Viscount\", \"Dame\", \"Sir\"\n",
    "    ]"
   ]
  },
  {
   "cell_type": "code",
   "execution_count": null,
   "id": "3c853bf5",
   "metadata": {},
   "outputs": [
    {
     "data": {
      "text/html": [
       "<div>\n",
       "<style scoped>\n",
       "    .dataframe tbody tr th:only-of-type {\n",
       "        vertical-align: middle;\n",
       "    }\n",
       "\n",
       "    .dataframe tbody tr th {\n",
       "        vertical-align: top;\n",
       "    }\n",
       "\n",
       "    .dataframe thead th {\n",
       "        text-align: right;\n",
       "    }\n",
       "</style>\n",
       "<table border=\"1\" class=\"dataframe\">\n",
       "  <thead>\n",
       "    <tr style=\"text-align: right;\">\n",
       "      <th></th>\n",
       "      <th>word</th>\n",
       "      <th>count</th>\n",
       "    </tr>\n",
       "  </thead>\n",
       "  <tbody>\n",
       "    <tr>\n",
       "      <th>21</th>\n",
       "      <td>Viscountess</td>\n",
       "      <td>0</td>\n",
       "    </tr>\n",
       "    <tr>\n",
       "      <th>19</th>\n",
       "      <td>Baroness</td>\n",
       "      <td>1</td>\n",
       "    </tr>\n",
       "    <tr>\n",
       "      <th>7</th>\n",
       "      <td>gentleman</td>\n",
       "      <td>1</td>\n",
       "    </tr>\n",
       "    <tr>\n",
       "      <th>8</th>\n",
       "      <td>gentlemen</td>\n",
       "      <td>1</td>\n",
       "    </tr>\n",
       "    <tr>\n",
       "      <th>1</th>\n",
       "      <td>Ms</td>\n",
       "      <td>2</td>\n",
       "    </tr>\n",
       "    <tr>\n",
       "      <th>10</th>\n",
       "      <td>lady</td>\n",
       "      <td>2</td>\n",
       "    </tr>\n",
       "    <tr>\n",
       "      <th>9</th>\n",
       "      <td>ladies</td>\n",
       "      <td>3</td>\n",
       "    </tr>\n",
       "    <tr>\n",
       "      <th>4</th>\n",
       "      <td>Messrs</td>\n",
       "      <td>4</td>\n",
       "    </tr>\n",
       "    <tr>\n",
       "      <th>23</th>\n",
       "      <td>Dame</td>\n",
       "      <td>5</td>\n",
       "    </tr>\n",
       "    <tr>\n",
       "      <th>18</th>\n",
       "      <td>Count</td>\n",
       "      <td>6</td>\n",
       "    </tr>\n",
       "    <tr>\n",
       "      <th>17</th>\n",
       "      <td>Countess</td>\n",
       "      <td>9</td>\n",
       "    </tr>\n",
       "    <tr>\n",
       "      <th>22</th>\n",
       "      <td>Viscount</td>\n",
       "      <td>10</td>\n",
       "    </tr>\n",
       "    <tr>\n",
       "      <th>20</th>\n",
       "      <td>Baron</td>\n",
       "      <td>15</td>\n",
       "    </tr>\n",
       "    <tr>\n",
       "      <th>16</th>\n",
       "      <td>Princess</td>\n",
       "      <td>21</td>\n",
       "    </tr>\n",
       "    <tr>\n",
       "      <th>12</th>\n",
       "      <td>Duchess</td>\n",
       "      <td>22</td>\n",
       "    </tr>\n",
       "    <tr>\n",
       "      <th>15</th>\n",
       "      <td>Prince</td>\n",
       "      <td>62</td>\n",
       "    </tr>\n",
       "    <tr>\n",
       "      <th>11</th>\n",
       "      <td>Duke</td>\n",
       "      <td>65</td>\n",
       "    </tr>\n",
       "    <tr>\n",
       "      <th>2</th>\n",
       "      <td>Miss</td>\n",
       "      <td>80</td>\n",
       "    </tr>\n",
       "    <tr>\n",
       "      <th>3</th>\n",
       "      <td>Mr</td>\n",
       "      <td>99</td>\n",
       "    </tr>\n",
       "    <tr>\n",
       "      <th>14</th>\n",
       "      <td>Queen</td>\n",
       "      <td>100</td>\n",
       "    </tr>\n",
       "    <tr>\n",
       "      <th>13</th>\n",
       "      <td>King</td>\n",
       "      <td>151</td>\n",
       "    </tr>\n",
       "    <tr>\n",
       "      <th>6</th>\n",
       "      <td>Lord</td>\n",
       "      <td>171</td>\n",
       "    </tr>\n",
       "    <tr>\n",
       "      <th>5</th>\n",
       "      <td>Lady</td>\n",
       "      <td>174</td>\n",
       "    </tr>\n",
       "    <tr>\n",
       "      <th>0</th>\n",
       "      <td>Mrs</td>\n",
       "      <td>184</td>\n",
       "    </tr>\n",
       "    <tr>\n",
       "      <th>24</th>\n",
       "      <td>Sir</td>\n",
       "      <td>406</td>\n",
       "    </tr>\n",
       "  </tbody>\n",
       "</table>\n",
       "</div>"
      ],
      "text/plain": [
       "           word  count\n",
       "21  Viscountess      0\n",
       "19     Baroness      1\n",
       "7     gentleman      1\n",
       "8     gentlemen      1\n",
       "1            Ms      2\n",
       "10         lady      2\n",
       "9        ladies      3\n",
       "4        Messrs      4\n",
       "23         Dame      5\n",
       "18        Count      6\n",
       "17     Countess      9\n",
       "22     Viscount     10\n",
       "20        Baron     15\n",
       "16     Princess     21\n",
       "12      Duchess     22\n",
       "15       Prince     62\n",
       "11         Duke     65\n",
       "2          Miss     80\n",
       "3            Mr     99\n",
       "14        Queen    100\n",
       "13         King    151\n",
       "6          Lord    171\n",
       "5          Lady    174\n",
       "0           Mrs    184\n",
       "24          Sir    406"
      ]
     },
     "metadata": {},
     "output_type": "display_data"
    }
   ],
   "source": [
    "cap_tokens_filtered = [t for t in tokens_flat if t.isalpha()]\n",
    "cap_tokens_filtered = [t for t in cap_tokens_filtered if t not in stop_words]\n",
    "cap_tokens_fdist = FreqDist(cap_tokens_filtered)\n",
    "cap_tokens_counts = []\n",
    "for w in capitalized_word_list:\n",
    "    cap_tokens_counts += [cap_tokens_fdist[w]]\n",
    "cap_tokens_df = pd.DataFrame({\"word\":capitalized_word_list, \"count\":cap_tokens_counts})\n",
    "cap_tokens_df = cap_tokens_df.sort_values(by=\"count\")\n",
    "cap_tokens_df"
   ]
  },
  {
   "cell_type": "code",
   "execution_count": null,
   "id": "f1192a8e",
   "metadata": {},
   "outputs": [],
   "source": [
    "cap_tokens_df.to_csv(extracted_dir+\"uoe_ead_gendered_capitalized_token_counts_oct2020.csv\", index=False)"
   ]
  },
  {
   "cell_type": "markdown",
   "id": "c44057f2",
   "metadata": {},
   "source": [
    "## Part of Speech Tagging\n",
    "\n",
    "Use NLTK's default part-of-speech tagger to analyze the adjectives and adverbs of the descriptive metadata."
   ]
  },
  {
   "cell_type": "code",
   "execution_count": 90,
   "id": "cd8ea224",
   "metadata": {},
   "outputs": [
    {
     "data": {
      "text/html": [
       "<div>\n",
       "<style scoped>\n",
       "    .dataframe tbody tr th:only-of-type {\n",
       "        vertical-align: middle;\n",
       "    }\n",
       "\n",
       "    .dataframe tbody tr th {\n",
       "        vertical-align: top;\n",
       "    }\n",
       "\n",
       "    .dataframe thead th {\n",
       "        text-align: right;\n",
       "    }\n",
       "</style>\n",
       "<table border=\"1\" class=\"dataframe\">\n",
       "  <thead>\n",
       "    <tr style=\"text-align: right;\">\n",
       "      <th></th>\n",
       "      <th>description_id</th>\n",
       "      <th>sentence_id</th>\n",
       "      <th>token_id</th>\n",
       "      <th>token</th>\n",
       "      <th>pos</th>\n",
       "    </tr>\n",
       "  </thead>\n",
       "  <tbody>\n",
       "    <tr>\n",
       "      <th>2</th>\n",
       "      <td>0</td>\n",
       "      <td>0</td>\n",
       "      <td>2</td>\n",
       "      <td>AA5</td>\n",
       "      <td>NN</td>\n",
       "    </tr>\n",
       "    <tr>\n",
       "      <th>5</th>\n",
       "      <td>1</td>\n",
       "      <td>1</td>\n",
       "      <td>5</td>\n",
       "      <td>Papers</td>\n",
       "      <td>NNS</td>\n",
       "    </tr>\n",
       "    <tr>\n",
       "      <th>6</th>\n",
       "      <td>1</td>\n",
       "      <td>1</td>\n",
       "      <td>6</td>\n",
       "      <td>of</td>\n",
       "      <td>IN</td>\n",
       "    </tr>\n",
       "    <tr>\n",
       "      <th>7</th>\n",
       "      <td>1</td>\n",
       "      <td>1</td>\n",
       "      <td>7</td>\n",
       "      <td>The</td>\n",
       "      <td>DT</td>\n",
       "    </tr>\n",
       "    <tr>\n",
       "      <th>10</th>\n",
       "      <td>1</td>\n",
       "      <td>1</td>\n",
       "      <td>8</td>\n",
       "      <td>Very</td>\n",
       "      <td>NNP</td>\n",
       "    </tr>\n",
       "  </tbody>\n",
       "</table>\n",
       "</div>"
      ],
      "text/plain": [
       "    description_id  sentence_id  token_id   token  pos\n",
       "2                0            0         2     AA5   NN\n",
       "5                1            1         5  Papers  NNS\n",
       "6                1            1         6      of   IN\n",
       "7                1            1         7     The   DT\n",
       "10               1            1         8    Very  NNP"
      ]
     },
     "execution_count": 90,
     "metadata": {},
     "output_type": "execute_result"
    }
   ],
   "source": [
    "sub_df.head()"
   ]
  },
  {
   "cell_type": "code",
   "execution_count": 92,
   "id": "7bd4b8f6",
   "metadata": {},
   "outputs": [
    {
     "data": {
      "text/html": [
       "<div>\n",
       "<style scoped>\n",
       "    .dataframe tbody tr th:only-of-type {\n",
       "        vertical-align: middle;\n",
       "    }\n",
       "\n",
       "    .dataframe tbody tr th {\n",
       "        vertical-align: top;\n",
       "    }\n",
       "\n",
       "    .dataframe thead th {\n",
       "        text-align: right;\n",
       "    }\n",
       "</style>\n",
       "<table border=\"1\" class=\"dataframe\">\n",
       "  <thead>\n",
       "    <tr style=\"text-align: right;\">\n",
       "      <th></th>\n",
       "      <th>description_id</th>\n",
       "      <th>sentence_id</th>\n",
       "      <th>token_id</th>\n",
       "      <th>token</th>\n",
       "      <th>pos</th>\n",
       "    </tr>\n",
       "  </thead>\n",
       "  <tbody>\n",
       "    <tr>\n",
       "      <th>779264</th>\n",
       "      <td>27907</td>\n",
       "      <td>42029</td>\n",
       "      <td>753926</td>\n",
       "      <td>Court</td>\n",
       "      <td>NNP</td>\n",
       "    </tr>\n",
       "    <tr>\n",
       "      <th>779265</th>\n",
       "      <td>27907</td>\n",
       "      <td>42029</td>\n",
       "      <td>753927</td>\n",
       "      <td>cases</td>\n",
       "      <td>NNS</td>\n",
       "    </tr>\n",
       "    <tr>\n",
       "      <th>779266</th>\n",
       "      <td>27907</td>\n",
       "      <td>42029</td>\n",
       "      <td>753928</td>\n",
       "      <td>involving</td>\n",
       "      <td>VBG</td>\n",
       "    </tr>\n",
       "    <tr>\n",
       "      <th>779267</th>\n",
       "      <td>27907</td>\n",
       "      <td>42029</td>\n",
       "      <td>753929</td>\n",
       "      <td>homosexual</td>\n",
       "      <td>JJ</td>\n",
       "    </tr>\n",
       "    <tr>\n",
       "      <th>779268</th>\n",
       "      <td>27907</td>\n",
       "      <td>42029</td>\n",
       "      <td>753930</td>\n",
       "      <td>offences</td>\n",
       "      <td>NNS</td>\n",
       "    </tr>\n",
       "  </tbody>\n",
       "</table>\n",
       "</div>"
      ],
      "text/plain": [
       "        description_id  sentence_id  token_id       token  pos\n",
       "779264           27907        42029    753926       Court  NNP\n",
       "779265           27907        42029    753927       cases  NNS\n",
       "779266           27907        42029    753928   involving  VBG\n",
       "779267           27907        42029    753929  homosexual   JJ\n",
       "779268           27907        42029    753930    offences  NNS"
      ]
     },
     "execution_count": 92,
     "metadata": {},
     "output_type": "execute_result"
    }
   ],
   "source": [
    "sub_df.tail()"
   ]
  },
  {
   "cell_type": "code",
   "execution_count": 93,
   "id": "f746a3b0",
   "metadata": {},
   "outputs": [
    {
     "data": {
      "text/html": [
       "<div>\n",
       "<style scoped>\n",
       "    .dataframe tbody tr th:only-of-type {\n",
       "        vertical-align: middle;\n",
       "    }\n",
       "\n",
       "    .dataframe tbody tr th {\n",
       "        vertical-align: top;\n",
       "    }\n",
       "\n",
       "    .dataframe thead th {\n",
       "        text-align: right;\n",
       "    }\n",
       "</style>\n",
       "<table border=\"1\" class=\"dataframe\">\n",
       "  <thead>\n",
       "    <tr style=\"text-align: right;\">\n",
       "      <th></th>\n",
       "      <th>description_id</th>\n",
       "      <th>sentence_id</th>\n",
       "      <th>token_id</th>\n",
       "      <th>token</th>\n",
       "      <th>pos</th>\n",
       "    </tr>\n",
       "  </thead>\n",
       "  <tbody>\n",
       "    <tr>\n",
       "      <th>2</th>\n",
       "      <td>0</td>\n",
       "      <td>0</td>\n",
       "      <td>2</td>\n",
       "      <td>AA5</td>\n",
       "      <td>NN</td>\n",
       "    </tr>\n",
       "    <tr>\n",
       "      <th>5</th>\n",
       "      <td>1</td>\n",
       "      <td>1</td>\n",
       "      <td>5</td>\n",
       "      <td>Papers</td>\n",
       "      <td>NNS</td>\n",
       "    </tr>\n",
       "    <tr>\n",
       "      <th>6</th>\n",
       "      <td>1</td>\n",
       "      <td>1</td>\n",
       "      <td>6</td>\n",
       "      <td>of</td>\n",
       "      <td>IN</td>\n",
       "    </tr>\n",
       "    <tr>\n",
       "      <th>7</th>\n",
       "      <td>1</td>\n",
       "      <td>1</td>\n",
       "      <td>7</td>\n",
       "      <td>The</td>\n",
       "      <td>DT</td>\n",
       "    </tr>\n",
       "    <tr>\n",
       "      <th>10</th>\n",
       "      <td>1</td>\n",
       "      <td>1</td>\n",
       "      <td>8</td>\n",
       "      <td>Very</td>\n",
       "      <td>NNP</td>\n",
       "    </tr>\n",
       "  </tbody>\n",
       "</table>\n",
       "</div>"
      ],
      "text/plain": [
       "    description_id  sentence_id  token_id   token  pos\n",
       "2                0            0         2     AA5   NN\n",
       "5                1            1         5  Papers  NNS\n",
       "6                1            1         6      of   IN\n",
       "7                1            1         7     The   DT\n",
       "10               1            1         8    Very  NNP"
      ]
     },
     "execution_count": 93,
     "metadata": {},
     "output_type": "execute_result"
    }
   ],
   "source": [
    "sub_df.to_csv(extracted_dir + \"uoe_ead_descs_oct2020_pos_tags.csv\", index=False)\n",
    "# df_pos = pd.read_csv(extracted_dir + \"uoe_ead_descs_oct2020_pos_tags.csv\")\n",
    "df_pos = sub_df\n",
    "df_pos.head()"
   ]
  },
  {
   "cell_type": "code",
   "execution_count": null,
   "id": "627ddc59",
   "metadata": {},
   "outputs": [
    {
     "data": {
      "text/plain": [
       "(542635, 5)"
      ]
     },
     "execution_count": 94,
     "metadata": {},
     "output_type": "execute_result"
    }
   ],
   "source": [
    "df_pos.shape  # (542635, 5)"
   ]
  },
  {
   "cell_type": "markdown",
   "id": "d82d8576",
   "metadata": {},
   "source": [
    "Confirm there are no `nan` values in the part-of-speech tag column, `pos`, that need to be replaced with with an empty string (the entire column should only contain string values)."
   ]
  },
  {
   "cell_type": "code",
   "execution_count": null,
   "id": "02da28e1",
   "metadata": {},
   "outputs": [
    {
     "name": "stdout",
     "output_type": "stream",
     "text": [
      "['NN' 'NNS' 'IN' 'DT' 'NNP' 'CD' 'CC' 'JJ' 'RB' 'VBD' 'PRP' 'VBN' 'POS'\n",
      " 'WRB' 'PRP$' 'TO' 'VB' 'VBG' 'WDT' 'VBP' 'JJR' 'VBZ' 'WP' 'JJS' 'NNPS'\n",
      " 'MD' '$' 'RBR' '...' '..' 'RP' \"''\" 'EX' 'PDT' 'SYM' 'FW' 'WP$' '–' 'UH'\n",
      " '``' 'RBS' '--' '…' '×' '—' '©' '……' '•']\n"
     ]
    }
   ],
   "source": [
    "print(df_pos[\"pos\"].unique())"
   ]
  },
  {
   "cell_type": "markdown",
   "id": "8c8cef3e",
   "metadata": {},
   "source": [
    "You can see what each of these tags indicates [here](https://www.ling.upenn.edu/courses/Fall_2003/ling001/penn_treebank_pos.html).  We're particularly interested in adjectives and adverbs, which are represented with the following tags:\n",
    "* `JJ` - adjective\n",
    "* `JJR` - comparative adjective\n",
    "* `JJS` - superlative adjective\n",
    "* `RB` - adverb\n",
    "* `RBR` - comparative adverb\n",
    "* `RBS` - superlative adverb"
   ]
  },
  {
   "cell_type": "code",
   "execution_count": 96,
   "id": "53b4f05a",
   "metadata": {},
   "outputs": [
    {
     "name": "stdout",
     "output_type": "stream",
     "text": [
      "31840 307 285\n"
     ]
    }
   ],
   "source": [
    "df_jj = df_pos.loc[df_pos[\"pos\"] == \"JJ\"]\n",
    "df_jjr = df_pos.loc[df_pos[\"pos\"] == \"JJR\"]\n",
    "df_jjs = df_pos.loc[df_pos[\"pos\"] == \"JJS\"]\n",
    "print(df_jj.shape[0], df_jjr.shape[0], df_jjs.shape[0])"
   ]
  },
  {
   "cell_type": "code",
   "execution_count": 97,
   "id": "8ee3afe8",
   "metadata": {},
   "outputs": [
    {
     "name": "stdout",
     "output_type": "stream",
     "text": [
      "Total adjectives: 32432\n"
     ]
    },
    {
     "data": {
      "text/html": [
       "<div>\n",
       "<style scoped>\n",
       "    .dataframe tbody tr th:only-of-type {\n",
       "        vertical-align: middle;\n",
       "    }\n",
       "\n",
       "    .dataframe tbody tr th {\n",
       "        vertical-align: top;\n",
       "    }\n",
       "\n",
       "    .dataframe thead th {\n",
       "        text-align: right;\n",
       "    }\n",
       "</style>\n",
       "<table border=\"1\" class=\"dataframe\">\n",
       "  <thead>\n",
       "    <tr style=\"text-align: right;\">\n",
       "      <th></th>\n",
       "      <th>description_id</th>\n",
       "      <th>sentence_id</th>\n",
       "      <th>token_id</th>\n",
       "      <th>token</th>\n",
       "      <th>pos</th>\n",
       "    </tr>\n",
       "  </thead>\n",
       "  <tbody>\n",
       "    <tr>\n",
       "      <th>40</th>\n",
       "      <td>2</td>\n",
       "      <td>2</td>\n",
       "      <td>24</td>\n",
       "      <td>1948-1996</td>\n",
       "      <td>JJ</td>\n",
       "    </tr>\n",
       "    <tr>\n",
       "      <th>44</th>\n",
       "      <td>2</td>\n",
       "      <td>2</td>\n",
       "      <td>28</td>\n",
       "      <td>1949-1982</td>\n",
       "      <td>JJ</td>\n",
       "    </tr>\n",
       "    <tr>\n",
       "      <th>52</th>\n",
       "      <td>2</td>\n",
       "      <td>2</td>\n",
       "      <td>36</td>\n",
       "      <td>1949-1982</td>\n",
       "      <td>JJ</td>\n",
       "    </tr>\n",
       "    <tr>\n",
       "      <th>56</th>\n",
       "      <td>2</td>\n",
       "      <td>2</td>\n",
       "      <td>40</td>\n",
       "      <td>1988-1989</td>\n",
       "      <td>JJ</td>\n",
       "    </tr>\n",
       "    <tr>\n",
       "      <th>58</th>\n",
       "      <td>2</td>\n",
       "      <td>2</td>\n",
       "      <td>42</td>\n",
       "      <td>1964-1970</td>\n",
       "      <td>JJ</td>\n",
       "    </tr>\n",
       "  </tbody>\n",
       "</table>\n",
       "</div>"
      ],
      "text/plain": [
       "    description_id  sentence_id  token_id      token pos\n",
       "40               2            2        24  1948-1996  JJ\n",
       "44               2            2        28  1949-1982  JJ\n",
       "52               2            2        36  1949-1982  JJ\n",
       "56               2            2        40  1988-1989  JJ\n",
       "58               2            2        42  1964-1970  JJ"
      ]
     },
     "execution_count": 97,
     "metadata": {},
     "output_type": "execute_result"
    }
   ],
   "source": [
    "df_adj = pd.concat([df_jj, df_jjr, df_jjs], axis=0)\n",
    "print(\"Total adjectives:\", df_adj.shape[0])\n",
    "df_adj.head()"
   ]
  },
  {
   "cell_type": "markdown",
   "id": "404d5fb0",
   "metadata": {},
   "source": [
    "Create a table of all the tokens tagged as adjectives (i.e., `JJ`, `JJR`, and `JJS`) with a count of their occurrence across the EAD metadata descriptions extracted from NUSC's catalog."
   ]
  },
  {
   "cell_type": "code",
   "execution_count": 98,
   "id": "586a41e6",
   "metadata": {},
   "outputs": [
    {
     "data": {
      "text/html": [
       "<div>\n",
       "<style scoped>\n",
       "    .dataframe tbody tr th:only-of-type {\n",
       "        vertical-align: middle;\n",
       "    }\n",
       "\n",
       "    .dataframe tbody tr th {\n",
       "        vertical-align: top;\n",
       "    }\n",
       "\n",
       "    .dataframe thead th {\n",
       "        text-align: right;\n",
       "    }\n",
       "</style>\n",
       "<table border=\"1\" class=\"dataframe\">\n",
       "  <thead>\n",
       "    <tr style=\"text-align: right;\">\n",
       "      <th></th>\n",
       "      <th>count</th>\n",
       "    </tr>\n",
       "    <tr>\n",
       "      <th>token</th>\n",
       "      <th></th>\n",
       "    </tr>\n",
       "  </thead>\n",
       "  <tbody>\n",
       "    <tr>\n",
       "      <th>20th</th>\n",
       "      <td>2143</td>\n",
       "    </tr>\n",
       "    <tr>\n",
       "      <th>early</th>\n",
       "      <td>1552</td>\n",
       "    </tr>\n",
       "    <tr>\n",
       "      <th>late</th>\n",
       "      <td>465</td>\n",
       "    </tr>\n",
       "    <tr>\n",
       "      <th>various</th>\n",
       "      <td>433</td>\n",
       "    </tr>\n",
       "    <tr>\n",
       "      <th>Scottish</th>\n",
       "      <td>413</td>\n",
       "    </tr>\n",
       "  </tbody>\n",
       "</table>\n",
       "</div>"
      ],
      "text/plain": [
       "          count\n",
       "token          \n",
       "20th       2143\n",
       "early      1552\n",
       "late        465\n",
       "various     433\n",
       "Scottish    413"
      ]
     },
     "execution_count": 98,
     "metadata": {},
     "output_type": "execute_result"
    }
   ],
   "source": [
    "sub_df_adj = df_adj[[\"pos\", \"token\"]]\n",
    "cols_to_agg = [\"pos\"]\n",
    "cols_to_groupby = [\"token\"]\n",
    "agg_dict = dict.fromkeys(cols_to_agg, lambda x: len(x.tolist()))\n",
    "df_adj_tokens = sub_df_adj.groupby(cols_to_groupby).agg(agg_dict).reset_index().set_index(cols_to_groupby)\n",
    "df_adj_tokens = df_adj_tokens.rename(columns={\"pos\": \"count\"})\n",
    "df_adj_tokens = df_adj_tokens.sort_values(by=\"count\", ascending=False)\n",
    "df_adj_tokens.head()"
   ]
  },
  {
   "cell_type": "code",
   "execution_count": 99,
   "id": "547f93f8",
   "metadata": {},
   "outputs": [],
   "source": [
    "df_adj_tokens.to_csv(extracted_dir + \"uoe_descs_oct2020_nltk_adj_token_counts.csv\")"
   ]
  },
  {
   "cell_type": "markdown",
   "id": "62b585bd",
   "metadata": {},
   "source": [
    "Now do the same with tokens tagged as adverbs (i.e., `RB`, `RBR`, and `RBS`)."
   ]
  },
  {
   "cell_type": "code",
   "execution_count": 100,
   "id": "81e9670e",
   "metadata": {},
   "outputs": [
    {
     "name": "stdout",
     "output_type": "stream",
     "text": [
      "5614 95 54\n"
     ]
    }
   ],
   "source": [
    "df_rb = df_pos.loc[df_pos[\"pos\"] == \"RB\"]\n",
    "df_rbr = df_pos.loc[df_pos[\"pos\"] == \"RBR\"]\n",
    "df_rbs = df_pos.loc[df_pos[\"pos\"] == \"RBS\"]\n",
    "print(df_rb.shape[0], df_rbr.shape[0], df_rbs.shape[0])"
   ]
  },
  {
   "cell_type": "code",
   "execution_count": 101,
   "id": "ec6df246",
   "metadata": {},
   "outputs": [
    {
     "name": "stdout",
     "output_type": "stream",
     "text": [
      "Total adverbs: 5763\n"
     ]
    },
    {
     "data": {
      "text/html": [
       "<div>\n",
       "<style scoped>\n",
       "    .dataframe tbody tr th:only-of-type {\n",
       "        vertical-align: middle;\n",
       "    }\n",
       "\n",
       "    .dataframe tbody tr th {\n",
       "        vertical-align: top;\n",
       "    }\n",
       "\n",
       "    .dataframe thead th {\n",
       "        text-align: right;\n",
       "    }\n",
       "</style>\n",
       "<table border=\"1\" class=\"dataframe\">\n",
       "  <thead>\n",
       "    <tr style=\"text-align: right;\">\n",
       "      <th></th>\n",
       "      <th>description_id</th>\n",
       "      <th>sentence_id</th>\n",
       "      <th>token_id</th>\n",
       "      <th>token</th>\n",
       "      <th>pos</th>\n",
       "    </tr>\n",
       "  </thead>\n",
       "  <tbody>\n",
       "    <tr>\n",
       "      <th>118</th>\n",
       "      <td>2</td>\n",
       "      <td>2</td>\n",
       "      <td>102</td>\n",
       "      <td>also</td>\n",
       "      <td>RB</td>\n",
       "    </tr>\n",
       "    <tr>\n",
       "      <th>184</th>\n",
       "      <td>3</td>\n",
       "      <td>5</td>\n",
       "      <td>166</td>\n",
       "      <td>then</td>\n",
       "      <td>RB</td>\n",
       "    </tr>\n",
       "    <tr>\n",
       "      <th>245</th>\n",
       "      <td>3</td>\n",
       "      <td>7</td>\n",
       "      <td>227</td>\n",
       "      <td>also</td>\n",
       "      <td>RB</td>\n",
       "    </tr>\n",
       "    <tr>\n",
       "      <th>283</th>\n",
       "      <td>3</td>\n",
       "      <td>9</td>\n",
       "      <td>265</td>\n",
       "      <td>widely</td>\n",
       "      <td>RB</td>\n",
       "    </tr>\n",
       "    <tr>\n",
       "      <th>427</th>\n",
       "      <td>6</td>\n",
       "      <td>14</td>\n",
       "      <td>406</td>\n",
       "      <td>also</td>\n",
       "      <td>RB</td>\n",
       "    </tr>\n",
       "  </tbody>\n",
       "</table>\n",
       "</div>"
      ],
      "text/plain": [
       "     description_id  sentence_id  token_id   token pos\n",
       "118               2            2       102    also  RB\n",
       "184               3            5       166    then  RB\n",
       "245               3            7       227    also  RB\n",
       "283               3            9       265  widely  RB\n",
       "427               6           14       406    also  RB"
      ]
     },
     "execution_count": 101,
     "metadata": {},
     "output_type": "execute_result"
    }
   ],
   "source": [
    "df_adv = pd.concat([df_rb, df_rbr, df_rbs], axis=0)\n",
    "print(\"Total adverbs:\", df_adv.shape[0])\n",
    "df_adv.head()"
   ]
  },
  {
   "cell_type": "code",
   "execution_count": 102,
   "id": "225413b4",
   "metadata": {},
   "outputs": [
    {
     "data": {
      "text/html": [
       "<div>\n",
       "<style scoped>\n",
       "    .dataframe tbody tr th:only-of-type {\n",
       "        vertical-align: middle;\n",
       "    }\n",
       "\n",
       "    .dataframe tbody tr th {\n",
       "        vertical-align: top;\n",
       "    }\n",
       "\n",
       "    .dataframe thead th {\n",
       "        text-align: right;\n",
       "    }\n",
       "</style>\n",
       "<table border=\"1\" class=\"dataframe\">\n",
       "  <thead>\n",
       "    <tr style=\"text-align: right;\">\n",
       "      <th></th>\n",
       "      <th>count</th>\n",
       "    </tr>\n",
       "    <tr>\n",
       "      <th>token</th>\n",
       "      <th></th>\n",
       "    </tr>\n",
       "  </thead>\n",
       "  <tbody>\n",
       "    <tr>\n",
       "      <th>also</th>\n",
       "      <td>591</td>\n",
       "    </tr>\n",
       "    <tr>\n",
       "      <th>not</th>\n",
       "      <td>411</td>\n",
       "    </tr>\n",
       "    <tr>\n",
       "      <th>early</th>\n",
       "      <td>405</td>\n",
       "    </tr>\n",
       "    <tr>\n",
       "      <th>then</th>\n",
       "      <td>297</td>\n",
       "    </tr>\n",
       "    <tr>\n",
       "      <th>Also</th>\n",
       "      <td>208</td>\n",
       "    </tr>\n",
       "  </tbody>\n",
       "</table>\n",
       "</div>"
      ],
      "text/plain": [
       "       count\n",
       "token       \n",
       "also     591\n",
       "not      411\n",
       "early    405\n",
       "then     297\n",
       "Also     208"
      ]
     },
     "execution_count": 102,
     "metadata": {},
     "output_type": "execute_result"
    }
   ],
   "source": [
    "sub_df_adv = df_adv[[\"pos\", \"token\"]]\n",
    "cols_to_agg = [\"pos\"]\n",
    "cols_to_groupby = [\"token\"]\n",
    "agg_dict = dict.fromkeys(cols_to_agg, lambda x: len(x.tolist()))\n",
    "df_adv_tokens = sub_df_adv.groupby(cols_to_groupby).agg(agg_dict).reset_index().set_index(cols_to_groupby)\n",
    "df_adv_tokens = df_adv_tokens.rename(columns={\"pos\": \"count\"})\n",
    "df_adv_tokens = df_adv_tokens.sort_values(by=\"count\", ascending=False)\n",
    "df_adv_tokens.head()"
   ]
  },
  {
   "cell_type": "code",
   "execution_count": 103,
   "id": "0b9fbb43",
   "metadata": {},
   "outputs": [],
   "source": [
    "df_adv_tokens.to_csv(extracted_dir + \"uoe_descs_oct2020_nltk_adv_token_counts.csv\")"
   ]
  },
  {
   "cell_type": "markdown",
   "id": "2658abff",
   "metadata": {},
   "source": [
    "**Note:** the capitalization of tokens should be considered when using these counts!  Let's make the same tables but with all tokens lowercased."
   ]
  },
  {
   "cell_type": "code",
   "execution_count": 104,
   "id": "20bff06c",
   "metadata": {},
   "outputs": [
    {
     "data": {
      "text/html": [
       "<div>\n",
       "<style scoped>\n",
       "    .dataframe tbody tr th:only-of-type {\n",
       "        vertical-align: middle;\n",
       "    }\n",
       "\n",
       "    .dataframe tbody tr th {\n",
       "        vertical-align: top;\n",
       "    }\n",
       "\n",
       "    .dataframe thead th {\n",
       "        text-align: right;\n",
       "    }\n",
       "</style>\n",
       "<table border=\"1\" class=\"dataframe\">\n",
       "  <thead>\n",
       "    <tr style=\"text-align: right;\">\n",
       "      <th></th>\n",
       "      <th>count</th>\n",
       "    </tr>\n",
       "    <tr>\n",
       "      <th>token_lower</th>\n",
       "      <th></th>\n",
       "    </tr>\n",
       "  </thead>\n",
       "  <tbody>\n",
       "    <tr>\n",
       "      <th>20th</th>\n",
       "      <td>2143</td>\n",
       "    </tr>\n",
       "    <tr>\n",
       "      <th>early</th>\n",
       "      <td>1569</td>\n",
       "    </tr>\n",
       "    <tr>\n",
       "      <th>various</th>\n",
       "      <td>478</td>\n",
       "    </tr>\n",
       "    <tr>\n",
       "      <th>late</th>\n",
       "      <td>468</td>\n",
       "    </tr>\n",
       "    <tr>\n",
       "      <th>scottish</th>\n",
       "      <td>415</td>\n",
       "    </tr>\n",
       "  </tbody>\n",
       "</table>\n",
       "</div>"
      ],
      "text/plain": [
       "             count\n",
       "token_lower       \n",
       "20th          2143\n",
       "early         1569\n",
       "various        478\n",
       "late           468\n",
       "scottish       415"
      ]
     },
     "execution_count": 104,
     "metadata": {},
     "output_type": "execute_result"
    }
   ],
   "source": [
    "sub_df_adj = df_adj[[\"pos\", \"token\"]]\n",
    "sub_df_adj = sub_df_adj.fillna('')\n",
    "token_col = list(sub_df_adj[\"token\"])\n",
    "new_token_col = [t.lower() for t in token_col]\n",
    "sub_df_adj.insert(0, \"token_lower\", new_token_col)\n",
    "sub_df_adj = sub_df_adj.drop(columns=[\"token\"])\n",
    "\n",
    "cols_to_agg = [\"pos\"]\n",
    "cols_to_groupby = [\"token_lower\"]\n",
    "agg_dict = dict.fromkeys(cols_to_agg, lambda x: len(x.tolist()))\n",
    "df_adj_tokens = sub_df_adj.groupby(cols_to_groupby).agg(agg_dict).reset_index().set_index(cols_to_groupby)\n",
    "df_adj_tokens = df_adj_tokens.rename(columns={\"pos\": \"count\"})\n",
    "df_adj_tokens = df_adj_tokens.sort_values(by=\"count\", ascending=False)\n",
    "df_adj_tokens.head()"
   ]
  },
  {
   "cell_type": "code",
   "execution_count": 105,
   "id": "cff644e9",
   "metadata": {},
   "outputs": [
    {
     "data": {
      "text/html": [
       "<div>\n",
       "<style scoped>\n",
       "    .dataframe tbody tr th:only-of-type {\n",
       "        vertical-align: middle;\n",
       "    }\n",
       "\n",
       "    .dataframe tbody tr th {\n",
       "        vertical-align: top;\n",
       "    }\n",
       "\n",
       "    .dataframe thead th {\n",
       "        text-align: right;\n",
       "    }\n",
       "</style>\n",
       "<table border=\"1\" class=\"dataframe\">\n",
       "  <thead>\n",
       "    <tr style=\"text-align: right;\">\n",
       "      <th></th>\n",
       "      <th>count</th>\n",
       "    </tr>\n",
       "    <tr>\n",
       "      <th>token_lower</th>\n",
       "      <th></th>\n",
       "    </tr>\n",
       "  </thead>\n",
       "  <tbody>\n",
       "    <tr>\n",
       "      <th>also</th>\n",
       "      <td>799</td>\n",
       "    </tr>\n",
       "    <tr>\n",
       "      <th>not</th>\n",
       "      <td>425</td>\n",
       "    </tr>\n",
       "    <tr>\n",
       "      <th>early</th>\n",
       "      <td>406</td>\n",
       "    </tr>\n",
       "    <tr>\n",
       "      <th>then</th>\n",
       "      <td>306</td>\n",
       "    </tr>\n",
       "    <tr>\n",
       "      <th>as</th>\n",
       "      <td>146</td>\n",
       "    </tr>\n",
       "  </tbody>\n",
       "</table>\n",
       "</div>"
      ],
      "text/plain": [
       "             count\n",
       "token_lower       \n",
       "also           799\n",
       "not            425\n",
       "early          406\n",
       "then           306\n",
       "as             146"
      ]
     },
     "execution_count": 105,
     "metadata": {},
     "output_type": "execute_result"
    }
   ],
   "source": [
    "sub_df_adv = df_adv[[\"pos\", \"token\"]]\n",
    "sub_df_adj = sub_df_adv.fillna('')\n",
    "token_col = list(sub_df_adv[\"token\"])\n",
    "new_token_col = [t.lower() for t in token_col]\n",
    "sub_df_adv.insert(0, \"token_lower\", new_token_col)\n",
    "sub_df_adv = sub_df_adv.drop(columns=[\"token\"])\n",
    "\n",
    "cols_to_agg = [\"pos\"]\n",
    "cols_to_groupby = [\"token_lower\"]\n",
    "agg_dict = dict.fromkeys(cols_to_agg, lambda x: len(x.tolist()))\n",
    "df_adv_tokens = sub_df_adv.groupby(cols_to_groupby).agg(agg_dict).reset_index().set_index(cols_to_groupby)\n",
    "df_adv_tokens = df_adv_tokens.rename(columns={\"pos\": \"count\"})\n",
    "df_adv_tokens = df_adv_tokens.sort_values(by=\"count\", ascending=False)\n",
    "df_adv_tokens.head()"
   ]
  },
  {
   "cell_type": "markdown",
   "id": "f2f56cc6",
   "metadata": {},
   "source": [
    "Save these as CSVs, too!"
   ]
  },
  {
   "cell_type": "code",
   "execution_count": 106,
   "id": "be666347",
   "metadata": {},
   "outputs": [],
   "source": [
    "df_adj_tokens.to_csv(extracted_dir + \"uoe_descs_oct2020_nltk_adj_token_lower_counts.csv\")\n",
    "df_adv_tokens.to_csv(extracted_dir + \"uoe_descs_oct2020_nltk_adv_token_lower_counts.csv\")"
   ]
  },
  {
   "cell_type": "markdown",
   "id": "9f2c238e",
   "metadata": {},
   "source": [
    "Next, let's look at the adjectives and adverbs per description."
   ]
  },
  {
   "cell_type": "code",
   "execution_count": 115,
   "id": "7b4c1375",
   "metadata": {},
   "outputs": [
    {
     "data": {
      "text/html": [
       "<div>\n",
       "<style scoped>\n",
       "    .dataframe tbody tr th:only-of-type {\n",
       "        vertical-align: middle;\n",
       "    }\n",
       "\n",
       "    .dataframe tbody tr th {\n",
       "        vertical-align: top;\n",
       "    }\n",
       "\n",
       "    .dataframe thead th {\n",
       "        text-align: right;\n",
       "    }\n",
       "</style>\n",
       "<table border=\"1\" class=\"dataframe\">\n",
       "  <thead>\n",
       "    <tr style=\"text-align: right;\">\n",
       "      <th></th>\n",
       "      <th>adj_count</th>\n",
       "    </tr>\n",
       "    <tr>\n",
       "      <th>description_id</th>\n",
       "      <th></th>\n",
       "    </tr>\n",
       "  </thead>\n",
       "  <tbody>\n",
       "    <tr>\n",
       "      <th>2</th>\n",
       "      <td>15</td>\n",
       "    </tr>\n",
       "    <tr>\n",
       "      <th>3</th>\n",
       "      <td>10</td>\n",
       "    </tr>\n",
       "    <tr>\n",
       "      <th>6</th>\n",
       "      <td>12</td>\n",
       "    </tr>\n",
       "    <tr>\n",
       "      <th>7</th>\n",
       "      <td>16</td>\n",
       "    </tr>\n",
       "    <tr>\n",
       "      <th>10</th>\n",
       "      <td>11</td>\n",
       "    </tr>\n",
       "  </tbody>\n",
       "</table>\n",
       "</div>"
      ],
      "text/plain": [
       "                adj_count\n",
       "description_id           \n",
       "2                      15\n",
       "3                      10\n",
       "6                      12\n",
       "7                      16\n",
       "10                     11"
      ]
     },
     "execution_count": 115,
     "metadata": {},
     "output_type": "execute_result"
    }
   ],
   "source": [
    "sub_df_adj = df_adj[[\"description_id\", \"pos\"]]\n",
    "cols_to_agg = [\"pos\"]\n",
    "cols_to_groupby = [\"description_id\"]\n",
    "agg_dict = dict.fromkeys(cols_to_agg, lambda x: len(x.tolist()))\n",
    "df_adj_grouped = sub_df_adj.groupby(cols_to_groupby).agg(agg_dict).reset_index().set_index(cols_to_groupby)\n",
    "df_descriptors = df_adj_grouped.rename(columns={\"pos\": \"adj_count\"})\n",
    "df_descriptors.head()"
   ]
  },
  {
   "cell_type": "code",
   "execution_count": 116,
   "id": "c2ae7eb0",
   "metadata": {},
   "outputs": [
    {
     "data": {
      "text/html": [
       "<div>\n",
       "<style scoped>\n",
       "    .dataframe tbody tr th:only-of-type {\n",
       "        vertical-align: middle;\n",
       "    }\n",
       "\n",
       "    .dataframe tbody tr th {\n",
       "        vertical-align: top;\n",
       "    }\n",
       "\n",
       "    .dataframe thead th {\n",
       "        text-align: right;\n",
       "    }\n",
       "</style>\n",
       "<table border=\"1\" class=\"dataframe\">\n",
       "  <thead>\n",
       "    <tr style=\"text-align: right;\">\n",
       "      <th></th>\n",
       "      <th>adv_count</th>\n",
       "    </tr>\n",
       "    <tr>\n",
       "      <th>description_id</th>\n",
       "      <th></th>\n",
       "    </tr>\n",
       "  </thead>\n",
       "  <tbody>\n",
       "    <tr>\n",
       "      <th>27766</th>\n",
       "      <td>4</td>\n",
       "    </tr>\n",
       "    <tr>\n",
       "      <th>27769</th>\n",
       "      <td>1</td>\n",
       "    </tr>\n",
       "    <tr>\n",
       "      <th>27773</th>\n",
       "      <td>1</td>\n",
       "    </tr>\n",
       "    <tr>\n",
       "      <th>27893</th>\n",
       "      <td>1</td>\n",
       "    </tr>\n",
       "    <tr>\n",
       "      <th>27902</th>\n",
       "      <td>1</td>\n",
       "    </tr>\n",
       "  </tbody>\n",
       "</table>\n",
       "</div>"
      ],
      "text/plain": [
       "                adv_count\n",
       "description_id           \n",
       "27766                   4\n",
       "27769                   1\n",
       "27773                   1\n",
       "27893                   1\n",
       "27902                   1"
      ]
     },
     "execution_count": 116,
     "metadata": {},
     "output_type": "execute_result"
    }
   ],
   "source": [
    "sub_df_adv = df_adj[[\"description_id\", \"pos\"]]\n",
    "cols_to_agg = [\"pos\"]\n",
    "cols_to_groupby = [\"description_id\"]\n",
    "agg_dict = dict.fromkeys(cols_to_agg, lambda x: len(x.tolist()))\n",
    "df_adv_grouped = df_adv.groupby(cols_to_groupby).agg(agg_dict).reset_index().set_index(cols_to_groupby)\n",
    "df_adv_grouped = df_adv_grouped.rename(columns={\"pos\": \"adv_count\"})\n",
    "df_adv_grouped.tail()"
   ]
  },
  {
   "cell_type": "code",
   "execution_count": 117,
   "id": "fa40c830",
   "metadata": {},
   "outputs": [
    {
     "data": {
      "text/html": [
       "<div>\n",
       "<style scoped>\n",
       "    .dataframe tbody tr th:only-of-type {\n",
       "        vertical-align: middle;\n",
       "    }\n",
       "\n",
       "    .dataframe tbody tr th {\n",
       "        vertical-align: top;\n",
       "    }\n",
       "\n",
       "    .dataframe thead th {\n",
       "        text-align: right;\n",
       "    }\n",
       "</style>\n",
       "<table border=\"1\" class=\"dataframe\">\n",
       "  <thead>\n",
       "    <tr style=\"text-align: right;\">\n",
       "      <th></th>\n",
       "      <th>description_id</th>\n",
       "      <th>adj_count</th>\n",
       "      <th>adv_count</th>\n",
       "    </tr>\n",
       "  </thead>\n",
       "  <tbody>\n",
       "    <tr>\n",
       "      <th>2.0</th>\n",
       "      <td>2</td>\n",
       "      <td>15.0</td>\n",
       "      <td>1.0</td>\n",
       "    </tr>\n",
       "    <tr>\n",
       "      <th>3.0</th>\n",
       "      <td>3</td>\n",
       "      <td>10.0</td>\n",
       "      <td>3.0</td>\n",
       "    </tr>\n",
       "    <tr>\n",
       "      <th>6.0</th>\n",
       "      <td>6</td>\n",
       "      <td>12.0</td>\n",
       "      <td>1.0</td>\n",
       "    </tr>\n",
       "    <tr>\n",
       "      <th>7.0</th>\n",
       "      <td>7</td>\n",
       "      <td>16.0</td>\n",
       "      <td>6.0</td>\n",
       "    </tr>\n",
       "    <tr>\n",
       "      <th>10.0</th>\n",
       "      <td>10</td>\n",
       "      <td>11.0</td>\n",
       "      <td>1.0</td>\n",
       "    </tr>\n",
       "  </tbody>\n",
       "</table>\n",
       "</div>"
      ],
      "text/plain": [
       "      description_id  adj_count  adv_count\n",
       "2.0                2       15.0        1.0\n",
       "3.0                3       10.0        3.0\n",
       "6.0                6       12.0        1.0\n",
       "7.0                7       16.0        6.0\n",
       "10.0              10       11.0        1.0"
      ]
     },
     "execution_count": 117,
     "metadata": {},
     "output_type": "execute_result"
    }
   ],
   "source": [
    "df_descriptors = df_descriptors.join(\n",
    "    df_adv_grouped, \n",
    "    on=[\"description_id\"], how=\"outer\"\n",
    "    )\n",
    "df_counts = df_descriptors.fillna(0)\n",
    "df_counts.head()"
   ]
  },
  {
   "cell_type": "code",
   "execution_count": 118,
   "id": "f68caafa",
   "metadata": {},
   "outputs": [],
   "source": [
    "df_counts.to_csv(extracted_dir + \"uoe_descs_oct2020_nltk_adj_adv_counts.csv\")"
   ]
  },
  {
   "cell_type": "code",
   "execution_count": 119,
   "id": "fc8d4d3b",
   "metadata": {},
   "outputs": [],
   "source": [
    "col = \"adj_count\"\n",
    "total_adjs = np.sum(df_counts[col])\n",
    "mean_adjs = np.mean(df_counts[col])\n",
    "median_adjs = np.median(df_counts[col])\n",
    "min_adjs = np.min(df_counts[col])\n",
    "max_adjs = np.max(df_counts[col])"
   ]
  },
  {
   "cell_type": "code",
   "execution_count": 120,
   "id": "cd2dad5a",
   "metadata": {},
   "outputs": [],
   "source": [
    "col = \"adv_count\"\n",
    "total_advs = np.sum(df_counts[col])\n",
    "mean_advs = np.mean(df_counts[col])\n",
    "median_advs = np.median(df_counts[col])\n",
    "min_advs = np.min(df_counts[col])\n",
    "max_advs = np.max(df_counts[col])"
   ]
  },
  {
   "cell_type": "code",
   "execution_count": 121,
   "id": "1ae3be32",
   "metadata": {},
   "outputs": [
    {
     "data": {
      "text/html": [
       "<div>\n",
       "<style scoped>\n",
       "    .dataframe tbody tr th:only-of-type {\n",
       "        vertical-align: middle;\n",
       "    }\n",
       "\n",
       "    .dataframe tbody tr th {\n",
       "        vertical-align: top;\n",
       "    }\n",
       "\n",
       "    .dataframe thead th {\n",
       "        text-align: right;\n",
       "    }\n",
       "</style>\n",
       "<table border=\"1\" class=\"dataframe\">\n",
       "  <thead>\n",
       "    <tr style=\"text-align: right;\">\n",
       "      <th></th>\n",
       "      <th>adj_by_desc</th>\n",
       "      <th>adv_by_desc</th>\n",
       "    </tr>\n",
       "  </thead>\n",
       "  <tbody>\n",
       "    <tr>\n",
       "      <th>mean</th>\n",
       "      <td>2.625435</td>\n",
       "      <td>0.466526</td>\n",
       "    </tr>\n",
       "    <tr>\n",
       "      <th>median</th>\n",
       "      <td>2.000000</td>\n",
       "      <td>0.000000</td>\n",
       "    </tr>\n",
       "    <tr>\n",
       "      <th>minimum</th>\n",
       "      <td>0.000000</td>\n",
       "      <td>0.000000</td>\n",
       "    </tr>\n",
       "    <tr>\n",
       "      <th>maximum</th>\n",
       "      <td>1290.000000</td>\n",
       "      <td>252.000000</td>\n",
       "    </tr>\n",
       "    <tr>\n",
       "      <th>total</th>\n",
       "      <td>32432.000000</td>\n",
       "      <td>5763.000000</td>\n",
       "    </tr>\n",
       "  </tbody>\n",
       "</table>\n",
       "</div>"
      ],
      "text/plain": [
       "          adj_by_desc  adv_by_desc\n",
       "mean         2.625435     0.466526\n",
       "median       2.000000     0.000000\n",
       "minimum      0.000000     0.000000\n",
       "maximum   1290.000000   252.000000\n",
       "total    32432.000000  5763.000000"
      ]
     },
     "execution_count": 121,
     "metadata": {},
     "output_type": "execute_result"
    }
   ],
   "source": [
    "df_counts = pd.DataFrame({\n",
    "        \"adj_by_desc\":[mean_adjs, median_adjs, min_adjs, max_adjs, total_adjs],\n",
    "        \"adv_by_desc\":[mean_advs, median_advs, min_advs, max_advs, total_advs]\n",
    "        }, index=[\"mean\", \"median\", \"minimum\", \"maximum\",\"total\"]\n",
    "                 )\n",
    "df_counts"
   ]
  },
  {
   "cell_type": "code",
   "execution_count": 122,
   "id": "6cffd675",
   "metadata": {},
   "outputs": [],
   "source": [
    "df_counts.to_csv(extracted_dir + \"uoe_oct2020_nltk_adj_adv_stats.csv\")"
   ]
  },
  {
   "cell_type": "markdown",
   "id": "48d448a0",
   "metadata": {},
   "source": [
    "## Concordances"
   ]
  },
  {
   "cell_type": "code",
   "execution_count": 17,
   "id": "bc49e490",
   "metadata": {},
   "outputs": [],
   "source": [
    "text = Text(tokens_flat)"
   ]
  },
  {
   "cell_type": "markdown",
   "id": "ddfc84b4",
   "metadata": {},
   "source": [
    "Create concordances for the grammatically and lexically gendered words examined above."
   ]
  },
  {
   "cell_type": "code",
   "execution_count": 19,
   "id": "d543163a",
   "metadata": {},
   "outputs": [
    {
     "data": {
      "text/html": [
       "<div>\n",
       "<style scoped>\n",
       "    .dataframe tbody tr th:only-of-type {\n",
       "        vertical-align: middle;\n",
       "    }\n",
       "\n",
       "    .dataframe tbody tr th {\n",
       "        vertical-align: top;\n",
       "    }\n",
       "\n",
       "    .dataframe thead th {\n",
       "        text-align: right;\n",
       "    }\n",
       "</style>\n",
       "<table border=\"1\" class=\"dataframe\">\n",
       "  <thead>\n",
       "    <tr style=\"text-align: right;\">\n",
       "      <th></th>\n",
       "      <th>left</th>\n",
       "      <th>query</th>\n",
       "      <th>right</th>\n",
       "    </tr>\n",
       "  </thead>\n",
       "  <tbody>\n",
       "    <tr>\n",
       "      <th>0</th>\n",
       "      <td>1954 invitations refused General 1955 General ...</td>\n",
       "      <td>woman</td>\n",
       "      <td>'s Forum General 1957 Companion of Honour lett...</td>\n",
       "    </tr>\n",
       "    <tr>\n",
       "      <th>1</th>\n",
       "      <td>lectures in Intermediate Honours Metaphysics a...</td>\n",
       "      <td>woman</td>\n",
       "      <td>'s Forum at which John Baillie delivered a lec...</td>\n",
       "    </tr>\n",
       "    <tr>\n",
       "      <th>2</th>\n",
       "      <td>Kennedy-Fraser manuscripts deposited in 1967 V...</td>\n",
       "      <td>woman</td>\n",
       "      <td>in a dramatic pose Discarded archive envelope ...</td>\n",
       "    </tr>\n",
       "    <tr>\n",
       "      <th>3</th>\n",
       "      <td>a Cheathaich from Mrs Cameron 'Mingulay Song '...</td>\n",
       "      <td>woman</td>\n",
       "      <td>Man lost on hills takes shelter in sheiling 'M...</td>\n",
       "    </tr>\n",
       "    <tr>\n",
       "      <th>4</th>\n",
       "      <td>it from a piper 'Gur Milis Morag Barra Version...</td>\n",
       "      <td>woman</td>\n",
       "      <td>Lament on a boat going down the men drowned Ar...</td>\n",
       "    </tr>\n",
       "  </tbody>\n",
       "</table>\n",
       "</div>"
      ],
      "text/plain": [
       "                                                left  query  \\\n",
       "0  1954 invitations refused General 1955 General ...  woman   \n",
       "1  lectures in Intermediate Honours Metaphysics a...  woman   \n",
       "2  Kennedy-Fraser manuscripts deposited in 1967 V...  woman   \n",
       "3  a Cheathaich from Mrs Cameron 'Mingulay Song '...  woman   \n",
       "4  it from a piper 'Gur Milis Morag Barra Version...  woman   \n",
       "\n",
       "                                               right  \n",
       "0  's Forum General 1957 Companion of Honour lett...  \n",
       "1  's Forum at which John Baillie delivered a lec...  \n",
       "2  in a dramatic pose Discarded archive envelope ...  \n",
       "3  Man lost on hills takes shelter in sheiling 'M...  \n",
       "4  Lament on a boat going down the men drowned Ar...  "
      ]
     },
     "execution_count": 19,
     "metadata": {},
     "output_type": "execute_result"
    }
   ],
   "source": [
    "gendered_words = word_list + capitalized_word_list\n",
    "df_gend_conc = analysis_utils.makeConcordanceDF(text, gendered_words)\n",
    "df_gend_conc.head()"
   ]
  },
  {
   "cell_type": "markdown",
   "id": "338aa4e8",
   "metadata": {},
   "source": [
    "Save the result."
   ]
  },
  {
   "cell_type": "code",
   "execution_count": 20,
   "id": "03e24b36",
   "metadata": {},
   "outputs": [],
   "source": [
    "df_gend_conc.to_csv(extracted_dir + \"uoe_concordance_gendered_words.csv\")"
   ]
  },
  {
   "cell_type": "markdown",
   "id": "362b4338",
   "metadata": {},
   "source": [
    "Create concordances for a selection of the most common adjectives that seem to express a value judgement."
   ]
  },
  {
   "cell_type": "code",
   "execution_count": 21,
   "id": "7bd2e058",
   "metadata": {},
   "outputs": [
    {
     "data": {
      "text/html": [
       "<div>\n",
       "<style scoped>\n",
       "    .dataframe tbody tr th:only-of-type {\n",
       "        vertical-align: middle;\n",
       "    }\n",
       "\n",
       "    .dataframe tbody tr th {\n",
       "        vertical-align: top;\n",
       "    }\n",
       "\n",
       "    .dataframe thead th {\n",
       "        text-align: right;\n",
       "    }\n",
       "</style>\n",
       "<table border=\"1\" class=\"dataframe\">\n",
       "  <thead>\n",
       "    <tr style=\"text-align: right;\">\n",
       "      <th></th>\n",
       "      <th>left</th>\n",
       "      <th>query</th>\n",
       "      <th>right</th>\n",
       "    </tr>\n",
       "  </thead>\n",
       "  <tbody>\n",
       "    <tr>\n",
       "      <th>0</th>\n",
       "      <td>In 1953 the Tell Scotland committee was formed...</td>\n",
       "      <td>key</td>\n",
       "      <td>figure in the Scottish evangelical movement of...</td>\n",
       "    </tr>\n",
       "    <tr>\n",
       "      <th>1</th>\n",
       "      <td>Dundee 18 April 1920 marked D.8835/49 Lowland ...</td>\n",
       "      <td>key</td>\n",
       "      <td>by Lachlan Macbean D.8835/49 EUL Special Colle...</td>\n",
       "    </tr>\n",
       "    <tr>\n",
       "      <th>2</th>\n",
       "      <td>versions of published songs manuscripts severa...</td>\n",
       "      <td>key</td>\n",
       "      <td>or for general use and 'Loom Blessing manuscri...</td>\n",
       "    </tr>\n",
       "    <tr>\n",
       "      <th>3</th>\n",
       "      <td>to the Sea words by Violet Jacob air from Barr...</td>\n",
       "      <td>key</td>\n",
       "      <td>'' A Quern Lilt Ash Eve 'Obbe S Harris 'On her...</td>\n",
       "    </tr>\n",
       "    <tr>\n",
       "      <th>4</th>\n",
       "      <td>versions of published songs manuscripts severa...</td>\n",
       "      <td>key</td>\n",
       "      <td>or for general use and 'Loom Blessing manuscri...</td>\n",
       "    </tr>\n",
       "  </tbody>\n",
       "</table>\n",
       "</div>"
      ],
      "text/plain": [
       "                                                left query  \\\n",
       "0  In 1953 the Tell Scotland committee was formed...   key   \n",
       "1  Dundee 18 April 1920 marked D.8835/49 Lowland ...   key   \n",
       "2  versions of published songs manuscripts severa...   key   \n",
       "3  to the Sea words by Violet Jacob air from Barr...   key   \n",
       "4  versions of published songs manuscripts severa...   key   \n",
       "\n",
       "                                               right  \n",
       "0  figure in the Scottish evangelical movement of...  \n",
       "1  by Lachlan Macbean D.8835/49 EUL Special Colle...  \n",
       "2  or for general use and 'Loom Blessing manuscri...  \n",
       "3  '' A Quern Lilt Ash Eve 'Obbe S Harris 'On her...  \n",
       "4  or for general use and 'Loom Blessing manuscri...  "
      ]
     },
     "execution_count": 21,
     "metadata": {},
     "output_type": "execute_result"
    }
   ],
   "source": [
    "# Examine adjectives that seem to communicate a value judgement\n",
    "adjs = [\"key\", \"historic\", \"influential\", \"notable\", \"significant\", \"successful\",\n",
    "      \"major\", \"distinctve\", \"remarkable\", \"all-time\", \"widely-read\"]\n",
    "df_adj_conc = analysis_utils.makeConcordanceDF(text, adjs)\n",
    "df_adj_conc.head()"
   ]
  },
  {
   "cell_type": "markdown",
   "id": "82a8e326",
   "metadata": {},
   "source": [
    "Save the result."
   ]
  },
  {
   "cell_type": "code",
   "execution_count": 22,
   "id": "3776162c",
   "metadata": {},
   "outputs": [],
   "source": [
    "df_adj_conc.to_csv(extracted_dir + \"uoe_concordance_common_adjs.csv\")"
   ]
  },
  {
   "cell_type": "code",
   "execution_count": null,
   "id": "af001617",
   "metadata": {},
   "outputs": [],
   "source": []
  }
 ],
 "metadata": {
  "kernelspec": {
   "display_name": "nusc",
   "language": "python",
   "name": "python3"
  },
  "language_info": {
   "codemirror_mode": {
    "name": "ipython",
    "version": 3
   },
   "file_extension": ".py",
   "mimetype": "text/x-python",
   "name": "python",
   "nbconvert_exporter": "python",
   "pygments_lexer": "ipython3",
   "version": "3.12.2"
  }
 },
 "nbformat": 4,
 "nbformat_minor": 5
}
