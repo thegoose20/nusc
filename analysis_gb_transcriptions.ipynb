{
 "cells": [
  {
   "cell_type": "markdown",
   "id": "7cf4a27f",
   "metadata": {},
   "source": [
    "# Analysis of Transcriptions of the Gertrude Bell Archive\n",
    "\n",
    "#### Table of Contents\n",
    "* [Summary Statistics](#summary-statistics)"
   ]
  },
  {
   "cell_type": "code",
   "execution_count": null,
   "id": "9a07311b",
   "metadata": {},
   "outputs": [
    {
     "name": "stderr",
     "output_type": "stream",
     "text": [
      "[nltk_data] Downloading package punkt to\n",
      "[nltk_data]     /Users/lucyhavens/nltk_data...\n",
      "[nltk_data]   Package punkt is already up-to-date!\n",
      "[nltk_data] Downloading package punkt_tab to\n",
      "[nltk_data]     /Users/lucyhavens/nltk_data...\n",
      "[nltk_data]   Package punkt_tab is already up-to-date!\n",
      "[nltk_data] Downloading package wordnet to\n",
      "[nltk_data]     /Users/lucyhavens/nltk_data...\n",
      "[nltk_data]   Package wordnet is already up-to-date!\n",
      "[nltk_data] Downloading package stopwords to\n",
      "[nltk_data]     /Users/lucyhavens/nltk_data...\n",
      "[nltk_data]   Package stopwords is already up-to-date!\n",
      "[nltk_data] Downloading package averaged_perceptron_tagger to\n",
      "[nltk_data]     /Users/lucyhavens/nltk_data...\n",
      "[nltk_data]   Package averaged_perceptron_tagger is already up-to-\n",
      "[nltk_data]       date!\n",
      "[nltk_data] Downloading package tagsets to\n",
      "[nltk_data]     /Users/lucyhavens/nltk_data...\n",
      "[nltk_data]   Package tagsets is already up-to-date!\n"
     ]
    }
   ],
   "source": [
    "import os\n",
    "import pandas as pd\n",
    "import numpy as np\n",
    "import re\n",
    "\n",
    "import nltk\n",
    "from nltk.tokenize import word_tokenize, sent_tokenize\n",
    "nltk.download('punkt')\n",
    "nltk.download('punkt_tab')\n",
    "from nltk.corpus import PlaintextCorpusReader\n",
    "nltk.download('wordnet')\n",
    "from nltk.corpus import wordnet\n",
    "nltk.download('stopwords')\n",
    "from nltk.corpus import stopwords\n",
    "from nltk.text import Text\n",
    "from nltk.stem.porter import PorterStemmer\n",
    "from nltk.probability import FreqDist\n",
    "nltk.download('averaged_perceptron_tagger')\n",
    "from nltk.tag import pos_tag\n",
    "nltk.download('tagsets')  # part of speech tags\n",
    "from nltk.draw.dispersion import dispersion_plot as displt"
   ]
  },
  {
   "cell_type": "code",
   "execution_count": 21,
   "id": "990ea0bb",
   "metadata": {},
   "outputs": [],
   "source": [
    "# dir = \"data/extracted/GB_transcriptions/\"  # TXT files of transcriptions - one per item\n",
    "f = \"data/extracted/bell_transcription_data.csv\""
   ]
  },
  {
   "cell_type": "markdown",
   "id": "4f9bb9ef",
   "metadata": {},
   "source": [
    "## Summary Statistics"
   ]
  },
  {
   "cell_type": "code",
   "execution_count": 22,
   "id": "c22e123f",
   "metadata": {},
   "outputs": [
    {
     "data": {
      "text/html": [
       "<div>\n",
       "<style scoped>\n",
       "    .dataframe tbody tr th:only-of-type {\n",
       "        vertical-align: middle;\n",
       "    }\n",
       "\n",
       "    .dataframe tbody tr th {\n",
       "        vertical-align: top;\n",
       "    }\n",
       "\n",
       "    .dataframe thead th {\n",
       "        text-align: right;\n",
       "    }\n",
       "</style>\n",
       "<table border=\"1\" class=\"dataframe\">\n",
       "  <thead>\n",
       "    <tr style=\"text-align: right;\">\n",
       "      <th></th>\n",
       "      <th>node_id</th>\n",
       "      <th>type</th>\n",
       "      <th>iiif-manifest</th>\n",
       "      <th>transcription</th>\n",
       "    </tr>\n",
       "  </thead>\n",
       "  <tbody>\n",
       "    <tr>\n",
       "      <th>11985</th>\n",
       "      <td>117613</td>\n",
       "      <td>photographs</td>\n",
       "      <td>https://cdm21051.contentdm.oclc.org/iiif/info/...</td>\n",
       "      <td>NaN</td>\n",
       "    </tr>\n",
       "    <tr>\n",
       "      <th>11986</th>\n",
       "      <td>117614</td>\n",
       "      <td>photographs</td>\n",
       "      <td>https://cdm21051.contentdm.oclc.org/iiif/info/...</td>\n",
       "      <td>NaN</td>\n",
       "    </tr>\n",
       "    <tr>\n",
       "      <th>11987</th>\n",
       "      <td>117615</td>\n",
       "      <td>photographs</td>\n",
       "      <td>https://cdm21051.contentdm.oclc.org/iiif/info/...</td>\n",
       "      <td>NaN</td>\n",
       "    </tr>\n",
       "    <tr>\n",
       "      <th>11988</th>\n",
       "      <td>117616</td>\n",
       "      <td>photographs</td>\n",
       "      <td>https://cdm21051.contentdm.oclc.org/iiif/info/...</td>\n",
       "      <td>NaN</td>\n",
       "    </tr>\n",
       "    <tr>\n",
       "      <th>11989</th>\n",
       "      <td>117617</td>\n",
       "      <td>photographs</td>\n",
       "      <td>NaN</td>\n",
       "      <td>NaN</td>\n",
       "    </tr>\n",
       "  </tbody>\n",
       "</table>\n",
       "</div>"
      ],
      "text/plain": [
       "       node_id         type  \\\n",
       "11985   117613  photographs   \n",
       "11986   117614  photographs   \n",
       "11987   117615  photographs   \n",
       "11988   117616  photographs   \n",
       "11989   117617  photographs   \n",
       "\n",
       "                                           iiif-manifest transcription  \n",
       "11985  https://cdm21051.contentdm.oclc.org/iiif/info/...           NaN  \n",
       "11986  https://cdm21051.contentdm.oclc.org/iiif/info/...           NaN  \n",
       "11987  https://cdm21051.contentdm.oclc.org/iiif/info/...           NaN  \n",
       "11988  https://cdm21051.contentdm.oclc.org/iiif/info/...           NaN  \n",
       "11989                                                NaN           NaN  "
      ]
     },
     "execution_count": 22,
     "metadata": {},
     "output_type": "execute_result"
    }
   ],
   "source": [
    "df = pd.read_csv(f, index_col=0)\n",
    "df.tail()"
   ]
  },
  {
   "cell_type": "code",
   "execution_count": 23,
   "id": "9b5dd4fe",
   "metadata": {},
   "outputs": [
    {
     "data": {
      "text/plain": [
       "type\n",
       "photographs    8145\n",
       "diary          2151\n",
       "letters        1694\n",
       "Name: count, dtype: int64"
      ]
     },
     "execution_count": 23,
     "metadata": {},
     "output_type": "execute_result"
    }
   ],
   "source": [
    "df.type.value_counts()"
   ]
  },
  {
   "cell_type": "markdown",
   "id": "6650437f",
   "metadata": {},
   "source": [
    "Exclude items for which there are no transcriptions (i.e. the value in the `transcription` column is `NaN`)."
   ]
  },
  {
   "cell_type": "code",
   "execution_count": 24,
   "id": "d6c9b15a",
   "metadata": {},
   "outputs": [
    {
     "name": "stdout",
     "output_type": "stream",
     "text": [
      "Before: (11990, 4)\n",
      "After: (3833, 4)\n"
     ]
    }
   ],
   "source": [
    "print(\"Before:\", df.shape)\n",
    "subdf = df.dropna(subset=['transcription'])\n",
    "print(\"After:\", subdf.shape)"
   ]
  },
  {
   "cell_type": "code",
   "execution_count": 25,
   "id": "64756ae5",
   "metadata": {},
   "outputs": [
    {
     "data": {
      "text/plain": [
       "type\n",
       "diary      2140\n",
       "letters    1693\n",
       "Name: count, dtype: int64"
      ]
     },
     "execution_count": 25,
     "metadata": {},
     "output_type": "execute_result"
    }
   ],
   "source": [
    "subdf.type.value_counts()"
   ]
  },
  {
   "cell_type": "markdown",
   "id": "663c1fc6",
   "metadata": {},
   "source": [
    "Nearly all of the text-based material has been transcribed!  99.5% of diaries and 99.9% of letters have transcriptions.  Diaries and letters account for 32.0% of the Gertrude Bell Archive's items (the rest are photographs)."
   ]
  },
  {
   "cell_type": "code",
   "execution_count": 29,
   "id": "2814ae10",
   "metadata": {},
   "outputs": [
    {
     "name": "stdout",
     "output_type": "stream",
     "text": [
      "['<p>[25 September 1974] Sept 25 1874 Red Barns, Coatham, Redcar.', 'My dear Florence Mopsa has been very naughty this morning.', 'She has been scampering all over the dining room Tilla[?]', 'says.', 'I had a great chase all over the hall and dining room to catch her and bring her to Papa, she bit and made one little red mark on my hand.', 'During breakfast she hissed at Kitty Scott.', 'Auntie Ada had her on her knee and Kitty was at one side.', 'As Auntie Ada let Mopsa go down she hissed at Kitty and hunted her round my side of the table.', 'Please Papa says will you ask Auntie Florence if she will order us some honey like her own.', 'I gave Mopsa your message and she sends her love.', 'I forgot to say Kitty was very frightened.', 'I send you my love and to Grandmamma and Auntie Florence.', 'Your affectionate little friend Gertrude Bell.</p>']\n"
     ]
    }
   ],
   "source": [
    "transcriptions = list(subdf.transcription)\n",
    "sentences = [sent_tokenize(t) for t in transcriptions]\n",
    "print(sentences[0])"
   ]
  },
  {
   "cell_type": "code",
   "execution_count": null,
   "id": "4e7568d7",
   "metadata": {},
   "outputs": [
    {
     "name": "stdout",
     "output_type": "stream",
     "text": [
      "['<', 'p', '>', '[', '25', 'September', '1974', ']', 'Sept', '25', '1874', 'Red', 'Barns', ',', 'Coatham', ',', 'Redcar', '.']\n"
     ]
    }
   ],
   "source": [
    "tokens = [[word_tokenize(s) for s in item_sentences] for item_sentences in sentences]\n",
    "print(tokens[0][0])"
   ]
  },
  {
   "cell_type": "code",
   "execution_count": null,
   "id": "822d1ce5",
   "metadata": {},
   "outputs": [
    {
     "name": "stdout",
     "output_type": "stream",
     "text": [
      "Total sentences: 109201\n"
     ]
    }
   ],
   "source": [
    "# total_sentences = sum(len(item_sentences) for item_sentences in sentences)\n",
    "# print(\"Total sentences:\", total_sentences)\n",
    "sentence_counts = [len(item_sentences) for item_sentences in sentences]\n",
    "subdf.insert(len(subdf.columns), 'sentence_count', sentence_counts)\n",
    "print(\"Total sentences:\", sum(count for count in sentence_counts))"
   ]
  },
  {
   "cell_type": "code",
   "execution_count": 52,
   "id": "96abc3cf",
   "metadata": {},
   "outputs": [
    {
     "name": "stdout",
     "output_type": "stream",
     "text": [
      "Total tokens: 2151944\n"
     ]
    }
   ],
   "source": [
    "# total_tokens = sum(sum(len(sentence_tokens) for sentence_tokens in item_tokens) for item_tokens in tokens)\n",
    "token_counts = [sum(len(sentence_tokens) for sentence_tokens in item_tokens) for item_tokens in tokens]\n",
    "subdf.insert(len(subdf.columns), 'token_count', token_counts)\n",
    "print(\"Total tokens:\", sum(token_counts))"
   ]
  },
  {
   "cell_type": "code",
   "execution_count": 58,
   "id": "b4cc5cb0",
   "metadata": {},
   "outputs": [
    {
     "name": "stdout",
     "output_type": "stream",
     "text": [
      "28.489694756065745\n",
      "1\n",
      "702\n",
      "41.560205443172464\n"
     ]
    }
   ],
   "source": [
    "print(np.mean(sentence_counts))\n",
    "print(np.min(sentence_counts))\n",
    "print(np.max(sentence_counts))\n",
    "print(np.std(sentence_counts))"
   ]
  },
  {
   "cell_type": "code",
   "execution_count": 59,
   "id": "840c0491",
   "metadata": {},
   "outputs": [
    {
     "name": "stdout",
     "output_type": "stream",
     "text": [
      "561.4255152621968\n",
      "1\n",
      "16765\n",
      "957.9106305655201\n"
     ]
    }
   ],
   "source": [
    "print(np.mean(token_counts))\n",
    "print(np.min(token_counts))\n",
    "print(np.max(token_counts))\n",
    "print(np.std(token_counts))"
   ]
  },
  {
   "cell_type": "code",
   "execution_count": null,
   "id": "9ae5b4e0",
   "metadata": {},
   "outputs": [
    {
     "data": {
      "text/html": [
       "<div>\n",
       "<style scoped>\n",
       "    .dataframe tbody tr th:only-of-type {\n",
       "        vertical-align: middle;\n",
       "    }\n",
       "\n",
       "    .dataframe tbody tr th {\n",
       "        vertical-align: top;\n",
       "    }\n",
       "\n",
       "    .dataframe thead th {\n",
       "        text-align: right;\n",
       "    }\n",
       "</style>\n",
       "<table border=\"1\" class=\"dataframe\">\n",
       "  <thead>\n",
       "    <tr style=\"text-align: right;\">\n",
       "      <th></th>\n",
       "      <th>node_id</th>\n",
       "      <th>type</th>\n",
       "      <th>iiif-manifest</th>\n",
       "      <th>transcription</th>\n",
       "      <th>sentence_count</th>\n",
       "      <th>token_count</th>\n",
       "    </tr>\n",
       "  </thead>\n",
       "  <tbody>\n",
       "    <tr>\n",
       "      <th>0</th>\n",
       "      <td>69571</td>\n",
       "      <td>letters</td>\n",
       "      <td>https://cdm21051.contentdm.oclc.org/iiif/info/...</td>\n",
       "      <td>&lt;p&gt;[25 September 1974] Sept 25 1874 Red Barns,...</td>\n",
       "      <td>13</td>\n",
       "      <td>180</td>\n",
       "    </tr>\n",
       "    <tr>\n",
       "      <th>1</th>\n",
       "      <td>69572</td>\n",
       "      <td>letters</td>\n",
       "      <td>https://cdm21051.contentdm.oclc.org/iiif/info/...</td>\n",
       "      <td>Dear dear Mamy The Johnson's are here because ...</td>\n",
       "      <td>8</td>\n",
       "      <td>125</td>\n",
       "    </tr>\n",
       "    <tr>\n",
       "      <th>2</th>\n",
       "      <td>69573</td>\n",
       "      <td>letters</td>\n",
       "      <td>https://cdm21051.contentdm.oclc.org/iiif/info/...</td>\n",
       "      <td>Dear dear Mamy I am so sorry I did not write t...</td>\n",
       "      <td>2</td>\n",
       "      <td>55</td>\n",
       "    </tr>\n",
       "    <tr>\n",
       "      <th>3</th>\n",
       "      <td>69574</td>\n",
       "      <td>letters</td>\n",
       "      <td>https://cdm21051.contentdm.oclc.org/iiif/info/...</td>\n",
       "      <td>Dear dear Mamy I am very very sorry you cannot...</td>\n",
       "      <td>6</td>\n",
       "      <td>94</td>\n",
       "    </tr>\n",
       "    <tr>\n",
       "      <th>4</th>\n",
       "      <td>69575</td>\n",
       "      <td>letters</td>\n",
       "      <td>https://cdm21051.contentdm.oclc.org/iiif/info/...</td>\n",
       "      <td>Dear Mamy I am so very very very very very ver...</td>\n",
       "      <td>7</td>\n",
       "      <td>76</td>\n",
       "    </tr>\n",
       "  </tbody>\n",
       "</table>\n",
       "</div>"
      ],
      "text/plain": [
       "   node_id     type                                      iiif-manifest  \\\n",
       "0    69571  letters  https://cdm21051.contentdm.oclc.org/iiif/info/...   \n",
       "1    69572  letters  https://cdm21051.contentdm.oclc.org/iiif/info/...   \n",
       "2    69573  letters  https://cdm21051.contentdm.oclc.org/iiif/info/...   \n",
       "3    69574  letters  https://cdm21051.contentdm.oclc.org/iiif/info/...   \n",
       "4    69575  letters  https://cdm21051.contentdm.oclc.org/iiif/info/...   \n",
       "\n",
       "                                       transcription  sentence_count  \\\n",
       "0  <p>[25 September 1974] Sept 25 1874 Red Barns,...              13   \n",
       "1  Dear dear Mamy The Johnson's are here because ...               8   \n",
       "2  Dear dear Mamy I am so sorry I did not write t...               2   \n",
       "3  Dear dear Mamy I am very very sorry you cannot...               6   \n",
       "4  Dear Mamy I am so very very very very very ver...               7   \n",
       "\n",
       "   token_count  \n",
       "0          180  \n",
       "1          125  \n",
       "2           55  \n",
       "3           94  \n",
       "4           76  "
      ]
     },
     "execution_count": 53,
     "metadata": {},
     "output_type": "execute_result"
    }
   ],
   "source": [
    "subdf.head()"
   ]
  },
  {
   "cell_type": "markdown",
   "id": "0cb01169",
   "metadata": {},
   "source": [
    "Save a new version of the CSV file with the sentence and token count columns."
   ]
  },
  {
   "cell_type": "code",
   "execution_count": 55,
   "id": "44ba0147",
   "metadata": {},
   "outputs": [],
   "source": [
    "subdf.to_csv(f)"
   ]
  },
  {
   "cell_type": "code",
   "execution_count": 62,
   "id": "3891f7f5",
   "metadata": {},
   "outputs": [
    {
     "data": {
      "text/html": [
       "<div>\n",
       "<style scoped>\n",
       "    .dataframe tbody tr th:only-of-type {\n",
       "        vertical-align: middle;\n",
       "    }\n",
       "\n",
       "    .dataframe tbody tr th {\n",
       "        vertical-align: top;\n",
       "    }\n",
       "\n",
       "    .dataframe thead th {\n",
       "        text-align: right;\n",
       "    }\n",
       "</style>\n",
       "<table border=\"1\" class=\"dataframe\">\n",
       "  <thead>\n",
       "    <tr style=\"text-align: right;\">\n",
       "      <th></th>\n",
       "      <th>node_id</th>\n",
       "      <th>sentence_count</th>\n",
       "      <th>token_count</th>\n",
       "    </tr>\n",
       "  </thead>\n",
       "  <tbody>\n",
       "    <tr>\n",
       "      <th>count</th>\n",
       "      <td>3833.000000</td>\n",
       "      <td>3833.000000</td>\n",
       "      <td>3833.000000</td>\n",
       "    </tr>\n",
       "    <tr>\n",
       "      <th>mean</th>\n",
       "      <td>82569.252022</td>\n",
       "      <td>28.489695</td>\n",
       "      <td>561.425515</td>\n",
       "    </tr>\n",
       "    <tr>\n",
       "      <th>std</th>\n",
       "      <td>10733.689654</td>\n",
       "      <td>41.565628</td>\n",
       "      <td>958.035611</td>\n",
       "    </tr>\n",
       "    <tr>\n",
       "      <th>min</th>\n",
       "      <td>69571.000000</td>\n",
       "      <td>1.000000</td>\n",
       "      <td>1.000000</td>\n",
       "    </tr>\n",
       "    <tr>\n",
       "      <th>25%</th>\n",
       "      <td>70521.000000</td>\n",
       "      <td>7.000000</td>\n",
       "      <td>87.000000</td>\n",
       "    </tr>\n",
       "    <tr>\n",
       "      <th>50%</th>\n",
       "      <td>91250.000000</td>\n",
       "      <td>17.000000</td>\n",
       "      <td>282.000000</td>\n",
       "    </tr>\n",
       "    <tr>\n",
       "      <th>75%</th>\n",
       "      <td>92211.000000</td>\n",
       "      <td>34.000000</td>\n",
       "      <td>637.000000</td>\n",
       "    </tr>\n",
       "    <tr>\n",
       "      <th>max</th>\n",
       "      <td>93178.000000</td>\n",
       "      <td>702.000000</td>\n",
       "      <td>16765.000000</td>\n",
       "    </tr>\n",
       "  </tbody>\n",
       "</table>\n",
       "</div>"
      ],
      "text/plain": [
       "            node_id  sentence_count   token_count\n",
       "count   3833.000000     3833.000000   3833.000000\n",
       "mean   82569.252022       28.489695    561.425515\n",
       "std    10733.689654       41.565628    958.035611\n",
       "min    69571.000000        1.000000      1.000000\n",
       "25%    70521.000000        7.000000     87.000000\n",
       "50%    91250.000000       17.000000    282.000000\n",
       "75%    92211.000000       34.000000    637.000000\n",
       "max    93178.000000      702.000000  16765.000000"
      ]
     },
     "execution_count": 62,
     "metadata": {},
     "output_type": "execute_result"
    }
   ],
   "source": [
    "subdf.describe()"
   ]
  },
  {
   "cell_type": "code",
   "execution_count": 64,
   "id": "117bc2e4",
   "metadata": {},
   "outputs": [
    {
     "data": {
      "text/html": [
       "<div>\n",
       "<style scoped>\n",
       "    .dataframe tbody tr th:only-of-type {\n",
       "        vertical-align: middle;\n",
       "    }\n",
       "\n",
       "    .dataframe tbody tr th {\n",
       "        vertical-align: top;\n",
       "    }\n",
       "\n",
       "    .dataframe thead th {\n",
       "        text-align: right;\n",
       "    }\n",
       "</style>\n",
       "<table border=\"1\" class=\"dataframe\">\n",
       "  <thead>\n",
       "    <tr style=\"text-align: right;\">\n",
       "      <th></th>\n",
       "      <th>node_id</th>\n",
       "      <th>sentence_count</th>\n",
       "      <th>token_count</th>\n",
       "    </tr>\n",
       "  </thead>\n",
       "  <tbody>\n",
       "    <tr>\n",
       "      <th>count</th>\n",
       "      <td>1693.000000</td>\n",
       "      <td>1693.000000</td>\n",
       "      <td>1693.000000</td>\n",
       "    </tr>\n",
       "    <tr>\n",
       "      <th>mean</th>\n",
       "      <td>70523.678086</td>\n",
       "      <td>41.164206</td>\n",
       "      <td>888.453042</td>\n",
       "    </tr>\n",
       "    <tr>\n",
       "      <th>std</th>\n",
       "      <td>637.587727</td>\n",
       "      <td>56.784756</td>\n",
       "      <td>1322.083158</td>\n",
       "    </tr>\n",
       "    <tr>\n",
       "      <th>min</th>\n",
       "      <td>69571.000000</td>\n",
       "      <td>1.000000</td>\n",
       "      <td>8.000000</td>\n",
       "    </tr>\n",
       "    <tr>\n",
       "      <th>25%</th>\n",
       "      <td>69986.000000</td>\n",
       "      <td>12.000000</td>\n",
       "      <td>184.000000</td>\n",
       "    </tr>\n",
       "    <tr>\n",
       "      <th>50%</th>\n",
       "      <td>70409.000000</td>\n",
       "      <td>24.000000</td>\n",
       "      <td>456.000000</td>\n",
       "    </tr>\n",
       "    <tr>\n",
       "      <th>75%</th>\n",
       "      <td>71231.000000</td>\n",
       "      <td>49.000000</td>\n",
       "      <td>1070.000000</td>\n",
       "    </tr>\n",
       "    <tr>\n",
       "      <th>max</th>\n",
       "      <td>71649.000000</td>\n",
       "      <td>702.000000</td>\n",
       "      <td>16765.000000</td>\n",
       "    </tr>\n",
       "  </tbody>\n",
       "</table>\n",
       "</div>"
      ],
      "text/plain": [
       "            node_id  sentence_count   token_count\n",
       "count   1693.000000     1693.000000   1693.000000\n",
       "mean   70523.678086       41.164206    888.453042\n",
       "std      637.587727       56.784756   1322.083158\n",
       "min    69571.000000        1.000000      8.000000\n",
       "25%    69986.000000       12.000000    184.000000\n",
       "50%    70409.000000       24.000000    456.000000\n",
       "75%    71231.000000       49.000000   1070.000000\n",
       "max    71649.000000      702.000000  16765.000000"
      ]
     },
     "execution_count": 64,
     "metadata": {},
     "output_type": "execute_result"
    }
   ],
   "source": [
    "subdf.loc[subdf.type == \"letters\"].describe()"
   ]
  },
  {
   "cell_type": "code",
   "execution_count": 66,
   "id": "d9851e61",
   "metadata": {},
   "outputs": [
    {
     "data": {
      "text/html": [
       "<div>\n",
       "<style scoped>\n",
       "    .dataframe tbody tr th:only-of-type {\n",
       "        vertical-align: middle;\n",
       "    }\n",
       "\n",
       "    .dataframe tbody tr th {\n",
       "        vertical-align: top;\n",
       "    }\n",
       "\n",
       "    .dataframe thead th {\n",
       "        text-align: right;\n",
       "    }\n",
       "</style>\n",
       "<table border=\"1\" class=\"dataframe\">\n",
       "  <thead>\n",
       "    <tr style=\"text-align: right;\">\n",
       "      <th></th>\n",
       "      <th>node_id</th>\n",
       "      <th>sentence_count</th>\n",
       "      <th>token_count</th>\n",
       "    </tr>\n",
       "  </thead>\n",
       "  <tbody>\n",
       "    <tr>\n",
       "      <th>count</th>\n",
       "      <td>2140.000000</td>\n",
       "      <td>2140.000000</td>\n",
       "      <td>2140.000000</td>\n",
       "    </tr>\n",
       "    <tr>\n",
       "      <th>mean</th>\n",
       "      <td>92098.764486</td>\n",
       "      <td>18.462617</td>\n",
       "      <td>302.707009</td>\n",
       "    </tr>\n",
       "    <tr>\n",
       "      <th>std</th>\n",
       "      <td>619.458821</td>\n",
       "      <td>17.797810</td>\n",
       "      <td>331.723797</td>\n",
       "    </tr>\n",
       "    <tr>\n",
       "      <th>min</th>\n",
       "      <td>91027.000000</td>\n",
       "      <td>1.000000</td>\n",
       "      <td>1.000000</td>\n",
       "    </tr>\n",
       "    <tr>\n",
       "      <th>25%</th>\n",
       "      <td>91562.750000</td>\n",
       "      <td>5.000000</td>\n",
       "      <td>67.000000</td>\n",
       "    </tr>\n",
       "    <tr>\n",
       "      <th>50%</th>\n",
       "      <td>92098.500000</td>\n",
       "      <td>13.000000</td>\n",
       "      <td>192.000000</td>\n",
       "    </tr>\n",
       "    <tr>\n",
       "      <th>75%</th>\n",
       "      <td>92635.250000</td>\n",
       "      <td>26.000000</td>\n",
       "      <td>429.250000</td>\n",
       "    </tr>\n",
       "    <tr>\n",
       "      <th>max</th>\n",
       "      <td>93178.000000</td>\n",
       "      <td>219.000000</td>\n",
       "      <td>4369.000000</td>\n",
       "    </tr>\n",
       "  </tbody>\n",
       "</table>\n",
       "</div>"
      ],
      "text/plain": [
       "            node_id  sentence_count  token_count\n",
       "count   2140.000000     2140.000000  2140.000000\n",
       "mean   92098.764486       18.462617   302.707009\n",
       "std      619.458821       17.797810   331.723797\n",
       "min    91027.000000        1.000000     1.000000\n",
       "25%    91562.750000        5.000000    67.000000\n",
       "50%    92098.500000       13.000000   192.000000\n",
       "75%    92635.250000       26.000000   429.250000\n",
       "max    93178.000000      219.000000  4369.000000"
      ]
     },
     "execution_count": 66,
     "metadata": {},
     "output_type": "execute_result"
    }
   ],
   "source": [
    "subdf.loc[subdf.type == \"diary\"].describe()"
   ]
  },
  {
   "cell_type": "code",
   "execution_count": null,
   "id": "6ed0e513",
   "metadata": {},
   "outputs": [],
   "source": []
  },
  {
   "cell_type": "markdown",
   "id": "635ffc85",
   "metadata": {},
   "source": []
  }
 ],
 "metadata": {
  "kernelspec": {
   "display_name": "nusc",
   "language": "python",
   "name": "python3"
  },
  "language_info": {
   "codemirror_mode": {
    "name": "ipython",
    "version": 3
   },
   "file_extension": ".py",
   "mimetype": "text/x-python",
   "name": "python",
   "nbconvert_exporter": "python",
   "pygments_lexer": "ipython3",
   "version": "3.12.2"
  }
 },
 "nbformat": 4,
 "nbformat_minor": 5
}
