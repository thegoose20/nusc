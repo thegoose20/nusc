{
 "cells": [
  {
   "cell_type": "markdown",
   "id": "76bdd9bf",
   "metadata": {},
   "source": [
    "# Analysis of Newcastle University Special Collectives Descriptive Metadata\n",
    "\n",
    "* **Source:** [Newcastle University Special Collections & Archives](https://specialcollections.ncl.ac.uk)\n",
    "* **Contents:** EAD XML records (descriptions from the *Title*, *Biographical / Historical*, *Scope and Contents*, and *Processing Information* metadata fields) and transcriptions from the Gertrude Bell Archive\n",
    "* **Date extracted:** May 2025"
   ]
  },
  {
   "cell_type": "code",
   "execution_count": 1,
   "id": "6bb24f15",
   "metadata": {},
   "outputs": [
    {
     "name": "stderr",
     "output_type": "stream",
     "text": [
      "[nltk_data] Downloading package punkt to\n",
      "[nltk_data]     /Users/lucyhavens/nltk_data...\n",
      "[nltk_data]   Package punkt is already up-to-date!\n",
      "[nltk_data] Downloading package punkt_tab to\n",
      "[nltk_data]     /Users/lucyhavens/nltk_data...\n",
      "[nltk_data]   Package punkt_tab is already up-to-date!\n",
      "[nltk_data] Downloading package wordnet to\n",
      "[nltk_data]     /Users/lucyhavens/nltk_data...\n",
      "[nltk_data]   Package wordnet is already up-to-date!\n",
      "[nltk_data] Downloading package stopwords to\n",
      "[nltk_data]     /Users/lucyhavens/nltk_data...\n",
      "[nltk_data]   Package stopwords is already up-to-date!\n",
      "[nltk_data] Downloading package averaged_perceptron_tagger_eng to\n",
      "[nltk_data]     /Users/lucyhavens/nltk_data...\n",
      "[nltk_data]   Package averaged_perceptron_tagger_eng is already up-to-\n",
      "[nltk_data]       date!\n",
      "[nltk_data] Downloading package tagsets to\n",
      "[nltk_data]     /Users/lucyhavens/nltk_data...\n",
      "[nltk_data]   Package tagsets is already up-to-date!\n"
     ]
    }
   ],
   "source": [
    "import os\n",
    "import pandas as pd\n",
    "import numpy as np\n",
    "import re\n",
    "import matplotlib.pyplot as plt\n",
    "import string\n",
    "\n",
    "import nltk\n",
    "from nltk.tokenize import word_tokenize, sent_tokenize\n",
    "nltk.download('punkt')\n",
    "nltk.download('punkt_tab')\n",
    "from nltk.corpus import PlaintextCorpusReader\n",
    "nltk.download('wordnet')\n",
    "from nltk.corpus import wordnet\n",
    "nltk.download('stopwords')\n",
    "from nltk.corpus import stopwords\n",
    "from nltk.text import Text\n",
    "from nltk.stem.porter import PorterStemmer\n",
    "from nltk.probability import FreqDist\n",
    "nltk.download('averaged_perceptron_tagger_eng')\n",
    "from nltk.tag import pos_tag\n",
    "nltk.download('tagsets')  # part of speech tags\n",
    "\n",
    "from pathlib import Path"
   ]
  },
  {
   "cell_type": "markdown",
   "id": "b3efe102",
   "metadata": {},
   "source": [
    "Create a directory to save analysis outputs to."
   ]
  },
  {
   "cell_type": "code",
   "execution_count": 2,
   "id": "1b34d5e2",
   "metadata": {},
   "outputs": [],
   "source": [
    "extracted_dir = \"data/analysis/\"\n",
    "Path(extracted_dir).mkdir(parents=True, exist_ok=True)"
   ]
  },
  {
   "cell_type": "markdown",
   "id": "3102a5a4",
   "metadata": {},
   "source": [
    "Load the descriptive metadata extracted from NUSC's catalog as a DataFrame."
   ]
  },
  {
   "cell_type": "code",
   "execution_count": 3,
   "id": "a5cf5df1",
   "metadata": {},
   "outputs": [],
   "source": [
    "f = \"data/extracted/nusc_archival_descs_consolidated.csv\" #\"data/extracted/newcastle_archival_metadata_sample.csv\"  #\"data/extracted/nusc_archival_descs_for_clf.csv\""
   ]
  },
  {
   "cell_type": "code",
   "execution_count": 5,
   "id": "7738c5b9",
   "metadata": {},
   "outputs": [
    {
     "name": "stdout",
     "output_type": "stream",
     "text": [
      "(99312, 5)\n"
     ]
    },
    {
     "data": {
      "text/html": [
       "<div>\n",
       "<style scoped>\n",
       "    .dataframe tbody tr th:only-of-type {\n",
       "        vertical-align: middle;\n",
       "    }\n",
       "\n",
       "    .dataframe tbody tr th {\n",
       "        vertical-align: top;\n",
       "    }\n",
       "\n",
       "    .dataframe thead th {\n",
       "        text-align: right;\n",
       "    }\n",
       "</style>\n",
       "<table border=\"1\" class=\"dataframe\">\n",
       "  <thead>\n",
       "    <tr style=\"text-align: right;\">\n",
       "      <th></th>\n",
       "      <th>description_id</th>\n",
       "      <th>eadid</th>\n",
       "      <th>rowid</th>\n",
       "      <th>field</th>\n",
       "      <th>doc</th>\n",
       "    </tr>\n",
       "  </thead>\n",
       "  <tbody>\n",
       "    <tr>\n",
       "      <th>0</th>\n",
       "      <td>0</td>\n",
       "      <td>17th C. Coll</td>\n",
       "      <td>17th C. Coll</td>\n",
       "      <td>bioghist</td>\n",
       "      <td>Formed in 1963 after an amalgamation of instit...</td>\n",
       "    </tr>\n",
       "    <tr>\n",
       "      <th>1</th>\n",
       "      <td>1</td>\n",
       "      <td>17th C. Coll</td>\n",
       "      <td>17th C. Coll</td>\n",
       "      <td>scopecontent</td>\n",
       "      <td>The 17th Century Collection is a small but exp...</td>\n",
       "    </tr>\n",
       "  </tbody>\n",
       "</table>\n",
       "</div>"
      ],
      "text/plain": [
       "   description_id         eadid         rowid         field  \\\n",
       "0               0  17th C. Coll  17th C. Coll      bioghist   \n",
       "1               1  17th C. Coll  17th C. Coll  scopecontent   \n",
       "\n",
       "                                                 doc  \n",
       "0  Formed in 1963 after an amalgamation of instit...  \n",
       "1  The 17th Century Collection is a small but exp...  "
      ]
     },
     "execution_count": 5,
     "metadata": {},
     "output_type": "execute_result"
    }
   ],
   "source": [
    "df = pd.read_csv(f, index_col=0)\n",
    "assert df.shape[0] == (df.drop_duplicates()).shape[0], \"No duplicates found (each description is unique).\"\n",
    "print(df.shape)\n",
    "df.head(2)"
   ]
  },
  {
   "cell_type": "code",
   "execution_count": 85,
   "id": "e53e8864",
   "metadata": {},
   "outputs": [
    {
     "data": {
      "text/plain": [
       "array(['bioghist', 'scopecontent', 'unittitle', 'processinfo',\n",
       "       'extent-and-medium', 'title', 'description'], dtype=object)"
      ]
     },
     "execution_count": 85,
     "metadata": {},
     "output_type": "execute_result"
    }
   ],
   "source": [
    "df.field.unique()"
   ]
  },
  {
   "cell_type": "markdown",
   "id": "6a517e94",
   "metadata": {},
   "source": [
    "Comment/uncomment the selection of descriptions to analyze:"
   ]
  },
  {
   "cell_type": "code",
   "execution_count": 86,
   "id": "9e6163ec",
   "metadata": {},
   "outputs": [
    {
     "data": {
      "text/plain": [
       "'17th Century Collection'"
      ]
     },
     "execution_count": 86,
     "metadata": {},
     "output_type": "execute_result"
    }
   ],
   "source": [
    "# all = list(df[\"doc\"])\n",
    "# all[0]\n",
    "\n",
    "pi = list(df.loc[df[\"field\"] == \"processinfo\"].doc)\n",
    "pi[0]\n",
    "\n",
    "sc = list(df.loc[df[\"field\"] == \"scopecontent\"].doc)\n",
    "sc[0]\n",
    "\n",
    "bh = list(df.loc[df[\"field\"] == \"bioghist\"].doc)\n",
    "bh[0]\n",
    "\n",
    "ut = list(df.loc[df[\"field\"] == \"unittitle\"].doc)\n",
    "ut[0]\n",
    "\n",
    "# Gertrude Bell Archive metadata only\n",
    "# ------------------------------------\n",
    "# em = list(df.loc[df[\"field\"] == \"extent-and-medium\"].doc)\n",
    "# em[0]\n",
    "\n",
    "# t = list(df.loc[df[\"field\"] == \"title\"].doc)\n",
    "# t[0]\n",
    "\n",
    "# d = list(df.loc[df[\"field\"] == \"description\"].doc)\n",
    "# d[0]"
   ]
  },
  {
   "cell_type": "markdown",
   "id": "a1442a4a",
   "metadata": {},
   "source": [
    "Update the `descs` variable below with whichever descriptive metadata field(s) you wish to analyze."
   ]
  },
  {
   "cell_type": "code",
   "execution_count": 87,
   "id": "0a6bcd0f",
   "metadata": {},
   "outputs": [
    {
     "name": "stdout",
     "output_type": "stream",
     "text": [
      "75165\n"
     ]
    }
   ],
   "source": [
    "descs = ut + bh + sc + pi # EAD only   #all # EAD and Bell      #ut + t # titles only\n",
    "print(len(descs))"
   ]
  },
  {
   "cell_type": "markdown",
   "id": "552151d5",
   "metadata": {},
   "source": [
    "## Exploratory Analysis"
   ]
  },
  {
   "cell_type": "code",
   "execution_count": 8,
   "id": "f72171a4",
   "metadata": {},
   "outputs": [
    {
     "name": "stdout",
     "output_type": "stream",
     "text": [
      "['!', '\"', '#', '$', '%', '&', \"'\", '(', ')', '*', '+', ',', '-', '.', '/', ':', ';', '<', '=', '>', '?', '@', '[', '\\\\', ']', '^', '_', '`', '{', '|', '}', '~']\n"
     ]
    }
   ],
   "source": [
    "punctuation = list(string.punctuation)\n",
    "print(punctuation)"
   ]
  },
  {
   "cell_type": "code",
   "execution_count": 9,
   "id": "6262ffaa",
   "metadata": {},
   "outputs": [
    {
     "name": "stdout",
     "output_type": "stream",
     "text": [
      "['18th Century Collection']\n",
      "1\n"
     ]
    }
   ],
   "source": [
    "sentences = [sent_tokenize(d) for d in descs]\n",
    "print(sentences[1])\n",
    "print(len(sentences[1]))"
   ]
  },
  {
   "cell_type": "code",
   "execution_count": 10,
   "id": "dd06d308",
   "metadata": {},
   "outputs": [],
   "source": [
    "assert len(sentences) == len(descs)"
   ]
  },
  {
   "cell_type": "code",
   "execution_count": 11,
   "id": "03423fe4",
   "metadata": {},
   "outputs": [
    {
     "name": "stdout",
     "output_type": "stream",
     "text": [
      "['18th', 'Century', 'Collection']\n",
      "3\n"
     ]
    }
   ],
   "source": [
    "tokens_with_punc = [word_tokenize(d) for d in descs]\n",
    "# Remove punctuation\n",
    "tokens = []\n",
    "for token_list in tokens_with_punc:\n",
    "    new_token_list = [t for t in token_list if t not in punctuation]\n",
    "    tokens.append(new_token_list)\n",
    "print(tokens[1])\n",
    "print(len(tokens[1]))"
   ]
  },
  {
   "cell_type": "code",
   "execution_count": 12,
   "id": "3a483fd8",
   "metadata": {},
   "outputs": [],
   "source": [
    "assert len(tokens) == len(descs)"
   ]
  },
  {
   "cell_type": "code",
   "execution_count": 13,
   "id": "03e9870d",
   "metadata": {},
   "outputs": [],
   "source": [
    "tokens_flat = [t for token_list in tokens for t in token_list]  # maintaining original capitalization"
   ]
  },
  {
   "cell_type": "code",
   "execution_count": 14,
   "id": "f29dbfc0",
   "metadata": {},
   "outputs": [
    {
     "name": "stdout",
     "output_type": "stream",
     "text": [
      "['17th', 'century', 'collection', '18th', 'century', 'collection', '19th', 'century', 'collection', '20th']\n"
     ]
    }
   ],
   "source": [
    "tokens_flat_lower = [t.lower() for token_list in tokens for t in token_list]  # lowercasing all tokens\n",
    "print(tokens_flat_lower[:10])"
   ]
  },
  {
   "cell_type": "markdown",
   "id": "b1b00a98",
   "metadata": {},
   "source": [
    "### Counts by Description"
   ]
  },
  {
   "cell_type": "code",
   "execution_count": 15,
   "id": "1a9ff02d",
   "metadata": {},
   "outputs": [
    {
     "name": "stdout",
     "output_type": "stream",
     "text": [
      "Mean: 1.657579990687155\n",
      "Median: 1.0\n",
      "Standard Deviation: 2.3960121023378416\n",
      "Minimum: 1\n",
      "Maximum: 91\n"
     ]
    }
   ],
   "source": [
    "sentence_counts = [len(sentence_list) for sentence_list in sentences]  # count of sentences per description\n",
    "print(\"Mean:\", np.mean(sentence_counts))\n",
    "print(\"Median:\", np.median(sentence_counts))\n",
    "print(\"Standard Deviation:\", np.std(sentence_counts))\n",
    "print(\"Minimum:\", np.min(sentence_counts))\n",
    "print(\"Maximum:\", np.max(sentence_counts))"
   ]
  },
  {
   "cell_type": "code",
   "execution_count": 16,
   "id": "8afbd9ec",
   "metadata": {},
   "outputs": [
    {
     "name": "stdout",
     "output_type": "stream",
     "text": [
      "Mean: 25.48220581387614\n",
      "Median: 9.0\n",
      "Standard Deviation: 63.48136719735124\n",
      "Minimum: 0\n",
      "Maximum: 2296\n"
     ]
    }
   ],
   "source": [
    "token_counts = [len(token_list) for token_list in tokens]  # count of tokens per description\n",
    "print(\"Mean:\", np.mean(token_counts))\n",
    "print(\"Median:\", np.median(token_counts))\n",
    "print(\"Standard Deviation:\", np.std(token_counts))\n",
    "print(\"Minimum:\", np.min(token_counts))\n",
    "print(\"Maximum:\", np.max(token_counts))"
   ]
  },
  {
   "cell_type": "code",
   "execution_count": 17,
   "id": "c2f8cf54",
   "metadata": {},
   "outputs": [
    {
     "data": {
      "text/html": [
       "<div>\n",
       "<style scoped>\n",
       "    .dataframe tbody tr th:only-of-type {\n",
       "        vertical-align: middle;\n",
       "    }\n",
       "\n",
       "    .dataframe tbody tr th {\n",
       "        vertical-align: top;\n",
       "    }\n",
       "\n",
       "    .dataframe thead th {\n",
       "        text-align: right;\n",
       "    }\n",
       "</style>\n",
       "<table border=\"1\" class=\"dataframe\">\n",
       "  <thead>\n",
       "    <tr style=\"text-align: right;\">\n",
       "      <th></th>\n",
       "      <th>sentences_per_description</th>\n",
       "      <th>tokens_per_description</th>\n",
       "    </tr>\n",
       "  </thead>\n",
       "  <tbody>\n",
       "    <tr>\n",
       "      <th>mean</th>\n",
       "      <td>1.657580</td>\n",
       "      <td>25.482206</td>\n",
       "    </tr>\n",
       "    <tr>\n",
       "      <th>median</th>\n",
       "      <td>1.000000</td>\n",
       "      <td>9.000000</td>\n",
       "    </tr>\n",
       "    <tr>\n",
       "      <th>standard_deviation</th>\n",
       "      <td>2.396012</td>\n",
       "      <td>63.481367</td>\n",
       "    </tr>\n",
       "    <tr>\n",
       "      <th>minimum</th>\n",
       "      <td>1.000000</td>\n",
       "      <td>0.000000</td>\n",
       "    </tr>\n",
       "    <tr>\n",
       "      <th>maximum</th>\n",
       "      <td>91.000000</td>\n",
       "      <td>2296.000000</td>\n",
       "    </tr>\n",
       "  </tbody>\n",
       "</table>\n",
       "</div>"
      ],
      "text/plain": [
       "                    sentences_per_description  tokens_per_description\n",
       "mean                                 1.657580               25.482206\n",
       "median                               1.000000                9.000000\n",
       "standard_deviation                   2.396012               63.481367\n",
       "minimum                              1.000000                0.000000\n",
       "maximum                             91.000000             2296.000000"
      ]
     },
     "execution_count": 17,
     "metadata": {},
     "output_type": "execute_result"
    }
   ],
   "source": [
    "df_by_desc = pd.DataFrame({\n",
    "    \"sentences_per_description\":[np.mean(sentence_counts), np.median(sentence_counts), np.std(sentence_counts), np.min(sentence_counts), np.max(sentence_counts)],\n",
    "    \"tokens_per_description\":[np.mean(token_counts), np.median(token_counts), np.std(token_counts), np.min(token_counts), np.max(token_counts)]\n",
    "}, index=[\"mean\", \"median\", \"standard_deviation\", \"minimum\", \"maximum\"])\n",
    "df_by_desc"
   ]
  },
  {
   "cell_type": "markdown",
   "id": "de125467",
   "metadata": {},
   "source": [
    "### Counts by Sentence"
   ]
  },
  {
   "cell_type": "code",
   "execution_count": 18,
   "id": "a81b4118",
   "metadata": {},
   "outputs": [
    {
     "name": "stdout",
     "output_type": "stream",
     "text": [
      "['17th', 'Century', 'Collection']\n"
     ]
    }
   ],
   "source": [
    "tokens_by_sentence = [word_tokenize(s) for sentence_list in sentences for s in sentence_list]\n",
    "print(tokens_by_sentence[0])"
   ]
  },
  {
   "cell_type": "code",
   "execution_count": 19,
   "id": "00520de7",
   "metadata": {},
   "outputs": [
    {
     "name": "stdout",
     "output_type": "stream",
     "text": [
      "Mean: 17.538429433671503\n",
      "Median: 13.0\n",
      "Standard Deviation: 16.256025445870012\n",
      "Minimum: 1\n",
      "Maximum: 1676\n"
     ]
    }
   ],
   "source": [
    "token_counts_by_sentence = [len(token_list) for token_list in tokens_by_sentence]\n",
    "print(\"Mean:\", np.mean(token_counts_by_sentence))\n",
    "print(\"Median:\", np.median(token_counts_by_sentence))\n",
    "print(\"Standard Deviation:\", np.std(token_counts_by_sentence))\n",
    "print(\"Minimum:\", np.min(token_counts_by_sentence))\n",
    "print(\"Maximum:\", np.max(token_counts_by_sentence))"
   ]
  },
  {
   "cell_type": "code",
   "execution_count": 20,
   "id": "66ec134a",
   "metadata": {},
   "outputs": [
    {
     "data": {
      "text/html": [
       "<div>\n",
       "<style scoped>\n",
       "    .dataframe tbody tr th:only-of-type {\n",
       "        vertical-align: middle;\n",
       "    }\n",
       "\n",
       "    .dataframe tbody tr th {\n",
       "        vertical-align: top;\n",
       "    }\n",
       "\n",
       "    .dataframe thead th {\n",
       "        text-align: right;\n",
       "    }\n",
       "</style>\n",
       "<table border=\"1\" class=\"dataframe\">\n",
       "  <thead>\n",
       "    <tr style=\"text-align: right;\">\n",
       "      <th></th>\n",
       "      <th>tokens_per_sentence</th>\n",
       "    </tr>\n",
       "  </thead>\n",
       "  <tbody>\n",
       "    <tr>\n",
       "      <th>mean</th>\n",
       "      <td>17.538429</td>\n",
       "    </tr>\n",
       "    <tr>\n",
       "      <th>median</th>\n",
       "      <td>13.000000</td>\n",
       "    </tr>\n",
       "    <tr>\n",
       "      <th>standard_deviation</th>\n",
       "      <td>16.256025</td>\n",
       "    </tr>\n",
       "    <tr>\n",
       "      <th>minimum</th>\n",
       "      <td>1.000000</td>\n",
       "    </tr>\n",
       "    <tr>\n",
       "      <th>maximum</th>\n",
       "      <td>1676.000000</td>\n",
       "    </tr>\n",
       "  </tbody>\n",
       "</table>\n",
       "</div>"
      ],
      "text/plain": [
       "                    tokens_per_sentence\n",
       "mean                          17.538429\n",
       "median                        13.000000\n",
       "standard_deviation            16.256025\n",
       "minimum                        1.000000\n",
       "maximum                     1676.000000"
      ]
     },
     "execution_count": 20,
     "metadata": {},
     "output_type": "execute_result"
    }
   ],
   "source": [
    "df_by_sent = pd.DataFrame({\n",
    "    \"tokens_per_sentence\":[np.mean(token_counts_by_sentence), np.median(token_counts_by_sentence), np.std(token_counts_by_sentence), np.min(token_counts_by_sentence), np.max(token_counts_by_sentence)]\n",
    "}, index=[\"mean\", \"median\", \"standard_deviation\", \"minimum\", \"maximum\"])\n",
    "df_by_sent"
   ]
  },
  {
   "cell_type": "code",
   "execution_count": 45,
   "id": "d3b85895",
   "metadata": {},
   "outputs": [
    {
     "data": {
      "text/html": [
       "<div>\n",
       "<style scoped>\n",
       "    .dataframe tbody tr th:only-of-type {\n",
       "        vertical-align: middle;\n",
       "    }\n",
       "\n",
       "    .dataframe tbody tr th {\n",
       "        vertical-align: top;\n",
       "    }\n",
       "\n",
       "    .dataframe thead th {\n",
       "        text-align: right;\n",
       "    }\n",
       "</style>\n",
       "<table border=\"1\" class=\"dataframe\">\n",
       "  <thead>\n",
       "    <tr style=\"text-align: right;\">\n",
       "      <th></th>\n",
       "      <th>sentences_per_description</th>\n",
       "      <th>tokens_per_description</th>\n",
       "      <th>tokens_per_sentence</th>\n",
       "    </tr>\n",
       "  </thead>\n",
       "  <tbody>\n",
       "    <tr>\n",
       "      <th>mean</th>\n",
       "      <td>1.657580</td>\n",
       "      <td>25.482206</td>\n",
       "      <td>17.538429</td>\n",
       "    </tr>\n",
       "    <tr>\n",
       "      <th>median</th>\n",
       "      <td>1.000000</td>\n",
       "      <td>9.000000</td>\n",
       "      <td>13.000000</td>\n",
       "    </tr>\n",
       "    <tr>\n",
       "      <th>standard_deviation</th>\n",
       "      <td>2.396012</td>\n",
       "      <td>63.481367</td>\n",
       "      <td>16.256025</td>\n",
       "    </tr>\n",
       "    <tr>\n",
       "      <th>minimum</th>\n",
       "      <td>1.000000</td>\n",
       "      <td>0.000000</td>\n",
       "      <td>1.000000</td>\n",
       "    </tr>\n",
       "    <tr>\n",
       "      <th>maximum</th>\n",
       "      <td>91.000000</td>\n",
       "      <td>2296.000000</td>\n",
       "      <td>1676.000000</td>\n",
       "    </tr>\n",
       "  </tbody>\n",
       "</table>\n",
       "</div>"
      ],
      "text/plain": [
       "                    sentences_per_description  tokens_per_description  \\\n",
       "mean                                 1.657580               25.482206   \n",
       "median                               1.000000                9.000000   \n",
       "standard_deviation                   2.396012               63.481367   \n",
       "minimum                              1.000000                0.000000   \n",
       "maximum                             91.000000             2296.000000   \n",
       "\n",
       "                    tokens_per_sentence  \n",
       "mean                          17.538429  \n",
       "median                        13.000000  \n",
       "standard_deviation            16.256025  \n",
       "minimum                        1.000000  \n",
       "maximum                     1676.000000  "
      ]
     },
     "execution_count": 45,
     "metadata": {},
     "output_type": "execute_result"
    }
   ],
   "source": [
    "df_stats = pd.concat([df_by_desc, df_by_sent], axis=1)\n",
    "df_stats"
   ]
  },
  {
   "cell_type": "markdown",
   "id": "5f36f106",
   "metadata": {},
   "source": [
    "### Counts Overall"
   ]
  },
  {
   "cell_type": "code",
   "execution_count": 22,
   "id": "39f1794d",
   "metadata": {},
   "outputs": [
    {
     "name": "stdout",
     "output_type": "stream",
     "text": [
      "Total sentences:  124592\n",
      "Total tokens:  1915370\n"
     ]
    }
   ],
   "source": [
    "total_sentences = sum(sentence_counts)\n",
    "total_tokens = len(tokens_flat_lower)\n",
    "print(\"Total sentences: \", total_sentences)\n",
    "print(\"Total tokens: \", total_tokens)\n",
    "\n",
    "# All EAD + Bell:\n",
    "# Total sentences:  151580\n",
    "# Total tokens:  2446557"
   ]
  },
  {
   "cell_type": "code",
   "execution_count": 23,
   "id": "b0cefc15",
   "metadata": {},
   "outputs": [
    {
     "name": "stdout",
     "output_type": "stream",
     "text": [
      "Unique tokens:  42531\n"
     ]
    }
   ],
   "source": [
    "print(\"Unique tokens: \", len(set(tokens_flat_lower)))\n",
    "\n",
    "# All EAD + Bell:\n",
    "# Unique tokens:  45614"
   ]
  },
  {
   "cell_type": "code",
   "execution_count": 24,
   "id": "a441ac69",
   "metadata": {},
   "outputs": [
    {
     "data": {
      "text/html": [
       "<div>\n",
       "<style scoped>\n",
       "    .dataframe tbody tr th:only-of-type {\n",
       "        vertical-align: middle;\n",
       "    }\n",
       "\n",
       "    .dataframe tbody tr th {\n",
       "        vertical-align: top;\n",
       "    }\n",
       "\n",
       "    .dataframe thead th {\n",
       "        text-align: right;\n",
       "    }\n",
       "</style>\n",
       "<table border=\"1\" class=\"dataframe\">\n",
       "  <thead>\n",
       "    <tr style=\"text-align: right;\">\n",
       "      <th></th>\n",
       "      <th>sentences_per_description</th>\n",
       "      <th>tokens_per_description</th>\n",
       "      <th>tokens_per_sentence</th>\n",
       "    </tr>\n",
       "  </thead>\n",
       "  <tbody>\n",
       "    <tr>\n",
       "      <th>total</th>\n",
       "      <td>124592</td>\n",
       "      <td>1915370</td>\n",
       "      <td>1915370</td>\n",
       "    </tr>\n",
       "  </tbody>\n",
       "</table>\n",
       "</div>"
      ],
      "text/plain": [
       "       sentences_per_description  tokens_per_description  tokens_per_sentence\n",
       "total                     124592                 1915370              1915370"
      ]
     },
     "execution_count": 24,
     "metadata": {},
     "output_type": "execute_result"
    }
   ],
   "source": [
    "df_total = pd.DataFrame({\"sentences_per_description\":total_sentences, \"tokens_per_description\":total_tokens, \"tokens_per_sentence\":total_tokens}, index=[\"total\"])\n",
    "df_total"
   ]
  },
  {
   "cell_type": "code",
   "execution_count": 46,
   "id": "6bbc278d",
   "metadata": {},
   "outputs": [
    {
     "data": {
      "text/html": [
       "<div>\n",
       "<style scoped>\n",
       "    .dataframe tbody tr th:only-of-type {\n",
       "        vertical-align: middle;\n",
       "    }\n",
       "\n",
       "    .dataframe tbody tr th {\n",
       "        vertical-align: top;\n",
       "    }\n",
       "\n",
       "    .dataframe thead th {\n",
       "        text-align: right;\n",
       "    }\n",
       "</style>\n",
       "<table border=\"1\" class=\"dataframe\">\n",
       "  <thead>\n",
       "    <tr style=\"text-align: right;\">\n",
       "      <th></th>\n",
       "      <th>sentences_per_description</th>\n",
       "      <th>tokens_per_description</th>\n",
       "      <th>tokens_per_sentence</th>\n",
       "    </tr>\n",
       "  </thead>\n",
       "  <tbody>\n",
       "    <tr>\n",
       "      <th>mean</th>\n",
       "      <td>1.657580</td>\n",
       "      <td>2.548221e+01</td>\n",
       "      <td>1.753843e+01</td>\n",
       "    </tr>\n",
       "    <tr>\n",
       "      <th>median</th>\n",
       "      <td>1.000000</td>\n",
       "      <td>9.000000e+00</td>\n",
       "      <td>1.300000e+01</td>\n",
       "    </tr>\n",
       "    <tr>\n",
       "      <th>standard_deviation</th>\n",
       "      <td>2.396012</td>\n",
       "      <td>6.348137e+01</td>\n",
       "      <td>1.625603e+01</td>\n",
       "    </tr>\n",
       "    <tr>\n",
       "      <th>minimum</th>\n",
       "      <td>1.000000</td>\n",
       "      <td>0.000000e+00</td>\n",
       "      <td>1.000000e+00</td>\n",
       "    </tr>\n",
       "    <tr>\n",
       "      <th>maximum</th>\n",
       "      <td>91.000000</td>\n",
       "      <td>2.296000e+03</td>\n",
       "      <td>1.676000e+03</td>\n",
       "    </tr>\n",
       "    <tr>\n",
       "      <th>total</th>\n",
       "      <td>124592.000000</td>\n",
       "      <td>1.915370e+06</td>\n",
       "      <td>1.915370e+06</td>\n",
       "    </tr>\n",
       "  </tbody>\n",
       "</table>\n",
       "</div>"
      ],
      "text/plain": [
       "                    sentences_per_description  tokens_per_description  \\\n",
       "mean                                 1.657580            2.548221e+01   \n",
       "median                               1.000000            9.000000e+00   \n",
       "standard_deviation                   2.396012            6.348137e+01   \n",
       "minimum                              1.000000            0.000000e+00   \n",
       "maximum                             91.000000            2.296000e+03   \n",
       "total                           124592.000000            1.915370e+06   \n",
       "\n",
       "                    tokens_per_sentence  \n",
       "mean                       1.753843e+01  \n",
       "median                     1.300000e+01  \n",
       "standard_deviation         1.625603e+01  \n",
       "minimum                    1.000000e+00  \n",
       "maximum                    1.676000e+03  \n",
       "total                      1.915370e+06  "
      ]
     },
     "execution_count": 46,
     "metadata": {},
     "output_type": "execute_result"
    }
   ],
   "source": [
    "df_stats = pd.concat([df_stats, df_total], axis=0)\n",
    "df_stats"
   ]
  },
  {
   "cell_type": "markdown",
   "id": "b74241fd",
   "metadata": {},
   "source": [
    "Save the table of descriptive statistics as a CSV file."
   ]
  },
  {
   "cell_type": "code",
   "execution_count": 26,
   "id": "48ea4047",
   "metadata": {},
   "outputs": [],
   "source": [
    "df_stats.to_csv(extracted_dir + \"nusc_ead_descs_stats.csv\")"
   ]
  },
  {
   "cell_type": "markdown",
   "id": "0eb1b1b3",
   "metadata": {},
   "source": [
    "### Root Forms: Lemmatize & Stem"
   ]
  },
  {
   "cell_type": "code",
   "execution_count": 27,
   "id": "f4fc4899",
   "metadata": {},
   "outputs": [],
   "source": [
    "stop_words = set(stopwords.words('english') + list(string.punctuation) + list(string.digits))"
   ]
  },
  {
   "cell_type": "code",
   "execution_count": 28,
   "id": "94af3bea",
   "metadata": {},
   "outputs": [
    {
     "name": "stdout",
     "output_type": "stream",
     "text": [
      "{'aren', 've', 'this', 'ain', 'is', 'where', 're', ')', 'out', '6', 'have', \"aren't\", 'why', 'into', 'do', '`', 'does', 'before', 'them', 'under', 'and', 'only', 'as', 'very', '?', \"wouldn't\", 'mightn', 'until', 'above', 'are', '[', \"they'd\", 'yourself', \"she's\", \"they're\", 'so', 'having', 'theirs', 'once', '9', \"we're\", 'wouldn', 'any', 'further', 'who', 'they', \"i've\", 'shan', 'be', 'each', \"should've\", '7', 'o', '4', 'its', 'yourselves', 'too', ';', 'didn', '5', 'their', 'haven', '(', \"i'm\", \"'\", ',', '/', 'been', 'i', 'through', \"they'll\", '3', 'nor', 'just', '1', 'had', 'couldn', \"that'll\", \"we'd\", '}', 'hasn', '{', '~', \"he's\", 'his', '\\\\', 'between', \"it's\", 'same', 'most', 'such', 'an', 'of', 'few', '=', 'being', 'not', 'wasn', \"you'll\", 's', \"you're\", 'from', '<', 'hers', 'y', \"don't\", 't', '&', \"didn't\", 'for', '.', '0', 'it', 'was', '$', 'won', '!', 'you', 'again', \"couldn't\", 'while', 'by', 'what', 'will', '+', '-', 'myself', \"she'd\", \"i'll\", 'on', 'when', 'during', '8', \"wasn't\", 'some', \"hasn't\", 'shouldn', 'll', 'your', \"we've\", 'doing', 'mustn', 'at', 'our', 'should', \"weren't\", 'himself', \"he'd\", '^', ']', 'did', 'to', \"needn't\", 'which', 'with', 'ourselves', \"it'd\", 'against', 'whom', '_', \"i'd\", 'her', 'now', \"he'll\", 'doesn', '@', 'or', \"mustn't\", 'down', 'these', 'up', \"they've\", 'those', \"we'll\", 'don', \"shan't\", 'him', 'then', 'ours', 'd', '%', 'me', 'but', \"shouldn't\", 'themselves', '*', 'because', 'am', 'he', 'a', 'more', \"hadn't\", 'own', 'm', \"you'd\", 'has', \"isn't\", 'she', 'can', 'how', 'weren', '|', '\"', 'here', \"it'll\", 'about', 'if', ':', 'itself', 'after', 'hadn', 'ma', 'no', 'other', \"you've\", 'below', \"mightn't\", 'herself', 'there', '>', 'in', 'my', 'that', 'all', '#', 'yours', \"won't\", 'over', 'off', \"doesn't\", \"she'll\", 'than', 'were', 'isn', \"haven't\", 'both', 'needn', 'the', 'we', '2'}\n"
     ]
    }
   ],
   "source": [
    "print(stop_words)"
   ]
  },
  {
   "cell_type": "code",
   "execution_count": 29,
   "id": "8d6b954c",
   "metadata": {},
   "outputs": [
    {
     "name": "stdout",
     "output_type": "stream",
     "text": [
      "Total lemmas:  1788667\n",
      "Total filtered lemmas:  1134186\n",
      "Unique lemmas:  26530\n",
      "Unique filtered lemmas:  26395\n"
     ]
    }
   ],
   "source": [
    "wnl = nltk.WordNetLemmatizer()\n",
    "lemmas = [wnl.lemmatize(t) for t in tokens_flat_lower if t.isalpha()]\n",
    "filtered_lemmas = [l for l in lemmas if l not in stop_words]\n",
    "print(\"Total lemmas: \", len(lemmas))\n",
    "print(\"Total filtered lemmas: \", len(filtered_lemmas))\n",
    "print(\"Unique lemmas: \", len(set(lemmas)))\n",
    "print(\"Unique filtered lemmas: \", len(set(filtered_lemmas)))"
   ]
  },
  {
   "cell_type": "code",
   "execution_count": 30,
   "id": "7f7c7ba4",
   "metadata": {},
   "outputs": [
    {
     "name": "stdout",
     "output_type": "stream",
     "text": [
      "Total stems:  1788667\n",
      "Total filtered stems:  1151434\n",
      "Unique stems:  22332\n",
      "Unique filtered stems:  22214\n"
     ]
    }
   ],
   "source": [
    "ps = PorterStemmer()\n",
    "stems = [ps.stem(t) for t in tokens_flat_lower if t.isalpha()]\n",
    "filtered_stems = [s for s in stems if s not in stop_words]\n",
    "print(\"Total stems: \", len(stems))\n",
    "print(\"Total filtered stems: \", len(filtered_stems))\n",
    "print(\"Unique stems: \", len(set(stems)))\n",
    "print(\"Unique filtered stems: \", len(set(filtered_stems)))"
   ]
  },
  {
   "cell_type": "code",
   "execution_count": 31,
   "id": "ad164712",
   "metadata": {},
   "outputs": [
    {
     "name": "stdout",
     "output_type": "stream",
     "text": [
      "['launch', 'of', 'air', 'business', 'planning', 'file', 'event', 'programme', 'file', 'scotland']\n",
      "['launch', 'of', 'air', 'busi', 'plan', 'file', 'event', 'programm', 'file', 'scotland']\n"
     ]
    }
   ],
   "source": [
    "print(lemmas[100:110])\n",
    "print(stems[100:110])"
   ]
  },
  {
   "cell_type": "markdown",
   "id": "98d6abd9",
   "metadata": {},
   "source": [
    "### Grammatically and Lexically Gendered Word Counts"
   ]
  },
  {
   "cell_type": "code",
   "execution_count": 32,
   "id": "46194a1d",
   "metadata": {},
   "outputs": [],
   "source": [
    "word_list = [\n",
    "    \"woman\", \"women\", \"girl\", \"girls\", \"man\", \"men\", \"boy\", \"boys\", \n",
    "    \"she\", \"he\", \"her\", \"him\", \"hers\", \"his\",\n",
    "    \"mother\", \"father\", \"daughter\", \"son\", \"sister\", \"brother\",\n",
    "    \"aunt\", \"uncle\", \"niece\", \"nephew\", \"grandmother\", \"grandfather\",\n",
    "    \"granddaughter\", \"grandson\", \"wife\", \"husband\"\n",
    "    ]"
   ]
  },
  {
   "cell_type": "code",
   "execution_count": 33,
   "id": "87eb21db",
   "metadata": {},
   "outputs": [],
   "source": [
    "filtered_tokens = [t for t in tokens_flat_lower if t not in stop_words]\n",
    "filtered_tokens = [t for t in filtered_tokens if t.isalpha()]\n",
    "filtered_tokens_fdist = FreqDist(filtered_tokens)\n",
    "lower_tokens_counts = []\n",
    "for w in word_list:\n",
    "    lower_tokens_counts += [filtered_tokens_fdist[w]]\n",
    "lower_tokens_df = pd.DataFrame({\"word\":word_list, \"count\":lower_tokens_counts})\n",
    "lower_tokens_df = lower_tokens_df.sort_values(by=\"count\")\n",
    "# lower_tokens_df\n",
    "lower_tokens_df.to_csv(extracted_dir+\"nusc_ead_gendered_lower_token_counts_ead.csv\", index=False)"
   ]
  },
  {
   "cell_type": "code",
   "execution_count": 34,
   "id": "deec7b57",
   "metadata": {},
   "outputs": [],
   "source": [
    "capitalized_word_list = [\n",
    "    \"Mrs\", \"Ms\", \"Miss\", \"Mr\", \"Messrs\", \"Lady\", \"Lord\",\n",
    "    \"gentleman\", \"gentlemen\", \"ladies\", \"lady\", \"Duke\", \"Duchess\",\n",
    "    \"King\", \"Queen\", \"Prince\", \"Princess\", \"Countess\", \"Count\",\n",
    "    \"Baroness\", \"Baron\", \"Viscountess\", \"Viscount\", \"Dame\", \"Sir\"\n",
    "    ]"
   ]
  },
  {
   "cell_type": "code",
   "execution_count": 35,
   "id": "caeb912e",
   "metadata": {},
   "outputs": [],
   "source": [
    "cap_tokens_filtered = [t for t in tokens_flat if t.isalpha()]\n",
    "cap_tokens_filtered = [t for t in cap_tokens_filtered if t not in stop_words]\n",
    "cap_tokens_fdist = FreqDist(cap_tokens_filtered)\n",
    "cap_tokens_counts = []\n",
    "for w in capitalized_word_list:\n",
    "    cap_tokens_counts += [cap_tokens_fdist[w]]\n",
    "cap_tokens_df = pd.DataFrame({\"word\":capitalized_word_list, \"count\":cap_tokens_counts})\n",
    "cap_tokens_df = cap_tokens_df.sort_values(by=\"count\")\n",
    "# cap_tokens_df\n",
    "cap_tokens_df.to_csv(extracted_dir+\"nusc_ead_gendered_capitalized_token_counts.csv\", index=False)"
   ]
  },
  {
   "cell_type": "markdown",
   "id": "3ea57643",
   "metadata": {},
   "source": [
    "### Frequency Distributions"
   ]
  },
  {
   "cell_type": "code",
   "execution_count": 36,
   "id": "12683ede",
   "metadata": {},
   "outputs": [
    {
     "name": "stdout",
     "output_type": "stream",
     "text": [
      "Total alphabetic tokens: 1113240\n"
     ]
    }
   ],
   "source": [
    "print(\"Total alphabetic tokens:\", len(filtered_tokens))"
   ]
  },
  {
   "cell_type": "code",
   "execution_count": 37,
   "id": "747f3fae",
   "metadata": {},
   "outputs": [
    {
     "data": {
      "text/plain": [
       "<Axes: title={'center': 'Top 30 most common alphabetic tokens'}, xlabel='Samples', ylabel='Counts'>"
      ]
     },
     "execution_count": 37,
     "metadata": {},
     "output_type": "execute_result"
    },
    {
     "data": {
      "image/png": "[encoded data removed]",
      "text/plain": [
       "<Figure size 800x400 with 1 Axes>"
      ]
     },
     "metadata": {},
     "output_type": "display_data"
    }
   ],
   "source": [
    "fdist_tokens = FreqDist(filtered_tokens)\n",
    "plt.figure(figsize=(8, 4))\n",
    "plt.rc('font', size=10)\n",
    "n = 30\n",
    "fdist_tokens.plot(n, title=f\"Top {n} most common alphabetic tokens\")"
   ]
  },
  {
   "cell_type": "code",
   "execution_count": 38,
   "id": "eb3c1000",
   "metadata": {},
   "outputs": [
    {
     "data": {
      "text/plain": [
       "<Axes: title={'center': 'Top 30 most common lemmas'}, xlabel='Samples', ylabel='Counts'>"
      ]
     },
     "execution_count": 38,
     "metadata": {},
     "output_type": "execute_result"
    },
    {
     "data": {
      "image/png": "[encoded data removed]",
      "text/plain": [
       "<Figure size 800x400 with 1 Axes>"
      ]
     },
     "metadata": {},
     "output_type": "display_data"
    }
   ],
   "source": [
    "fdist_lemmas = FreqDist(filtered_lemmas)\n",
    "plt.figure(figsize=(8, 4))\n",
    "plt.rc('font', size=10)\n",
    "n = 30 #10\n",
    "fdist_lemmas.plot(n, title=f\"Top {n} most common lemmas\")"
   ]
  },
  {
   "cell_type": "code",
   "execution_count": 39,
   "id": "99d29430",
   "metadata": {},
   "outputs": [
    {
     "data": {
      "text/plain": [
       "<Axes: title={'center': 'Top 30 most common stems'}, xlabel='Samples', ylabel='Counts'>"
      ]
     },
     "execution_count": 39,
     "metadata": {},
     "output_type": "execute_result"
    },
    {
     "data": {
      "image/png": "[encoded data removed]",
      "text/plain": [
       "<Figure size 800x400 with 1 Axes>"
      ]
     },
     "metadata": {},
     "output_type": "display_data"
    }
   ],
   "source": [
    "fdist_stems = FreqDist(filtered_stems)\n",
    "plt.figure(figsize=(8, 4))\n",
    "plt.rc('font', size=10)\n",
    "n = 30 #10\n",
    "fdist_stems.plot(n, title=f\"Top {n} most common stems\")"
   ]
  },
  {
   "cell_type": "markdown",
   "id": "7fb39de5",
   "metadata": {},
   "source": [
    "## Part of Speech Tagging\n",
    "\n",
    "Use NLTK's default part-of-speech tagger to analyze the adjectives and adverbs of the descriptive metadata."
   ]
  },
  {
   "cell_type": "markdown",
   "id": "78249d5f",
   "metadata": {},
   "source": [
    "Select the DataFrame rows with descriptive metadata in EAD only."
   ]
  },
  {
   "cell_type": "code",
   "execution_count": 48,
   "id": "a52c7cca",
   "metadata": {},
   "outputs": [
    {
     "data": {
      "text/html": [
       "<div>\n",
       "<style scoped>\n",
       "    .dataframe tbody tr th:only-of-type {\n",
       "        vertical-align: middle;\n",
       "    }\n",
       "\n",
       "    .dataframe tbody tr th {\n",
       "        vertical-align: top;\n",
       "    }\n",
       "\n",
       "    .dataframe thead th {\n",
       "        text-align: right;\n",
       "    }\n",
       "</style>\n",
       "<table border=\"1\" class=\"dataframe\">\n",
       "  <thead>\n",
       "    <tr style=\"text-align: right;\">\n",
       "      <th></th>\n",
       "      <th>description_id</th>\n",
       "      <th>eadid</th>\n",
       "      <th>rowid</th>\n",
       "      <th>field</th>\n",
       "      <th>doc</th>\n",
       "    </tr>\n",
       "  </thead>\n",
       "  <tbody>\n",
       "    <tr>\n",
       "      <th>21</th>\n",
       "      <td>21</td>\n",
       "      <td>AN</td>\n",
       "      <td>AN</td>\n",
       "      <td>processinfo</td>\n",
       "      <td>This description created by Ruth Sheret 04 Aug...</td>\n",
       "    </tr>\n",
       "    <tr>\n",
       "      <th>24</th>\n",
       "      <td>24</td>\n",
       "      <td>AN</td>\n",
       "      <td>AN-00001</td>\n",
       "      <td>processinfo</td>\n",
       "      <td>This description created by Ruth Sheret 04 Aug...</td>\n",
       "    </tr>\n",
       "    <tr>\n",
       "      <th>27</th>\n",
       "      <td>27</td>\n",
       "      <td>AN</td>\n",
       "      <td>AN-00002</td>\n",
       "      <td>processinfo</td>\n",
       "      <td>This description created by Ruth Sheret 04 Aug...</td>\n",
       "    </tr>\n",
       "    <tr>\n",
       "      <th>30</th>\n",
       "      <td>30</td>\n",
       "      <td>AN</td>\n",
       "      <td>AN-00003</td>\n",
       "      <td>processinfo</td>\n",
       "      <td>This description created by Ruth Sheret 04 Aug...</td>\n",
       "    </tr>\n",
       "    <tr>\n",
       "      <th>33</th>\n",
       "      <td>33</td>\n",
       "      <td>AN</td>\n",
       "      <td>AN-00004</td>\n",
       "      <td>processinfo</td>\n",
       "      <td>This description created by Ruth Sheret 04 Aug...</td>\n",
       "    </tr>\n",
       "  </tbody>\n",
       "</table>\n",
       "</div>"
      ],
      "text/plain": [
       "    description_id eadid     rowid        field  \\\n",
       "21              21    AN        AN  processinfo   \n",
       "24              24    AN  AN-00001  processinfo   \n",
       "27              27    AN  AN-00002  processinfo   \n",
       "30              30    AN  AN-00003  processinfo   \n",
       "33              33    AN  AN-00004  processinfo   \n",
       "\n",
       "                                                  doc  \n",
       "21  This description created by Ruth Sheret 04 Aug...  \n",
       "24  This description created by Ruth Sheret 04 Aug...  \n",
       "27  This description created by Ruth Sheret 04 Aug...  \n",
       "30  This description created by Ruth Sheret 04 Aug...  \n",
       "33  This description created by Ruth Sheret 04 Aug...  "
      ]
     },
     "execution_count": 48,
     "metadata": {},
     "output_type": "execute_result"
    }
   ],
   "source": [
    "df_pi = df.loc[df[\"field\"] == \"processinfo\"]\n",
    "df_sc = df.loc[df[\"field\"] == \"scopecontent\"]\n",
    "df_bh = df.loc[df[\"field\"] == \"bioghist\"]\n",
    "df_ut = df.loc[df[\"field\"] == \"unittitle\"]\n",
    "df_ead = pd.concat([df_pi, df_sc, df_bh, df_ut], axis=0)\n",
    "df_ead.head()"
   ]
  },
  {
   "cell_type": "code",
   "execution_count": 49,
   "id": "003bcc13",
   "metadata": {},
   "outputs": [
    {
     "data": {
      "text/html": [
       "<div>\n",
       "<style scoped>\n",
       "    .dataframe tbody tr th:only-of-type {\n",
       "        vertical-align: middle;\n",
       "    }\n",
       "\n",
       "    .dataframe tbody tr th {\n",
       "        vertical-align: top;\n",
       "    }\n",
       "\n",
       "    .dataframe thead th {\n",
       "        text-align: right;\n",
       "    }\n",
       "</style>\n",
       "<table border=\"1\" class=\"dataframe\">\n",
       "  <thead>\n",
       "    <tr style=\"text-align: right;\">\n",
       "      <th></th>\n",
       "      <th>description_id</th>\n",
       "      <th>eadid</th>\n",
       "      <th>rowid</th>\n",
       "      <th>field</th>\n",
       "      <th>doc</th>\n",
       "    </tr>\n",
       "  </thead>\n",
       "  <tbody>\n",
       "    <tr>\n",
       "      <th>0</th>\n",
       "      <td>0</td>\n",
       "      <td>17th C. Coll</td>\n",
       "      <td>17th C. Coll</td>\n",
       "      <td>bioghist</td>\n",
       "      <td>Formed in 1963 after an amalgamation of instit...</td>\n",
       "    </tr>\n",
       "    <tr>\n",
       "      <th>1</th>\n",
       "      <td>1</td>\n",
       "      <td>17th C. Coll</td>\n",
       "      <td>17th C. Coll</td>\n",
       "      <td>scopecontent</td>\n",
       "      <td>The 17th Century Collection is a small but exp...</td>\n",
       "    </tr>\n",
       "    <tr>\n",
       "      <th>2</th>\n",
       "      <td>2</td>\n",
       "      <td>17th C. Coll</td>\n",
       "      <td>17th C. Coll</td>\n",
       "      <td>unittitle</td>\n",
       "      <td>17th Century Collection</td>\n",
       "    </tr>\n",
       "    <tr>\n",
       "      <th>3</th>\n",
       "      <td>3</td>\n",
       "      <td>18th C. Coll</td>\n",
       "      <td>18th C. Coll</td>\n",
       "      <td>bioghist</td>\n",
       "      <td>Formed in 1963 after an amalgamation of instit...</td>\n",
       "    </tr>\n",
       "    <tr>\n",
       "      <th>4</th>\n",
       "      <td>4</td>\n",
       "      <td>18th C. Coll</td>\n",
       "      <td>18th C. Coll</td>\n",
       "      <td>scopecontent</td>\n",
       "      <td>The 18th Century Collection contains approxima...</td>\n",
       "    </tr>\n",
       "  </tbody>\n",
       "</table>\n",
       "</div>"
      ],
      "text/plain": [
       "   description_id         eadid         rowid         field  \\\n",
       "0               0  17th C. Coll  17th C. Coll      bioghist   \n",
       "1               1  17th C. Coll  17th C. Coll  scopecontent   \n",
       "2               2  17th C. Coll  17th C. Coll     unittitle   \n",
       "3               3  18th C. Coll  18th C. Coll      bioghist   \n",
       "4               4  18th C. Coll  18th C. Coll  scopecontent   \n",
       "\n",
       "                                                 doc  \n",
       "0  Formed in 1963 after an amalgamation of instit...  \n",
       "1  The 17th Century Collection is a small but exp...  \n",
       "2                            17th Century Collection  \n",
       "3  Formed in 1963 after an amalgamation of instit...  \n",
       "4  The 18th Century Collection contains approxima...  "
      ]
     },
     "execution_count": 49,
     "metadata": {},
     "output_type": "execute_result"
    }
   ],
   "source": [
    "df_ead = df_ead.sort_values(by=\"description_id\")\n",
    "df_ead = df_ead.reset_index(drop=True)\n",
    "df_ead.head()"
   ]
  },
  {
   "cell_type": "code",
   "execution_count": 50,
   "id": "4b98371c",
   "metadata": {},
   "outputs": [
    {
     "data": {
      "text/html": [
       "<div>\n",
       "<style scoped>\n",
       "    .dataframe tbody tr th:only-of-type {\n",
       "        vertical-align: middle;\n",
       "    }\n",
       "\n",
       "    .dataframe tbody tr th {\n",
       "        vertical-align: top;\n",
       "    }\n",
       "\n",
       "    .dataframe thead th {\n",
       "        text-align: right;\n",
       "    }\n",
       "</style>\n",
       "<table border=\"1\" class=\"dataframe\">\n",
       "  <thead>\n",
       "    <tr style=\"text-align: right;\">\n",
       "      <th></th>\n",
       "      <th>description_id</th>\n",
       "      <th>eadid</th>\n",
       "      <th>rowid</th>\n",
       "      <th>field</th>\n",
       "      <th>doc</th>\n",
       "    </tr>\n",
       "  </thead>\n",
       "  <tbody>\n",
       "    <tr>\n",
       "      <th>75160</th>\n",
       "      <td>99307</td>\n",
       "      <td>Wallis</td>\n",
       "      <td>Wallis</td>\n",
       "      <td>scopecontent</td>\n",
       "      <td>The Wallis Collection contains books on mathem...</td>\n",
       "    </tr>\n",
       "    <tr>\n",
       "      <th>75161</th>\n",
       "      <td>99308</td>\n",
       "      <td>Wallis</td>\n",
       "      <td>Wallis</td>\n",
       "      <td>unittitle</td>\n",
       "      <td>Wallis (Peter) Collection</td>\n",
       "    </tr>\n",
       "    <tr>\n",
       "      <th>75162</th>\n",
       "      <td>99309</td>\n",
       "      <td>Walmsley</td>\n",
       "      <td>Walmsley</td>\n",
       "      <td>bioghist</td>\n",
       "      <td>A specialist in Caribbean art and literature, ...</td>\n",
       "    </tr>\n",
       "    <tr>\n",
       "      <th>75163</th>\n",
       "      <td>99310</td>\n",
       "      <td>Walmsley</td>\n",
       "      <td>Walmsley</td>\n",
       "      <td>scopecontent</td>\n",
       "      <td>The Walmsley (Anne) Collection is named for th...</td>\n",
       "    </tr>\n",
       "    <tr>\n",
       "      <th>75164</th>\n",
       "      <td>99311</td>\n",
       "      <td>Walmsley</td>\n",
       "      <td>Walmsley</td>\n",
       "      <td>unittitle</td>\n",
       "      <td>Walmsley (Anne) Collection</td>\n",
       "    </tr>\n",
       "  </tbody>\n",
       "</table>\n",
       "</div>"
      ],
      "text/plain": [
       "       description_id     eadid     rowid         field  \\\n",
       "75160           99307    Wallis    Wallis  scopecontent   \n",
       "75161           99308    Wallis    Wallis     unittitle   \n",
       "75162           99309  Walmsley  Walmsley      bioghist   \n",
       "75163           99310  Walmsley  Walmsley  scopecontent   \n",
       "75164           99311  Walmsley  Walmsley     unittitle   \n",
       "\n",
       "                                                     doc  \n",
       "75160  The Wallis Collection contains books on mathem...  \n",
       "75161                          Wallis (Peter) Collection  \n",
       "75162  A specialist in Caribbean art and literature, ...  \n",
       "75163  The Walmsley (Anne) Collection is named for th...  \n",
       "75164                         Walmsley (Anne) Collection  "
      ]
     },
     "execution_count": 50,
     "metadata": {},
     "output_type": "execute_result"
    }
   ],
   "source": [
    "df_ead.tail()"
   ]
  },
  {
   "cell_type": "code",
   "execution_count": 51,
   "id": "4a89e952",
   "metadata": {},
   "outputs": [],
   "source": [
    "ead_docs = list(df_ead[\"doc\"])\n",
    "ead_tokenized = [word_tokenize(doc) for doc in ead_docs]"
   ]
  },
  {
   "cell_type": "code",
   "execution_count": 52,
   "id": "4eb9df73",
   "metadata": {},
   "outputs": [
    {
     "data": {
      "text/plain": [
       "[('Formed', 'VBN'),\n",
       " ('in', 'IN'),\n",
       " ('1963', 'CD'),\n",
       " ('after', 'IN'),\n",
       " ('an', 'DT'),\n",
       " ('amalgamation', 'NN'),\n",
       " ('of', 'IN'),\n",
       " ('institutions', 'NNS'),\n",
       " ('dating', 'VBG'),\n",
       " ('back', 'RB'),\n",
       " ('to', 'TO'),\n",
       " ('1834', 'CD'),\n",
       " (',', ','),\n",
       " ('Newcastle', 'NNP'),\n",
       " ('University', 'NNP'),\n",
       " ('is', 'VBZ'),\n",
       " ('based', 'VBN'),\n",
       " ('in', 'IN'),\n",
       " ('Newcastle', 'NNP'),\n",
       " ('upon', 'IN'),\n",
       " ('Tyne', 'NNP'),\n",
       " (',', ','),\n",
       " ('with', 'IN'),\n",
       " ('overseas', 'JJ'),\n",
       " ('campuses', 'NNS'),\n",
       " ('in', 'IN'),\n",
       " ('Malaysia', 'NNP'),\n",
       " ('and', 'CC'),\n",
       " ('Singapore', 'NNP'),\n",
       " ('.', '.'),\n",
       " ('It', 'PRP'),\n",
       " ('is', 'VBZ'),\n",
       " ('a', 'DT'),\n",
       " ('member', 'NN'),\n",
       " ('of', 'IN'),\n",
       " ('the', 'DT'),\n",
       " ('Russell', 'NNP'),\n",
       " ('Group', 'NNP'),\n",
       " ('of', 'IN'),\n",
       " ('Universities', 'NNP'),\n",
       " ('.', '.')]"
      ]
     },
     "execution_count": 52,
     "metadata": {},
     "output_type": "execute_result"
    }
   ],
   "source": [
    "pos_tagged = [nltk.pos_tag(token_list) for token_list in ead_tokenized]\n",
    "pos_tagged[0]"
   ]
  },
  {
   "cell_type": "code",
   "execution_count": 53,
   "id": "4404025b",
   "metadata": {},
   "outputs": [
    {
     "data": {
      "text/html": [
       "<div>\n",
       "<style scoped>\n",
       "    .dataframe tbody tr th:only-of-type {\n",
       "        vertical-align: middle;\n",
       "    }\n",
       "\n",
       "    .dataframe tbody tr th {\n",
       "        vertical-align: top;\n",
       "    }\n",
       "\n",
       "    .dataframe thead th {\n",
       "        text-align: right;\n",
       "    }\n",
       "</style>\n",
       "<table border=\"1\" class=\"dataframe\">\n",
       "  <thead>\n",
       "    <tr style=\"text-align: right;\">\n",
       "      <th></th>\n",
       "      <th>description_id</th>\n",
       "      <th>eadid</th>\n",
       "      <th>pos_tagged</th>\n",
       "      <th>rowid</th>\n",
       "      <th>field</th>\n",
       "      <th>doc</th>\n",
       "    </tr>\n",
       "  </thead>\n",
       "  <tbody>\n",
       "    <tr>\n",
       "      <th>0</th>\n",
       "      <td>0</td>\n",
       "      <td>17th C. Coll</td>\n",
       "      <td>[(Formed, VBN), (in, IN), (1963, CD), (after, ...</td>\n",
       "      <td>17th C. Coll</td>\n",
       "      <td>bioghist</td>\n",
       "      <td>Formed in 1963 after an amalgamation of instit...</td>\n",
       "    </tr>\n",
       "    <tr>\n",
       "      <th>1</th>\n",
       "      <td>1</td>\n",
       "      <td>17th C. Coll</td>\n",
       "      <td>[(The, DT), (17th, JJ), (Century, NNP), (Colle...</td>\n",
       "      <td>17th C. Coll</td>\n",
       "      <td>scopecontent</td>\n",
       "      <td>The 17th Century Collection is a small but exp...</td>\n",
       "    </tr>\n",
       "    <tr>\n",
       "      <th>2</th>\n",
       "      <td>2</td>\n",
       "      <td>17th C. Coll</td>\n",
       "      <td>[(17th, JJ), (Century, NNP), (Collection, NNP)]</td>\n",
       "      <td>17th C. Coll</td>\n",
       "      <td>unittitle</td>\n",
       "      <td>17th Century Collection</td>\n",
       "    </tr>\n",
       "    <tr>\n",
       "      <th>3</th>\n",
       "      <td>3</td>\n",
       "      <td>18th C. Coll</td>\n",
       "      <td>[(Formed, VBN), (in, IN), (1963, CD), (after, ...</td>\n",
       "      <td>18th C. Coll</td>\n",
       "      <td>bioghist</td>\n",
       "      <td>Formed in 1963 after an amalgamation of instit...</td>\n",
       "    </tr>\n",
       "    <tr>\n",
       "      <th>4</th>\n",
       "      <td>4</td>\n",
       "      <td>18th C. Coll</td>\n",
       "      <td>[(The, DT), (18th, JJ), (Century, NNP), (Colle...</td>\n",
       "      <td>18th C. Coll</td>\n",
       "      <td>scopecontent</td>\n",
       "      <td>The 18th Century Collection contains approxima...</td>\n",
       "    </tr>\n",
       "  </tbody>\n",
       "</table>\n",
       "</div>"
      ],
      "text/plain": [
       "   description_id         eadid  \\\n",
       "0               0  17th C. Coll   \n",
       "1               1  17th C. Coll   \n",
       "2               2  17th C. Coll   \n",
       "3               3  18th C. Coll   \n",
       "4               4  18th C. Coll   \n",
       "\n",
       "                                          pos_tagged         rowid  \\\n",
       "0  [(Formed, VBN), (in, IN), (1963, CD), (after, ...  17th C. Coll   \n",
       "1  [(The, DT), (17th, JJ), (Century, NNP), (Colle...  17th C. Coll   \n",
       "2    [(17th, JJ), (Century, NNP), (Collection, NNP)]  17th C. Coll   \n",
       "3  [(Formed, VBN), (in, IN), (1963, CD), (after, ...  18th C. Coll   \n",
       "4  [(The, DT), (18th, JJ), (Century, NNP), (Colle...  18th C. Coll   \n",
       "\n",
       "          field                                                doc  \n",
       "0      bioghist  Formed in 1963 after an amalgamation of instit...  \n",
       "1  scopecontent  The 17th Century Collection is a small but exp...  \n",
       "2     unittitle                            17th Century Collection  \n",
       "3      bioghist  Formed in 1963 after an amalgamation of instit...  \n",
       "4  scopecontent  The 18th Century Collection contains approxima...  "
      ]
     },
     "execution_count": 53,
     "metadata": {},
     "output_type": "execute_result"
    }
   ],
   "source": [
    "df_ead.insert(2, \"pos_tagged\", pos_tagged)\n",
    "df_ead.head()"
   ]
  },
  {
   "cell_type": "code",
   "execution_count": 54,
   "id": "d945bcfd",
   "metadata": {},
   "outputs": [
    {
     "data": {
      "text/html": [
       "<div>\n",
       "<style scoped>\n",
       "    .dataframe tbody tr th:only-of-type {\n",
       "        vertical-align: middle;\n",
       "    }\n",
       "\n",
       "    .dataframe tbody tr th {\n",
       "        vertical-align: top;\n",
       "    }\n",
       "\n",
       "    .dataframe thead th {\n",
       "        text-align: right;\n",
       "    }\n",
       "</style>\n",
       "<table border=\"1\" class=\"dataframe\">\n",
       "  <thead>\n",
       "    <tr style=\"text-align: right;\">\n",
       "      <th></th>\n",
       "      <th>description_id</th>\n",
       "      <th>eadid</th>\n",
       "      <th>pos_tagged</th>\n",
       "      <th>rowid</th>\n",
       "      <th>field</th>\n",
       "    </tr>\n",
       "  </thead>\n",
       "  <tbody>\n",
       "    <tr>\n",
       "      <th>0</th>\n",
       "      <td>0</td>\n",
       "      <td>17th C. Coll</td>\n",
       "      <td>(Formed, VBN)</td>\n",
       "      <td>17th C. Coll</td>\n",
       "      <td>bioghist</td>\n",
       "    </tr>\n",
       "    <tr>\n",
       "      <th>0</th>\n",
       "      <td>0</td>\n",
       "      <td>17th C. Coll</td>\n",
       "      <td>(in, IN)</td>\n",
       "      <td>17th C. Coll</td>\n",
       "      <td>bioghist</td>\n",
       "    </tr>\n",
       "    <tr>\n",
       "      <th>0</th>\n",
       "      <td>0</td>\n",
       "      <td>17th C. Coll</td>\n",
       "      <td>(1963, CD)</td>\n",
       "      <td>17th C. Coll</td>\n",
       "      <td>bioghist</td>\n",
       "    </tr>\n",
       "    <tr>\n",
       "      <th>0</th>\n",
       "      <td>0</td>\n",
       "      <td>17th C. Coll</td>\n",
       "      <td>(after, IN)</td>\n",
       "      <td>17th C. Coll</td>\n",
       "      <td>bioghist</td>\n",
       "    </tr>\n",
       "    <tr>\n",
       "      <th>0</th>\n",
       "      <td>0</td>\n",
       "      <td>17th C. Coll</td>\n",
       "      <td>(an, DT)</td>\n",
       "      <td>17th C. Coll</td>\n",
       "      <td>bioghist</td>\n",
       "    </tr>\n",
       "  </tbody>\n",
       "</table>\n",
       "</div>"
      ],
      "text/plain": [
       "   description_id         eadid     pos_tagged         rowid     field\n",
       "0               0  17th C. Coll  (Formed, VBN)  17th C. Coll  bioghist\n",
       "0               0  17th C. Coll       (in, IN)  17th C. Coll  bioghist\n",
       "0               0  17th C. Coll     (1963, CD)  17th C. Coll  bioghist\n",
       "0               0  17th C. Coll    (after, IN)  17th C. Coll  bioghist\n",
       "0               0  17th C. Coll       (an, DT)  17th C. Coll  bioghist"
      ]
     },
     "execution_count": 54,
     "metadata": {},
     "output_type": "execute_result"
    }
   ],
   "source": [
    "df_pos = df_ead.drop(columns=[\"doc\"])\n",
    "df_pos = df_pos.explode(\"pos_tagged\")\n",
    "df_pos.head()"
   ]
  },
  {
   "cell_type": "code",
   "execution_count": 55,
   "id": "78054904",
   "metadata": {},
   "outputs": [
    {
     "data": {
      "text/html": [
       "<div>\n",
       "<style scoped>\n",
       "    .dataframe tbody tr th:only-of-type {\n",
       "        vertical-align: middle;\n",
       "    }\n",
       "\n",
       "    .dataframe tbody tr th {\n",
       "        vertical-align: top;\n",
       "    }\n",
       "\n",
       "    .dataframe thead th {\n",
       "        text-align: right;\n",
       "    }\n",
       "</style>\n",
       "<table border=\"1\" class=\"dataframe\">\n",
       "  <thead>\n",
       "    <tr style=\"text-align: right;\">\n",
       "      <th></th>\n",
       "      <th>description_id</th>\n",
       "      <th>eadid</th>\n",
       "      <th>pos_tagged</th>\n",
       "      <th>rowid</th>\n",
       "      <th>field</th>\n",
       "      <th>pos</th>\n",
       "    </tr>\n",
       "  </thead>\n",
       "  <tbody>\n",
       "    <tr>\n",
       "      <th>0</th>\n",
       "      <td>0</td>\n",
       "      <td>17th C. Coll</td>\n",
       "      <td>('Formed'</td>\n",
       "      <td>17th C. Coll</td>\n",
       "      <td>bioghist</td>\n",
       "      <td>'VBN')</td>\n",
       "    </tr>\n",
       "    <tr>\n",
       "      <th>0</th>\n",
       "      <td>0</td>\n",
       "      <td>17th C. Coll</td>\n",
       "      <td>('in'</td>\n",
       "      <td>17th C. Coll</td>\n",
       "      <td>bioghist</td>\n",
       "      <td>'IN')</td>\n",
       "    </tr>\n",
       "    <tr>\n",
       "      <th>0</th>\n",
       "      <td>0</td>\n",
       "      <td>17th C. Coll</td>\n",
       "      <td>('1963'</td>\n",
       "      <td>17th C. Coll</td>\n",
       "      <td>bioghist</td>\n",
       "      <td>'CD')</td>\n",
       "    </tr>\n",
       "    <tr>\n",
       "      <th>0</th>\n",
       "      <td>0</td>\n",
       "      <td>17th C. Coll</td>\n",
       "      <td>('after'</td>\n",
       "      <td>17th C. Coll</td>\n",
       "      <td>bioghist</td>\n",
       "      <td>'IN')</td>\n",
       "    </tr>\n",
       "    <tr>\n",
       "      <th>0</th>\n",
       "      <td>0</td>\n",
       "      <td>17th C. Coll</td>\n",
       "      <td>('an'</td>\n",
       "      <td>17th C. Coll</td>\n",
       "      <td>bioghist</td>\n",
       "      <td>'DT')</td>\n",
       "    </tr>\n",
       "  </tbody>\n",
       "</table>\n",
       "</div>"
      ],
      "text/plain": [
       "   description_id         eadid pos_tagged         rowid     field     pos\n",
       "0               0  17th C. Coll  ('Formed'  17th C. Coll  bioghist  'VBN')\n",
       "0               0  17th C. Coll      ('in'  17th C. Coll  bioghist   'IN')\n",
       "0               0  17th C. Coll    ('1963'  17th C. Coll  bioghist   'CD')\n",
       "0               0  17th C. Coll   ('after'  17th C. Coll  bioghist   'IN')\n",
       "0               0  17th C. Coll      ('an'  17th C. Coll  bioghist   'DT')"
      ]
     },
     "execution_count": 55,
     "metadata": {},
     "output_type": "execute_result"
    }
   ],
   "source": [
    "df_pos[[\"pos_tagged\", \"pos\"]] = df_pos[\"pos_tagged\"].astype(\"string\").str.split(\", \", expand=True)\n",
    "df_pos.head()"
   ]
  },
  {
   "cell_type": "code",
   "execution_count": 56,
   "id": "5b56687c",
   "metadata": {},
   "outputs": [],
   "source": [
    "new_token_col = df_pos.pos_tagged.apply(lambda x: x.strip(\"('\"))\n",
    "new_pos_col = df_pos.pos.apply(lambda x: x.strip(\"')\"))"
   ]
  },
  {
   "cell_type": "code",
   "execution_count": 57,
   "id": "99b2d585",
   "metadata": {},
   "outputs": [
    {
     "data": {
      "text/html": [
       "<div>\n",
       "<style scoped>\n",
       "    .dataframe tbody tr th:only-of-type {\n",
       "        vertical-align: middle;\n",
       "    }\n",
       "\n",
       "    .dataframe tbody tr th {\n",
       "        vertical-align: top;\n",
       "    }\n",
       "\n",
       "    .dataframe thead th {\n",
       "        text-align: right;\n",
       "    }\n",
       "</style>\n",
       "<table border=\"1\" class=\"dataframe\">\n",
       "  <thead>\n",
       "    <tr style=\"text-align: right;\">\n",
       "      <th></th>\n",
       "      <th>description_id</th>\n",
       "      <th>eadid</th>\n",
       "      <th>pos</th>\n",
       "      <th>token</th>\n",
       "      <th>rowid</th>\n",
       "      <th>field</th>\n",
       "    </tr>\n",
       "  </thead>\n",
       "  <tbody>\n",
       "    <tr>\n",
       "      <th>0</th>\n",
       "      <td>0</td>\n",
       "      <td>17th C. Coll</td>\n",
       "      <td>VBN</td>\n",
       "      <td>Formed</td>\n",
       "      <td>17th C. Coll</td>\n",
       "      <td>bioghist</td>\n",
       "    </tr>\n",
       "    <tr>\n",
       "      <th>0</th>\n",
       "      <td>0</td>\n",
       "      <td>17th C. Coll</td>\n",
       "      <td>IN</td>\n",
       "      <td>in</td>\n",
       "      <td>17th C. Coll</td>\n",
       "      <td>bioghist</td>\n",
       "    </tr>\n",
       "    <tr>\n",
       "      <th>0</th>\n",
       "      <td>0</td>\n",
       "      <td>17th C. Coll</td>\n",
       "      <td>CD</td>\n",
       "      <td>1963</td>\n",
       "      <td>17th C. Coll</td>\n",
       "      <td>bioghist</td>\n",
       "    </tr>\n",
       "    <tr>\n",
       "      <th>0</th>\n",
       "      <td>0</td>\n",
       "      <td>17th C. Coll</td>\n",
       "      <td>IN</td>\n",
       "      <td>after</td>\n",
       "      <td>17th C. Coll</td>\n",
       "      <td>bioghist</td>\n",
       "    </tr>\n",
       "    <tr>\n",
       "      <th>0</th>\n",
       "      <td>0</td>\n",
       "      <td>17th C. Coll</td>\n",
       "      <td>DT</td>\n",
       "      <td>an</td>\n",
       "      <td>17th C. Coll</td>\n",
       "      <td>bioghist</td>\n",
       "    </tr>\n",
       "  </tbody>\n",
       "</table>\n",
       "</div>"
      ],
      "text/plain": [
       "   description_id         eadid  pos   token         rowid     field\n",
       "0               0  17th C. Coll  VBN  Formed  17th C. Coll  bioghist\n",
       "0               0  17th C. Coll   IN      in  17th C. Coll  bioghist\n",
       "0               0  17th C. Coll   CD    1963  17th C. Coll  bioghist\n",
       "0               0  17th C. Coll   IN   after  17th C. Coll  bioghist\n",
       "0               0  17th C. Coll   DT      an  17th C. Coll  bioghist"
      ]
     },
     "execution_count": 57,
     "metadata": {},
     "output_type": "execute_result"
    }
   ],
   "source": [
    "df_pos = df_pos.drop(columns=[\"pos_tagged\", \"pos\"])\n",
    "df_pos.insert(2, \"token\", new_token_col)\n",
    "df_pos.insert(2, \"pos\", new_pos_col)\n",
    "df_pos.head()"
   ]
  },
  {
   "cell_type": "code",
   "execution_count": 58,
   "id": "8590399f",
   "metadata": {},
   "outputs": [
    {
     "data": {
      "text/html": [
       "<div>\n",
       "<style scoped>\n",
       "    .dataframe tbody tr th:only-of-type {\n",
       "        vertical-align: middle;\n",
       "    }\n",
       "\n",
       "    .dataframe tbody tr th {\n",
       "        vertical-align: top;\n",
       "    }\n",
       "\n",
       "    .dataframe thead th {\n",
       "        text-align: right;\n",
       "    }\n",
       "</style>\n",
       "<table border=\"1\" class=\"dataframe\">\n",
       "  <thead>\n",
       "    <tr style=\"text-align: right;\">\n",
       "      <th></th>\n",
       "      <th>description_id</th>\n",
       "      <th>eadid</th>\n",
       "      <th>pos</th>\n",
       "      <th>token</th>\n",
       "      <th>field</th>\n",
       "      <th>rowid</th>\n",
       "    </tr>\n",
       "  </thead>\n",
       "  <tbody>\n",
       "    <tr>\n",
       "      <th>0</th>\n",
       "      <td>0</td>\n",
       "      <td>17th C. Coll</td>\n",
       "      <td>VBN</td>\n",
       "      <td>Formed</td>\n",
       "      <td>bioghist</td>\n",
       "      <td>17th C. Coll</td>\n",
       "    </tr>\n",
       "    <tr>\n",
       "      <th>1</th>\n",
       "      <td>0</td>\n",
       "      <td>17th C. Coll</td>\n",
       "      <td>IN</td>\n",
       "      <td>in</td>\n",
       "      <td>bioghist</td>\n",
       "      <td>17th C. Coll</td>\n",
       "    </tr>\n",
       "    <tr>\n",
       "      <th>2</th>\n",
       "      <td>0</td>\n",
       "      <td>17th C. Coll</td>\n",
       "      <td>CD</td>\n",
       "      <td>1963</td>\n",
       "      <td>bioghist</td>\n",
       "      <td>17th C. Coll</td>\n",
       "    </tr>\n",
       "    <tr>\n",
       "      <th>3</th>\n",
       "      <td>0</td>\n",
       "      <td>17th C. Coll</td>\n",
       "      <td>IN</td>\n",
       "      <td>after</td>\n",
       "      <td>bioghist</td>\n",
       "      <td>17th C. Coll</td>\n",
       "    </tr>\n",
       "    <tr>\n",
       "      <th>4</th>\n",
       "      <td>0</td>\n",
       "      <td>17th C. Coll</td>\n",
       "      <td>DT</td>\n",
       "      <td>an</td>\n",
       "      <td>bioghist</td>\n",
       "      <td>17th C. Coll</td>\n",
       "    </tr>\n",
       "  </tbody>\n",
       "</table>\n",
       "</div>"
      ],
      "text/plain": [
       "   description_id         eadid  pos   token     field         rowid\n",
       "0               0  17th C. Coll  VBN  Formed  bioghist  17th C. Coll\n",
       "1               0  17th C. Coll   IN      in  bioghist  17th C. Coll\n",
       "2               0  17th C. Coll   CD    1963  bioghist  17th C. Coll\n",
       "3               0  17th C. Coll   IN   after  bioghist  17th C. Coll\n",
       "4               0  17th C. Coll   DT      an  bioghist  17th C. Coll"
      ]
     },
     "execution_count": 58,
     "metadata": {},
     "output_type": "execute_result"
    }
   ],
   "source": [
    "# df_pos.to_csv(extracted_dir + \"nusc_ead_descs_pos_tags.csv\", index=False)\n",
    "df_pos = pd.read_csv(extracted_dir + \"nusc_ead_descs_pos_tags.csv\")\n",
    "df_pos.head()"
   ]
  },
  {
   "cell_type": "code",
   "execution_count": 59,
   "id": "bfa71948",
   "metadata": {},
   "outputs": [
    {
     "data": {
      "text/plain": [
       "(2185143, 6)"
      ]
     },
     "execution_count": 59,
     "metadata": {},
     "output_type": "execute_result"
    }
   ],
   "source": [
    "df_pos.shape  # (2185143, 6)"
   ]
  },
  {
   "cell_type": "markdown",
   "id": "1cc232ab",
   "metadata": {},
   "source": [
    "Replace `nan` values in the part-of-speech tag column, `pos`, with an empty string, so the entire column only contains string values."
   ]
  },
  {
   "cell_type": "code",
   "execution_count": 60,
   "id": "0d41326a",
   "metadata": {},
   "outputs": [
    {
     "name": "stdout",
     "output_type": "stream",
     "text": [
      "['VBN' 'IN' 'CD' 'DT' 'NN' 'NNS' 'VBG' 'RB' 'TO' ',' 'NNP' 'VBZ' 'JJ' 'CC'\n",
      " '.' 'PRP' 'VBP' ':' 'VBD' '(' '' 'WDT' 'PRP$' 'JJR' 'POS' 'EX' 'WP' 'SYM'\n",
      " 'NNPS' 'MD' 'VB' 'FW' 'WRB' '\"\\'\\'\"' 'RP' '$' '``' 'RBR' 'JJS' 'WP$'\n",
      " 'RBS' 'PDT' 'UH' '#']\n"
     ]
    }
   ],
   "source": [
    "df_pos[\"pos\"] = df_pos[\"pos\"].fillna('')\n",
    "print(df_pos[\"pos\"].unique())"
   ]
  },
  {
   "cell_type": "markdown",
   "id": "67276edd",
   "metadata": {},
   "source": [
    "You can see what each of these tags indicates [here](https://www.ling.upenn.edu/courses/Fall_2003/ling001/penn_treebank_pos.html).  We're particularly interested in adjectives and adverbs, which are represented with the following tags:\n",
    "* `JJ` - adjective\n",
    "* `JJR` - comparative adjective\n",
    "* `JJS` - superlative adjective\n",
    "* `RB` - adverb\n",
    "* `RBR` - comparative adverb\n",
    "* `RBS` - superlative adverb"
   ]
  },
  {
   "cell_type": "code",
   "execution_count": 61,
   "id": "64833499",
   "metadata": {},
   "outputs": [
    {
     "name": "stdout",
     "output_type": "stream",
     "text": [
      "128075 557 3044\n"
     ]
    }
   ],
   "source": [
    "df_jj = df_pos.loc[df_pos[\"pos\"] == \"JJ\"]\n",
    "df_jjr = df_pos.loc[df_pos[\"pos\"] == \"JJR\"]\n",
    "df_jjs = df_pos.loc[df_pos[\"pos\"] == \"JJS\"]\n",
    "print(df_jj.shape[0], df_jjr.shape[0], df_jjs.shape[0])"
   ]
  },
  {
   "cell_type": "code",
   "execution_count": 62,
   "id": "518dcce2",
   "metadata": {},
   "outputs": [
    {
     "name": "stdout",
     "output_type": "stream",
     "text": [
      "Total adjectives: 131676\n"
     ]
    },
    {
     "data": {
      "text/html": [
       "<div>\n",
       "<style scoped>\n",
       "    .dataframe tbody tr th:only-of-type {\n",
       "        vertical-align: middle;\n",
       "    }\n",
       "\n",
       "    .dataframe tbody tr th {\n",
       "        vertical-align: top;\n",
       "    }\n",
       "\n",
       "    .dataframe thead th {\n",
       "        text-align: right;\n",
       "    }\n",
       "</style>\n",
       "<table border=\"1\" class=\"dataframe\">\n",
       "  <thead>\n",
       "    <tr style=\"text-align: right;\">\n",
       "      <th></th>\n",
       "      <th>description_id</th>\n",
       "      <th>eadid</th>\n",
       "      <th>pos</th>\n",
       "      <th>token</th>\n",
       "      <th>field</th>\n",
       "      <th>rowid</th>\n",
       "    </tr>\n",
       "  </thead>\n",
       "  <tbody>\n",
       "    <tr>\n",
       "      <th>23</th>\n",
       "      <td>0</td>\n",
       "      <td>17th C. Coll</td>\n",
       "      <td>JJ</td>\n",
       "      <td>overseas</td>\n",
       "      <td>bioghist</td>\n",
       "      <td>17th C. Coll</td>\n",
       "    </tr>\n",
       "    <tr>\n",
       "      <th>42</th>\n",
       "      <td>1</td>\n",
       "      <td>17th C. Coll</td>\n",
       "      <td>JJ</td>\n",
       "      <td>17th</td>\n",
       "      <td>scopecontent</td>\n",
       "      <td>17th C. Coll</td>\n",
       "    </tr>\n",
       "    <tr>\n",
       "      <th>47</th>\n",
       "      <td>1</td>\n",
       "      <td>17th C. Coll</td>\n",
       "      <td>JJ</td>\n",
       "      <td>small</td>\n",
       "      <td>scopecontent</td>\n",
       "      <td>17th C. Coll</td>\n",
       "    </tr>\n",
       "    <tr>\n",
       "      <th>54</th>\n",
       "      <td>1</td>\n",
       "      <td>17th C. Coll</td>\n",
       "      <td>JJ</td>\n",
       "      <td>1600-1699</td>\n",
       "      <td>scopecontent</td>\n",
       "      <td>17th C. Coll</td>\n",
       "    </tr>\n",
       "    <tr>\n",
       "      <th>62</th>\n",
       "      <td>1</td>\n",
       "      <td>17th C. Coll</td>\n",
       "      <td>JJ</td>\n",
       "      <td>good</td>\n",
       "      <td>scopecontent</td>\n",
       "      <td>17th C. Coll</td>\n",
       "    </tr>\n",
       "  </tbody>\n",
       "</table>\n",
       "</div>"
      ],
      "text/plain": [
       "    description_id         eadid pos      token         field         rowid\n",
       "23               0  17th C. Coll  JJ   overseas      bioghist  17th C. Coll\n",
       "42               1  17th C. Coll  JJ       17th  scopecontent  17th C. Coll\n",
       "47               1  17th C. Coll  JJ      small  scopecontent  17th C. Coll\n",
       "54               1  17th C. Coll  JJ  1600-1699  scopecontent  17th C. Coll\n",
       "62               1  17th C. Coll  JJ       good  scopecontent  17th C. Coll"
      ]
     },
     "execution_count": 62,
     "metadata": {},
     "output_type": "execute_result"
    }
   ],
   "source": [
    "df_adj = pd.concat([df_jj, df_jjr, df_jjs], axis=0)\n",
    "print(\"Total adjectives:\", df_adj.shape[0])\n",
    "df_adj.head()"
   ]
  },
  {
   "cell_type": "markdown",
   "id": "cdf079a4",
   "metadata": {},
   "source": [
    "Create a table of all the tokens tagged as adjectives (i.e., `JJ`, `JJR`, and `JJS`) with a count of their occurrence across the EAD metadata descriptions extracted from NUSC's catalog."
   ]
  },
  {
   "cell_type": "code",
   "execution_count": 63,
   "id": "9eb5d1d7",
   "metadata": {},
   "outputs": [
    {
     "data": {
      "text/html": [
       "<div>\n",
       "<style scoped>\n",
       "    .dataframe tbody tr th:only-of-type {\n",
       "        vertical-align: middle;\n",
       "    }\n",
       "\n",
       "    .dataframe tbody tr th {\n",
       "        vertical-align: top;\n",
       "    }\n",
       "\n",
       "    .dataframe thead th {\n",
       "        text-align: right;\n",
       "    }\n",
       "</style>\n",
       "<table border=\"1\" class=\"dataframe\">\n",
       "  <thead>\n",
       "    <tr style=\"text-align: right;\">\n",
       "      <th></th>\n",
       "      <th>count</th>\n",
       "    </tr>\n",
       "    <tr>\n",
       "      <th>token</th>\n",
       "      <th></th>\n",
       "    </tr>\n",
       "  </thead>\n",
       "  <tbody>\n",
       "    <tr>\n",
       "      <th>mid-twentieth</th>\n",
       "      <td>5385</td>\n",
       "    </tr>\n",
       "    <tr>\n",
       "      <th>key</th>\n",
       "      <td>3681</td>\n",
       "    </tr>\n",
       "    <tr>\n",
       "      <th>historic</th>\n",
       "      <td>3648</td>\n",
       "    </tr>\n",
       "    <tr>\n",
       "      <th>influential</th>\n",
       "      <td>3610</td>\n",
       "    </tr>\n",
       "    <tr>\n",
       "      <th>notable</th>\n",
       "      <td>3099</td>\n",
       "    </tr>\n",
       "  </tbody>\n",
       "</table>\n",
       "</div>"
      ],
      "text/plain": [
       "               count\n",
       "token               \n",
       "mid-twentieth   5385\n",
       "key             3681\n",
       "historic        3648\n",
       "influential     3610\n",
       "notable         3099"
      ]
     },
     "execution_count": 63,
     "metadata": {},
     "output_type": "execute_result"
    }
   ],
   "source": [
    "sub_df_adj = df_adj[[\"pos\", \"token\"]]\n",
    "cols_to_agg = [\"pos\"]\n",
    "cols_to_groupby = [\"token\"]\n",
    "agg_dict = dict.fromkeys(cols_to_agg, lambda x: len(x.tolist()))\n",
    "df_adj_tokens = sub_df_adj.groupby(cols_to_groupby).agg(agg_dict).reset_index().set_index(cols_to_groupby)\n",
    "df_adj_tokens = df_adj_tokens.rename(columns={\"pos\": \"count\"})\n",
    "df_adj_tokens = df_adj_tokens.sort_values(by=\"count\", ascending=False)\n",
    "df_adj_tokens.head()"
   ]
  },
  {
   "cell_type": "code",
   "execution_count": 64,
   "id": "651bf0c8",
   "metadata": {},
   "outputs": [],
   "source": [
    "df_adj_tokens.to_csv(extracted_dir + \"nusc_ead_nltk_adj_token_counts.csv\")"
   ]
  },
  {
   "cell_type": "markdown",
   "id": "6557d62e",
   "metadata": {},
   "source": [
    "Now do the same with tokens tagged as adverbs (i.e., `RB`, `RBR`, and `RBS`)."
   ]
  },
  {
   "cell_type": "code",
   "execution_count": 65,
   "id": "29e9f43b",
   "metadata": {},
   "outputs": [
    {
     "name": "stdout",
     "output_type": "stream",
     "text": [
      "29895 5460 2648\n"
     ]
    }
   ],
   "source": [
    "df_rb = df_pos.loc[df_pos[\"pos\"] == \"RB\"]\n",
    "df_rbr = df_pos.loc[df_pos[\"pos\"] == \"RBR\"]\n",
    "df_rbs = df_pos.loc[df_pos[\"pos\"] == \"RBS\"]\n",
    "print(df_rb.shape[0], df_rbr.shape[0], df_rbs.shape[0])"
   ]
  },
  {
   "cell_type": "code",
   "execution_count": 66,
   "id": "ac854d59",
   "metadata": {},
   "outputs": [
    {
     "name": "stdout",
     "output_type": "stream",
     "text": [
      "Total adverbs: 38003\n"
     ]
    },
    {
     "data": {
      "text/html": [
       "<div>\n",
       "<style scoped>\n",
       "    .dataframe tbody tr th:only-of-type {\n",
       "        vertical-align: middle;\n",
       "    }\n",
       "\n",
       "    .dataframe tbody tr th {\n",
       "        vertical-align: top;\n",
       "    }\n",
       "\n",
       "    .dataframe thead th {\n",
       "        text-align: right;\n",
       "    }\n",
       "</style>\n",
       "<table border=\"1\" class=\"dataframe\">\n",
       "  <thead>\n",
       "    <tr style=\"text-align: right;\">\n",
       "      <th></th>\n",
       "      <th>description_id</th>\n",
       "      <th>eadid</th>\n",
       "      <th>pos</th>\n",
       "      <th>token</th>\n",
       "      <th>field</th>\n",
       "      <th>rowid</th>\n",
       "    </tr>\n",
       "  </thead>\n",
       "  <tbody>\n",
       "    <tr>\n",
       "      <th>9</th>\n",
       "      <td>0</td>\n",
       "      <td>17th C. Coll</td>\n",
       "      <td>RB</td>\n",
       "      <td>back</td>\n",
       "      <td>bioghist</td>\n",
       "      <td>17th C. Coll</td>\n",
       "    </tr>\n",
       "    <tr>\n",
       "      <th>89</th>\n",
       "      <td>1</td>\n",
       "      <td>17th C. Coll</td>\n",
       "      <td>RB</td>\n",
       "      <td>commonly</td>\n",
       "      <td>scopecontent</td>\n",
       "      <td>17th C. Coll</td>\n",
       "    </tr>\n",
       "    <tr>\n",
       "      <th>104</th>\n",
       "      <td>3</td>\n",
       "      <td>18th C. Coll</td>\n",
       "      <td>RB</td>\n",
       "      <td>back</td>\n",
       "      <td>bioghist</td>\n",
       "      <td>18th C. Coll</td>\n",
       "    </tr>\n",
       "    <tr>\n",
       "      <th>141</th>\n",
       "      <td>4</td>\n",
       "      <td>18th C. Coll</td>\n",
       "      <td>RB</td>\n",
       "      <td>approximately</td>\n",
       "      <td>scopecontent</td>\n",
       "      <td>18th C. Coll</td>\n",
       "    </tr>\n",
       "    <tr>\n",
       "      <th>277</th>\n",
       "      <td>6</td>\n",
       "      <td>19th C. Coll</td>\n",
       "      <td>RB</td>\n",
       "      <td>back</td>\n",
       "      <td>bioghist</td>\n",
       "      <td>19th C. Coll</td>\n",
       "    </tr>\n",
       "  </tbody>\n",
       "</table>\n",
       "</div>"
      ],
      "text/plain": [
       "     description_id         eadid pos          token         field  \\\n",
       "9                 0  17th C. Coll  RB           back      bioghist   \n",
       "89                1  17th C. Coll  RB       commonly  scopecontent   \n",
       "104               3  18th C. Coll  RB           back      bioghist   \n",
       "141               4  18th C. Coll  RB  approximately  scopecontent   \n",
       "277               6  19th C. Coll  RB           back      bioghist   \n",
       "\n",
       "            rowid  \n",
       "9    17th C. Coll  \n",
       "89   17th C. Coll  \n",
       "104  18th C. Coll  \n",
       "141  18th C. Coll  \n",
       "277  19th C. Coll  "
      ]
     },
     "execution_count": 66,
     "metadata": {},
     "output_type": "execute_result"
    }
   ],
   "source": [
    "df_adv = pd.concat([df_rb, df_rbr, df_rbs], axis=0)\n",
    "print(\"Total adverbs:\", df_adv.shape[0])\n",
    "df_adv.head()"
   ]
  },
  {
   "cell_type": "code",
   "execution_count": 67,
   "id": "330d34e2",
   "metadata": {},
   "outputs": [
    {
     "data": {
      "text/html": [
       "<div>\n",
       "<style scoped>\n",
       "    .dataframe tbody tr th:only-of-type {\n",
       "        vertical-align: middle;\n",
       "    }\n",
       "\n",
       "    .dataframe tbody tr th {\n",
       "        vertical-align: top;\n",
       "    }\n",
       "\n",
       "    .dataframe thead th {\n",
       "        text-align: right;\n",
       "    }\n",
       "</style>\n",
       "<table border=\"1\" class=\"dataframe\">\n",
       "  <thead>\n",
       "    <tr style=\"text-align: right;\">\n",
       "      <th></th>\n",
       "      <th>count</th>\n",
       "    </tr>\n",
       "    <tr>\n",
       "      <th>token</th>\n",
       "      <th></th>\n",
       "    </tr>\n",
       "  </thead>\n",
       "  <tbody>\n",
       "    <tr>\n",
       "      <th>also</th>\n",
       "      <td>4129</td>\n",
       "    </tr>\n",
       "    <tr>\n",
       "      <th>most</th>\n",
       "      <td>2644</td>\n",
       "    </tr>\n",
       "    <tr>\n",
       "      <th>Also</th>\n",
       "      <td>2059</td>\n",
       "    </tr>\n",
       "    <tr>\n",
       "      <th>more</th>\n",
       "      <td>1879</td>\n",
       "    </tr>\n",
       "    <tr>\n",
       "      <th>particularly</th>\n",
       "      <td>1867</td>\n",
       "    </tr>\n",
       "  </tbody>\n",
       "</table>\n",
       "</div>"
      ],
      "text/plain": [
       "              count\n",
       "token              \n",
       "also           4129\n",
       "most           2644\n",
       "Also           2059\n",
       "more           1879\n",
       "particularly   1867"
      ]
     },
     "execution_count": 67,
     "metadata": {},
     "output_type": "execute_result"
    }
   ],
   "source": [
    "sub_df_adv = df_adv[[\"pos\", \"token\"]]\n",
    "cols_to_agg = [\"pos\"]\n",
    "cols_to_groupby = [\"token\"]\n",
    "agg_dict = dict.fromkeys(cols_to_agg, lambda x: len(x.tolist()))\n",
    "df_adv_tokens = sub_df_adv.groupby(cols_to_groupby).agg(agg_dict).reset_index().set_index(cols_to_groupby)\n",
    "df_adv_tokens = df_adv_tokens.rename(columns={\"pos\": \"count\"})\n",
    "df_adv_tokens = df_adv_tokens.sort_values(by=\"count\", ascending=False)\n",
    "df_adv_tokens.head()"
   ]
  },
  {
   "cell_type": "code",
   "execution_count": 68,
   "id": "6570d317",
   "metadata": {},
   "outputs": [],
   "source": [
    "df_adv_tokens.to_csv(extracted_dir + \"nusc_ead_nltk_adv_token_counts.csv\")"
   ]
  },
  {
   "cell_type": "markdown",
   "id": "90f2908f",
   "metadata": {},
   "source": [
    "**Note:** the capitalization of tokens should be considered when using these counts!  Let's make the same tables but with all tokens lowercased."
   ]
  },
  {
   "cell_type": "code",
   "execution_count": 69,
   "id": "582dd66c",
   "metadata": {},
   "outputs": [
    {
     "data": {
      "text/html": [
       "<div>\n",
       "<style scoped>\n",
       "    .dataframe tbody tr th:only-of-type {\n",
       "        vertical-align: middle;\n",
       "    }\n",
       "\n",
       "    .dataframe tbody tr th {\n",
       "        vertical-align: top;\n",
       "    }\n",
       "\n",
       "    .dataframe thead th {\n",
       "        text-align: right;\n",
       "    }\n",
       "</style>\n",
       "<table border=\"1\" class=\"dataframe\">\n",
       "  <thead>\n",
       "    <tr style=\"text-align: right;\">\n",
       "      <th></th>\n",
       "      <th>count</th>\n",
       "    </tr>\n",
       "    <tr>\n",
       "      <th>token_lower</th>\n",
       "      <th></th>\n",
       "    </tr>\n",
       "  </thead>\n",
       "  <tbody>\n",
       "    <tr>\n",
       "      <th>mid-twentieth</th>\n",
       "      <td>5386</td>\n",
       "    </tr>\n",
       "    <tr>\n",
       "      <th>key</th>\n",
       "      <td>3686</td>\n",
       "    </tr>\n",
       "    <tr>\n",
       "      <th>historic</th>\n",
       "      <td>3648</td>\n",
       "    </tr>\n",
       "    <tr>\n",
       "      <th>influential</th>\n",
       "      <td>3610</td>\n",
       "    </tr>\n",
       "    <tr>\n",
       "      <th>notable</th>\n",
       "      <td>3099</td>\n",
       "    </tr>\n",
       "  </tbody>\n",
       "</table>\n",
       "</div>"
      ],
      "text/plain": [
       "               count\n",
       "token_lower         \n",
       "mid-twentieth   5386\n",
       "key             3686\n",
       "historic        3648\n",
       "influential     3610\n",
       "notable         3099"
      ]
     },
     "execution_count": 69,
     "metadata": {},
     "output_type": "execute_result"
    }
   ],
   "source": [
    "sub_df_adj = df_adj[[\"pos\", \"token\"]]\n",
    "sub_df_adj = sub_df_adj.fillna('')\n",
    "token_col = list(sub_df_adj[\"token\"])\n",
    "new_token_col = [t.lower() for t in token_col]\n",
    "sub_df_adj.insert(0, \"token_lower\", new_token_col)\n",
    "sub_df_adj = sub_df_adj.drop(columns=[\"token\"])\n",
    "\n",
    "cols_to_agg = [\"pos\"]\n",
    "cols_to_groupby = [\"token_lower\"]\n",
    "agg_dict = dict.fromkeys(cols_to_agg, lambda x: len(x.tolist()))\n",
    "df_adj_tokens = sub_df_adj.groupby(cols_to_groupby).agg(agg_dict).reset_index().set_index(cols_to_groupby)\n",
    "df_adj_tokens = df_adj_tokens.rename(columns={\"pos\": \"count\"})\n",
    "df_adj_tokens = df_adj_tokens.sort_values(by=\"count\", ascending=False)\n",
    "df_adj_tokens.head()"
   ]
  },
  {
   "cell_type": "code",
   "execution_count": 70,
   "id": "1b9f567e",
   "metadata": {},
   "outputs": [
    {
     "data": {
      "text/html": [
       "<div>\n",
       "<style scoped>\n",
       "    .dataframe tbody tr th:only-of-type {\n",
       "        vertical-align: middle;\n",
       "    }\n",
       "\n",
       "    .dataframe tbody tr th {\n",
       "        vertical-align: top;\n",
       "    }\n",
       "\n",
       "    .dataframe thead th {\n",
       "        text-align: right;\n",
       "    }\n",
       "</style>\n",
       "<table border=\"1\" class=\"dataframe\">\n",
       "  <thead>\n",
       "    <tr style=\"text-align: right;\">\n",
       "      <th></th>\n",
       "      <th>count</th>\n",
       "    </tr>\n",
       "    <tr>\n",
       "      <th>token_lower</th>\n",
       "      <th></th>\n",
       "    </tr>\n",
       "  </thead>\n",
       "  <tbody>\n",
       "    <tr>\n",
       "      <th>also</th>\n",
       "      <td>6188</td>\n",
       "    </tr>\n",
       "    <tr>\n",
       "      <th>most</th>\n",
       "      <td>2644</td>\n",
       "    </tr>\n",
       "    <tr>\n",
       "      <th>more</th>\n",
       "      <td>1883</td>\n",
       "    </tr>\n",
       "    <tr>\n",
       "      <th>particularly</th>\n",
       "      <td>1867</td>\n",
       "    </tr>\n",
       "    <tr>\n",
       "      <th>primarily</th>\n",
       "      <td>1834</td>\n",
       "    </tr>\n",
       "  </tbody>\n",
       "</table>\n",
       "</div>"
      ],
      "text/plain": [
       "              count\n",
       "token_lower        \n",
       "also           6188\n",
       "most           2644\n",
       "more           1883\n",
       "particularly   1867\n",
       "primarily      1834"
      ]
     },
     "execution_count": 70,
     "metadata": {},
     "output_type": "execute_result"
    }
   ],
   "source": [
    "sub_df_adv = df_adv[[\"pos\", \"token\"]]\n",
    "sub_df_adj = sub_df_adv.fillna('')\n",
    "token_col = list(sub_df_adv[\"token\"])\n",
    "new_token_col = [t.lower() for t in token_col]\n",
    "sub_df_adv.insert(0, \"token_lower\", new_token_col)\n",
    "sub_df_adv = sub_df_adv.drop(columns=[\"token\"])\n",
    "\n",
    "cols_to_agg = [\"pos\"]\n",
    "cols_to_groupby = [\"token_lower\"]\n",
    "agg_dict = dict.fromkeys(cols_to_agg, lambda x: len(x.tolist()))\n",
    "df_adv_tokens = sub_df_adv.groupby(cols_to_groupby).agg(agg_dict).reset_index().set_index(cols_to_groupby)\n",
    "df_adv_tokens = df_adv_tokens.rename(columns={\"pos\": \"count\"})\n",
    "df_adv_tokens = df_adv_tokens.sort_values(by=\"count\", ascending=False)\n",
    "df_adv_tokens.head()"
   ]
  },
  {
   "cell_type": "markdown",
   "id": "42103209",
   "metadata": {},
   "source": [
    "Save these as CSVs, too!"
   ]
  },
  {
   "cell_type": "code",
   "execution_count": 71,
   "id": "a76506d5",
   "metadata": {},
   "outputs": [],
   "source": [
    "df_adj_tokens.to_csv(extracted_dir + \"nusc_ead_nltk_adj_token_lower_counts.csv\")\n",
    "df_adv_tokens.to_csv(extracted_dir + \"nusc_ead_nltk_adv_token_lower_counts.csv\")"
   ]
  },
  {
   "cell_type": "markdown",
   "id": "2393763f",
   "metadata": {},
   "source": [
    "Next, let's look at the adjectives and adverbs per description."
   ]
  },
  {
   "cell_type": "code",
   "execution_count": 72,
   "id": "b62b5192",
   "metadata": {},
   "outputs": [
    {
     "data": {
      "text/html": [
       "<div>\n",
       "<style scoped>\n",
       "    .dataframe tbody tr th:only-of-type {\n",
       "        vertical-align: middle;\n",
       "    }\n",
       "\n",
       "    .dataframe tbody tr th {\n",
       "        vertical-align: top;\n",
       "    }\n",
       "\n",
       "    .dataframe thead th {\n",
       "        text-align: right;\n",
       "    }\n",
       "</style>\n",
       "<table border=\"1\" class=\"dataframe\">\n",
       "  <thead>\n",
       "    <tr style=\"text-align: right;\">\n",
       "      <th></th>\n",
       "      <th></th>\n",
       "      <th></th>\n",
       "      <th></th>\n",
       "      <th>adj_count</th>\n",
       "    </tr>\n",
       "    <tr>\n",
       "      <th>description_id</th>\n",
       "      <th>eadid</th>\n",
       "      <th>field</th>\n",
       "      <th>rowid</th>\n",
       "      <th></th>\n",
       "    </tr>\n",
       "  </thead>\n",
       "  <tbody>\n",
       "    <tr>\n",
       "      <th>0</th>\n",
       "      <th>17th C. Coll</th>\n",
       "      <th>bioghist</th>\n",
       "      <th>17th C. Coll</th>\n",
       "      <td>1</td>\n",
       "    </tr>\n",
       "    <tr>\n",
       "      <th>1</th>\n",
       "      <th>17th C. Coll</th>\n",
       "      <th>scopecontent</th>\n",
       "      <th>17th C. Coll</th>\n",
       "      <td>7</td>\n",
       "    </tr>\n",
       "    <tr>\n",
       "      <th>2</th>\n",
       "      <th>17th C. Coll</th>\n",
       "      <th>unittitle</th>\n",
       "      <th>17th C. Coll</th>\n",
       "      <td>1</td>\n",
       "    </tr>\n",
       "    <tr>\n",
       "      <th>3</th>\n",
       "      <th>18th C. Coll</th>\n",
       "      <th>bioghist</th>\n",
       "      <th>18th C. Coll</th>\n",
       "      <td>1</td>\n",
       "    </tr>\n",
       "    <tr>\n",
       "      <th>4</th>\n",
       "      <th>18th C. Coll</th>\n",
       "      <th>scopecontent</th>\n",
       "      <th>18th C. Coll</th>\n",
       "      <td>7</td>\n",
       "    </tr>\n",
       "  </tbody>\n",
       "</table>\n",
       "</div>"
      ],
      "text/plain": [
       "                                                       adj_count\n",
       "description_id eadid        field        rowid                  \n",
       "0              17th C. Coll bioghist     17th C. Coll          1\n",
       "1              17th C. Coll scopecontent 17th C. Coll          7\n",
       "2              17th C. Coll unittitle    17th C. Coll          1\n",
       "3              18th C. Coll bioghist     18th C. Coll          1\n",
       "4              18th C. Coll scopecontent 18th C. Coll          7"
      ]
     },
     "execution_count": 72,
     "metadata": {},
     "output_type": "execute_result"
    }
   ],
   "source": [
    "cols_to_agg = [\"pos\"]\n",
    "cols_to_groupby = [\"description_id\", \"eadid\", \"field\", \"rowid\"]\n",
    "agg_dict = dict.fromkeys(cols_to_agg, lambda x: len(x.tolist()))\n",
    "df_adj_grouped = df_adj.groupby(cols_to_groupby).agg(agg_dict).reset_index().set_index(cols_to_groupby)\n",
    "df_descriptors = df_adj_grouped.rename(columns={\"pos\": \"adj_count\"})\n",
    "df_descriptors.head()"
   ]
  },
  {
   "cell_type": "code",
   "execution_count": 73,
   "id": "2170ce7d",
   "metadata": {},
   "outputs": [
    {
     "data": {
      "text/html": [
       "<div>\n",
       "<style scoped>\n",
       "    .dataframe tbody tr th:only-of-type {\n",
       "        vertical-align: middle;\n",
       "    }\n",
       "\n",
       "    .dataframe tbody tr th {\n",
       "        vertical-align: top;\n",
       "    }\n",
       "\n",
       "    .dataframe thead th {\n",
       "        text-align: right;\n",
       "    }\n",
       "</style>\n",
       "<table border=\"1\" class=\"dataframe\">\n",
       "  <thead>\n",
       "    <tr style=\"text-align: right;\">\n",
       "      <th></th>\n",
       "      <th></th>\n",
       "      <th></th>\n",
       "      <th></th>\n",
       "      <th>adv_count</th>\n",
       "    </tr>\n",
       "    <tr>\n",
       "      <th>description_id</th>\n",
       "      <th>eadid</th>\n",
       "      <th>field</th>\n",
       "      <th>rowid</th>\n",
       "      <th></th>\n",
       "    </tr>\n",
       "  </thead>\n",
       "  <tbody>\n",
       "    <tr>\n",
       "      <th>99304</th>\n",
       "      <th>WR</th>\n",
       "      <th>processinfo</th>\n",
       "      <th>WR</th>\n",
       "      <td>1</td>\n",
       "    </tr>\n",
       "    <tr>\n",
       "      <th>99305</th>\n",
       "      <th>WR</th>\n",
       "      <th>scopecontent</th>\n",
       "      <th>WR</th>\n",
       "      <td>6</td>\n",
       "    </tr>\n",
       "    <tr>\n",
       "      <th>99307</th>\n",
       "      <th>Wallis</th>\n",
       "      <th>scopecontent</th>\n",
       "      <th>Wallis</th>\n",
       "      <td>1</td>\n",
       "    </tr>\n",
       "    <tr>\n",
       "      <th>99309</th>\n",
       "      <th>Walmsley</th>\n",
       "      <th>bioghist</th>\n",
       "      <th>Walmsley</th>\n",
       "      <td>2</td>\n",
       "    </tr>\n",
       "    <tr>\n",
       "      <th>99310</th>\n",
       "      <th>Walmsley</th>\n",
       "      <th>scopecontent</th>\n",
       "      <th>Walmsley</th>\n",
       "      <td>1</td>\n",
       "    </tr>\n",
       "  </tbody>\n",
       "</table>\n",
       "</div>"
      ],
      "text/plain": [
       "                                               adv_count\n",
       "description_id eadid    field        rowid              \n",
       "99304          WR       processinfo  WR                1\n",
       "99305          WR       scopecontent WR                6\n",
       "99307          Wallis   scopecontent Wallis            1\n",
       "99309          Walmsley bioghist     Walmsley          2\n",
       "99310          Walmsley scopecontent Walmsley          1"
      ]
     },
     "execution_count": 73,
     "metadata": {},
     "output_type": "execute_result"
    }
   ],
   "source": [
    "cols_to_agg = [\"pos\"]\n",
    "cols_to_groupby = [\"description_id\", \"eadid\", \"field\", \"rowid\"]\n",
    "agg_dict = dict.fromkeys(cols_to_agg, lambda x: len(x.tolist()))\n",
    "df_adv_grouped = df_adv.groupby(cols_to_groupby).agg(agg_dict).reset_index().set_index(cols_to_groupby)\n",
    "df_adv_grouped = df_adv_grouped.rename(columns={\"pos\": \"adv_count\"})\n",
    "df_adv_grouped.tail()"
   ]
  },
  {
   "cell_type": "code",
   "execution_count": 74,
   "id": "fc22e8ec",
   "metadata": {},
   "outputs": [
    {
     "data": {
      "text/html": [
       "<div>\n",
       "<style scoped>\n",
       "    .dataframe tbody tr th:only-of-type {\n",
       "        vertical-align: middle;\n",
       "    }\n",
       "\n",
       "    .dataframe tbody tr th {\n",
       "        vertical-align: top;\n",
       "    }\n",
       "\n",
       "    .dataframe thead th {\n",
       "        text-align: right;\n",
       "    }\n",
       "</style>\n",
       "<table border=\"1\" class=\"dataframe\">\n",
       "  <thead>\n",
       "    <tr style=\"text-align: right;\">\n",
       "      <th></th>\n",
       "      <th></th>\n",
       "      <th></th>\n",
       "      <th></th>\n",
       "      <th>adj_count</th>\n",
       "      <th>adv_count</th>\n",
       "    </tr>\n",
       "    <tr>\n",
       "      <th>description_id</th>\n",
       "      <th>eadid</th>\n",
       "      <th>field</th>\n",
       "      <th>rowid</th>\n",
       "      <th></th>\n",
       "      <th></th>\n",
       "    </tr>\n",
       "  </thead>\n",
       "  <tbody>\n",
       "    <tr>\n",
       "      <th>0</th>\n",
       "      <th>17th C. Coll</th>\n",
       "      <th>bioghist</th>\n",
       "      <th>17th C. Coll</th>\n",
       "      <td>1.0</td>\n",
       "      <td>1.0</td>\n",
       "    </tr>\n",
       "    <tr>\n",
       "      <th>1</th>\n",
       "      <th>17th C. Coll</th>\n",
       "      <th>scopecontent</th>\n",
       "      <th>17th C. Coll</th>\n",
       "      <td>7.0</td>\n",
       "      <td>1.0</td>\n",
       "    </tr>\n",
       "    <tr>\n",
       "      <th>2</th>\n",
       "      <th>17th C. Coll</th>\n",
       "      <th>unittitle</th>\n",
       "      <th>17th C. Coll</th>\n",
       "      <td>1.0</td>\n",
       "      <td>0.0</td>\n",
       "    </tr>\n",
       "    <tr>\n",
       "      <th>3</th>\n",
       "      <th>18th C. Coll</th>\n",
       "      <th>bioghist</th>\n",
       "      <th>18th C. Coll</th>\n",
       "      <td>1.0</td>\n",
       "      <td>1.0</td>\n",
       "    </tr>\n",
       "    <tr>\n",
       "      <th>4</th>\n",
       "      <th>18th C. Coll</th>\n",
       "      <th>scopecontent</th>\n",
       "      <th>18th C. Coll</th>\n",
       "      <td>7.0</td>\n",
       "      <td>1.0</td>\n",
       "    </tr>\n",
       "  </tbody>\n",
       "</table>\n",
       "</div>"
      ],
      "text/plain": [
       "                                                       adj_count  adv_count\n",
       "description_id eadid        field        rowid                             \n",
       "0              17th C. Coll bioghist     17th C. Coll        1.0        1.0\n",
       "1              17th C. Coll scopecontent 17th C. Coll        7.0        1.0\n",
       "2              17th C. Coll unittitle    17th C. Coll        1.0        0.0\n",
       "3              18th C. Coll bioghist     18th C. Coll        1.0        1.0\n",
       "4              18th C. Coll scopecontent 18th C. Coll        7.0        1.0"
      ]
     },
     "execution_count": 74,
     "metadata": {},
     "output_type": "execute_result"
    }
   ],
   "source": [
    "df_descriptors = df_descriptors.join(\n",
    "    df_adv_grouped, \n",
    "    on=[\"description_id\", \"eadid\", \"field\", \"rowid\"], how=\"outer\"\n",
    "    )\n",
    "df_descriptors = df_descriptors.fillna(0)\n",
    "df_descriptors.head()"
   ]
  },
  {
   "cell_type": "code",
   "execution_count": 75,
   "id": "4262915e",
   "metadata": {},
   "outputs": [],
   "source": [
    "df_descriptors.to_csv(extracted_dir + \"nusc_ead_descs_nltk_adj_adv_counts.csv\")"
   ]
  },
  {
   "cell_type": "code",
   "execution_count": 76,
   "id": "c49cb84a",
   "metadata": {},
   "outputs": [
    {
     "data": {
      "text/html": [
       "<div>\n",
       "<style scoped>\n",
       "    .dataframe tbody tr th:only-of-type {\n",
       "        vertical-align: middle;\n",
       "    }\n",
       "\n",
       "    .dataframe tbody tr th {\n",
       "        vertical-align: top;\n",
       "    }\n",
       "\n",
       "    .dataframe thead th {\n",
       "        text-align: right;\n",
       "    }\n",
       "</style>\n",
       "<table border=\"1\" class=\"dataframe\">\n",
       "  <thead>\n",
       "    <tr style=\"text-align: right;\">\n",
       "      <th></th>\n",
       "      <th>description_id</th>\n",
       "      <th>adj_count</th>\n",
       "      <th>adv_count</th>\n",
       "    </tr>\n",
       "  </thead>\n",
       "  <tbody>\n",
       "    <tr>\n",
       "      <th>0</th>\n",
       "      <td>0</td>\n",
       "      <td>1.0</td>\n",
       "      <td>1.0</td>\n",
       "    </tr>\n",
       "    <tr>\n",
       "      <th>1</th>\n",
       "      <td>1</td>\n",
       "      <td>7.0</td>\n",
       "      <td>1.0</td>\n",
       "    </tr>\n",
       "    <tr>\n",
       "      <th>2</th>\n",
       "      <td>2</td>\n",
       "      <td>1.0</td>\n",
       "      <td>0.0</td>\n",
       "    </tr>\n",
       "    <tr>\n",
       "      <th>3</th>\n",
       "      <td>3</td>\n",
       "      <td>1.0</td>\n",
       "      <td>1.0</td>\n",
       "    </tr>\n",
       "    <tr>\n",
       "      <th>4</th>\n",
       "      <td>4</td>\n",
       "      <td>7.0</td>\n",
       "      <td>1.0</td>\n",
       "    </tr>\n",
       "  </tbody>\n",
       "</table>\n",
       "</div>"
      ],
      "text/plain": [
       "   description_id  adj_count  adv_count\n",
       "0               0        1.0        1.0\n",
       "1               1        7.0        1.0\n",
       "2               2        1.0        0.0\n",
       "3               3        1.0        1.0\n",
       "4               4        7.0        1.0"
      ]
     },
     "execution_count": 76,
     "metadata": {},
     "output_type": "execute_result"
    }
   ],
   "source": [
    "df_descriptors = df_descriptors.reset_index()\n",
    "df_counts = df_descriptors.drop(columns=[\"eadid\", \"field\", \"rowid\"])\n",
    "df_counts.head()"
   ]
  },
  {
   "cell_type": "code",
   "execution_count": 77,
   "id": "59b7a140",
   "metadata": {},
   "outputs": [],
   "source": [
    "col = \"adj_count\"\n",
    "total_adjs = np.sum(df_counts[col])\n",
    "mean_adjs = np.mean(df_counts[col])\n",
    "median_adjs = np.median(df_counts[col])\n",
    "min_adjs = np.min(df_counts[col])\n",
    "max_adjs = np.max(df_counts[col])"
   ]
  },
  {
   "cell_type": "code",
   "execution_count": 78,
   "id": "d88fc435",
   "metadata": {},
   "outputs": [],
   "source": [
    "col = \"adv_count\"\n",
    "total_advs = np.sum(df_counts[col])\n",
    "mean_advs = np.mean(df_counts[col])\n",
    "median_advs = np.median(df_counts[col])\n",
    "min_advs = np.min(df_counts[col])\n",
    "max_advs = np.max(df_counts[col])"
   ]
  },
  {
   "cell_type": "code",
   "execution_count": 79,
   "id": "efd5bf3b",
   "metadata": {},
   "outputs": [
    {
     "data": {
      "text/html": [
       "<div>\n",
       "<style scoped>\n",
       "    .dataframe tbody tr th:only-of-type {\n",
       "        vertical-align: middle;\n",
       "    }\n",
       "\n",
       "    .dataframe tbody tr th {\n",
       "        vertical-align: top;\n",
       "    }\n",
       "\n",
       "    .dataframe thead th {\n",
       "        text-align: right;\n",
       "    }\n",
       "</style>\n",
       "<table border=\"1\" class=\"dataframe\">\n",
       "  <thead>\n",
       "    <tr style=\"text-align: right;\">\n",
       "      <th></th>\n",
       "      <th>adj_by_desc</th>\n",
       "      <th>adv_by_desc</th>\n",
       "    </tr>\n",
       "  </thead>\n",
       "  <tbody>\n",
       "    <tr>\n",
       "      <th>mean</th>\n",
       "      <td>4.367258</td>\n",
       "      <td>1.260309</td>\n",
       "    </tr>\n",
       "    <tr>\n",
       "      <th>median</th>\n",
       "      <td>1.000000</td>\n",
       "      <td>0.000000</td>\n",
       "    </tr>\n",
       "    <tr>\n",
       "      <th>minimum</th>\n",
       "      <td>0.000000</td>\n",
       "      <td>0.000000</td>\n",
       "    </tr>\n",
       "    <tr>\n",
       "      <th>maximum</th>\n",
       "      <td>105.000000</td>\n",
       "      <td>46.000000</td>\n",
       "    </tr>\n",
       "    <tr>\n",
       "      <th>total</th>\n",
       "      <td>131651.000000</td>\n",
       "      <td>37992.000000</td>\n",
       "    </tr>\n",
       "  </tbody>\n",
       "</table>\n",
       "</div>"
      ],
      "text/plain": [
       "           adj_by_desc   adv_by_desc\n",
       "mean          4.367258      1.260309\n",
       "median        1.000000      0.000000\n",
       "minimum       0.000000      0.000000\n",
       "maximum     105.000000     46.000000\n",
       "total    131651.000000  37992.000000"
      ]
     },
     "execution_count": 79,
     "metadata": {},
     "output_type": "execute_result"
    }
   ],
   "source": [
    "df_counts = pd.DataFrame({\n",
    "        \"adj_by_desc\":[mean_adjs, median_adjs, min_adjs, max_adjs, total_adjs],\n",
    "        \"adv_by_desc\":[mean_advs, median_advs, min_advs, max_advs, total_advs]\n",
    "        }, index=[\"mean\", \"median\", \"minimum\", \"maximum\",\"total\"]\n",
    "                 )\n",
    "df_counts"
   ]
  },
  {
   "cell_type": "code",
   "execution_count": 80,
   "id": "35c10c95",
   "metadata": {},
   "outputs": [],
   "source": [
    "df_counts.to_csv(extracted_dir + \"nusc_ead_nltk_adj_adv_stats.csv\")"
   ]
  },
  {
   "cell_type": "markdown",
   "id": "1658a9d2",
   "metadata": {},
   "source": [
    "## Named Entity Recognition"
   ]
  },
  {
   "cell_type": "code",
   "execution_count": null,
   "id": "226e6194",
   "metadata": {},
   "outputs": [],
   "source": []
  },
  {
   "cell_type": "code",
   "execution_count": null,
   "id": "05176427",
   "metadata": {},
   "outputs": [],
   "source": []
  }
 ],
 "metadata": {
  "kernelspec": {
   "display_name": "nusc",
   "language": "python",
   "name": "python3"
  },
  "language_info": {
   "codemirror_mode": {
    "name": "ipython",
    "version": 3
   },
   "file_extension": ".py",
   "mimetype": "text/x-python",
   "name": "python",
   "nbconvert_exporter": "python",
   "pygments_lexer": "ipython3",
   "version": "3.12.2"
  }
 },
 "nbformat": 4,
 "nbformat_minor": 5
}
