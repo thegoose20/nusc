{
 "cells": [
  {
   "cell_type": "markdown",
   "id": "d0c1c0a1",
   "metadata": {},
   "source": [
    "# Data Extraction"
   ]
  },
  {
   "cell_type": "code",
   "execution_count": 2,
   "id": "a1b09478-57fb-42a0-a3fb-bc0539e4807a",
   "metadata": {
    "scrolled": true
   },
   "outputs": [],
   "source": [
    "# Libraries to extract metadata descriptions from XML data\n",
    "import xml.etree.ElementTree as ET\n",
    "import urllib.request\n",
    "\n",
    "# Libraries for data analysis\n",
    "import pandas as pd\n",
    "import re\n",
    "\n",
    "# Custom variables\n",
    "import config\n",
    "import utils\n",
    "\n",
    "# For writing data and creating directories\n",
    "from pathlib import Path"
   ]
  },
  {
   "cell_type": "markdown",
   "id": "f9bebaad-d0dc-48f4-a87e-9cf0f87ee55e",
   "metadata": {},
   "source": [
    "**Step 1:** Read the CSV file with XML path data for the Newcastle University Special Collections archival catalog."
   ]
  },
  {
   "cell_type": "code",
   "execution_count": 3,
   "id": "2b630b3d-8ea2-4d5b-b6f9-ca1808ce7ec2",
   "metadata": {},
   "outputs": [
    {
     "name": "stdout",
     "output_type": "stream",
     "text": [
      "rows: 12 | columns: 3\n"
     ]
    },
    {
     "data": {
      "text/html": [
       "<div>\n",
       "<style scoped>\n",
       "    .dataframe tbody tr th:only-of-type {\n",
       "        vertical-align: middle;\n",
       "    }\n",
       "\n",
       "    .dataframe tbody tr th {\n",
       "        vertical-align: top;\n",
       "    }\n",
       "\n",
       "    .dataframe thead th {\n",
       "        text-align: right;\n",
       "    }\n",
       "</style>\n",
       "<table border=\"1\" class=\"dataframe\">\n",
       "  <thead>\n",
       "    <tr style=\"text-align: right;\">\n",
       "      <th></th>\n",
       "      <th>collection_name</th>\n",
       "      <th>xml_path</th>\n",
       "      <th>xml_format</th>\n",
       "    </tr>\n",
       "  </thead>\n",
       "  <tbody>\n",
       "    <tr>\n",
       "      <th>0</th>\n",
       "      <td>Bloodaxe Books Archive</td>\n",
       "      <td>https://specialcollections.ncl.ac.uk/downloads...</td>\n",
       "      <td>EAD</td>\n",
       "    </tr>\n",
       "    <tr>\n",
       "      <th>1</th>\n",
       "      <td>Bell (Gertrude) Archive</td>\n",
       "      <td>https://gertrudebell.ncl.ac.uk/export/</td>\n",
       "      <td>custom</td>\n",
       "    </tr>\n",
       "    <tr>\n",
       "      <th>2</th>\n",
       "      <td>Bell (Gertrude) Archive</td>\n",
       "      <td>https://specialcollections.ncl.ac.uk/downloads...</td>\n",
       "      <td>EAD</td>\n",
       "    </tr>\n",
       "    <tr>\n",
       "      <th>3</th>\n",
       "      <td>Hill (Selima) Archive</td>\n",
       "      <td>https://specialcollections.ncl.ac.uk/downloads...</td>\n",
       "      <td>EAD</td>\n",
       "    </tr>\n",
       "    <tr>\n",
       "      <th>4</th>\n",
       "      <td>O'Brien (Sean) Archive</td>\n",
       "      <td>https://specialcollections.ncl.ac.uk/downloads...</td>\n",
       "      <td>EAD</td>\n",
       "    </tr>\n",
       "    <tr>\n",
       "      <th>5</th>\n",
       "      <td>Plowden (Lady Bridget) Archive</td>\n",
       "      <td>https://specialcollections.ncl.ac.uk/downloads...</td>\n",
       "      <td>EAD</td>\n",
       "    </tr>\n",
       "    <tr>\n",
       "      <th>6</th>\n",
       "      <td>Sharp (Thomas) Archive</td>\n",
       "      <td>https://specialcollections.ncl.ac.uk/downloads...</td>\n",
       "      <td>EAD</td>\n",
       "    </tr>\n",
       "    <tr>\n",
       "      <th>7</th>\n",
       "      <td>Loebl (Herbert) Archive</td>\n",
       "      <td>https://specialcollections.ncl.ac.uk/downloads...</td>\n",
       "      <td>EAD</td>\n",
       "    </tr>\n",
       "    <tr>\n",
       "      <th>8</th>\n",
       "      <td>Tyneside Campaign for Homosexual Equality Archive</td>\n",
       "      <td>https://specialcollections.ncl.ac.uk/downloads...</td>\n",
       "      <td>EAD</td>\n",
       "    </tr>\n",
       "    <tr>\n",
       "      <th>9</th>\n",
       "      <td>Trevelyan (Charles Philips) Archive</td>\n",
       "      <td>https://specialcollections.ncl.ac.uk/downloads...</td>\n",
       "      <td>EAD</td>\n",
       "    </tr>\n",
       "    <tr>\n",
       "      <th>10</th>\n",
       "      <td>Trevelyan (Walter Calverley) Archive</td>\n",
       "      <td>https://specialcollections.ncl.ac.uk/downloads...</td>\n",
       "      <td>EAD</td>\n",
       "    </tr>\n",
       "    <tr>\n",
       "      <th>11</th>\n",
       "      <td>Spence Watson and Weiss Papers</td>\n",
       "      <td>https://specialcollections.ncl.ac.uk/downloads...</td>\n",
       "      <td>EAD</td>\n",
       "    </tr>\n",
       "  </tbody>\n",
       "</table>\n",
       "</div>"
      ],
      "text/plain": [
       "                                      collection_name  \\\n",
       "0                              Bloodaxe Books Archive   \n",
       "1                             Bell (Gertrude) Archive   \n",
       "2                             Bell (Gertrude) Archive   \n",
       "3                               Hill (Selima) Archive   \n",
       "4                              O'Brien (Sean) Archive   \n",
       "5                      Plowden (Lady Bridget) Archive   \n",
       "6                              Sharp (Thomas) Archive   \n",
       "7                             Loebl (Herbert) Archive   \n",
       "8   Tyneside Campaign for Homosexual Equality Archive   \n",
       "9                 Trevelyan (Charles Philips) Archive   \n",
       "10               Trevelyan (Walter Calverley) Archive   \n",
       "11                     Spence Watson and Weiss Papers   \n",
       "\n",
       "                                             xml_path xml_format  \n",
       "0   https://specialcollections.ncl.ac.uk/downloads...        EAD  \n",
       "1              https://gertrudebell.ncl.ac.uk/export/     custom  \n",
       "2   https://specialcollections.ncl.ac.uk/downloads...        EAD  \n",
       "3   https://specialcollections.ncl.ac.uk/downloads...        EAD  \n",
       "4   https://specialcollections.ncl.ac.uk/downloads...        EAD  \n",
       "5   https://specialcollections.ncl.ac.uk/downloads...        EAD  \n",
       "6   https://specialcollections.ncl.ac.uk/downloads...        EAD  \n",
       "7   https://specialcollections.ncl.ac.uk/downloads...        EAD  \n",
       "8   https://specialcollections.ncl.ac.uk/downloads...        EAD  \n",
       "9   https://specialcollections.ncl.ac.uk/downloads...        EAD  \n",
       "10  https://specialcollections.ncl.ac.uk/downloads...        EAD  \n",
       "11  https://specialcollections.ncl.ac.uk/downloads...        EAD  "
      ]
     },
     "execution_count": 3,
     "metadata": {},
     "output_type": "execute_result"
    }
   ],
   "source": [
    "df_xml = pd.read_csv(config.xml_paths)\n",
    "row_count = df_xml.shape[0]\n",
    "col_count = df_xml.shape[1]\n",
    "print(\"rows:\",row_count, \"| columns:\",col_count)\n",
    "# df_xml.head(3)\n",
    "df_xml"
   ]
  },
  {
   "cell_type": "code",
   "execution_count": 4,
   "id": "9ac7361f-531d-44f3-9fc7-8612d380460d",
   "metadata": {
    "editable": true,
    "slideshow": {
     "slide_type": ""
    },
    "tags": []
   },
   "outputs": [],
   "source": [
    "ead_xml_paths = [df_xml.iloc[i,1] for i in range(0,row_count) if df_xml.iloc[i,2] == \"EAD\"]\n",
    "other_xml_paths = [df_xml.iloc[i,1] for i in range(0,row_count) if df_xml.iloc[i,2] != \"EAD\"] \n",
    "assert(ead_xml_paths[0] == df_xml.iloc[0,1]), \"The first EAD XML list value should be the first XML path in the DataFrame.\"\n",
    "assert(other_xml_paths[0] == df_xml.iloc[1,1]), \"There should only be one non-EAD XML path, that of the Bell Archive.\""
   ]
  },
  {
   "cell_type": "markdown",
   "id": "06a2962e-d0b6-4451-83d5-3efa2228f414",
   "metadata": {},
   "source": [
    "Parse the XML data as an ElementTree tree. \n",
    "\n",
    "Then, at all levels of the archival hierarchy, from the fonds (i.e., `<archdesc>`) down to the item level (e.g., `<c level=\"...\">` for `\"subfonds\"`, `\"subseries\"`, `\"file\"`, `\"item\"`, etc.), extract the following tags' text:\n",
    "* Title: `<unittitle>`\n",
    "* Identifier: `<unitid>`\n",
    "* Date (of material?): `<unitdate>`\n",
    "* Language of material: `<langmaterial>`\n",
    "* Biographical / Historical: `<bioghist>`\n",
    "* Scope and Contents: `<scopecontent>`\n",
    "* Processing Information: `<processinfo>`\n",
    "\n",
    "The Encoded Archival Description Identifier, or EADID (e.g., `<eadid>BXB<\\eadid>`), will also be the first Unit ID of a fonds (e.g., `<unitid>BXB</unitid>`).\n",
    "\n",
    "*Note: \"Fonds\" is the archival term for collection.  It is the top-most level of a single archive's (or archival collection's) hierarchy.*"
   ]
  },
  {
   "cell_type": "code",
   "execution_count": 5,
   "id": "6cd279c7-31fb-41ad-9cc8-2aa2057310b4",
   "metadata": {
    "scrolled": true
   },
   "outputs": [
    {
     "name": "stdout",
     "output_type": "stream",
     "text": [
      "Extracting archival metadata descriptions from https://specialcollections.ncl.ac.uk/downloads/exports/ead/2000f6325dfc4fc3201fc45ed01c7a5d.ead.xml\n",
      "Extracting archival metadata descriptions from https://specialcollections.ncl.ac.uk/downloads/exports/ead/c814dd85265b778fe3fc122c1b2e3202.ead.xml\n",
      "Extracting archival metadata descriptions from https://specialcollections.ncl.ac.uk/downloads/exports/ead/e18d4612b5341e4a20de3c095a552597.ead.xml\n",
      "Extracting archival metadata descriptions from https://specialcollections.ncl.ac.uk/downloads/exports/ead/89f590f6d31fb9ba02239da87497d982.ead.xml\n",
      "Extracting archival metadata descriptions from https://specialcollections.ncl.ac.uk/downloads/exports/ead/1e48c4420b7073bc11916c6c1de226bb.ead.xml\n",
      "Extracting archival metadata descriptions from https://specialcollections.ncl.ac.uk/downloads/exports/ead/a34526eb2fe10055c8c3c5b3f86247cb.ead.xml\n",
      "Extracting archival metadata descriptions from https://specialcollections.ncl.ac.uk/downloads/exports/ead/0fa55706c70cfddbae6b05020b195b07.ead.xml\n",
      "Extracting archival metadata descriptions from https://specialcollections.ncl.ac.uk/downloads/exports/ead/98dba627f91b8906b021e25e4a91a210.ead.xml\n",
      "Extracting archival metadata descriptions from https://specialcollections.ncl.ac.uk/downloads/exports/ead/5a627e71c819a28db64a0bf7064f7b39.ead.xml\n",
      "Extracting archival metadata descriptions from https://specialcollections.ncl.ac.uk/downloads/exports/ead/0bdfd2a67deb53a40acbc39554d5a40c.ead.xml\n",
      "Extracting archival metadata descriptions from https://specialcollections.ncl.ac.uk/downloads/exports/ead/d41b4390a6d81dfcb5046e382e9bd80b.ead.xml\n",
      "Done!\n"
     ]
    }
   ],
   "source": [
    "all_fonds = []\n",
    "for xml_path in ead_xml_paths:\n",
    "    print(\"Extracting archival metadata descriptions from\", xml_path)\n",
    "    fonds_list = utils.extractMetadata(xml_path)\n",
    "    all_fonds += [fonds_list]\n",
    "print(\"Done!\")"
   ]
  },
  {
   "cell_type": "code",
   "execution_count": 6,
   "id": "2d758887-c39e-41c8-aa61-b4e1480896f8",
   "metadata": {
    "scrolled": true
   },
   "outputs": [],
   "source": [
    "assert len(all_fonds) == row_count - 1"
   ]
  },
  {
   "cell_type": "markdown",
   "id": "48535731",
   "metadata": {},
   "source": [
    "Extract metadata descriptions from the custom (non-EAD) XML data:"
   ]
  },
  {
   "cell_type": "code",
   "execution_count": 7,
   "id": "2b745d3f",
   "metadata": {},
   "outputs": [
    {
     "name": "stdout",
     "output_type": "stream",
     "text": [
      "200\n"
     ]
    }
   ],
   "source": [
    "for xml_path in other_xml_paths:\n",
    "    # Create an ElementTree tree and get the tree's root\n",
    "    content = urllib.request.urlopen(xml_path)\n",
    "    xmlTree = ET.parse(content)\n",
    "    root = xmlTree.getroot()\n",
    "\n",
    "    # Extract metadata descriptions from the below-specified fields in the tree\n",
    "    metadata_field_tags = [\n",
    "        \"node_id\", \"title\", \"description\", \"creator\", \"creation-date\", \n",
    "        \"recipient\", \"language\", \"extent-and-medium\", \"country-and-region\"\n",
    "    ]\n",
    "    d_descs = {\n",
    "        'node_id': \"\", 'title': \"\", 'description': \"\", 'creator': \"\", 'creation-date': \"\", \n",
    "        'recipient': \"\", 'language': \"\", 'extent-and-medium': \"\", 'country-and-region': \"\"\n",
    "    }\n",
    "    list_metadata = []\n",
    "    for child in xmlTree.iter():\n",
    "        tag = child.tag\n",
    "        if tag in metadata_field_tags:\n",
    "            all_text = utils.getAllText(child, tag)\n",
    "            d_descs[tag] = all_text\n",
    "        # Upon reaching a new item tag, add the previous item's extracted descriptions\n",
    "        # to the metadata list and reset the descriptions dictionary\n",
    "        elif (tag == \"item\") and (d_descs[\"node_id\"] != \"\"):\n",
    "            list_metadata += [d_descs]\n",
    "            d_descs = {\n",
    "                'node_id': \"\", 'title': \"\", 'description': \"\", 'creator': \"\", 'creation-date': \"\", \n",
    "                'recipient': \"\", 'language': \"\", 'extent-and-medium': \"\", 'country-and-region': \"\"\n",
    "            }\n",
    "        else:\n",
    "            continue\n",
    "\n",
    "    # Add the final item's descriptions\n",
    "    list_metadata += [d_descs]\n",
    "\n",
    "print(len(list_metadata))"
   ]
  },
  {
   "cell_type": "code",
   "execution_count": 8,
   "id": "52d6a611",
   "metadata": {},
   "outputs": [
    {
     "name": "stdout",
     "output_type": "stream",
     "text": [
      "{'node_id': '69767', 'title': 'Letter from Gertrude Bell to her stepmother, Dame Florence Bell', 'description': '', 'creator': 'Bell, Gertrude Margaret Lowthian', 'creation-date': '1907-04-09', 'recipient': 'Bell, Florence', 'language': 'English', 'extent-and-medium': '1 letter plus envelope, paper', 'country-and-region': 'Manisa'}\n"
     ]
    }
   ],
   "source": [
    "print(list_metadata[-1])"
   ]
  },
  {
   "cell_type": "markdown",
   "id": "43ec1466-a534-4368-acfd-efdada1f1693",
   "metadata": {},
   "source": [
    "Store the extracted EAD data in a DataFrame."
   ]
  },
  {
   "cell_type": "code",
   "execution_count": 9,
   "id": "710d93aa-3a94-40ab-b634-08ad978ea1c9",
   "metadata": {},
   "outputs": [
    {
     "name": "stdout",
     "output_type": "stream",
     "text": [
      "(16683, 8)\n"
     ]
    }
   ],
   "source": [
    "metadata_df = pd.DataFrame()\n",
    "for fonds_list in all_fonds:\n",
    "    df = pd.DataFrame.from_records(fonds_list)\n",
    "    metadata_df = pd.concat([metadata_df, df])\n",
    "print(metadata_df.shape)"
   ]
  },
  {
   "cell_type": "markdown",
   "id": "58bc8f4e",
   "metadata": {},
   "source": [
    "Add a column for the Encoded Archival Description Identifiers (EADIDs)."
   ]
  },
  {
   "cell_type": "code",
   "execution_count": 10,
   "id": "05078f6a",
   "metadata": {},
   "outputs": [
    {
     "name": "stderr",
     "output_type": "stream",
     "text": [
      "<>:2: SyntaxWarning: invalid escape sequence '\\w'\n",
      "<>:2: SyntaxWarning: invalid escape sequence '\\w'\n",
      "/var/folders/9c/dtt4chrx6lgcgnfz6r_z5ymm0000gn/T/ipykernel_2930/679242152.py:2: SyntaxWarning: invalid escape sequence '\\w'\n",
      "  eadids = [re.match(\"\\w+((?=/)?)\", unitid)[0].upper() for unitid in unitids]\n"
     ]
    },
    {
     "data": {
      "text/html": [
       "<div>\n",
       "<style scoped>\n",
       "    .dataframe tbody tr th:only-of-type {\n",
       "        vertical-align: middle;\n",
       "    }\n",
       "\n",
       "    .dataframe tbody tr th {\n",
       "        vertical-align: top;\n",
       "    }\n",
       "\n",
       "    .dataframe thead th {\n",
       "        text-align: right;\n",
       "    }\n",
       "</style>\n",
       "<table border=\"1\" class=\"dataframe\">\n",
       "  <thead>\n",
       "    <tr style=\"text-align: right;\">\n",
       "      <th></th>\n",
       "      <th>eadid</th>\n",
       "      <th>unittitle</th>\n",
       "      <th>unitid</th>\n",
       "      <th>unitdate</th>\n",
       "      <th>bioghist</th>\n",
       "      <th>scopecontent</th>\n",
       "      <th>processinfo</th>\n",
       "      <th>langmaterial</th>\n",
       "      <th>controlaccess</th>\n",
       "    </tr>\n",
       "  </thead>\n",
       "  <tbody>\n",
       "    <tr>\n",
       "      <th>0</th>\n",
       "      <td>BXB</td>\n",
       "      <td>Bloodaxe Books Archive</td>\n",
       "      <td>BXB</td>\n",
       "      <td>1978 - [ongoing]</td>\n",
       "      <td>Bloodaxe Books is one of Britain's leading poe...</td>\n",
       "      <td>Consists of letters and proofs relating to pub...</td>\n",
       "      <td>This catalogue was created by Rebecca Bradley,...</td>\n",
       "      <td>[Bengali, Czech, Danish, English, Finnish, Fre...</td>\n",
       "      <td>[Bloodaxe Books, 1978 -, Astley, Neil, - , poe...</td>\n",
       "    </tr>\n",
       "    <tr>\n",
       "      <th>1</th>\n",
       "      <td>BXB</td>\n",
       "      <td>Editorial</td>\n",
       "      <td>BXB/1</td>\n",
       "      <td>1978 - [ongoing]</td>\n",
       "      <td></td>\n",
       "      <td>Consists of letters and proofs relating to poe...</td>\n",
       "      <td></td>\n",
       "      <td></td>\n",
       "      <td></td>\n",
       "    </tr>\n",
       "    <tr>\n",
       "      <th>2</th>\n",
       "      <td>BXB</td>\n",
       "      <td>Published Poetry and Translations by Author</td>\n",
       "      <td>BXB/1/1</td>\n",
       "      <td>1978 - [ongoing]</td>\n",
       "      <td></td>\n",
       "      <td>Consists of letters and proofs relating to pub...</td>\n",
       "      <td></td>\n",
       "      <td></td>\n",
       "      <td></td>\n",
       "    </tr>\n",
       "    <tr>\n",
       "      <th>3</th>\n",
       "      <td>BXB</td>\n",
       "      <td>Robert Adamson</td>\n",
       "      <td>BXB/1/1/ADA</td>\n",
       "      <td>2004 - 2009</td>\n",
       "      <td>Robert Adamson was born in Sydney in 1943 and ...</td>\n",
       "      <td>Consists of letters and proofs relating to the...</td>\n",
       "      <td></td>\n",
       "      <td></td>\n",
       "      <td>[Adamson, Robert, 1943 -,  Poet]</td>\n",
       "    </tr>\n",
       "    <tr>\n",
       "      <th>4</th>\n",
       "      <td>BXB</td>\n",
       "      <td>Reading the River: Selected Poems</td>\n",
       "      <td>BXB/1/1/ADA/1</td>\n",
       "      <td>2004</td>\n",
       "      <td>Robert Adamson was born in Sydney in 1943 and ...</td>\n",
       "      <td>Consists of letters and manuscripts relating t...</td>\n",
       "      <td></td>\n",
       "      <td></td>\n",
       "      <td></td>\n",
       "    </tr>\n",
       "  </tbody>\n",
       "</table>\n",
       "</div>"
      ],
      "text/plain": [
       "  eadid                                    unittitle         unitid  \\\n",
       "0   BXB                       Bloodaxe Books Archive            BXB   \n",
       "1   BXB                                    Editorial          BXB/1   \n",
       "2   BXB  Published Poetry and Translations by Author        BXB/1/1   \n",
       "3   BXB                               Robert Adamson    BXB/1/1/ADA   \n",
       "4   BXB            Reading the River: Selected Poems  BXB/1/1/ADA/1   \n",
       "\n",
       "           unitdate                                           bioghist  \\\n",
       "0  1978 - [ongoing]  Bloodaxe Books is one of Britain's leading poe...   \n",
       "1  1978 - [ongoing]                                                      \n",
       "2  1978 - [ongoing]                                                      \n",
       "3       2004 - 2009  Robert Adamson was born in Sydney in 1943 and ...   \n",
       "4              2004  Robert Adamson was born in Sydney in 1943 and ...   \n",
       "\n",
       "                                        scopecontent  \\\n",
       "0  Consists of letters and proofs relating to pub...   \n",
       "1  Consists of letters and proofs relating to poe...   \n",
       "2  Consists of letters and proofs relating to pub...   \n",
       "3  Consists of letters and proofs relating to the...   \n",
       "4  Consists of letters and manuscripts relating t...   \n",
       "\n",
       "                                         processinfo  \\\n",
       "0  This catalogue was created by Rebecca Bradley,...   \n",
       "1                                                      \n",
       "2                                                      \n",
       "3                                                      \n",
       "4                                                      \n",
       "\n",
       "                                        langmaterial  \\\n",
       "0  [Bengali, Czech, Danish, English, Finnish, Fre...   \n",
       "1                                                      \n",
       "2                                                      \n",
       "3                                                      \n",
       "4                                                      \n",
       "\n",
       "                                       controlaccess  \n",
       "0  [Bloodaxe Books, 1978 -, Astley, Neil, - , poe...  \n",
       "1                                                     \n",
       "2                                                     \n",
       "3                   [Adamson, Robert, 1943 -,  Poet]  \n",
       "4                                                     "
      ]
     },
     "execution_count": 10,
     "metadata": {},
     "output_type": "execute_result"
    }
   ],
   "source": [
    "unitids = list(metadata_df.unitid)\n",
    "eadids = [re.match(\"\\w+((?=/)?)\", unitid)[0].upper() for unitid in unitids]\n",
    "assert len(unitids) == len(eadids)\n",
    "# print(set(eadids))\n",
    "metadata_df.insert(0, \"eadid\", eadids)\n",
    "metadata_df.sort_values([\"eadid\", \"unitid\"])\n",
    "metadata_df.head()"
   ]
  },
  {
   "cell_type": "code",
   "execution_count": 11,
   "id": "1ac33fd1-a3e4-4da3-89ae-f5658b87fa49",
   "metadata": {},
   "outputs": [],
   "source": [
    "extracted_dir = \"data/extracted/\"\n",
    "Path(extracted_dir).mkdir(parents=True, exist_ok=True)\n",
    "metadata_df.to_csv(extracted_dir + \"newcastle_archival_metadata_sample.csv\")"
   ]
  },
  {
   "cell_type": "markdown",
   "id": "eb8b8771-7c1f-442a-a8d9-48470ce3ce10",
   "metadata": {},
   "source": [
    "Store the extracted non-EAD data in a DataFrame."
   ]
  },
  {
   "cell_type": "code",
   "execution_count": 12,
   "id": "d5969fab-f8fd-487f-bc90-bc4b3db29edf",
   "metadata": {},
   "outputs": [
    {
     "name": "stdout",
     "output_type": "stream",
     "text": [
      "(200, 10)\n"
     ]
    },
    {
     "data": {
      "text/html": [
       "<div>\n",
       "<style scoped>\n",
       "    .dataframe tbody tr th:only-of-type {\n",
       "        vertical-align: middle;\n",
       "    }\n",
       "\n",
       "    .dataframe tbody tr th {\n",
       "        vertical-align: top;\n",
       "    }\n",
       "\n",
       "    .dataframe thead th {\n",
       "        text-align: right;\n",
       "    }\n",
       "</style>\n",
       "<table border=\"1\" class=\"dataframe\">\n",
       "  <thead>\n",
       "    <tr style=\"text-align: right;\">\n",
       "      <th></th>\n",
       "      <th>eadid</th>\n",
       "      <th>node_id</th>\n",
       "      <th>title</th>\n",
       "      <th>description</th>\n",
       "      <th>creator</th>\n",
       "      <th>creation-date</th>\n",
       "      <th>recipient</th>\n",
       "      <th>language</th>\n",
       "      <th>extent-and-medium</th>\n",
       "      <th>country-and-region</th>\n",
       "    </tr>\n",
       "  </thead>\n",
       "  <tbody>\n",
       "    <tr>\n",
       "      <th>0</th>\n",
       "      <td>GB</td>\n",
       "      <td>69571</td>\n",
       "      <td>Letter from Gertrude Bell to her stepmother, D...</td>\n",
       "      <td></td>\n",
       "      <td>Bell, Gertrude Margaret Lowthian</td>\n",
       "      <td>1874-09-25</td>\n",
       "      <td>Bell, Florence</td>\n",
       "      <td>English</td>\n",
       "      <td>1 letter, paper</td>\n",
       "      <td>Redcar</td>\n",
       "    </tr>\n",
       "    <tr>\n",
       "      <th>1</th>\n",
       "      <td>GB</td>\n",
       "      <td>69572</td>\n",
       "      <td>Letter from Gertrude Bell to her stepmother, D...</td>\n",
       "      <td></td>\n",
       "      <td>Bell, Gertrude Margaret Lowthian</td>\n",
       "      <td>1877-04-12</td>\n",
       "      <td>Bell, Florence</td>\n",
       "      <td>English</td>\n",
       "      <td>1 letter plus envelope, paper</td>\n",
       "      <td></td>\n",
       "    </tr>\n",
       "    <tr>\n",
       "      <th>2</th>\n",
       "      <td>GB</td>\n",
       "      <td>69573</td>\n",
       "      <td>Letter from Gertrude Bell to her stepmother, D...</td>\n",
       "      <td></td>\n",
       "      <td>Bell, Gertrude Margaret Lowthian</td>\n",
       "      <td>1877-01-01 - 1877-12-31</td>\n",
       "      <td>Bell, Florence</td>\n",
       "      <td>English</td>\n",
       "      <td>1 letter, paper</td>\n",
       "      <td>Redcar</td>\n",
       "    </tr>\n",
       "    <tr>\n",
       "      <th>3</th>\n",
       "      <td>GB</td>\n",
       "      <td>69574</td>\n",
       "      <td>Letter from Gertrude Bell to her stepmother, D...</td>\n",
       "      <td></td>\n",
       "      <td>Bell, Gertrude Margaret Lowthian</td>\n",
       "      <td>1877-04-16</td>\n",
       "      <td>Bell, Florence</td>\n",
       "      <td>English</td>\n",
       "      <td>1 letter plus envelope, paper</td>\n",
       "      <td>Redcar</td>\n",
       "    </tr>\n",
       "    <tr>\n",
       "      <th>4</th>\n",
       "      <td>GB</td>\n",
       "      <td>69575</td>\n",
       "      <td>Letter from Gertrude Bell to her stepmother, D...</td>\n",
       "      <td></td>\n",
       "      <td>Bell, Gertrude Margaret Lowthian</td>\n",
       "      <td>1877-04-26</td>\n",
       "      <td>Bell, Florence</td>\n",
       "      <td>English</td>\n",
       "      <td>1 letter plus envelope, paper</td>\n",
       "      <td>Redcar</td>\n",
       "    </tr>\n",
       "  </tbody>\n",
       "</table>\n",
       "</div>"
      ],
      "text/plain": [
       "  eadid node_id                                              title  \\\n",
       "0    GB   69571  Letter from Gertrude Bell to her stepmother, D...   \n",
       "1    GB   69572  Letter from Gertrude Bell to her stepmother, D...   \n",
       "2    GB   69573  Letter from Gertrude Bell to her stepmother, D...   \n",
       "3    GB   69574  Letter from Gertrude Bell to her stepmother, D...   \n",
       "4    GB   69575  Letter from Gertrude Bell to her stepmother, D...   \n",
       "\n",
       "  description                           creator            creation-date  \\\n",
       "0              Bell, Gertrude Margaret Lowthian               1874-09-25   \n",
       "1              Bell, Gertrude Margaret Lowthian               1877-04-12   \n",
       "2              Bell, Gertrude Margaret Lowthian  1877-01-01 - 1877-12-31   \n",
       "3              Bell, Gertrude Margaret Lowthian               1877-04-16   \n",
       "4              Bell, Gertrude Margaret Lowthian               1877-04-26   \n",
       "\n",
       "        recipient language              extent-and-medium country-and-region  \n",
       "0  Bell, Florence  English                1 letter, paper             Redcar  \n",
       "1  Bell, Florence  English  1 letter plus envelope, paper                     \n",
       "2  Bell, Florence  English                1 letter, paper             Redcar  \n",
       "3  Bell, Florence  English  1 letter plus envelope, paper             Redcar  \n",
       "4  Bell, Florence  English  1 letter plus envelope, paper             Redcar  "
      ]
     },
     "execution_count": 12,
     "metadata": {},
     "output_type": "execute_result"
    }
   ],
   "source": [
    "nonead_metadata_df = pd.DataFrame()\n",
    "nonead_metadata_df = pd.DataFrame.from_records(list_metadata)\n",
    "# The non-EAD formatted data is all from the Gertrude Bell Archive, which has the EADID \"GB\"\n",
    "nonead_metadata_df.insert(0, \"eadid\", [\"GB\"]*(nonead_metadata_df.shape[0]))\n",
    "print(nonead_metadata_df.shape)\n",
    "nonead_metadata_df.head()"
   ]
  },
  {
   "cell_type": "code",
   "execution_count": 13,
   "id": "48eb1a60-bed6-41d0-b75c-69892a69d262",
   "metadata": {},
   "outputs": [],
   "source": [
    "nonead_metadata_df.to_csv(extracted_dir + \"bell_archival_metadata_nonead.csv\")"
   ]
  }
 ],
 "metadata": {
  "kernelspec": {
   "display_name": "nusc",
   "language": "python",
   "name": "python3"
  },
  "language_info": {
   "codemirror_mode": {
    "name": "ipython",
    "version": 3
   },
   "file_extension": ".py",
   "mimetype": "text/x-python",
   "name": "python",
   "nbconvert_exporter": "python",
   "pygments_lexer": "ipython3",
   "version": "3.12.7"
  }
 },
 "nbformat": 4,
 "nbformat_minor": 5
}
