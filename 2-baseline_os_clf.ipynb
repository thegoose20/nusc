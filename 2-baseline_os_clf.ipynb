{
 "cells": [
  {
   "cell_type": "markdown",
   "metadata": {},
   "source": [
    "# Classification\n",
    "\n",
    "## Baseline Omission and Stereotype Classifier"
   ]
  },
  {
   "cell_type": "code",
   "execution_count": 1,
   "metadata": {},
   "outputs": [],
   "source": [
    "import config, utils\n",
    "import re\n",
    "import pandas as pd\n",
    "import joblib\n",
    "from joblib import load\n",
    "from sklearn.multiclass import OneVsRestClassifier\n",
    "from sklearn.linear_model import SGDClassifier\n",
    "from sklearn.preprocessing import MultiLabelBinarizer\n",
    "from sklearn.feature_extraction.text import CountVectorizer, TfidfTransformer\n",
    "from sklearn.metrics import multilabel_confusion_matrix\n",
    "from sklearn.metrics import precision_recall_fscore_support\n"
   ]
  },
  {
   "cell_type": "markdown",
   "metadata": {},
   "source": [
    "### 1. Preprocessing\n",
    "\n",
    "Load the extracted archival metadata from the Newcastle University Special Collections catalog."
   ]
  },
  {
   "cell_type": "code",
   "execution_count": 2,
   "metadata": {},
   "outputs": [
    {
     "name": "stdout",
     "output_type": "stream",
     "text": [
      "(16683, 8) (200, 9)\n"
     ]
    }
   ],
   "source": [
    "extracted_dir = \"data/extracted/\"\n",
    "ead_df = pd.read_csv(extracted_dir + \"newcastle_archival_metadata_sample.csv\", index_col=0)\n",
    "nonead_df = pd.read_csv(extracted_dir + \"bell_archival_metadata_nonead.csv\", index_col=0)\n",
    "print(ead_df.shape, nonead_df.shape)"
   ]
  },
  {
   "cell_type": "markdown",
   "metadata": {},
   "source": [
    "Transform the data so all the text that will be classified is in a single column."
   ]
  },
  {
   "cell_type": "code",
   "execution_count": 6,
   "metadata": {},
   "outputs": [
    {
     "data": {
      "text/html": [
       "<div>\n",
       "<style scoped>\n",
       "    .dataframe tbody tr th:only-of-type {\n",
       "        vertical-align: middle;\n",
       "    }\n",
       "\n",
       "    .dataframe tbody tr th {\n",
       "        vertical-align: top;\n",
       "    }\n",
       "\n",
       "    .dataframe thead th {\n",
       "        text-align: right;\n",
       "    }\n",
       "</style>\n",
       "<table border=\"1\" class=\"dataframe\">\n",
       "  <thead>\n",
       "    <tr style=\"text-align: right;\">\n",
       "      <th></th>\n",
       "      <th>eadid</th>\n",
       "      <th>rowid</th>\n",
       "      <th>field</th>\n",
       "      <th>doc</th>\n",
       "    </tr>\n",
       "  </thead>\n",
       "  <tbody>\n",
       "    <tr>\n",
       "      <th>26920</th>\n",
       "      <td>BP</td>\n",
       "      <td>BP</td>\n",
       "      <td>processinfo</td>\n",
       "      <td>This EAD description created by Ruth Sheret 27...</td>\n",
       "    </tr>\n",
       "    <tr>\n",
       "      <th>26520</th>\n",
       "      <td>BP</td>\n",
       "      <td>BP</td>\n",
       "      <td>scopecontent</td>\n",
       "      <td>The papers of the distinguished public servant...</td>\n",
       "    </tr>\n",
       "    <tr>\n",
       "      <th>25720</th>\n",
       "      <td>BP</td>\n",
       "      <td>BP</td>\n",
       "      <td>unittitle</td>\n",
       "      <td>Plowden (Lady Bridget) Archive</td>\n",
       "    </tr>\n",
       "    <tr>\n",
       "      <th>26521</th>\n",
       "      <td>BP</td>\n",
       "      <td>BP/01</td>\n",
       "      <td>scopecontent</td>\n",
       "      <td>Formerly the 'Working Ladies Guild', the organ...</td>\n",
       "    </tr>\n",
       "    <tr>\n",
       "      <th>25721</th>\n",
       "      <td>BP</td>\n",
       "      <td>BP/01</td>\n",
       "      <td>unittitle</td>\n",
       "      <td>Chairman (Managing Committee) of the Mary Fiel...</td>\n",
       "    </tr>\n",
       "  </tbody>\n",
       "</table>\n",
       "</div>"
      ],
      "text/plain": [
       "      eadid  rowid         field  \\\n",
       "26920    BP     BP   processinfo   \n",
       "26520    BP     BP  scopecontent   \n",
       "25720    BP     BP     unittitle   \n",
       "26521    BP  BP/01  scopecontent   \n",
       "25721    BP  BP/01     unittitle   \n",
       "\n",
       "                                                     doc  \n",
       "26920  This EAD description created by Ruth Sheret 27...  \n",
       "26520  The papers of the distinguished public servant...  \n",
       "25720                     Plowden (Lady Bridget) Archive  \n",
       "26521  Formerly the 'Working Ladies Guild', the organ...  \n",
       "25721  Chairman (Managing Committee) of the Mary Fiel...  "
      ]
     },
     "execution_count": 6,
     "metadata": {},
     "output_type": "execute_result"
    }
   ],
   "source": [
    "text_cols = [\"unittitle\", \"bioghist\", \"scopecontent\", \"processinfo\"]\n",
    "ead_doc_df = utils.transformForClassification(ead_df, text_cols, \"unitid\")\n",
    "\n",
    "text_cols = [\"title\", \"description\", \"extent-and-medium\"]\n",
    "nonead_doc_df = utils.transformForClassification(nonead_df, text_cols, \"node_id\")\n",
    "\n",
    "doc_df = pd.concat([ead_doc_df, nonead_doc_df])\n",
    "doc_df.sort_values([\"eadid\", \"rowid\", \"field\", \"doc\"], inplace=True)\n",
    "doc_df.head()"
   ]
  },
  {
   "cell_type": "code",
   "execution_count": 7,
   "metadata": {},
   "outputs": [
    {
     "data": {
      "text/html": [
       "<div>\n",
       "<style scoped>\n",
       "    .dataframe tbody tr th:only-of-type {\n",
       "        vertical-align: middle;\n",
       "    }\n",
       "\n",
       "    .dataframe tbody tr th {\n",
       "        vertical-align: top;\n",
       "    }\n",
       "\n",
       "    .dataframe thead th {\n",
       "        text-align: right;\n",
       "    }\n",
       "</style>\n",
       "<table border=\"1\" class=\"dataframe\">\n",
       "  <thead>\n",
       "    <tr style=\"text-align: right;\">\n",
       "      <th></th>\n",
       "      <th>eadid</th>\n",
       "      <th>rowid</th>\n",
       "      <th>field</th>\n",
       "      <th>doc</th>\n",
       "    </tr>\n",
       "  </thead>\n",
       "  <tbody>\n",
       "    <tr>\n",
       "      <th>60652</th>\n",
       "      <td>WCT</td>\n",
       "      <td>WCT/8</td>\n",
       "      <td>unittitle</td>\n",
       "      <td>Diaries</td>\n",
       "    </tr>\n",
       "    <tr>\n",
       "      <th>61822</th>\n",
       "      <td>WCT</td>\n",
       "      <td>WCT/9</td>\n",
       "      <td>scopecontent</td>\n",
       "      <td>Personal diaries and notebooks.</td>\n",
       "    </tr>\n",
       "    <tr>\n",
       "      <th>60658</th>\n",
       "      <td>WCT</td>\n",
       "      <td>WCT/9</td>\n",
       "      <td>unittitle</td>\n",
       "      <td>Diaries and notebooks of Lady Pauline</td>\n",
       "    </tr>\n",
       "    <tr>\n",
       "      <th>61826</th>\n",
       "      <td>WCT</td>\n",
       "      <td>WCT/9/4</td>\n",
       "      <td>scopecontent</td>\n",
       "      <td>Microfilm reels of Pauline's diaries and sketc...</td>\n",
       "    </tr>\n",
       "    <tr>\n",
       "      <th>60662</th>\n",
       "      <td>WCT</td>\n",
       "      <td>WCT/9/4</td>\n",
       "      <td>unittitle</td>\n",
       "      <td>Microfilm copies of Lady Pauline's Diaries</td>\n",
       "    </tr>\n",
       "  </tbody>\n",
       "</table>\n",
       "</div>"
      ],
      "text/plain": [
       "      eadid    rowid         field  \\\n",
       "60652   WCT    WCT/8     unittitle   \n",
       "61822   WCT    WCT/9  scopecontent   \n",
       "60658   WCT    WCT/9     unittitle   \n",
       "61826   WCT  WCT/9/4  scopecontent   \n",
       "60662   WCT  WCT/9/4     unittitle   \n",
       "\n",
       "                                                     doc  \n",
       "60652                                            Diaries  \n",
       "61822                    Personal diaries and notebooks.  \n",
       "60658              Diaries and notebooks of Lady Pauline  \n",
       "61826  Microfilm reels of Pauline's diaries and sketc...  \n",
       "60662         Microfilm copies of Lady Pauline's Diaries  "
      ]
     },
     "execution_count": 7,
     "metadata": {},
     "output_type": "execute_result"
    }
   ],
   "source": [
    "doc_df.tail()"
   ]
  },
  {
   "cell_type": "code",
   "execution_count": 8,
   "metadata": {},
   "outputs": [
    {
     "data": {
      "text/plain": [
       "(34225, 4)"
      ]
     },
     "execution_count": 8,
     "metadata": {},
     "output_type": "execute_result"
    }
   ],
   "source": [
    "doc_df.shape"
   ]
  },
  {
   "cell_type": "markdown",
   "metadata": {},
   "source": [
    "There are 34,225 metadata descriptions to classify for *Omission* and *Stereotype*."
   ]
  },
  {
   "cell_type": "markdown",
   "metadata": {},
   "source": [
    "### 2. Classification\n",
    "Load the baseline Omission and Stereotype Classifier (OSC)."
   ]
  },
  {
   "cell_type": "code",
   "execution_count": 9,
   "metadata": {},
   "outputs": [],
   "source": [
    "cvectorizer = joblib.load(config.baseline_osc_path+\"count_vectorizer.joblib\")\n",
    "tfidf = joblib.load(config.baseline_osc_path+\"tfidf_transformer.joblib\")\n",
    "mlb = joblib.load(config.baseline_osc_path+\"mlb_targets_so.joblib\")\n",
    "clf = joblib.load(config.baseline_osc_path+\"sgd-svm_F-tfidf_T-so.joblib\")"
   ]
  },
  {
   "cell_type": "markdown",
   "metadata": {},
   "source": [
    "Classify the descriptions."
   ]
  },
  {
   "cell_type": "code",
   "execution_count": 10,
   "metadata": {},
   "outputs": [],
   "source": [
    "vectorized = cvectorizer.transform(doc_df[\"doc\"])\n",
    "X = tfidf.transform(vectorized)\n",
    "y = clf.predict(X)"
   ]
  },
  {
   "cell_type": "code",
   "execution_count": 11,
   "metadata": {},
   "outputs": [],
   "source": [
    "predictions = mlb.inverse_transform(y)"
   ]
  },
  {
   "cell_type": "code",
   "execution_count": 12,
   "metadata": {},
   "outputs": [
    {
     "data": {
      "text/html": [
       "<div>\n",
       "<style scoped>\n",
       "    .dataframe tbody tr th:only-of-type {\n",
       "        vertical-align: middle;\n",
       "    }\n",
       "\n",
       "    .dataframe tbody tr th {\n",
       "        vertical-align: top;\n",
       "    }\n",
       "\n",
       "    .dataframe thead th {\n",
       "        text-align: right;\n",
       "    }\n",
       "</style>\n",
       "<table border=\"1\" class=\"dataframe\">\n",
       "  <thead>\n",
       "    <tr style=\"text-align: right;\">\n",
       "      <th></th>\n",
       "      <th>eadid</th>\n",
       "      <th>rowid</th>\n",
       "      <th>field</th>\n",
       "      <th>doc</th>\n",
       "      <th>prediction</th>\n",
       "    </tr>\n",
       "  </thead>\n",
       "  <tbody>\n",
       "    <tr>\n",
       "      <th>26920</th>\n",
       "      <td>BP</td>\n",
       "      <td>BP</td>\n",
       "      <td>processinfo</td>\n",
       "      <td>This EAD description created by Ruth Sheret 27...</td>\n",
       "      <td>()</td>\n",
       "    </tr>\n",
       "    <tr>\n",
       "      <th>26520</th>\n",
       "      <td>BP</td>\n",
       "      <td>BP</td>\n",
       "      <td>scopecontent</td>\n",
       "      <td>The papers of the distinguished public servant...</td>\n",
       "      <td>(Omission,)</td>\n",
       "    </tr>\n",
       "    <tr>\n",
       "      <th>25720</th>\n",
       "      <td>BP</td>\n",
       "      <td>BP</td>\n",
       "      <td>unittitle</td>\n",
       "      <td>Plowden (Lady Bridget) Archive</td>\n",
       "      <td>()</td>\n",
       "    </tr>\n",
       "    <tr>\n",
       "      <th>26521</th>\n",
       "      <td>BP</td>\n",
       "      <td>BP/01</td>\n",
       "      <td>scopecontent</td>\n",
       "      <td>Formerly the 'Working Ladies Guild', the organ...</td>\n",
       "      <td>()</td>\n",
       "    </tr>\n",
       "    <tr>\n",
       "      <th>25721</th>\n",
       "      <td>BP</td>\n",
       "      <td>BP/01</td>\n",
       "      <td>unittitle</td>\n",
       "      <td>Chairman (Managing Committee) of the Mary Fiel...</td>\n",
       "      <td>()</td>\n",
       "    </tr>\n",
       "  </tbody>\n",
       "</table>\n",
       "</div>"
      ],
      "text/plain": [
       "      eadid  rowid         field  \\\n",
       "26920    BP     BP   processinfo   \n",
       "26520    BP     BP  scopecontent   \n",
       "25720    BP     BP     unittitle   \n",
       "26521    BP  BP/01  scopecontent   \n",
       "25721    BP  BP/01     unittitle   \n",
       "\n",
       "                                                     doc   prediction  \n",
       "26920  This EAD description created by Ruth Sheret 27...           ()  \n",
       "26520  The papers of the distinguished public servant...  (Omission,)  \n",
       "25720                     Plowden (Lady Bridget) Archive           ()  \n",
       "26521  Formerly the 'Working Ladies Guild', the organ...           ()  \n",
       "25721  Chairman (Managing Committee) of the Mary Fiel...           ()  "
      ]
     },
     "execution_count": 12,
     "metadata": {},
     "output_type": "execute_result"
    }
   ],
   "source": [
    "doc_df.insert(len(doc_df.columns), \"prediction\", predictions)\n",
    "doc_df.head()"
   ]
  },
  {
   "cell_type": "code",
   "execution_count": 13,
   "metadata": {},
   "outputs": [
    {
     "data": {
      "text/plain": [
       "()                        32853\n",
       "(Omission,)                1309\n",
       "(Omission, Stereotype)       48\n",
       "(Stereotype,)                15\n",
       "Name: prediction, dtype: int64"
      ]
     },
     "execution_count": 13,
     "metadata": {},
     "output_type": "execute_result"
    }
   ],
   "source": [
    "doc_df.prediction.value_counts()"
   ]
  },
  {
   "cell_type": "markdown",
   "metadata": {},
   "source": [
    "Export the classified data."
   ]
  },
  {
   "cell_type": "code",
   "execution_count": 15,
   "metadata": {},
   "outputs": [],
   "source": [
    "filename = \"baseline_osc_predictions.csv\"\n",
    "doc_df.to_csv(config.classified_data_path+filename)"
   ]
  }
 ],
 "metadata": {
  "kernelspec": {
   "display_name": "gender-bias-env",
   "language": "python",
   "name": "python3"
  },
  "language_info": {
   "codemirror_mode": {
    "name": "ipython",
    "version": 3
   },
   "file_extension": ".py",
   "mimetype": "text/x-python",
   "name": "python",
   "nbconvert_exporter": "python",
   "pygments_lexer": "ipython3",
   "version": "3.9.20"
  }
 },
 "nbformat": 4,
 "nbformat_minor": 2
}
