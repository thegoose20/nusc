{
 "cells": [
  {
   "cell_type": "markdown",
   "metadata": {},
   "source": [
    "# Data Deduplication\n",
    "\n",
    "Remove duplicate descriptions from the exported data for manual review."
   ]
  },
  {
   "cell_type": "code",
   "execution_count": 1,
   "metadata": {},
   "outputs": [],
   "source": [
    "# Libraries for data analysis\n",
    "import pandas as pd\n",
    "import re\n",
    "\n",
    "# Custom variables\n",
    "import config\n",
    "\n",
    "# For reading and writing data\n",
    "from pathlib import Path\n",
    "import os"
   ]
  },
  {
   "cell_type": "markdown",
   "metadata": {},
   "source": [
    "### Get the Files and Directory"
   ]
  },
  {
   "cell_type": "code",
   "execution_count": 2,
   "metadata": {},
   "outputs": [
    {
     "name": "stdout",
     "output_type": "stream",
     "text": [
      "['THS_unclassified.csv', 'OBR_unclassified.csv', '.DS_Store', 'BXB_unclassified.csv', 'GB_unclassified.csv', 'WCT_unclassified.csv', 'deduplicated', 'CPT_unclassified.csv', 'SW_unclassified.csv', 'CHE_unclassified.csv', 'SH_unclassified.csv', 'HL_unclassified.csv', 'BP_unclassified.csv']\n"
     ]
    }
   ],
   "source": [
    "unclf_dir = \"data/extracted/for_review/unclassified/\"\n",
    "file_names = os.listdir(unclf_dir)\n",
    "print(file_names)"
   ]
  },
  {
   "cell_type": "code",
   "execution_count": 6,
   "metadata": {},
   "outputs": [],
   "source": [
    "# Use the dataset of extracted, standardized data to create a new, deduplicated file of Gertude Bell Archive data \n",
    "unclf_data_file = \"data/extracted/nusc_archival_descs_for_clf.csv\""
   ]
  },
  {
   "cell_type": "markdown",
   "metadata": {},
   "source": [
    "Create a directory for the deduplicated, unclassified descriptions."
   ]
  },
  {
   "cell_type": "code",
   "execution_count": 4,
   "metadata": {},
   "outputs": [],
   "source": [
    "dedup_dir = \"data/extracted/for_review/unclassified/deduplicated\"\n",
    "Path(dedup_dir).mkdir(parents=True, exist_ok=True)"
   ]
  },
  {
   "cell_type": "markdown",
   "metadata": {},
   "source": [
    "### Deduplicate the descriptions"
   ]
  },
  {
   "cell_type": "code",
   "execution_count": 5,
   "metadata": {},
   "outputs": [],
   "source": [
    "def implodeDataFrame(df, cols_to_groupby):\n",
    "    cols_to_agg = list(df.columns)\n",
    "    for col in cols_to_groupby:\n",
    "        cols_to_agg.remove(col)\n",
    "    agg_dict = dict.fromkeys(cols_to_agg, lambda x: x.tolist())\n",
    "    return df.groupby(cols_to_groupby).agg(agg_dict).reset_index().set_index(cols_to_groupby)"
   ]
  },
  {
   "cell_type": "markdown",
   "metadata": {},
   "source": [
    "First, deduplicate the EAD-formatted descriptions."
   ]
  },
  {
   "cell_type": "code",
   "execution_count": 26,
   "metadata": {},
   "outputs": [
    {
     "name": "stdout",
     "output_type": "stream",
     "text": [
      "Reading THS_unclassified.csv\n",
      "(10851, 5) (4865, 5)\n",
      "Reading OBR_unclassified.csv\n",
      "(532, 5) (455, 5)\n",
      "Reading BXB_unclassified.csv\n",
      "(10884, 5) (6137, 5)\n",
      "Reading GB_unclassified.csv\n",
      "(428, 5) (32, 5)\n",
      "Reading WCT_unclassified.csv\n",
      "(1122, 5) (1065, 5)\n",
      "Reading CPT_unclassified.csv\n",
      "(6885, 5) (4378, 5)\n",
      "Reading SW_unclassified.csv\n",
      "(2114, 5) (1642, 5)\n",
      "Reading CHE_unclassified.csv\n",
      "(268, 5) (266, 5)\n",
      "Reading SH_unclassified.csv\n",
      "(360, 5) (290, 5)\n",
      "Reading HL_unclassified.csv\n",
      "(219, 5) (211, 5)\n",
      "Reading BP_unclassified.csv\n",
      "(562, 5) (508, 5)\n",
      "Total rows: 19849\n"
     ]
    }
   ],
   "source": [
    "row_count = 0\n",
    "all_descs = []\n",
    "for f in file_names:\n",
    "    if \"_unclassified.csv\" in f:\n",
    "        print(\"Reading\", f)\n",
    "        # Read the file as a DataFrame\n",
    "        df = pd.read_csv(unclf_dir+f, index_col=0)\n",
    "\n",
    "        # Remove the empty column (where manual reviewers will make notes)\n",
    "        df = df.drop(columns=[\"gender_bias?\"])\n",
    "        imploded = implodeDataFrame(df, [\"doc\",\"eadid\"]).reset_index()\n",
    "        print(df.shape, imploded.shape)\n",
    "        row_count += imploded.shape[0]\n",
    "        all_descs += list(imploded[\"doc\"])\n",
    "        assert imploded.shape[0] < df.shape[0], \"There should be fewer rows in the DataFrame after imploding it.\"\n",
    "\n",
    "        # Add a new empty column for manual reviewers to record their notes\n",
    "        empty_col = [\"\"]*imploded.shape[0]\n",
    "        imploded.insert(len(imploded.columns), \"gender_bias?\", empty_col)\n",
    "        \n",
    "        # Reorder the columns\n",
    "        imploded = imploded[[\"doc\", \"gender_bias?\", \"eadid\", \"description_id\", \"rowid\", \"field\"]]\n",
    "\n",
    "        # Write the imploded DataFrame into the newly created directory\n",
    "        imploded.to_csv(dedup_dir+\"/\"+f)\n",
    "print(\"Total rows:\", row_count)"
   ]
  },
  {
   "cell_type": "code",
   "execution_count": 23,
   "metadata": {},
   "outputs": [
    {
     "name": "stdout",
     "output_type": "stream",
     "text": [
      "['THS_unclassified.csv', 'OBR_unclassified.csv', 'BXB_unclassified.csv', 'GB_unclassified.csv', 'WCT_unclassified.csv', 'CPT_unclassified.csv', 'SW_unclassified.csv', 'CHE_unclassified.csv', 'SH_unclassified.csv', 'HL_unclassified.csv', 'BP_unclassified.csv']\n"
     ]
    }
   ],
   "source": [
    "print(os.listdir(dedup_dir))"
   ]
  },
  {
   "cell_type": "code",
   "execution_count": null,
   "metadata": {},
   "outputs": [
    {
     "name": "stdout",
     "output_type": "stream",
     "text": [
      "Total words: 2188536\n"
     ]
    }
   ],
   "source": [
    "word_count = 0\n",
    "for desc in all_descs:\n",
    "    word_count += len(desc)\n",
    "print(\"Total words:\", word_count)  # about 2 million"
   ]
  },
  {
   "cell_type": "markdown",
   "metadata": {},
   "source": [
    "Next, deduplicate the custom formatted descriptions (for the Gertrude Bell Archive)."
   ]
  },
  {
   "cell_type": "code",
   "execution_count": 10,
   "metadata": {},
   "outputs": [
    {
     "name": "stdout",
     "output_type": "stream",
     "text": [
      "(24150, 5)\n"
     ]
    },
    {
     "data": {
      "text/html": [
       "<div>\n",
       "<style scoped>\n",
       "    .dataframe tbody tr th:only-of-type {\n",
       "        vertical-align: middle;\n",
       "    }\n",
       "\n",
       "    .dataframe tbody tr th {\n",
       "        vertical-align: top;\n",
       "    }\n",
       "\n",
       "    .dataframe thead th {\n",
       "        text-align: right;\n",
       "    }\n",
       "</style>\n",
       "<table border=\"1\" class=\"dataframe\">\n",
       "  <thead>\n",
       "    <tr style=\"text-align: right;\">\n",
       "      <th></th>\n",
       "      <th>description_id</th>\n",
       "      <th>eadid</th>\n",
       "      <th>rowid</th>\n",
       "      <th>field</th>\n",
       "      <th>doc</th>\n",
       "    </tr>\n",
       "  </thead>\n",
       "  <tbody>\n",
       "    <tr>\n",
       "      <th>18599</th>\n",
       "      <td>18599</td>\n",
       "      <td>GB</td>\n",
       "      <td>69571</td>\n",
       "      <td>extent-and-medium</td>\n",
       "      <td>1 letter, paper</td>\n",
       "    </tr>\n",
       "    <tr>\n",
       "      <th>18600</th>\n",
       "      <td>18600</td>\n",
       "      <td>GB</td>\n",
       "      <td>69571</td>\n",
       "      <td>title</td>\n",
       "      <td>Letter from Gertrude Bell to her stepmother, D...</td>\n",
       "    </tr>\n",
       "    <tr>\n",
       "      <th>18601</th>\n",
       "      <td>18601</td>\n",
       "      <td>GB</td>\n",
       "      <td>69572</td>\n",
       "      <td>extent-and-medium</td>\n",
       "      <td>1 letter plus envelope, paper</td>\n",
       "    </tr>\n",
       "    <tr>\n",
       "      <th>18602</th>\n",
       "      <td>18602</td>\n",
       "      <td>GB</td>\n",
       "      <td>69572</td>\n",
       "      <td>title</td>\n",
       "      <td>Letter from Gertrude Bell to her stepmother, D...</td>\n",
       "    </tr>\n",
       "    <tr>\n",
       "      <th>18603</th>\n",
       "      <td>18603</td>\n",
       "      <td>GB</td>\n",
       "      <td>69573</td>\n",
       "      <td>extent-and-medium</td>\n",
       "      <td>1 letter, paper</td>\n",
       "    </tr>\n",
       "  </tbody>\n",
       "</table>\n",
       "</div>"
      ],
      "text/plain": [
       "       description_id eadid  rowid              field  \\\n",
       "18599           18599    GB  69571  extent-and-medium   \n",
       "18600           18600    GB  69571              title   \n",
       "18601           18601    GB  69572  extent-and-medium   \n",
       "18602           18602    GB  69572              title   \n",
       "18603           18603    GB  69573  extent-and-medium   \n",
       "\n",
       "                                                     doc  \n",
       "18599                                    1 letter, paper  \n",
       "18600  Letter from Gertrude Bell to her stepmother, D...  \n",
       "18601                      1 letter plus envelope, paper  \n",
       "18602  Letter from Gertrude Bell to her stepmother, D...  \n",
       "18603                                    1 letter, paper  "
      ]
     },
     "execution_count": 10,
     "metadata": {},
     "output_type": "execute_result"
    }
   ],
   "source": [
    "df = pd.read_csv(unclf_data_file, index_col=0)\n",
    "df = df.loc[df.eadid == \"GB\"]\n",
    "print(df.shape)\n",
    "df.head()\n"
   ]
  },
  {
   "cell_type": "code",
   "execution_count": null,
   "metadata": {},
   "outputs": [
    {
     "name": "stdout",
     "output_type": "stream",
     "text": [
      "(24150, 5) (7418, 5)\n",
      "Total rows: 7418\n"
     ]
    }
   ],
   "source": [
    "# Implode the DataFrame of Bell descriptions, grouping the data by doc (description)\n",
    "imploded = implodeDataFrame(df, [\"doc\",\"eadid\"]).reset_index()\n",
    "print(df.shape, imploded.shape)\n",
    "row_count = imploded.shape[0]\n",
    "all_descs = list(imploded[\"doc\"])\n",
    "assert imploded.shape[0] < df.shape[0], \"There should be fewer rows in the DataFrame after imploding it.\"\n",
    "\n",
    "# Add a new empty column for manual reviewers to record their notes\n",
    "empty_col = [\"\"]*imploded.shape[0]\n",
    "imploded.insert(len(imploded.columns), \"gender_bias?\", empty_col)\n",
    "\n",
    "# Reorder the columns\n",
    "imploded = imploded[[\"doc\", \"gender_bias?\", \"eadid\", \"description_id\", \"rowid\", \"field\"]]\n",
    "\n",
    "print(\"Total rows:\", row_count)"
   ]
  },
  {
   "cell_type": "code",
   "execution_count": 13,
   "metadata": {},
   "outputs": [
    {
     "name": "stdout",
     "output_type": "stream",
     "text": [
      "Total words: 601452\n"
     ]
    }
   ],
   "source": [
    "word_count = 0\n",
    "for desc in all_descs:\n",
    "    word_count += len(desc)\n",
    "print(\"Total words:\", word_count)  # about 60k, making the grand total about 2.7 million words (2188536 + 601452 = 2789988)"
   ]
  },
  {
   "cell_type": "code",
   "execution_count": 16,
   "metadata": {},
   "outputs": [
    {
     "data": {
      "text/html": [
       "<div>\n",
       "<style scoped>\n",
       "    .dataframe tbody tr th:only-of-type {\n",
       "        vertical-align: middle;\n",
       "    }\n",
       "\n",
       "    .dataframe tbody tr th {\n",
       "        vertical-align: top;\n",
       "    }\n",
       "\n",
       "    .dataframe thead th {\n",
       "        text-align: right;\n",
       "    }\n",
       "</style>\n",
       "<table border=\"1\" class=\"dataframe\">\n",
       "  <thead>\n",
       "    <tr style=\"text-align: right;\">\n",
       "      <th></th>\n",
       "      <th>doc</th>\n",
       "      <th>gender_bias?</th>\n",
       "      <th>eadid</th>\n",
       "      <th>description_id</th>\n",
       "      <th>rowid</th>\n",
       "      <th>field</th>\n",
       "    </tr>\n",
       "  </thead>\n",
       "  <tbody>\n",
       "    <tr>\n",
       "      <th>0</th>\n",
       "      <td>\"Charonion,\" Head Of A Sphinx - Rock Cut Sculp...</td>\n",
       "      <td></td>\n",
       "      <td>GB</td>\n",
       "      <td>[39609, 39611, 39661]</td>\n",
       "      <td>[116041, 116042, 116067]</td>\n",
       "      <td>[description, description, description]</td>\n",
       "    </tr>\n",
       "    <tr>\n",
       "      <th>1</th>\n",
       "      <td>\"Gate Of The Winds\" Triumphal Arch. Nejib And ...</td>\n",
       "      <td></td>\n",
       "      <td>GB</td>\n",
       "      <td>[36388]</td>\n",
       "      <td>[114427]</td>\n",
       "      <td>[description]</td>\n",
       "    </tr>\n",
       "    <tr>\n",
       "      <th>2</th>\n",
       "      <td>\"The Spring Of The Deer\". Men, Camels And Hors...</td>\n",
       "      <td></td>\n",
       "      <td>GB</td>\n",
       "      <td>[34903]</td>\n",
       "      <td>[113682]</td>\n",
       "      <td>[description]</td>\n",
       "    </tr>\n",
       "    <tr>\n",
       "      <th>3</th>\n",
       "      <td>\"Throne Of Nimrud\" - Corinthian Column Thought...</td>\n",
       "      <td></td>\n",
       "      <td>GB</td>\n",
       "      <td>[38925]</td>\n",
       "      <td>[115698]</td>\n",
       "      <td>[description]</td>\n",
       "    </tr>\n",
       "    <tr>\n",
       "      <th>4</th>\n",
       "      <td>\"Throne Of Nimrud\" - Two Corinthian Columns Th...</td>\n",
       "      <td></td>\n",
       "      <td>GB</td>\n",
       "      <td>[38921]</td>\n",
       "      <td>[115696]</td>\n",
       "      <td>[description]</td>\n",
       "    </tr>\n",
       "  </tbody>\n",
       "</table>\n",
       "</div>"
      ],
      "text/plain": [
       "                                                 doc gender_bias? eadid  \\\n",
       "0  \"Charonion,\" Head Of A Sphinx - Rock Cut Sculp...                 GB   \n",
       "1  \"Gate Of The Winds\" Triumphal Arch. Nejib And ...                 GB   \n",
       "2  \"The Spring Of The Deer\". Men, Camels And Hors...                 GB   \n",
       "3  \"Throne Of Nimrud\" - Corinthian Column Thought...                 GB   \n",
       "4  \"Throne Of Nimrud\" - Two Corinthian Columns Th...                 GB   \n",
       "\n",
       "          description_id                     rowid  \\\n",
       "0  [39609, 39611, 39661]  [116041, 116042, 116067]   \n",
       "1                [36388]                  [114427]   \n",
       "2                [34903]                  [113682]   \n",
       "3                [38925]                  [115698]   \n",
       "4                [38921]                  [115696]   \n",
       "\n",
       "                                     field  \n",
       "0  [description, description, description]  \n",
       "1                            [description]  \n",
       "2                            [description]  \n",
       "3                            [description]  \n",
       "4                            [description]  "
      ]
     },
     "execution_count": 16,
     "metadata": {},
     "output_type": "execute_result"
    }
   ],
   "source": [
    "imploded.head()"
   ]
  },
  {
   "cell_type": "code",
   "execution_count": 20,
   "metadata": {},
   "outputs": [],
   "source": [
    "# Write the imploded DataFrame into the newly created directory\n",
    "imploded.to_csv(dedup_dir+\"/\"+\"GB_unclassified.csv\")"
   ]
  }
 ],
 "metadata": {
  "kernelspec": {
   "display_name": "nusc",
   "language": "python",
   "name": "python3"
  },
  "language_info": {
   "codemirror_mode": {
    "name": "ipython",
    "version": 3
   },
   "file_extension": ".py",
   "mimetype": "text/x-python",
   "name": "python",
   "nbconvert_exporter": "python",
   "pygments_lexer": "ipython3",
   "version": "3.12.2"
  }
 },
 "nbformat": 4,
 "nbformat_minor": 2
}
