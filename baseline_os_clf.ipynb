{
 "cells": [
  {
   "cell_type": "markdown",
   "metadata": {},
   "source": [
    "# Classification\n",
    "\n",
    "## Baseline Omission and Stereotype Classifier"
   ]
  },
  {
   "cell_type": "code",
   "execution_count": 3,
   "metadata": {},
   "outputs": [],
   "source": [
    "import config, clf_utils\n",
    "import re\n",
    "import pandas as pd\n",
    "import joblib\n",
    "from joblib import load\n",
    "from sklearn.multiclass import OneVsRestClassifier\n",
    "from sklearn.linear_model import SGDClassifier\n",
    "from sklearn.preprocessing import MultiLabelBinarizer\n",
    "from sklearn.feature_extraction.text import CountVectorizer, TfidfTransformer\n",
    "from sklearn.metrics import multilabel_confusion_matrix\n",
    "from sklearn.metrics import precision_recall_fscore_support\n"
   ]
  },
  {
   "cell_type": "markdown",
   "metadata": {},
   "source": [
    "### 1. Preprocessing\n",
    "\n",
    "Load the extracted archival metadata from the Newcastle University Special Collections catalog."
   ]
  },
  {
   "cell_type": "code",
   "execution_count": 4,
   "metadata": {},
   "outputs": [
    {
     "data": {
      "text/html": [
       "<div>\n",
       "<style scoped>\n",
       "    .dataframe tbody tr th:only-of-type {\n",
       "        vertical-align: middle;\n",
       "    }\n",
       "\n",
       "    .dataframe tbody tr th {\n",
       "        vertical-align: top;\n",
       "    }\n",
       "\n",
       "    .dataframe thead th {\n",
       "        text-align: right;\n",
       "    }\n",
       "</style>\n",
       "<table border=\"1\" class=\"dataframe\">\n",
       "  <thead>\n",
       "    <tr style=\"text-align: right;\">\n",
       "      <th></th>\n",
       "      <th>description_id</th>\n",
       "      <th>eadid</th>\n",
       "      <th>rowid</th>\n",
       "      <th>field</th>\n",
       "      <th>doc</th>\n",
       "    </tr>\n",
       "  </thead>\n",
       "  <tbody>\n",
       "    <tr>\n",
       "      <th>0</th>\n",
       "      <td>0</td>\n",
       "      <td>BP</td>\n",
       "      <td>BP</td>\n",
       "      <td>processinfo</td>\n",
       "      <td>This EAD description created by Ruth Sheret 27...</td>\n",
       "    </tr>\n",
       "    <tr>\n",
       "      <th>1</th>\n",
       "      <td>1</td>\n",
       "      <td>BP</td>\n",
       "      <td>BP</td>\n",
       "      <td>scopecontent</td>\n",
       "      <td>The papers of the distinguished public servant...</td>\n",
       "    </tr>\n",
       "    <tr>\n",
       "      <th>2</th>\n",
       "      <td>2</td>\n",
       "      <td>BP</td>\n",
       "      <td>BP</td>\n",
       "      <td>unittitle</td>\n",
       "      <td>Plowden (Lady Bridget) Archive</td>\n",
       "    </tr>\n",
       "    <tr>\n",
       "      <th>3</th>\n",
       "      <td>3</td>\n",
       "      <td>BP</td>\n",
       "      <td>BP/01</td>\n",
       "      <td>scopecontent</td>\n",
       "      <td>Formerly the 'Working Ladies Guild', the organ...</td>\n",
       "    </tr>\n",
       "    <tr>\n",
       "      <th>4</th>\n",
       "      <td>4</td>\n",
       "      <td>BP</td>\n",
       "      <td>BP/01</td>\n",
       "      <td>unittitle</td>\n",
       "      <td>Chairman (Managing Committee) of the Mary Fiel...</td>\n",
       "    </tr>\n",
       "  </tbody>\n",
       "</table>\n",
       "</div>"
      ],
      "text/plain": [
       "   description_id eadid  rowid         field  \\\n",
       "0               0    BP     BP   processinfo   \n",
       "1               1    BP     BP  scopecontent   \n",
       "2               2    BP     BP     unittitle   \n",
       "3               3    BP  BP/01  scopecontent   \n",
       "4               4    BP  BP/01     unittitle   \n",
       "\n",
       "                                                 doc  \n",
       "0  This EAD description created by Ruth Sheret 27...  \n",
       "1  The papers of the distinguished public servant...  \n",
       "2                     Plowden (Lady Bridget) Archive  \n",
       "3  Formerly the 'Working Ladies Guild', the organ...  \n",
       "4  Chairman (Managing Committee) of the Mary Fiel...  "
      ]
     },
     "execution_count": 4,
     "metadata": {},
     "output_type": "execute_result"
    }
   ],
   "source": [
    "extracted_dir = \"data/extracted/\"\n",
    "doc_df = pd.read_csv(extracted_dir+\"nusc_archival_descs_for_clf.csv\", index_col=0)\n",
    "doc_df.head()\n"
   ]
  },
  {
   "cell_type": "code",
   "execution_count": 5,
   "metadata": {},
   "outputs": [
    {
     "data": {
      "text/html": [
       "<div>\n",
       "<style scoped>\n",
       "    .dataframe tbody tr th:only-of-type {\n",
       "        vertical-align: middle;\n",
       "    }\n",
       "\n",
       "    .dataframe tbody tr th {\n",
       "        vertical-align: top;\n",
       "    }\n",
       "\n",
       "    .dataframe thead th {\n",
       "        text-align: right;\n",
       "    }\n",
       "</style>\n",
       "<table border=\"1\" class=\"dataframe\">\n",
       "  <thead>\n",
       "    <tr style=\"text-align: right;\">\n",
       "      <th></th>\n",
       "      <th>description_id</th>\n",
       "      <th>eadid</th>\n",
       "      <th>rowid</th>\n",
       "      <th>field</th>\n",
       "      <th>doc</th>\n",
       "    </tr>\n",
       "  </thead>\n",
       "  <tbody>\n",
       "    <tr>\n",
       "      <th>57942</th>\n",
       "      <td>57942</td>\n",
       "      <td>WCT</td>\n",
       "      <td>WCT/8</td>\n",
       "      <td>unittitle</td>\n",
       "      <td>Diaries</td>\n",
       "    </tr>\n",
       "    <tr>\n",
       "      <th>57943</th>\n",
       "      <td>57943</td>\n",
       "      <td>WCT</td>\n",
       "      <td>WCT/9</td>\n",
       "      <td>scopecontent</td>\n",
       "      <td>Personal diaries and notebooks.</td>\n",
       "    </tr>\n",
       "    <tr>\n",
       "      <th>57944</th>\n",
       "      <td>57944</td>\n",
       "      <td>WCT</td>\n",
       "      <td>WCT/9</td>\n",
       "      <td>unittitle</td>\n",
       "      <td>Diaries and notebooks of Lady Pauline</td>\n",
       "    </tr>\n",
       "    <tr>\n",
       "      <th>57945</th>\n",
       "      <td>57945</td>\n",
       "      <td>WCT</td>\n",
       "      <td>WCT/9/4</td>\n",
       "      <td>scopecontent</td>\n",
       "      <td>Microfilm reels of Pauline's diaries and sketc...</td>\n",
       "    </tr>\n",
       "    <tr>\n",
       "      <th>57946</th>\n",
       "      <td>57946</td>\n",
       "      <td>WCT</td>\n",
       "      <td>WCT/9/4</td>\n",
       "      <td>unittitle</td>\n",
       "      <td>Microfilm copies of Lady Pauline's Diaries</td>\n",
       "    </tr>\n",
       "  </tbody>\n",
       "</table>\n",
       "</div>"
      ],
      "text/plain": [
       "       description_id eadid    rowid         field  \\\n",
       "57942           57942   WCT    WCT/8     unittitle   \n",
       "57943           57943   WCT    WCT/9  scopecontent   \n",
       "57944           57944   WCT    WCT/9     unittitle   \n",
       "57945           57945   WCT  WCT/9/4  scopecontent   \n",
       "57946           57946   WCT  WCT/9/4     unittitle   \n",
       "\n",
       "                                                     doc  \n",
       "57942                                            Diaries  \n",
       "57943                    Personal diaries and notebooks.  \n",
       "57944              Diaries and notebooks of Lady Pauline  \n",
       "57945  Microfilm reels of Pauline's diaries and sketc...  \n",
       "57946         Microfilm copies of Lady Pauline's Diaries  "
      ]
     },
     "execution_count": 5,
     "metadata": {},
     "output_type": "execute_result"
    }
   ],
   "source": [
    "doc_df.tail()"
   ]
  },
  {
   "cell_type": "code",
   "execution_count": 6,
   "metadata": {},
   "outputs": [
    {
     "data": {
      "text/plain": [
       "(57947, 5)"
      ]
     },
     "execution_count": 6,
     "metadata": {},
     "output_type": "execute_result"
    }
   ],
   "source": [
    "doc_df.shape  # complete Bell Archive metadata added about 25k more descriptions"
   ]
  },
  {
   "cell_type": "markdown",
   "metadata": {},
   "source": [
    "There are 57,947 metadata descriptions to classify for *Omission* and *Stereotype*."
   ]
  },
  {
   "cell_type": "markdown",
   "metadata": {},
   "source": [
    "### 2. Classification\n",
    "Load the baseline Omission and Stereotype Classifier (OSC)."
   ]
  },
  {
   "cell_type": "code",
   "execution_count": 7,
   "metadata": {},
   "outputs": [],
   "source": [
    "cvectorizer = joblib.load(\"models/transform_docs/count_vectorizer.joblib\")\n",
    "tfidf = joblib.load(\"models/transform_docs/tfidf_transformer.joblib\")\n",
    "mlb = joblib.load(\"models/transform_labels/mlb_targets_os.joblib\")\n",
    "clf = joblib.load(\"models/baseline_osc/sgd-svm_F-tfidf_T-os.joblib\")"
   ]
  },
  {
   "cell_type": "markdown",
   "metadata": {},
   "source": [
    "Classify the descriptions."
   ]
  },
  {
   "cell_type": "code",
   "execution_count": 8,
   "metadata": {},
   "outputs": [],
   "source": [
    "vectorized = cvectorizer.transform(doc_df[\"doc\"])\n",
    "X = tfidf.transform(vectorized)\n",
    "y = clf.predict(X)"
   ]
  },
  {
   "cell_type": "code",
   "execution_count": 9,
   "metadata": {},
   "outputs": [],
   "source": [
    "predictions = mlb.inverse_transform(y)"
   ]
  },
  {
   "cell_type": "code",
   "execution_count": 10,
   "metadata": {},
   "outputs": [
    {
     "data": {
      "text/html": [
       "<div>\n",
       "<style scoped>\n",
       "    .dataframe tbody tr th:only-of-type {\n",
       "        vertical-align: middle;\n",
       "    }\n",
       "\n",
       "    .dataframe tbody tr th {\n",
       "        vertical-align: top;\n",
       "    }\n",
       "\n",
       "    .dataframe thead th {\n",
       "        text-align: right;\n",
       "    }\n",
       "</style>\n",
       "<table border=\"1\" class=\"dataframe\">\n",
       "  <thead>\n",
       "    <tr style=\"text-align: right;\">\n",
       "      <th></th>\n",
       "      <th>description_id</th>\n",
       "      <th>eadid</th>\n",
       "      <th>rowid</th>\n",
       "      <th>field</th>\n",
       "      <th>doc</th>\n",
       "      <th>prediction</th>\n",
       "    </tr>\n",
       "  </thead>\n",
       "  <tbody>\n",
       "    <tr>\n",
       "      <th>0</th>\n",
       "      <td>0</td>\n",
       "      <td>BP</td>\n",
       "      <td>BP</td>\n",
       "      <td>processinfo</td>\n",
       "      <td>This EAD description created by Ruth Sheret 27...</td>\n",
       "      <td>()</td>\n",
       "    </tr>\n",
       "    <tr>\n",
       "      <th>1</th>\n",
       "      <td>1</td>\n",
       "      <td>BP</td>\n",
       "      <td>BP</td>\n",
       "      <td>scopecontent</td>\n",
       "      <td>The papers of the distinguished public servant...</td>\n",
       "      <td>()</td>\n",
       "    </tr>\n",
       "    <tr>\n",
       "      <th>2</th>\n",
       "      <td>2</td>\n",
       "      <td>BP</td>\n",
       "      <td>BP</td>\n",
       "      <td>unittitle</td>\n",
       "      <td>Plowden (Lady Bridget) Archive</td>\n",
       "      <td>()</td>\n",
       "    </tr>\n",
       "    <tr>\n",
       "      <th>3</th>\n",
       "      <td>3</td>\n",
       "      <td>BP</td>\n",
       "      <td>BP/01</td>\n",
       "      <td>scopecontent</td>\n",
       "      <td>Formerly the 'Working Ladies Guild', the organ...</td>\n",
       "      <td>()</td>\n",
       "    </tr>\n",
       "    <tr>\n",
       "      <th>4</th>\n",
       "      <td>4</td>\n",
       "      <td>BP</td>\n",
       "      <td>BP/01</td>\n",
       "      <td>unittitle</td>\n",
       "      <td>Chairman (Managing Committee) of the Mary Fiel...</td>\n",
       "      <td>()</td>\n",
       "    </tr>\n",
       "  </tbody>\n",
       "</table>\n",
       "</div>"
      ],
      "text/plain": [
       "   description_id eadid  rowid         field  \\\n",
       "0               0    BP     BP   processinfo   \n",
       "1               1    BP     BP  scopecontent   \n",
       "2               2    BP     BP     unittitle   \n",
       "3               3    BP  BP/01  scopecontent   \n",
       "4               4    BP  BP/01     unittitle   \n",
       "\n",
       "                                                 doc prediction  \n",
       "0  This EAD description created by Ruth Sheret 27...         ()  \n",
       "1  The papers of the distinguished public servant...         ()  \n",
       "2                     Plowden (Lady Bridget) Archive         ()  \n",
       "3  Formerly the 'Working Ladies Guild', the organ...         ()  \n",
       "4  Chairman (Managing Committee) of the Mary Fiel...         ()  "
      ]
     },
     "execution_count": 10,
     "metadata": {},
     "output_type": "execute_result"
    }
   ],
   "source": [
    "doc_df.insert(len(doc_df.columns), \"prediction\", predictions)\n",
    "doc_df.head()"
   ]
  },
  {
   "cell_type": "code",
   "execution_count": 11,
   "metadata": {},
   "outputs": [
    {
     "data": {
      "text/plain": [
       "()                        55235\n",
       "(Omission,)                1489\n",
       "(Omission, Stereotype)      909\n",
       "(Stereotype,)               314\n",
       "Name: prediction, dtype: int64"
      ]
     },
     "execution_count": 11,
     "metadata": {},
     "output_type": "execute_result"
    }
   ],
   "source": [
    "doc_df.prediction.value_counts()"
   ]
  },
  {
   "cell_type": "code",
   "execution_count": 13,
   "metadata": {},
   "outputs": [
    {
     "name": "stdout",
     "output_type": "stream",
     "text": [
      "Proportion of descriptions classified: 0.04909930297818412\n"
     ]
    }
   ],
   "source": [
    "print(\"Proportion of descriptions classified:\", (1489+909+314)/55235)  # about 5%"
   ]
  },
  {
   "cell_type": "markdown",
   "metadata": {},
   "source": [
    "Export the classified data."
   ]
  },
  {
   "cell_type": "code",
   "execution_count": 12,
   "metadata": {},
   "outputs": [],
   "source": [
    "filename = \"baseline_osc_predictions.csv\"\n",
    "doc_df.to_csv(config.classified_data_path+filename)"
   ]
  },
  {
   "cell_type": "code",
   "execution_count": null,
   "metadata": {},
   "outputs": [],
   "source": []
  }
 ],
 "metadata": {
  "kernelspec": {
   "display_name": "gender-bias-env",
   "language": "python",
   "name": "python3"
  },
  "language_info": {
   "codemirror_mode": {
    "name": "ipython",
    "version": 3
   },
   "file_extension": ".py",
   "mimetype": "text/x-python",
   "name": "python",
   "nbconvert_exporter": "python",
   "pygments_lexer": "ipython3",
   "version": "3.9.20"
  }
 },
 "nbformat": 4,
 "nbformat_minor": 2
}
