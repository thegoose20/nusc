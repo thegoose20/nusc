{
 "cells": [
  {
   "cell_type": "markdown",
   "metadata": {},
   "source": [
    "# Classification\n",
    "\n",
    "## Baseline Omission and Stereotype Classifier"
   ]
  },
  {
   "cell_type": "code",
   "execution_count": 62,
   "metadata": {},
   "outputs": [],
   "source": [
    "import config, clf_utils\n",
    "import re\n",
    "import random\n",
    "import numpy as np\n",
    "import pandas as pd\n",
    "from pathlib import Path\n",
    "import joblib\n",
    "from joblib import load\n",
    "from nltk.tokenize import word_tokenize\n",
    "from sklearn.multiclass import OneVsRestClassifier\n",
    "from sklearn.linear_model import SGDClassifier\n",
    "from sklearn.preprocessing import MultiLabelBinarizer\n",
    "from sklearn.feature_extraction.text import CountVectorizer, TfidfTransformer\n",
    "from sklearn.metrics import multilabel_confusion_matrix\n",
    "from sklearn.metrics import precision_recall_fscore_support\n"
   ]
  },
  {
   "cell_type": "markdown",
   "metadata": {},
   "source": [
    "### 1. Preprocessing\n",
    "\n",
    "Load the extracted archival metadata from the Newcastle University Special Collections catalog."
   ]
  },
  {
   "cell_type": "code",
   "execution_count": 4,
   "metadata": {},
   "outputs": [
    {
     "data": {
      "text/html": [
       "<div>\n",
       "<style scoped>\n",
       "    .dataframe tbody tr th:only-of-type {\n",
       "        vertical-align: middle;\n",
       "    }\n",
       "\n",
       "    .dataframe tbody tr th {\n",
       "        vertical-align: top;\n",
       "    }\n",
       "\n",
       "    .dataframe thead th {\n",
       "        text-align: right;\n",
       "    }\n",
       "</style>\n",
       "<table border=\"1\" class=\"dataframe\">\n",
       "  <thead>\n",
       "    <tr style=\"text-align: right;\">\n",
       "      <th></th>\n",
       "      <th>description_id</th>\n",
       "      <th>eadid</th>\n",
       "      <th>rowid</th>\n",
       "      <th>field</th>\n",
       "      <th>doc</th>\n",
       "    </tr>\n",
       "  </thead>\n",
       "  <tbody>\n",
       "    <tr>\n",
       "      <th>0</th>\n",
       "      <td>0</td>\n",
       "      <td>BP</td>\n",
       "      <td>BP</td>\n",
       "      <td>processinfo</td>\n",
       "      <td>This EAD description created by Ruth Sheret 27...</td>\n",
       "    </tr>\n",
       "    <tr>\n",
       "      <th>1</th>\n",
       "      <td>1</td>\n",
       "      <td>BP</td>\n",
       "      <td>BP</td>\n",
       "      <td>scopecontent</td>\n",
       "      <td>The papers of the distinguished public servant...</td>\n",
       "    </tr>\n",
       "    <tr>\n",
       "      <th>2</th>\n",
       "      <td>2</td>\n",
       "      <td>BP</td>\n",
       "      <td>BP</td>\n",
       "      <td>unittitle</td>\n",
       "      <td>Plowden (Lady Bridget) Archive</td>\n",
       "    </tr>\n",
       "    <tr>\n",
       "      <th>3</th>\n",
       "      <td>3</td>\n",
       "      <td>BP</td>\n",
       "      <td>BP/01</td>\n",
       "      <td>scopecontent</td>\n",
       "      <td>Formerly the 'Working Ladies Guild', the organ...</td>\n",
       "    </tr>\n",
       "    <tr>\n",
       "      <th>4</th>\n",
       "      <td>4</td>\n",
       "      <td>BP</td>\n",
       "      <td>BP/01</td>\n",
       "      <td>unittitle</td>\n",
       "      <td>Chairman (Managing Committee) of the Mary Fiel...</td>\n",
       "    </tr>\n",
       "  </tbody>\n",
       "</table>\n",
       "</div>"
      ],
      "text/plain": [
       "   description_id eadid  rowid         field  \\\n",
       "0               0    BP     BP   processinfo   \n",
       "1               1    BP     BP  scopecontent   \n",
       "2               2    BP     BP     unittitle   \n",
       "3               3    BP  BP/01  scopecontent   \n",
       "4               4    BP  BP/01     unittitle   \n",
       "\n",
       "                                                 doc  \n",
       "0  This EAD description created by Ruth Sheret 27...  \n",
       "1  The papers of the distinguished public servant...  \n",
       "2                     Plowden (Lady Bridget) Archive  \n",
       "3  Formerly the 'Working Ladies Guild', the organ...  \n",
       "4  Chairman (Managing Committee) of the Mary Fiel...  "
      ]
     },
     "execution_count": 4,
     "metadata": {},
     "output_type": "execute_result"
    }
   ],
   "source": [
    "extracted_dir = \"data/extracted/\"\n",
    "doc_df = pd.read_csv(extracted_dir+\"nusc_archival_descs_for_clf.csv\", index_col=0)\n",
    "doc_df.head()\n"
   ]
  },
  {
   "cell_type": "code",
   "execution_count": 5,
   "metadata": {},
   "outputs": [
    {
     "data": {
      "text/html": [
       "<div>\n",
       "<style scoped>\n",
       "    .dataframe tbody tr th:only-of-type {\n",
       "        vertical-align: middle;\n",
       "    }\n",
       "\n",
       "    .dataframe tbody tr th {\n",
       "        vertical-align: top;\n",
       "    }\n",
       "\n",
       "    .dataframe thead th {\n",
       "        text-align: right;\n",
       "    }\n",
       "</style>\n",
       "<table border=\"1\" class=\"dataframe\">\n",
       "  <thead>\n",
       "    <tr style=\"text-align: right;\">\n",
       "      <th></th>\n",
       "      <th>description_id</th>\n",
       "      <th>eadid</th>\n",
       "      <th>rowid</th>\n",
       "      <th>field</th>\n",
       "      <th>doc</th>\n",
       "    </tr>\n",
       "  </thead>\n",
       "  <tbody>\n",
       "    <tr>\n",
       "      <th>57942</th>\n",
       "      <td>57942</td>\n",
       "      <td>WCT</td>\n",
       "      <td>WCT/8</td>\n",
       "      <td>unittitle</td>\n",
       "      <td>Diaries</td>\n",
       "    </tr>\n",
       "    <tr>\n",
       "      <th>57943</th>\n",
       "      <td>57943</td>\n",
       "      <td>WCT</td>\n",
       "      <td>WCT/9</td>\n",
       "      <td>scopecontent</td>\n",
       "      <td>Personal diaries and notebooks.</td>\n",
       "    </tr>\n",
       "    <tr>\n",
       "      <th>57944</th>\n",
       "      <td>57944</td>\n",
       "      <td>WCT</td>\n",
       "      <td>WCT/9</td>\n",
       "      <td>unittitle</td>\n",
       "      <td>Diaries and notebooks of Lady Pauline</td>\n",
       "    </tr>\n",
       "    <tr>\n",
       "      <th>57945</th>\n",
       "      <td>57945</td>\n",
       "      <td>WCT</td>\n",
       "      <td>WCT/9/4</td>\n",
       "      <td>scopecontent</td>\n",
       "      <td>Microfilm reels of Pauline's diaries and sketc...</td>\n",
       "    </tr>\n",
       "    <tr>\n",
       "      <th>57946</th>\n",
       "      <td>57946</td>\n",
       "      <td>WCT</td>\n",
       "      <td>WCT/9/4</td>\n",
       "      <td>unittitle</td>\n",
       "      <td>Microfilm copies of Lady Pauline's Diaries</td>\n",
       "    </tr>\n",
       "  </tbody>\n",
       "</table>\n",
       "</div>"
      ],
      "text/plain": [
       "       description_id eadid    rowid         field  \\\n",
       "57942           57942   WCT    WCT/8     unittitle   \n",
       "57943           57943   WCT    WCT/9  scopecontent   \n",
       "57944           57944   WCT    WCT/9     unittitle   \n",
       "57945           57945   WCT  WCT/9/4  scopecontent   \n",
       "57946           57946   WCT  WCT/9/4     unittitle   \n",
       "\n",
       "                                                     doc  \n",
       "57942                                            Diaries  \n",
       "57943                    Personal diaries and notebooks.  \n",
       "57944              Diaries and notebooks of Lady Pauline  \n",
       "57945  Microfilm reels of Pauline's diaries and sketc...  \n",
       "57946         Microfilm copies of Lady Pauline's Diaries  "
      ]
     },
     "execution_count": 5,
     "metadata": {},
     "output_type": "execute_result"
    }
   ],
   "source": [
    "doc_df.tail()"
   ]
  },
  {
   "cell_type": "code",
   "execution_count": 6,
   "metadata": {},
   "outputs": [
    {
     "data": {
      "text/plain": [
       "(57947, 5)"
      ]
     },
     "execution_count": 6,
     "metadata": {},
     "output_type": "execute_result"
    }
   ],
   "source": [
    "doc_df.shape  # complete Bell Archive metadata added about 25k more descriptions"
   ]
  },
  {
   "cell_type": "markdown",
   "metadata": {},
   "source": [
    "There are 57,947 metadata descriptions to classify for *Omission* and *Stereotype*."
   ]
  },
  {
   "cell_type": "markdown",
   "metadata": {},
   "source": [
    "### 2. Classification\n",
    "Load the baseline Omission and Stereotype Classifier (OSC)."
   ]
  },
  {
   "cell_type": "code",
   "execution_count": 7,
   "metadata": {},
   "outputs": [],
   "source": [
    "cvectorizer = joblib.load(\"models/transform_docs/count_vectorizer.joblib\")\n",
    "tfidf = joblib.load(\"models/transform_docs/tfidf_transformer.joblib\")\n",
    "mlb = joblib.load(\"models/transform_labels/mlb_targets_os.joblib\")\n",
    "clf = joblib.load(\"models/baseline_osc/sgd-svm_F-tfidf_T-os.joblib\")"
   ]
  },
  {
   "cell_type": "markdown",
   "metadata": {},
   "source": [
    "Classify the descriptions."
   ]
  },
  {
   "cell_type": "code",
   "execution_count": 8,
   "metadata": {},
   "outputs": [],
   "source": [
    "vectorized = cvectorizer.transform(doc_df[\"doc\"])\n",
    "X = tfidf.transform(vectorized)\n",
    "y = clf.predict(X)"
   ]
  },
  {
   "cell_type": "code",
   "execution_count": 9,
   "metadata": {},
   "outputs": [],
   "source": [
    "predictions = mlb.inverse_transform(y)"
   ]
  },
  {
   "cell_type": "code",
   "execution_count": 10,
   "metadata": {},
   "outputs": [
    {
     "data": {
      "text/html": [
       "<div>\n",
       "<style scoped>\n",
       "    .dataframe tbody tr th:only-of-type {\n",
       "        vertical-align: middle;\n",
       "    }\n",
       "\n",
       "    .dataframe tbody tr th {\n",
       "        vertical-align: top;\n",
       "    }\n",
       "\n",
       "    .dataframe thead th {\n",
       "        text-align: right;\n",
       "    }\n",
       "</style>\n",
       "<table border=\"1\" class=\"dataframe\">\n",
       "  <thead>\n",
       "    <tr style=\"text-align: right;\">\n",
       "      <th></th>\n",
       "      <th>description_id</th>\n",
       "      <th>eadid</th>\n",
       "      <th>rowid</th>\n",
       "      <th>field</th>\n",
       "      <th>doc</th>\n",
       "      <th>prediction</th>\n",
       "    </tr>\n",
       "  </thead>\n",
       "  <tbody>\n",
       "    <tr>\n",
       "      <th>0</th>\n",
       "      <td>0</td>\n",
       "      <td>BP</td>\n",
       "      <td>BP</td>\n",
       "      <td>processinfo</td>\n",
       "      <td>This EAD description created by Ruth Sheret 27...</td>\n",
       "      <td>()</td>\n",
       "    </tr>\n",
       "    <tr>\n",
       "      <th>1</th>\n",
       "      <td>1</td>\n",
       "      <td>BP</td>\n",
       "      <td>BP</td>\n",
       "      <td>scopecontent</td>\n",
       "      <td>The papers of the distinguished public servant...</td>\n",
       "      <td>()</td>\n",
       "    </tr>\n",
       "    <tr>\n",
       "      <th>2</th>\n",
       "      <td>2</td>\n",
       "      <td>BP</td>\n",
       "      <td>BP</td>\n",
       "      <td>unittitle</td>\n",
       "      <td>Plowden (Lady Bridget) Archive</td>\n",
       "      <td>()</td>\n",
       "    </tr>\n",
       "    <tr>\n",
       "      <th>3</th>\n",
       "      <td>3</td>\n",
       "      <td>BP</td>\n",
       "      <td>BP/01</td>\n",
       "      <td>scopecontent</td>\n",
       "      <td>Formerly the 'Working Ladies Guild', the organ...</td>\n",
       "      <td>()</td>\n",
       "    </tr>\n",
       "    <tr>\n",
       "      <th>4</th>\n",
       "      <td>4</td>\n",
       "      <td>BP</td>\n",
       "      <td>BP/01</td>\n",
       "      <td>unittitle</td>\n",
       "      <td>Chairman (Managing Committee) of the Mary Fiel...</td>\n",
       "      <td>()</td>\n",
       "    </tr>\n",
       "  </tbody>\n",
       "</table>\n",
       "</div>"
      ],
      "text/plain": [
       "   description_id eadid  rowid         field  \\\n",
       "0               0    BP     BP   processinfo   \n",
       "1               1    BP     BP  scopecontent   \n",
       "2               2    BP     BP     unittitle   \n",
       "3               3    BP  BP/01  scopecontent   \n",
       "4               4    BP  BP/01     unittitle   \n",
       "\n",
       "                                                 doc prediction  \n",
       "0  This EAD description created by Ruth Sheret 27...         ()  \n",
       "1  The papers of the distinguished public servant...         ()  \n",
       "2                     Plowden (Lady Bridget) Archive         ()  \n",
       "3  Formerly the 'Working Ladies Guild', the organ...         ()  \n",
       "4  Chairman (Managing Committee) of the Mary Fiel...         ()  "
      ]
     },
     "execution_count": 10,
     "metadata": {},
     "output_type": "execute_result"
    }
   ],
   "source": [
    "doc_df.insert(len(doc_df.columns), \"prediction\", predictions)\n",
    "doc_df.head()"
   ]
  },
  {
   "cell_type": "code",
   "execution_count": 11,
   "metadata": {},
   "outputs": [
    {
     "data": {
      "text/plain": [
       "()                        55235\n",
       "(Omission,)                1489\n",
       "(Omission, Stereotype)      909\n",
       "(Stereotype,)               314\n",
       "Name: prediction, dtype: int64"
      ]
     },
     "execution_count": 11,
     "metadata": {},
     "output_type": "execute_result"
    }
   ],
   "source": [
    "doc_df.prediction.value_counts()"
   ]
  },
  {
   "cell_type": "code",
   "execution_count": 13,
   "metadata": {},
   "outputs": [
    {
     "name": "stdout",
     "output_type": "stream",
     "text": [
      "Proportion of descriptions classified: 0.04909930297818412\n"
     ]
    }
   ],
   "source": [
    "print(\"Proportion of descriptions classified:\", (1489+909+314)/55235)  # about 5%"
   ]
  },
  {
   "cell_type": "markdown",
   "metadata": {},
   "source": [
    "Export the classified data."
   ]
  },
  {
   "cell_type": "code",
   "execution_count": 12,
   "metadata": {},
   "outputs": [],
   "source": [
    "filename = \"baseline_osc_predictions.csv\"\n",
    "doc_df.to_csv(config.classified_data_path+filename)"
   ]
  },
  {
   "cell_type": "markdown",
   "metadata": {},
   "source": [
    "Deduplicate the descriptions and create a new export where each row has a unique doc-eadid-prediction combination."
   ]
  },
  {
   "cell_type": "code",
   "execution_count": 14,
   "metadata": {},
   "outputs": [
    {
     "name": "stdout",
     "output_type": "stream",
     "text": [
      "(27235, 6)\n",
      "(27209, 6)\n",
      "(27209, 6)\n"
     ]
    }
   ],
   "source": [
    "doc_df_dedup1 = doc_df.drop_duplicates(subset=[\"eadid\", \"doc\", \"prediction\"])\n",
    "doc_df_dedup2 = doc_df.drop_duplicates(subset=[\"doc\", \"prediction\"])\n",
    "doc_df_dedup3 = doc_df.drop_duplicates(subset=[\"doc\"])\n",
    "print(doc_df_dedup1.shape)\n",
    "print(doc_df_dedup2.shape)  # as expected, same as next\n",
    "print(doc_df_dedup3.shape)  # as expected, same as previous"
   ]
  },
  {
   "cell_type": "code",
   "execution_count": 15,
   "metadata": {},
   "outputs": [],
   "source": [
    "dedup_filename = \"baseline_osc_predictions_deduplicated.csv\"\n",
    "doc_df_dedup1.to_csv(config.classified_data_path+dedup_filename)"
   ]
  },
  {
   "cell_type": "code",
   "execution_count": 16,
   "metadata": {},
   "outputs": [
    {
     "data": {
      "text/plain": [
       "()                        24819\n",
       "(Omission,)                1362\n",
       "(Omission, Stereotype)      773\n",
       "(Stereotype,)               281\n",
       "Name: prediction, dtype: int64"
      ]
     },
     "execution_count": 16,
     "metadata": {},
     "output_type": "execute_result"
    }
   ],
   "source": [
    "doc_df_dedup1.prediction.value_counts()"
   ]
  },
  {
   "cell_type": "code",
   "execution_count": 17,
   "metadata": {},
   "outputs": [
    {
     "name": "stdout",
     "output_type": "stream",
     "text": [
      "Proportion of unique descriptions classified: 0.09734477617953986\n"
     ]
    }
   ],
   "source": [
    "print(\"Proportion of unique descriptions classified:\", (1362+773+281)/24819) # about 10%"
   ]
  },
  {
   "cell_type": "markdown",
   "metadata": {},
   "source": [
    "### 3. Manual Review\n",
    "Export a selection of descriptions for manual review, including a combination of unclassified and classified descriptions, randomly selection 50 descriptions that were unclassified, that were classified as *Omission*, that were classified as *Omission* and *Stereotype*, and that were classified as *Stereotype*."
   ]
  },
  {
   "cell_type": "markdown",
   "metadata": {},
   "source": [
    "To select unclassified descriptions, to annotate, select based on average length of classified descriptions???"
   ]
  },
  {
   "cell_type": "code",
   "execution_count": 21,
   "metadata": {},
   "outputs": [
    {
     "data": {
      "text/html": [
       "<div>\n",
       "<style scoped>\n",
       "    .dataframe tbody tr th:only-of-type {\n",
       "        vertical-align: middle;\n",
       "    }\n",
       "\n",
       "    .dataframe tbody tr th {\n",
       "        vertical-align: top;\n",
       "    }\n",
       "\n",
       "    .dataframe thead th {\n",
       "        text-align: right;\n",
       "    }\n",
       "</style>\n",
       "<table border=\"1\" class=\"dataframe\">\n",
       "  <thead>\n",
       "    <tr style=\"text-align: right;\">\n",
       "      <th></th>\n",
       "      <th>description_id</th>\n",
       "      <th>eadid</th>\n",
       "      <th>rowid</th>\n",
       "      <th>field</th>\n",
       "      <th>doc</th>\n",
       "      <th>prediction</th>\n",
       "    </tr>\n",
       "  </thead>\n",
       "  <tbody>\n",
       "    <tr>\n",
       "      <th>0</th>\n",
       "      <td>0</td>\n",
       "      <td>BP</td>\n",
       "      <td>BP</td>\n",
       "      <td>processinfo</td>\n",
       "      <td>This EAD description created by Ruth Sheret 27...</td>\n",
       "      <td>()</td>\n",
       "    </tr>\n",
       "    <tr>\n",
       "      <th>1</th>\n",
       "      <td>1</td>\n",
       "      <td>BP</td>\n",
       "      <td>BP</td>\n",
       "      <td>scopecontent</td>\n",
       "      <td>The papers of the distinguished public servant...</td>\n",
       "      <td>()</td>\n",
       "    </tr>\n",
       "    <tr>\n",
       "      <th>2</th>\n",
       "      <td>2</td>\n",
       "      <td>BP</td>\n",
       "      <td>BP</td>\n",
       "      <td>unittitle</td>\n",
       "      <td>Plowden (Lady Bridget) Archive</td>\n",
       "      <td>()</td>\n",
       "    </tr>\n",
       "    <tr>\n",
       "      <th>3</th>\n",
       "      <td>3</td>\n",
       "      <td>BP</td>\n",
       "      <td>BP/01</td>\n",
       "      <td>scopecontent</td>\n",
       "      <td>Formerly the 'Working Ladies Guild', the organ...</td>\n",
       "      <td>()</td>\n",
       "    </tr>\n",
       "    <tr>\n",
       "      <th>4</th>\n",
       "      <td>4</td>\n",
       "      <td>BP</td>\n",
       "      <td>BP/01</td>\n",
       "      <td>unittitle</td>\n",
       "      <td>Chairman (Managing Committee) of the Mary Fiel...</td>\n",
       "      <td>()</td>\n",
       "    </tr>\n",
       "  </tbody>\n",
       "</table>\n",
       "</div>"
      ],
      "text/plain": [
       "   description_id eadid  rowid         field  \\\n",
       "0               0    BP     BP   processinfo   \n",
       "1               1    BP     BP  scopecontent   \n",
       "2               2    BP     BP     unittitle   \n",
       "3               3    BP  BP/01  scopecontent   \n",
       "4               4    BP  BP/01     unittitle   \n",
       "\n",
       "                                                 doc prediction  \n",
       "0  This EAD description created by Ruth Sheret 27...         ()  \n",
       "1  The papers of the distinguished public servant...         ()  \n",
       "2                     Plowden (Lady Bridget) Archive         ()  \n",
       "3  Formerly the 'Working Ladies Guild', the organ...         ()  \n",
       "4  Chairman (Managing Committee) of the Mary Fiel...         ()  "
      ]
     },
     "execution_count": 21,
     "metadata": {},
     "output_type": "execute_result"
    }
   ],
   "source": [
    "unclf_docs = doc_df_dedup1.loc[doc_df_dedup1.prediction == tuple()]\n",
    "unclf_docs.head()"
   ]
  },
  {
   "cell_type": "code",
   "execution_count": 22,
   "metadata": {},
   "outputs": [
    {
     "data": {
      "text/html": [
       "<div>\n",
       "<style scoped>\n",
       "    .dataframe tbody tr th:only-of-type {\n",
       "        vertical-align: middle;\n",
       "    }\n",
       "\n",
       "    .dataframe tbody tr th {\n",
       "        vertical-align: top;\n",
       "    }\n",
       "\n",
       "    .dataframe thead th {\n",
       "        text-align: right;\n",
       "    }\n",
       "</style>\n",
       "<table border=\"1\" class=\"dataframe\">\n",
       "  <thead>\n",
       "    <tr style=\"text-align: right;\">\n",
       "      <th></th>\n",
       "      <th>description_id</th>\n",
       "      <th>eadid</th>\n",
       "      <th>rowid</th>\n",
       "      <th>field</th>\n",
       "      <th>doc</th>\n",
       "      <th>prediction</th>\n",
       "    </tr>\n",
       "  </thead>\n",
       "  <tbody>\n",
       "    <tr>\n",
       "      <th>51</th>\n",
       "      <td>51</td>\n",
       "      <td>BP</td>\n",
       "      <td>BP/03/03/05</td>\n",
       "      <td>scopecontent</td>\n",
       "      <td>A collection of reports published by external ...</td>\n",
       "      <td>(Omission,)</td>\n",
       "    </tr>\n",
       "    <tr>\n",
       "      <th>108</th>\n",
       "      <td>108</td>\n",
       "      <td>BP</td>\n",
       "      <td>BP/08/02/03</td>\n",
       "      <td>scopecontent</td>\n",
       "      <td>Priority Area Development: Preparation for Par...</td>\n",
       "      <td>(Omission,)</td>\n",
       "    </tr>\n",
       "    <tr>\n",
       "      <th>129</th>\n",
       "      <td>129</td>\n",
       "      <td>BP</td>\n",
       "      <td>BP/08/06</td>\n",
       "      <td>scopecontent</td>\n",
       "      <td>Correspondence files kept by Lady Plowden in r...</td>\n",
       "      <td>(Omission,)</td>\n",
       "    </tr>\n",
       "    <tr>\n",
       "      <th>131</th>\n",
       "      <td>131</td>\n",
       "      <td>BP</td>\n",
       "      <td>BP/08/07</td>\n",
       "      <td>scopecontent</td>\n",
       "      <td>Notes on various speeches made by Lady Plowden...</td>\n",
       "      <td>(Omission,)</td>\n",
       "    </tr>\n",
       "    <tr>\n",
       "      <th>188</th>\n",
       "      <td>188</td>\n",
       "      <td>BP</td>\n",
       "      <td>BP/09/09/05</td>\n",
       "      <td>scopecontent</td>\n",
       "      <td>A submission from ACERT to the inquiry organis...</td>\n",
       "      <td>(Omission,)</td>\n",
       "    </tr>\n",
       "  </tbody>\n",
       "</table>\n",
       "</div>"
      ],
      "text/plain": [
       "     description_id eadid        rowid         field  \\\n",
       "51               51    BP  BP/03/03/05  scopecontent   \n",
       "108             108    BP  BP/08/02/03  scopecontent   \n",
       "129             129    BP     BP/08/06  scopecontent   \n",
       "131             131    BP     BP/08/07  scopecontent   \n",
       "188             188    BP  BP/09/09/05  scopecontent   \n",
       "\n",
       "                                                   doc   prediction  \n",
       "51   A collection of reports published by external ...  (Omission,)  \n",
       "108  Priority Area Development: Preparation for Par...  (Omission,)  \n",
       "129  Correspondence files kept by Lady Plowden in r...  (Omission,)  \n",
       "131  Notes on various speeches made by Lady Plowden...  (Omission,)  \n",
       "188  A submission from ACERT to the inquiry organis...  (Omission,)  "
      ]
     },
     "execution_count": 22,
     "metadata": {},
     "output_type": "execute_result"
    }
   ],
   "source": [
    "clf_docs = doc_df_dedup1.loc[doc_df_dedup1.prediction != tuple()]\n",
    "clf_docs.head()"
   ]
  },
  {
   "cell_type": "code",
   "execution_count": 23,
   "metadata": {},
   "outputs": [
    {
     "name": "stdout",
     "output_type": "stream",
     "text": [
      "(24819, 6)\n",
      "(2416, 6)\n"
     ]
    }
   ],
   "source": [
    "print(unclf_docs.shape)\n",
    "print(clf_docs.shape)"
   ]
  },
  {
   "cell_type": "code",
   "execution_count": 28,
   "metadata": {},
   "outputs": [
    {
     "name": "stdout",
     "output_type": "stream",
     "text": [
      "A collection of reports published by external organisations. This collection is assumed to have been accumulated by Lady Plowden to inform her work with the Council - the collection was found with Lady Plowden's Council files and deal with related issues.\n",
      "Note, although these publications relate specifically to Lady Plowden’s work with the Council , Lady Plowden also held an extensive library of reports and publications which covered the range of her personal and professional interests. A complete list of reports and publications held by Lady Plowden can be viewed at: INSERT LINK\n"
     ]
    }
   ],
   "source": [
    "unclf_docs_list = list(unclf_docs.doc)\n",
    "clf_docs_list = list(clf_docs.doc)\n",
    "print(clf_docs_list[0])"
   ]
  },
  {
   "cell_type": "code",
   "execution_count": 29,
   "metadata": {},
   "outputs": [
    {
     "name": "stdout",
     "output_type": "stream",
     "text": [
      "16\n",
      "101\n"
     ]
    }
   ],
   "source": [
    "unclf_token_counts = [len(word_tokenize(doc)) for doc in unclf_docs_list]\n",
    "clf_token_counts = [len(word_tokenize(doc)) for doc in clf_docs_list]\n",
    "print(unclf_token_counts[0])\n",
    "print(clf_token_counts[0])"
   ]
  },
  {
   "cell_type": "code",
   "execution_count": 40,
   "metadata": {},
   "outputs": [
    {
     "name": "stdout",
     "output_type": "stream",
     "text": [
      "Minimum, average, standard deviation, median, and maximum token counts in UNCLASSIFIED descriptions:\n",
      "1\n",
      "16.73999758249728\n",
      "31.397437371032396\n",
      "11.0\n",
      "2478\n"
     ]
    }
   ],
   "source": [
    "print(\"Minimum, average, standard deviation, median, and maximum token counts in UNCLASSIFIED descriptions:\")\n",
    "print(np.min(unclf_token_counts))\n",
    "print(np.mean(unclf_token_counts))\n",
    "print(np.std(unclf_token_counts))\n",
    "print(np.median(unclf_token_counts))\n",
    "print(np.max(unclf_token_counts))"
   ]
  },
  {
   "cell_type": "code",
   "execution_count": 39,
   "metadata": {},
   "outputs": [
    {
     "name": "stdout",
     "output_type": "stream",
     "text": [
      "Minimum, average, standard deviation, median, and maximum token counts in CLASSIFIED descriptions:\n",
      "2\n",
      "39.40604304635762\n",
      "68.22333998794495\n",
      "17.0\n",
      "839\n"
     ]
    }
   ],
   "source": [
    "print(\"Minimum, average, standard deviation, median, and maximum token counts in CLASSIFIED descriptions:\")\n",
    "print(np.min(clf_token_counts))\n",
    "print(np.mean(clf_token_counts))\n",
    "print(np.std(clf_token_counts))\n",
    "print(np.median(clf_token_counts))\n",
    "print(np.max(clf_token_counts))"
   ]
  },
  {
   "cell_type": "code",
   "execution_count": 49,
   "metadata": {},
   "outputs": [
    {
     "name": "stdout",
     "output_type": "stream",
     "text": [
      "(1362, 6)\n"
     ]
    },
    {
     "data": {
      "text/html": [
       "<div>\n",
       "<style scoped>\n",
       "    .dataframe tbody tr th:only-of-type {\n",
       "        vertical-align: middle;\n",
       "    }\n",
       "\n",
       "    .dataframe tbody tr th {\n",
       "        vertical-align: top;\n",
       "    }\n",
       "\n",
       "    .dataframe thead th {\n",
       "        text-align: right;\n",
       "    }\n",
       "</style>\n",
       "<table border=\"1\" class=\"dataframe\">\n",
       "  <thead>\n",
       "    <tr style=\"text-align: right;\">\n",
       "      <th></th>\n",
       "      <th>description_id</th>\n",
       "      <th>eadid</th>\n",
       "      <th>rowid</th>\n",
       "      <th>field</th>\n",
       "      <th>doc</th>\n",
       "      <th>prediction</th>\n",
       "    </tr>\n",
       "  </thead>\n",
       "  <tbody>\n",
       "    <tr>\n",
       "      <th>51</th>\n",
       "      <td>51</td>\n",
       "      <td>BP</td>\n",
       "      <td>BP/03/03/05</td>\n",
       "      <td>scopecontent</td>\n",
       "      <td>A collection of reports published by external ...</td>\n",
       "      <td>(Omission,)</td>\n",
       "    </tr>\n",
       "    <tr>\n",
       "      <th>108</th>\n",
       "      <td>108</td>\n",
       "      <td>BP</td>\n",
       "      <td>BP/08/02/03</td>\n",
       "      <td>scopecontent</td>\n",
       "      <td>Priority Area Development: Preparation for Par...</td>\n",
       "      <td>(Omission,)</td>\n",
       "    </tr>\n",
       "    <tr>\n",
       "      <th>129</th>\n",
       "      <td>129</td>\n",
       "      <td>BP</td>\n",
       "      <td>BP/08/06</td>\n",
       "      <td>scopecontent</td>\n",
       "      <td>Correspondence files kept by Lady Plowden in r...</td>\n",
       "      <td>(Omission,)</td>\n",
       "    </tr>\n",
       "    <tr>\n",
       "      <th>131</th>\n",
       "      <td>131</td>\n",
       "      <td>BP</td>\n",
       "      <td>BP/08/07</td>\n",
       "      <td>scopecontent</td>\n",
       "      <td>Notes on various speeches made by Lady Plowden...</td>\n",
       "      <td>(Omission,)</td>\n",
       "    </tr>\n",
       "    <tr>\n",
       "      <th>188</th>\n",
       "      <td>188</td>\n",
       "      <td>BP</td>\n",
       "      <td>BP/09/09/05</td>\n",
       "      <td>scopecontent</td>\n",
       "      <td>A submission from ACERT to the inquiry organis...</td>\n",
       "      <td>(Omission,)</td>\n",
       "    </tr>\n",
       "  </tbody>\n",
       "</table>\n",
       "</div>"
      ],
      "text/plain": [
       "     description_id eadid        rowid         field  \\\n",
       "51               51    BP  BP/03/03/05  scopecontent   \n",
       "108             108    BP  BP/08/02/03  scopecontent   \n",
       "129             129    BP     BP/08/06  scopecontent   \n",
       "131             131    BP     BP/08/07  scopecontent   \n",
       "188             188    BP  BP/09/09/05  scopecontent   \n",
       "\n",
       "                                                   doc   prediction  \n",
       "51   A collection of reports published by external ...  (Omission,)  \n",
       "108  Priority Area Development: Preparation for Par...  (Omission,)  \n",
       "129  Correspondence files kept by Lady Plowden in r...  (Omission,)  \n",
       "131  Notes on various speeches made by Lady Plowden...  (Omission,)  \n",
       "188  A submission from ACERT to the inquiry organis...  (Omission,)  "
      ]
     },
     "execution_count": 49,
     "metadata": {},
     "output_type": "execute_result"
    }
   ],
   "source": [
    "o_docs = clf_docs.loc[clf_docs.prediction == ('Omission',)]\n",
    "print(o_docs.shape)\n",
    "o_docs.head()"
   ]
  },
  {
   "cell_type": "code",
   "execution_count": 50,
   "metadata": {},
   "outputs": [
    {
     "name": "stdout",
     "output_type": "stream",
     "text": [
      "(773, 6)\n"
     ]
    },
    {
     "data": {
      "text/html": [
       "<div>\n",
       "<style scoped>\n",
       "    .dataframe tbody tr th:only-of-type {\n",
       "        vertical-align: middle;\n",
       "    }\n",
       "\n",
       "    .dataframe tbody tr th {\n",
       "        vertical-align: top;\n",
       "    }\n",
       "\n",
       "    .dataframe thead th {\n",
       "        text-align: right;\n",
       "    }\n",
       "</style>\n",
       "<table border=\"1\" class=\"dataframe\">\n",
       "  <thead>\n",
       "    <tr style=\"text-align: right;\">\n",
       "      <th></th>\n",
       "      <th>description_id</th>\n",
       "      <th>eadid</th>\n",
       "      <th>rowid</th>\n",
       "      <th>field</th>\n",
       "      <th>doc</th>\n",
       "      <th>prediction</th>\n",
       "    </tr>\n",
       "  </thead>\n",
       "  <tbody>\n",
       "    <tr>\n",
       "      <th>655</th>\n",
       "      <td>655</td>\n",
       "      <td>BXB</td>\n",
       "      <td>BXB/1/1/AGA/1/4</td>\n",
       "      <td>scopecontent</td>\n",
       "      <td>Consists of a photocopy of both the book cover...</td>\n",
       "      <td>(Omission, Stereotype)</td>\n",
       "    </tr>\n",
       "    <tr>\n",
       "      <th>724</th>\n",
       "      <td>724</td>\n",
       "      <td>BXB</td>\n",
       "      <td>BXB/1/1/AGA/6/11</td>\n",
       "      <td>scopecontent</td>\n",
       "      <td>Consists of photocopies of a poem entitled 'Ma...</td>\n",
       "      <td>(Omission, Stereotype)</td>\n",
       "    </tr>\n",
       "    <tr>\n",
       "      <th>840</th>\n",
       "      <td>840</td>\n",
       "      <td>BXB</td>\n",
       "      <td>BXB/1/1/ALV/1</td>\n",
       "      <td>unittitle</td>\n",
       "      <td>Carrying My Wife</td>\n",
       "      <td>(Omission, Stereotype)</td>\n",
       "    </tr>\n",
       "    <tr>\n",
       "      <th>1177</th>\n",
       "      <td>1177</td>\n",
       "      <td>BXB</td>\n",
       "      <td>BXB/1/1/BOL</td>\n",
       "      <td>bioghist</td>\n",
       "      <td>Robyn Bolam (formerly Marion Lomax) was born i...</td>\n",
       "      <td>(Omission, Stereotype)</td>\n",
       "    </tr>\n",
       "    <tr>\n",
       "      <th>1197</th>\n",
       "      <td>1197</td>\n",
       "      <td>BXB</td>\n",
       "      <td>BXB/1/1/BON/1</td>\n",
       "      <td>bioghist</td>\n",
       "      <td>Galway Kinnell was born in Providence, Rhode I...</td>\n",
       "      <td>(Omission, Stereotype)</td>\n",
       "    </tr>\n",
       "  </tbody>\n",
       "</table>\n",
       "</div>"
      ],
      "text/plain": [
       "      description_id eadid             rowid         field  \\\n",
       "655              655   BXB   BXB/1/1/AGA/1/4  scopecontent   \n",
       "724              724   BXB  BXB/1/1/AGA/6/11  scopecontent   \n",
       "840              840   BXB     BXB/1/1/ALV/1     unittitle   \n",
       "1177            1177   BXB       BXB/1/1/BOL      bioghist   \n",
       "1197            1197   BXB     BXB/1/1/BON/1      bioghist   \n",
       "\n",
       "                                                    doc  \\\n",
       "655   Consists of a photocopy of both the book cover...   \n",
       "724   Consists of photocopies of a poem entitled 'Ma...   \n",
       "840                                    Carrying My Wife   \n",
       "1177  Robyn Bolam (formerly Marion Lomax) was born i...   \n",
       "1197  Galway Kinnell was born in Providence, Rhode I...   \n",
       "\n",
       "                  prediction  \n",
       "655   (Omission, Stereotype)  \n",
       "724   (Omission, Stereotype)  \n",
       "840   (Omission, Stereotype)  \n",
       "1177  (Omission, Stereotype)  \n",
       "1197  (Omission, Stereotype)  "
      ]
     },
     "execution_count": 50,
     "metadata": {},
     "output_type": "execute_result"
    }
   ],
   "source": [
    "os_docs = clf_docs.loc[clf_docs.prediction == ('Omission', 'Stereotype')]\n",
    "print(os_docs.shape)\n",
    "os_docs.head()"
   ]
  },
  {
   "cell_type": "code",
   "execution_count": 51,
   "metadata": {},
   "outputs": [
    {
     "name": "stdout",
     "output_type": "stream",
     "text": [
      "(281, 6)\n"
     ]
    },
    {
     "data": {
      "text/html": [
       "<div>\n",
       "<style scoped>\n",
       "    .dataframe tbody tr th:only-of-type {\n",
       "        vertical-align: middle;\n",
       "    }\n",
       "\n",
       "    .dataframe tbody tr th {\n",
       "        vertical-align: top;\n",
       "    }\n",
       "\n",
       "    .dataframe thead th {\n",
       "        text-align: right;\n",
       "    }\n",
       "</style>\n",
       "<table border=\"1\" class=\"dataframe\">\n",
       "  <thead>\n",
       "    <tr style=\"text-align: right;\">\n",
       "      <th></th>\n",
       "      <th>description_id</th>\n",
       "      <th>eadid</th>\n",
       "      <th>rowid</th>\n",
       "      <th>field</th>\n",
       "      <th>doc</th>\n",
       "      <th>prediction</th>\n",
       "    </tr>\n",
       "  </thead>\n",
       "  <tbody>\n",
       "    <tr>\n",
       "      <th>374</th>\n",
       "      <td>374</td>\n",
       "      <td>BP</td>\n",
       "      <td>BP/19/02/10</td>\n",
       "      <td>unittitle</td>\n",
       "      <td>Women and Employment</td>\n",
       "      <td>(Stereotype,)</td>\n",
       "    </tr>\n",
       "    <tr>\n",
       "      <th>459</th>\n",
       "      <td>459</td>\n",
       "      <td>BP</td>\n",
       "      <td>BP/27/39</td>\n",
       "      <td>unittitle</td>\n",
       "      <td>Research File: Women and Work</td>\n",
       "      <td>(Stereotype,)</td>\n",
       "    </tr>\n",
       "    <tr>\n",
       "      <th>460</th>\n",
       "      <td>460</td>\n",
       "      <td>BP</td>\n",
       "      <td>BP/27/40</td>\n",
       "      <td>unittitle</td>\n",
       "      <td>Research File: A Woman's View of the Recession...</td>\n",
       "      <td>(Stereotype,)</td>\n",
       "    </tr>\n",
       "    <tr>\n",
       "      <th>871</th>\n",
       "      <td>871</td>\n",
       "      <td>BXB</td>\n",
       "      <td>BXB/1/1/ARM</td>\n",
       "      <td>bioghist</td>\n",
       "      <td>Simon Armitage was born in 1963 in Huddersfiel...</td>\n",
       "      <td>(Stereotype,)</td>\n",
       "    </tr>\n",
       "    <tr>\n",
       "      <th>1180</th>\n",
       "      <td>1180</td>\n",
       "      <td>BXB</td>\n",
       "      <td>BXB/1/1/BOL/1</td>\n",
       "      <td>unittitle</td>\n",
       "      <td>The Peepshow Girl</td>\n",
       "      <td>(Stereotype,)</td>\n",
       "    </tr>\n",
       "  </tbody>\n",
       "</table>\n",
       "</div>"
      ],
      "text/plain": [
       "      description_id eadid          rowid      field  \\\n",
       "374              374    BP    BP/19/02/10  unittitle   \n",
       "459              459    BP       BP/27/39  unittitle   \n",
       "460              460    BP       BP/27/40  unittitle   \n",
       "871              871   BXB    BXB/1/1/ARM   bioghist   \n",
       "1180            1180   BXB  BXB/1/1/BOL/1  unittitle   \n",
       "\n",
       "                                                    doc     prediction  \n",
       "374                                Women and Employment  (Stereotype,)  \n",
       "459                       Research File: Women and Work  (Stereotype,)  \n",
       "460   Research File: A Woman's View of the Recession...  (Stereotype,)  \n",
       "871   Simon Armitage was born in 1963 in Huddersfiel...  (Stereotype,)  \n",
       "1180                                  The Peepshow Girl  (Stereotype,)  "
      ]
     },
     "execution_count": 51,
     "metadata": {},
     "output_type": "execute_result"
    }
   ],
   "source": [
    "s_docs = clf_docs.loc[clf_docs.prediction == ('Stereotype',)]\n",
    "print(s_docs.shape)\n",
    "s_docs.head()"
   ]
  },
  {
   "cell_type": "code",
   "execution_count": 56,
   "metadata": {},
   "outputs": [],
   "source": [
    "sample_size = 50"
   ]
  },
  {
   "cell_type": "code",
   "execution_count": 58,
   "metadata": {},
   "outputs": [
    {
     "data": {
      "text/html": [
       "<div>\n",
       "<style scoped>\n",
       "    .dataframe tbody tr th:only-of-type {\n",
       "        vertical-align: middle;\n",
       "    }\n",
       "\n",
       "    .dataframe tbody tr th {\n",
       "        vertical-align: top;\n",
       "    }\n",
       "\n",
       "    .dataframe thead th {\n",
       "        text-align: right;\n",
       "    }\n",
       "</style>\n",
       "<table border=\"1\" class=\"dataframe\">\n",
       "  <thead>\n",
       "    <tr style=\"text-align: right;\">\n",
       "      <th></th>\n",
       "      <th>description_id</th>\n",
       "      <th>eadid</th>\n",
       "      <th>rowid</th>\n",
       "      <th>field</th>\n",
       "      <th>doc</th>\n",
       "      <th>prediction</th>\n",
       "    </tr>\n",
       "  </thead>\n",
       "  <tbody>\n",
       "    <tr>\n",
       "      <th>478</th>\n",
       "      <td>478</td>\n",
       "      <td>BP</td>\n",
       "      <td>BP/30/02/01</td>\n",
       "      <td>unittitle</td>\n",
       "      <td>Correspondence in relation to the Gertrude Bel...</td>\n",
       "      <td>()</td>\n",
       "    </tr>\n",
       "    <tr>\n",
       "      <th>511</th>\n",
       "      <td>511</td>\n",
       "      <td>BP</td>\n",
       "      <td>BP/30/04/11</td>\n",
       "      <td>scopecontent</td>\n",
       "      <td>Family photograph album belonging to the Bell ...</td>\n",
       "      <td>()</td>\n",
       "    </tr>\n",
       "    <tr>\n",
       "      <th>764</th>\n",
       "      <td>764</td>\n",
       "      <td>BXB</td>\n",
       "      <td>BXB/1/1/AGG/1/7</td>\n",
       "      <td>unittitle</td>\n",
       "      <td>Press Cuttings and publicity</td>\n",
       "      <td>()</td>\n",
       "    </tr>\n",
       "    <tr>\n",
       "      <th>1066</th>\n",
       "      <td>1066</td>\n",
       "      <td>BXB</td>\n",
       "      <td>BXB/1/1/BEJ/3</td>\n",
       "      <td>unittitle</td>\n",
       "      <td>A Story I Am In: Selected Poems</td>\n",
       "      <td>()</td>\n",
       "    </tr>\n",
       "    <tr>\n",
       "      <th>1195</th>\n",
       "      <td>1195</td>\n",
       "      <td>BXB</td>\n",
       "      <td>BXB/1/1/BON</td>\n",
       "      <td>scopecontent</td>\n",
       "      <td>Consists of letters and proofs relating to the...</td>\n",
       "      <td>()</td>\n",
       "    </tr>\n",
       "  </tbody>\n",
       "</table>\n",
       "</div>"
      ],
      "text/plain": [
       "      description_id eadid            rowid         field  \\\n",
       "478              478    BP      BP/30/02/01     unittitle   \n",
       "511              511    BP      BP/30/04/11  scopecontent   \n",
       "764              764   BXB  BXB/1/1/AGG/1/7     unittitle   \n",
       "1066            1066   BXB    BXB/1/1/BEJ/3     unittitle   \n",
       "1195            1195   BXB      BXB/1/1/BON  scopecontent   \n",
       "\n",
       "                                                    doc prediction  \n",
       "478   Correspondence in relation to the Gertrude Bel...         ()  \n",
       "511   Family photograph album belonging to the Bell ...         ()  \n",
       "764                        Press Cuttings and publicity         ()  \n",
       "1066                    A Story I Am In: Selected Poems         ()  \n",
       "1195  Consists of letters and proofs relating to the...         ()  "
      ]
     },
     "execution_count": 58,
     "metadata": {},
     "output_type": "execute_result"
    }
   ],
   "source": [
    "unclf_sample_ids = random.sample(list(unclf_docs.description_id), sample_size)\n",
    "unclf_sample = unclf_docs.loc[unclf_docs.description_id.isin(unclf_sample_ids)]\n",
    "assert(unclf_sample.shape[0] == sample_size)\n",
    "unclf_sample.head()"
   ]
  },
  {
   "cell_type": "code",
   "execution_count": 59,
   "metadata": {},
   "outputs": [
    {
     "data": {
      "text/html": [
       "<div>\n",
       "<style scoped>\n",
       "    .dataframe tbody tr th:only-of-type {\n",
       "        vertical-align: middle;\n",
       "    }\n",
       "\n",
       "    .dataframe tbody tr th {\n",
       "        vertical-align: top;\n",
       "    }\n",
       "\n",
       "    .dataframe thead th {\n",
       "        text-align: right;\n",
       "    }\n",
       "</style>\n",
       "<table border=\"1\" class=\"dataframe\">\n",
       "  <thead>\n",
       "    <tr style=\"text-align: right;\">\n",
       "      <th></th>\n",
       "      <th>description_id</th>\n",
       "      <th>eadid</th>\n",
       "      <th>rowid</th>\n",
       "      <th>field</th>\n",
       "      <th>doc</th>\n",
       "      <th>prediction</th>\n",
       "    </tr>\n",
       "  </thead>\n",
       "  <tbody>\n",
       "    <tr>\n",
       "      <th>1171</th>\n",
       "      <td>1171</td>\n",
       "      <td>BXB</td>\n",
       "      <td>BXB/1/1/BIS</td>\n",
       "      <td>bioghist</td>\n",
       "      <td>Elizabeth Bishop is one of the greatest poets ...</td>\n",
       "      <td>(Omission,)</td>\n",
       "    </tr>\n",
       "    <tr>\n",
       "      <th>1999</th>\n",
       "      <td>1999</td>\n",
       "      <td>BXB</td>\n",
       "      <td>BXB/1/1/DOB</td>\n",
       "      <td>bioghist</td>\n",
       "      <td>Stephen Dobyns is a leading American poet, nov...</td>\n",
       "      <td>(Omission,)</td>\n",
       "    </tr>\n",
       "    <tr>\n",
       "      <th>3059</th>\n",
       "      <td>3059</td>\n",
       "      <td>BXB</td>\n",
       "      <td>BXB/1/1/GRG</td>\n",
       "      <td>bioghist</td>\n",
       "      <td>Andrew Greig is one of the leading Scottish wr...</td>\n",
       "      <td>(Omission,)</td>\n",
       "    </tr>\n",
       "    <tr>\n",
       "      <th>3924</th>\n",
       "      <td>3924</td>\n",
       "      <td>BXB</td>\n",
       "      <td>BXB/1/1/HOJ/2/1</td>\n",
       "      <td>scopecontent</td>\n",
       "      <td>Consists of a printout of selected poems with ...</td>\n",
       "      <td>(Omission,)</td>\n",
       "    </tr>\n",
       "    <tr>\n",
       "      <th>6727</th>\n",
       "      <td>6727</td>\n",
       "      <td>BXB</td>\n",
       "      <td>BXB/1/1/RUM</td>\n",
       "      <td>bioghist</td>\n",
       "      <td>Carol Rumens was born in 1944 in South London....</td>\n",
       "      <td>(Omission,)</td>\n",
       "    </tr>\n",
       "  </tbody>\n",
       "</table>\n",
       "</div>"
      ],
      "text/plain": [
       "      description_id eadid            rowid         field  \\\n",
       "1171            1171   BXB      BXB/1/1/BIS      bioghist   \n",
       "1999            1999   BXB      BXB/1/1/DOB      bioghist   \n",
       "3059            3059   BXB      BXB/1/1/GRG      bioghist   \n",
       "3924            3924   BXB  BXB/1/1/HOJ/2/1  scopecontent   \n",
       "6727            6727   BXB      BXB/1/1/RUM      bioghist   \n",
       "\n",
       "                                                    doc   prediction  \n",
       "1171  Elizabeth Bishop is one of the greatest poets ...  (Omission,)  \n",
       "1999  Stephen Dobyns is a leading American poet, nov...  (Omission,)  \n",
       "3059  Andrew Greig is one of the leading Scottish wr...  (Omission,)  \n",
       "3924  Consists of a printout of selected poems with ...  (Omission,)  \n",
       "6727  Carol Rumens was born in 1944 in South London....  (Omission,)  "
      ]
     },
     "execution_count": 59,
     "metadata": {},
     "output_type": "execute_result"
    }
   ],
   "source": [
    "o_sample_ids = random.sample(list(o_docs.description_id), sample_size)\n",
    "o_sample = o_docs.loc[o_docs.description_id.isin(o_sample_ids)]\n",
    "assert(o_sample.shape[0] == sample_size)\n",
    "o_sample.head()"
   ]
  },
  {
   "cell_type": "code",
   "execution_count": 60,
   "metadata": {},
   "outputs": [
    {
     "data": {
      "text/html": [
       "<div>\n",
       "<style scoped>\n",
       "    .dataframe tbody tr th:only-of-type {\n",
       "        vertical-align: middle;\n",
       "    }\n",
       "\n",
       "    .dataframe tbody tr th {\n",
       "        vertical-align: top;\n",
       "    }\n",
       "\n",
       "    .dataframe thead th {\n",
       "        text-align: right;\n",
       "    }\n",
       "</style>\n",
       "<table border=\"1\" class=\"dataframe\">\n",
       "  <thead>\n",
       "    <tr style=\"text-align: right;\">\n",
       "      <th></th>\n",
       "      <th>description_id</th>\n",
       "      <th>eadid</th>\n",
       "      <th>rowid</th>\n",
       "      <th>field</th>\n",
       "      <th>doc</th>\n",
       "      <th>prediction</th>\n",
       "    </tr>\n",
       "  </thead>\n",
       "  <tbody>\n",
       "    <tr>\n",
       "      <th>1177</th>\n",
       "      <td>1177</td>\n",
       "      <td>BXB</td>\n",
       "      <td>BXB/1/1/BOL</td>\n",
       "      <td>bioghist</td>\n",
       "      <td>Robyn Bolam (formerly Marion Lomax) was born i...</td>\n",
       "      <td>(Omission, Stereotype)</td>\n",
       "    </tr>\n",
       "    <tr>\n",
       "      <th>4737</th>\n",
       "      <td>4737</td>\n",
       "      <td>BXB</td>\n",
       "      <td>BXB/1/1/KEB/9</td>\n",
       "      <td>unittitle</td>\n",
       "      <td>The Man Made of Rain</td>\n",
       "      <td>(Omission, Stereotype)</td>\n",
       "    </tr>\n",
       "    <tr>\n",
       "      <th>26592</th>\n",
       "      <td>26592</td>\n",
       "      <td>GB</td>\n",
       "      <td>109501</td>\n",
       "      <td>description</td>\n",
       "      <td>View of Miss Whitney standing on fallen trunk ...</td>\n",
       "      <td>(Omission, Stereotype)</td>\n",
       "    </tr>\n",
       "    <tr>\n",
       "      <th>28530</th>\n",
       "      <td>28530</td>\n",
       "      <td>GB</td>\n",
       "      <td>110475</td>\n",
       "      <td>description</td>\n",
       "      <td>Ruined Castle, Man And Horse Nearby</td>\n",
       "      <td>(Omission, Stereotype)</td>\n",
       "    </tr>\n",
       "    <tr>\n",
       "      <th>28710</th>\n",
       "      <td>28710</td>\n",
       "      <td>GB</td>\n",
       "      <td>110565</td>\n",
       "      <td>description</td>\n",
       "      <td>Palace - Central Block Interior, Great Hall 7 ...</td>\n",
       "      <td>(Omission, Stereotype)</td>\n",
       "    </tr>\n",
       "  </tbody>\n",
       "</table>\n",
       "</div>"
      ],
      "text/plain": [
       "       description_id eadid          rowid        field  \\\n",
       "1177             1177   BXB    BXB/1/1/BOL     bioghist   \n",
       "4737             4737   BXB  BXB/1/1/KEB/9    unittitle   \n",
       "26592           26592    GB         109501  description   \n",
       "28530           28530    GB         110475  description   \n",
       "28710           28710    GB         110565  description   \n",
       "\n",
       "                                                     doc  \\\n",
       "1177   Robyn Bolam (formerly Marion Lomax) was born i...   \n",
       "4737                                The Man Made of Rain   \n",
       "26592  View of Miss Whitney standing on fallen trunk ...   \n",
       "28530                Ruined Castle, Man And Horse Nearby   \n",
       "28710  Palace - Central Block Interior, Great Hall 7 ...   \n",
       "\n",
       "                   prediction  \n",
       "1177   (Omission, Stereotype)  \n",
       "4737   (Omission, Stereotype)  \n",
       "26592  (Omission, Stereotype)  \n",
       "28530  (Omission, Stereotype)  \n",
       "28710  (Omission, Stereotype)  "
      ]
     },
     "execution_count": 60,
     "metadata": {},
     "output_type": "execute_result"
    }
   ],
   "source": [
    "os_sample_ids = random.sample(list(os_docs.description_id), sample_size)\n",
    "os_sample = os_docs.loc[os_docs.description_id.isin(os_sample_ids)]\n",
    "assert(os_sample.shape[0] == sample_size)\n",
    "os_sample.head()"
   ]
  },
  {
   "cell_type": "code",
   "execution_count": 61,
   "metadata": {},
   "outputs": [
    {
     "data": {
      "text/html": [
       "<div>\n",
       "<style scoped>\n",
       "    .dataframe tbody tr th:only-of-type {\n",
       "        vertical-align: middle;\n",
       "    }\n",
       "\n",
       "    .dataframe tbody tr th {\n",
       "        vertical-align: top;\n",
       "    }\n",
       "\n",
       "    .dataframe thead th {\n",
       "        text-align: right;\n",
       "    }\n",
       "</style>\n",
       "<table border=\"1\" class=\"dataframe\">\n",
       "  <thead>\n",
       "    <tr style=\"text-align: right;\">\n",
       "      <th></th>\n",
       "      <th>description_id</th>\n",
       "      <th>eadid</th>\n",
       "      <th>rowid</th>\n",
       "      <th>field</th>\n",
       "      <th>doc</th>\n",
       "      <th>prediction</th>\n",
       "    </tr>\n",
       "  </thead>\n",
       "  <tbody>\n",
       "    <tr>\n",
       "      <th>871</th>\n",
       "      <td>871</td>\n",
       "      <td>BXB</td>\n",
       "      <td>BXB/1/1/ARM</td>\n",
       "      <td>bioghist</td>\n",
       "      <td>Simon Armitage was born in 1963 in Huddersfiel...</td>\n",
       "      <td>(Stereotype,)</td>\n",
       "    </tr>\n",
       "    <tr>\n",
       "      <th>10630</th>\n",
       "      <td>10630</td>\n",
       "      <td>BXB</td>\n",
       "      <td>BXB/2/3/12</td>\n",
       "      <td>scopecontent</td>\n",
       "      <td>Consists of an information sheet regarding wom...</td>\n",
       "      <td>(Stereotype,)</td>\n",
       "    </tr>\n",
       "    <tr>\n",
       "      <th>26572</th>\n",
       "      <td>26572</td>\n",
       "      <td>GB</td>\n",
       "      <td>109491</td>\n",
       "      <td>description</td>\n",
       "      <td>View of Lake Louise and reflection looking tow...</td>\n",
       "      <td>(Stereotype,)</td>\n",
       "    </tr>\n",
       "    <tr>\n",
       "      <th>26838</th>\n",
       "      <td>26838</td>\n",
       "      <td>GB</td>\n",
       "      <td>109624</td>\n",
       "      <td>description</td>\n",
       "      <td>Monastery Of Apa Jeremias - Upper Church - Tom...</td>\n",
       "      <td>(Stereotype,)</td>\n",
       "    </tr>\n",
       "    <tr>\n",
       "      <th>26886</th>\n",
       "      <td>26886</td>\n",
       "      <td>GB</td>\n",
       "      <td>109648</td>\n",
       "      <td>description</td>\n",
       "      <td>Mosque Of Ibn Tulun At Qattai - Outer Wall, Sh...</td>\n",
       "      <td>(Stereotype,)</td>\n",
       "    </tr>\n",
       "  </tbody>\n",
       "</table>\n",
       "</div>"
      ],
      "text/plain": [
       "       description_id eadid        rowid         field  \\\n",
       "871               871   BXB  BXB/1/1/ARM      bioghist   \n",
       "10630           10630   BXB   BXB/2/3/12  scopecontent   \n",
       "26572           26572    GB       109491   description   \n",
       "26838           26838    GB       109624   description   \n",
       "26886           26886    GB       109648   description   \n",
       "\n",
       "                                                     doc     prediction  \n",
       "871    Simon Armitage was born in 1963 in Huddersfiel...  (Stereotype,)  \n",
       "10630  Consists of an information sheet regarding wom...  (Stereotype,)  \n",
       "26572  View of Lake Louise and reflection looking tow...  (Stereotype,)  \n",
       "26838  Monastery Of Apa Jeremias - Upper Church - Tom...  (Stereotype,)  \n",
       "26886  Mosque Of Ibn Tulun At Qattai - Outer Wall, Sh...  (Stereotype,)  "
      ]
     },
     "execution_count": 61,
     "metadata": {},
     "output_type": "execute_result"
    }
   ],
   "source": [
    "s_sample_ids = random.sample(list(s_docs.description_id), sample_size)\n",
    "s_sample = s_docs.loc[s_docs.description_id.isin(s_sample_ids)]\n",
    "assert(s_sample.shape[0] == sample_size)\n",
    "s_sample.head()"
   ]
  },
  {
   "cell_type": "code",
   "execution_count": null,
   "metadata": {},
   "outputs": [],
   "source": [
    "sample_path = config.classified_data_path+\"sample_baseline/\"\n",
    "Path(sample_path).mkdir(parents=True, exist_ok=True)"
   ]
  },
  {
   "cell_type": "code",
   "execution_count": 65,
   "metadata": {},
   "outputs": [],
   "source": [
    "sample_file = \"baseline_osc_predictions_unclf_sample.csv\"\n",
    "unclf_sample.to_csv(sample_path+sample_file)"
   ]
  },
  {
   "cell_type": "code",
   "execution_count": 66,
   "metadata": {},
   "outputs": [],
   "source": [
    "sample_file = \"baseline_osc_predictions_omission_sample.csv\"\n",
    "o_sample.to_csv(sample_path+sample_file)"
   ]
  },
  {
   "cell_type": "code",
   "execution_count": 67,
   "metadata": {},
   "outputs": [],
   "source": [
    "sample_file = \"baseline_osc_predictions_omission-stereotype_sample.csv\"\n",
    "os_sample.to_csv(sample_path+sample_file)"
   ]
  },
  {
   "cell_type": "code",
   "execution_count": 72,
   "metadata": {},
   "outputs": [],
   "source": [
    "sample_file = \"baseline_osc_predictions_stereotype_sample.csv\"\n",
    "s_sample.to_csv(sample_path+sample_file)"
   ]
  },
  {
   "cell_type": "code",
   "execution_count": 69,
   "metadata": {},
   "outputs": [
    {
     "data": {
      "text/html": [
       "<div>\n",
       "<style scoped>\n",
       "    .dataframe tbody tr th:only-of-type {\n",
       "        vertical-align: middle;\n",
       "    }\n",
       "\n",
       "    .dataframe tbody tr th {\n",
       "        vertical-align: top;\n",
       "    }\n",
       "\n",
       "    .dataframe thead th {\n",
       "        text-align: right;\n",
       "    }\n",
       "</style>\n",
       "<table border=\"1\" class=\"dataframe\">\n",
       "  <thead>\n",
       "    <tr style=\"text-align: right;\">\n",
       "      <th></th>\n",
       "      <th>description_id</th>\n",
       "      <th>eadid</th>\n",
       "      <th>rowid</th>\n",
       "      <th>field</th>\n",
       "      <th>doc</th>\n",
       "      <th>prediction</th>\n",
       "    </tr>\n",
       "  </thead>\n",
       "  <tbody>\n",
       "    <tr>\n",
       "      <th>478</th>\n",
       "      <td>478</td>\n",
       "      <td>BP</td>\n",
       "      <td>BP/30/02/01</td>\n",
       "      <td>unittitle</td>\n",
       "      <td>Correspondence in relation to the Gertrude Bel...</td>\n",
       "      <td>()</td>\n",
       "    </tr>\n",
       "    <tr>\n",
       "      <th>511</th>\n",
       "      <td>511</td>\n",
       "      <td>BP</td>\n",
       "      <td>BP/30/04/11</td>\n",
       "      <td>scopecontent</td>\n",
       "      <td>Family photograph album belonging to the Bell ...</td>\n",
       "      <td>()</td>\n",
       "    </tr>\n",
       "    <tr>\n",
       "      <th>764</th>\n",
       "      <td>764</td>\n",
       "      <td>BXB</td>\n",
       "      <td>BXB/1/1/AGG/1/7</td>\n",
       "      <td>unittitle</td>\n",
       "      <td>Press Cuttings and publicity</td>\n",
       "      <td>()</td>\n",
       "    </tr>\n",
       "    <tr>\n",
       "      <th>871</th>\n",
       "      <td>871</td>\n",
       "      <td>BXB</td>\n",
       "      <td>BXB/1/1/ARM</td>\n",
       "      <td>bioghist</td>\n",
       "      <td>Simon Armitage was born in 1963 in Huddersfiel...</td>\n",
       "      <td>(Stereotype,)</td>\n",
       "    </tr>\n",
       "    <tr>\n",
       "      <th>1066</th>\n",
       "      <td>1066</td>\n",
       "      <td>BXB</td>\n",
       "      <td>BXB/1/1/BEJ/3</td>\n",
       "      <td>unittitle</td>\n",
       "      <td>A Story I Am In: Selected Poems</td>\n",
       "      <td>()</td>\n",
       "    </tr>\n",
       "  </tbody>\n",
       "</table>\n",
       "</div>"
      ],
      "text/plain": [
       "      description_id eadid            rowid         field  \\\n",
       "478              478    BP      BP/30/02/01     unittitle   \n",
       "511              511    BP      BP/30/04/11  scopecontent   \n",
       "764              764   BXB  BXB/1/1/AGG/1/7     unittitle   \n",
       "871              871   BXB      BXB/1/1/ARM      bioghist   \n",
       "1066            1066   BXB    BXB/1/1/BEJ/3     unittitle   \n",
       "\n",
       "                                                    doc     prediction  \n",
       "478   Correspondence in relation to the Gertrude Bel...             ()  \n",
       "511   Family photograph album belonging to the Bell ...             ()  \n",
       "764                        Press Cuttings and publicity             ()  \n",
       "871   Simon Armitage was born in 1963 in Huddersfiel...  (Stereotype,)  \n",
       "1066                    A Story I Am In: Selected Poems             ()  "
      ]
     },
     "execution_count": 69,
     "metadata": {},
     "output_type": "execute_result"
    }
   ],
   "source": [
    "df_sample = pd.concat([unclf_sample, o_sample, os_sample, s_sample])\n",
    "df_sample = df_sample.sort_values(by=[\"description_id\"])\n",
    "df_sample.head()"
   ]
  },
  {
   "cell_type": "code",
   "execution_count": 70,
   "metadata": {},
   "outputs": [
    {
     "data": {
      "text/html": [
       "<div>\n",
       "<style scoped>\n",
       "    .dataframe tbody tr th:only-of-type {\n",
       "        vertical-align: middle;\n",
       "    }\n",
       "\n",
       "    .dataframe tbody tr th {\n",
       "        vertical-align: top;\n",
       "    }\n",
       "\n",
       "    .dataframe thead th {\n",
       "        text-align: right;\n",
       "    }\n",
       "</style>\n",
       "<table border=\"1\" class=\"dataframe\">\n",
       "  <thead>\n",
       "    <tr style=\"text-align: right;\">\n",
       "      <th></th>\n",
       "      <th>description_id</th>\n",
       "      <th>eadid</th>\n",
       "      <th>rowid</th>\n",
       "      <th>field</th>\n",
       "      <th>doc</th>\n",
       "      <th>prediction</th>\n",
       "    </tr>\n",
       "  </thead>\n",
       "  <tbody>\n",
       "    <tr>\n",
       "      <th>55226</th>\n",
       "      <td>55226</td>\n",
       "      <td>THS</td>\n",
       "      <td>THS 5.3.1</td>\n",
       "      <td>scopecontent</td>\n",
       "      <td>The Editor reminds the author about an article...</td>\n",
       "      <td>(Omission,)</td>\n",
       "    </tr>\n",
       "    <tr>\n",
       "      <th>55457</th>\n",
       "      <td>55457</td>\n",
       "      <td>THS</td>\n",
       "      <td>THS 5.4.46</td>\n",
       "      <td>unittitle</td>\n",
       "      <td>Typescript copy of a letter to Miss Barker.</td>\n",
       "      <td>(Omission,)</td>\n",
       "    </tr>\n",
       "    <tr>\n",
       "      <th>57352</th>\n",
       "      <td>57352</td>\n",
       "      <td>WCT</td>\n",
       "      <td>WCT 215</td>\n",
       "      <td>unittitle</td>\n",
       "      <td>Letter from Mrs Hind Smith</td>\n",
       "      <td>(Omission,)</td>\n",
       "    </tr>\n",
       "    <tr>\n",
       "      <th>57675</th>\n",
       "      <td>57675</td>\n",
       "      <td>WCT</td>\n",
       "      <td>WCT 300</td>\n",
       "      <td>unittitle</td>\n",
       "      <td>Wansbeck Railway Act</td>\n",
       "      <td>()</td>\n",
       "    </tr>\n",
       "    <tr>\n",
       "      <th>57878</th>\n",
       "      <td>57878</td>\n",
       "      <td>WCT</td>\n",
       "      <td>WCT 94</td>\n",
       "      <td>unittitle</td>\n",
       "      <td>Letters from and about Charles Tilstone Beke t...</td>\n",
       "      <td>()</td>\n",
       "    </tr>\n",
       "  </tbody>\n",
       "</table>\n",
       "</div>"
      ],
      "text/plain": [
       "       description_id eadid       rowid         field  \\\n",
       "55226           55226   THS   THS 5.3.1  scopecontent   \n",
       "55457           55457   THS  THS 5.4.46     unittitle   \n",
       "57352           57352   WCT     WCT 215     unittitle   \n",
       "57675           57675   WCT     WCT 300     unittitle   \n",
       "57878           57878   WCT      WCT 94     unittitle   \n",
       "\n",
       "                                                     doc   prediction  \n",
       "55226  The Editor reminds the author about an article...  (Omission,)  \n",
       "55457        Typescript copy of a letter to Miss Barker.  (Omission,)  \n",
       "57352                         Letter from Mrs Hind Smith  (Omission,)  \n",
       "57675                               Wansbeck Railway Act           ()  \n",
       "57878  Letters from and about Charles Tilstone Beke t...           ()  "
      ]
     },
     "execution_count": 70,
     "metadata": {},
     "output_type": "execute_result"
    }
   ],
   "source": [
    "df_sample.tail()"
   ]
  },
  {
   "cell_type": "code",
   "execution_count": 73,
   "metadata": {},
   "outputs": [],
   "source": [
    "clf_sample_file = \"baseline_osc_predictions_sample_with_preds.csv\"\n",
    "df_sample.to_csv(sample_path+clf_sample_file)"
   ]
  },
  {
   "cell_type": "code",
   "execution_count": 74,
   "metadata": {},
   "outputs": [],
   "source": [
    "df_sample_unclf = df_sample.drop(columns=[\"prediction\"])\n",
    "unclf_sample_file = \"baseline_osc_predictions_sample_no_preds.csv\"\n",
    "df_sample_unclf.to_csv(sample_path+unclf_sample_file)"
   ]
  },
  {
   "cell_type": "code",
   "execution_count": null,
   "metadata": {},
   "outputs": [],
   "source": []
  }
 ],
 "metadata": {
  "kernelspec": {
   "display_name": "gender-bias-env",
   "language": "python",
   "name": "python3"
  },
  "language_info": {
   "codemirror_mode": {
    "name": "ipython",
    "version": 3
   },
   "file_extension": ".py",
   "mimetype": "text/x-python",
   "name": "python",
   "nbconvert_exporter": "python",
   "pygments_lexer": "ipython3",
   "version": "3.9.20"
  }
 },
 "nbformat": 4,
 "nbformat_minor": 2
}
