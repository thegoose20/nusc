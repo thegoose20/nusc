{
 "cells": [
  {
   "cell_type": "markdown",
   "metadata": {},
   "source": [
    "# Classification\n",
    "\n",
    "## Baseline Omission and Stereotype Classifier"
   ]
  },
  {
   "cell_type": "code",
   "execution_count": 1,
   "metadata": {},
   "outputs": [
    {
     "name": "stderr",
     "output_type": "stream",
     "text": [
      "[nltk_data] Error loading punkt: <urlopen error [Errno 8] nodename nor\n",
      "[nltk_data]     servname provided, or not known>\n"
     ]
    }
   ],
   "source": [
    "import config, clf_utils\n",
    "import re\n",
    "import random\n",
    "import numpy as np\n",
    "import pandas as pd\n",
    "from pathlib import Path\n",
    "import joblib\n",
    "from joblib import load\n",
    "from nltk.tokenize import word_tokenize\n",
    "from sklearn.multiclass import OneVsRestClassifier\n",
    "from sklearn.linear_model import SGDClassifier\n",
    "from sklearn.preprocessing import MultiLabelBinarizer\n",
    "from sklearn.feature_extraction.text import CountVectorizer, TfidfTransformer\n",
    "from sklearn.metrics import multilabel_confusion_matrix\n",
    "from sklearn.metrics import precision_recall_fscore_support"
   ]
  },
  {
   "cell_type": "markdown",
   "metadata": {},
   "source": [
    "### 1. Preprocessing\n",
    "\n",
    "Load the extracted archival metadata from the Newcastle University Special Collections catalog."
   ]
  },
  {
   "cell_type": "code",
   "execution_count": 3,
   "metadata": {},
   "outputs": [
    {
     "data": {
      "text/html": [
       "<div>\n",
       "<style scoped>\n",
       "    .dataframe tbody tr th:only-of-type {\n",
       "        vertical-align: middle;\n",
       "    }\n",
       "\n",
       "    .dataframe tbody tr th {\n",
       "        vertical-align: top;\n",
       "    }\n",
       "\n",
       "    .dataframe thead th {\n",
       "        text-align: right;\n",
       "    }\n",
       "</style>\n",
       "<table border=\"1\" class=\"dataframe\">\n",
       "  <thead>\n",
       "    <tr style=\"text-align: right;\">\n",
       "      <th></th>\n",
       "      <th>doc</th>\n",
       "      <th>gender_bias_manual</th>\n",
       "      <th>omission_manual</th>\n",
       "      <th>stereotype_manual</th>\n",
       "      <th>type</th>\n",
       "      <th>note</th>\n",
       "      <th>eadid</th>\n",
       "      <th>description_id</th>\n",
       "      <th>rowid</th>\n",
       "      <th>field</th>\n",
       "    </tr>\n",
       "    <tr>\n",
       "      <th>index</th>\n",
       "      <th></th>\n",
       "      <th></th>\n",
       "      <th></th>\n",
       "      <th></th>\n",
       "      <th></th>\n",
       "      <th></th>\n",
       "      <th></th>\n",
       "      <th></th>\n",
       "      <th></th>\n",
       "      <th></th>\n",
       "    </tr>\n",
       "  </thead>\n",
       "  <tbody>\n",
       "    <tr>\n",
       "      <th>11452</th>\n",
       "      <td>Drafts and meeting notes relating to the creat...</td>\n",
       "      <td>n</td>\n",
       "      <td>n</td>\n",
       "      <td>n</td>\n",
       "      <td>NaN</td>\n",
       "      <td>NaN</td>\n",
       "      <td>CHE</td>\n",
       "      <td>11452</td>\n",
       "      <td>CHE/01/01</td>\n",
       "      <td>scopecontent</td>\n",
       "    </tr>\n",
       "    <tr>\n",
       "      <th>11467</th>\n",
       "      <td>CHE Supporters Review</td>\n",
       "      <td>n</td>\n",
       "      <td>n</td>\n",
       "      <td>n</td>\n",
       "      <td>NaN</td>\n",
       "      <td>NaN</td>\n",
       "      <td>CHE</td>\n",
       "      <td>11467</td>\n",
       "      <td>CHE/02/04</td>\n",
       "      <td>unittitle</td>\n",
       "    </tr>\n",
       "    <tr>\n",
       "      <th>11471</th>\n",
       "      <td>Friend Newcastle Annual Reports</td>\n",
       "      <td>n</td>\n",
       "      <td>n</td>\n",
       "      <td>n</td>\n",
       "      <td>NaN</td>\n",
       "      <td>NaN</td>\n",
       "      <td>CHE</td>\n",
       "      <td>11471</td>\n",
       "      <td>CHE/02/06</td>\n",
       "      <td>unittitle</td>\n",
       "    </tr>\n",
       "    <tr>\n",
       "      <th>11554</th>\n",
       "      <td>Collection of documents on sex education in sc...</td>\n",
       "      <td>n</td>\n",
       "      <td>n</td>\n",
       "      <td>n</td>\n",
       "      <td>NaN</td>\n",
       "      <td>NaN</td>\n",
       "      <td>CHE</td>\n",
       "      <td>11554</td>\n",
       "      <td>CHE/03/06/12</td>\n",
       "      <td>unittitle</td>\n",
       "    </tr>\n",
       "    <tr>\n",
       "      <th>11555</th>\n",
       "      <td>Letters, newsletters and leaflets on the topic...</td>\n",
       "      <td>n</td>\n",
       "      <td>n</td>\n",
       "      <td>n</td>\n",
       "      <td>NaN</td>\n",
       "      <td>NaN</td>\n",
       "      <td>CHE</td>\n",
       "      <td>11555</td>\n",
       "      <td>CHE/03/06/13</td>\n",
       "      <td>unittitle</td>\n",
       "    </tr>\n",
       "  </tbody>\n",
       "</table>\n",
       "</div>"
      ],
      "text/plain": [
       "                                                     doc gender_bias_manual  \\\n",
       "index                                                                         \n",
       "11452  Drafts and meeting notes relating to the creat...                  n   \n",
       "11467                              CHE Supporters Review                  n   \n",
       "11471                    Friend Newcastle Annual Reports                  n   \n",
       "11554  Collection of documents on sex education in sc...                  n   \n",
       "11555  Letters, newsletters and leaflets on the topic...                  n   \n",
       "\n",
       "      omission_manual stereotype_manual type note eadid  description_id  \\\n",
       "index                                                                     \n",
       "11452               n                 n  NaN  NaN   CHE           11452   \n",
       "11467               n                 n  NaN  NaN   CHE           11467   \n",
       "11471               n                 n  NaN  NaN   CHE           11471   \n",
       "11554               n                 n  NaN  NaN   CHE           11554   \n",
       "11555               n                 n  NaN  NaN   CHE           11555   \n",
       "\n",
       "              rowid         field  \n",
       "index                              \n",
       "11452     CHE/01/01  scopecontent  \n",
       "11467     CHE/02/04     unittitle  \n",
       "11471     CHE/02/06     unittitle  \n",
       "11554  CHE/03/06/12     unittitle  \n",
       "11555  CHE/03/06/13     unittitle  "
      ]
     },
     "execution_count": 3,
     "metadata": {},
     "output_type": "execute_result"
    }
   ],
   "source": [
    "# extracted_dir = \"data/extracted/\"\n",
    "# doc_df = pd.read_csv(extracted_dir+\"nusc_archival_descs_for_clf.csv\", index_col=0)\n",
    "\n",
    "manually_coded = config.coded_data_path1+\"all_manually_coded_data.csv\"\n",
    "doc_df = pd.read_csv(manually_coded, index_col=0)\n",
    "doc_df = doc_df.rename(columns={\"gender_bias\":\"gender_bias_manual\", \"omission\":\"omission_manual\", \"stereotype\":\"stereotype_manual\"})\n",
    "\n",
    "doc_df.head()"
   ]
  },
  {
   "cell_type": "code",
   "execution_count": 4,
   "metadata": {},
   "outputs": [
    {
     "data": {
      "text/html": [
       "<div>\n",
       "<style scoped>\n",
       "    .dataframe tbody tr th:only-of-type {\n",
       "        vertical-align: middle;\n",
       "    }\n",
       "\n",
       "    .dataframe tbody tr th {\n",
       "        vertical-align: top;\n",
       "    }\n",
       "\n",
       "    .dataframe thead th {\n",
       "        text-align: right;\n",
       "    }\n",
       "</style>\n",
       "<table border=\"1\" class=\"dataframe\">\n",
       "  <thead>\n",
       "    <tr style=\"text-align: right;\">\n",
       "      <th></th>\n",
       "      <th>doc</th>\n",
       "      <th>gender_bias_manual</th>\n",
       "      <th>omission_manual</th>\n",
       "      <th>stereotype_manual</th>\n",
       "      <th>type</th>\n",
       "      <th>note</th>\n",
       "      <th>eadid</th>\n",
       "      <th>description_id</th>\n",
       "      <th>rowid</th>\n",
       "      <th>field</th>\n",
       "    </tr>\n",
       "    <tr>\n",
       "      <th>index</th>\n",
       "      <th></th>\n",
       "      <th></th>\n",
       "      <th></th>\n",
       "      <th></th>\n",
       "      <th></th>\n",
       "      <th></th>\n",
       "      <th></th>\n",
       "      <th></th>\n",
       "      <th></th>\n",
       "      <th></th>\n",
       "    </tr>\n",
       "  </thead>\n",
       "  <tbody>\n",
       "    <tr>\n",
       "      <th>4861</th>\n",
       "      <td>“The Way to the Cathedral” I.</td>\n",
       "      <td>n</td>\n",
       "      <td>n</td>\n",
       "      <td>n</td>\n",
       "      <td>NaN</td>\n",
       "      <td>NaN</td>\n",
       "      <td>THS</td>\n",
       "      <td>32972</td>\n",
       "      <td>THS 61.1</td>\n",
       "      <td>unittitle</td>\n",
       "    </tr>\n",
       "    <tr>\n",
       "      <th>4862</th>\n",
       "      <td>“The Way to the Cathedral” II.</td>\n",
       "      <td>n</td>\n",
       "      <td>n</td>\n",
       "      <td>n</td>\n",
       "      <td>NaN</td>\n",
       "      <td>NaN</td>\n",
       "      <td>THS</td>\n",
       "      <td>32974</td>\n",
       "      <td>THS 61.2</td>\n",
       "      <td>scopecontent</td>\n",
       "    </tr>\n",
       "    <tr>\n",
       "      <th>4862</th>\n",
       "      <td>“The Way to the Cathedral” II.</td>\n",
       "      <td>n</td>\n",
       "      <td>n</td>\n",
       "      <td>n</td>\n",
       "      <td>NaN</td>\n",
       "      <td>NaN</td>\n",
       "      <td>THS</td>\n",
       "      <td>32975</td>\n",
       "      <td>THS 61.2</td>\n",
       "      <td>unittitle</td>\n",
       "    </tr>\n",
       "    <tr>\n",
       "      <th>4863</th>\n",
       "      <td>“Thomas Sharp – an appreciation” by Lewis Keeble.</td>\n",
       "      <td>n</td>\n",
       "      <td>n</td>\n",
       "      <td>n</td>\n",
       "      <td>NaN</td>\n",
       "      <td>NaN</td>\n",
       "      <td>THS</td>\n",
       "      <td>32934</td>\n",
       "      <td>THS 56.2</td>\n",
       "      <td>unittitle</td>\n",
       "    </tr>\n",
       "    <tr>\n",
       "      <th>4864</th>\n",
       "      <td>“Thomas Sharp – an appreciation” by Lewis Keeb...</td>\n",
       "      <td>n</td>\n",
       "      <td>n</td>\n",
       "      <td>n</td>\n",
       "      <td>NaN</td>\n",
       "      <td>NaN</td>\n",
       "      <td>THS</td>\n",
       "      <td>32933</td>\n",
       "      <td>THS 56.2</td>\n",
       "      <td>scopecontent</td>\n",
       "    </tr>\n",
       "  </tbody>\n",
       "</table>\n",
       "</div>"
      ],
      "text/plain": [
       "                                                     doc gender_bias_manual  \\\n",
       "index                                                                         \n",
       "4861                       “The Way to the Cathedral” I.                  n   \n",
       "4862                      “The Way to the Cathedral” II.                  n   \n",
       "4862                      “The Way to the Cathedral” II.                  n   \n",
       "4863   “Thomas Sharp – an appreciation” by Lewis Keeble.                  n   \n",
       "4864   “Thomas Sharp – an appreciation” by Lewis Keeb...                  n   \n",
       "\n",
       "      omission_manual stereotype_manual type note eadid  description_id  \\\n",
       "index                                                                     \n",
       "4861                n                 n  NaN  NaN   THS           32972   \n",
       "4862                n                 n  NaN  NaN   THS           32974   \n",
       "4862                n                 n  NaN  NaN   THS           32975   \n",
       "4863                n                 n  NaN  NaN   THS           32934   \n",
       "4864                n                 n  NaN  NaN   THS           32933   \n",
       "\n",
       "          rowid         field  \n",
       "index                          \n",
       "4861   THS 61.1     unittitle  \n",
       "4862   THS 61.2  scopecontent  \n",
       "4862   THS 61.2     unittitle  \n",
       "4863   THS 56.2     unittitle  \n",
       "4864   THS 56.2  scopecontent  "
      ]
     },
     "execution_count": 4,
     "metadata": {},
     "output_type": "execute_result"
    }
   ],
   "source": [
    "doc_df.tail()"
   ]
  },
  {
   "cell_type": "code",
   "execution_count": 5,
   "metadata": {},
   "outputs": [
    {
     "data": {
      "text/plain": [
       "(12337, 10)"
      ]
     },
     "execution_count": 5,
     "metadata": {},
     "output_type": "execute_result"
    }
   ],
   "source": [
    "doc_df.shape  # All extracted data: (57947, 5) #complete Bell Archive metadata added about 25k more descriptions"
   ]
  },
  {
   "cell_type": "markdown",
   "metadata": {},
   "source": [
    "There are 57,947 metadata descriptions extracted from the Newcastle University Special Collections archival catalog to classify for *Omission* and *Stereotype*.\n",
    "\n",
    "There are 12,337 metadata descriptions that were manually coded for *Omission* and *Stereotype*."
   ]
  },
  {
   "cell_type": "markdown",
   "metadata": {},
   "source": [
    "### 2. Classification\n",
    "Load the baseline Omission and Stereotype Classifier (OSC)."
   ]
  },
  {
   "cell_type": "code",
   "execution_count": 6,
   "metadata": {},
   "outputs": [],
   "source": [
    "cvectorizer = joblib.load(\"models/transform_docs/count_vectorizer.joblib\")\n",
    "tfidf = joblib.load(\"models/transform_docs/tfidf_transformer.joblib\")\n",
    "mlb = joblib.load(\"models/transform_labels/mlb_targets_os.joblib\")\n",
    "clf = joblib.load(\"models/baseline_osc/sgd-svm_F-tfidf_T-os.joblib\")"
   ]
  },
  {
   "cell_type": "markdown",
   "metadata": {},
   "source": [
    "Classify the descriptions."
   ]
  },
  {
   "cell_type": "code",
   "execution_count": 7,
   "metadata": {},
   "outputs": [],
   "source": [
    "vectorized = cvectorizer.transform(doc_df[\"doc\"])\n",
    "X = tfidf.transform(vectorized)\n",
    "y = clf.predict(X)"
   ]
  },
  {
   "cell_type": "code",
   "execution_count": 8,
   "metadata": {},
   "outputs": [],
   "source": [
    "predictions = mlb.inverse_transform(y)"
   ]
  },
  {
   "cell_type": "code",
   "execution_count": 9,
   "metadata": {},
   "outputs": [
    {
     "data": {
      "text/html": [
       "<div>\n",
       "<style scoped>\n",
       "    .dataframe tbody tr th:only-of-type {\n",
       "        vertical-align: middle;\n",
       "    }\n",
       "\n",
       "    .dataframe tbody tr th {\n",
       "        vertical-align: top;\n",
       "    }\n",
       "\n",
       "    .dataframe thead th {\n",
       "        text-align: right;\n",
       "    }\n",
       "</style>\n",
       "<table border=\"1\" class=\"dataframe\">\n",
       "  <thead>\n",
       "    <tr style=\"text-align: right;\">\n",
       "      <th></th>\n",
       "      <th>doc</th>\n",
       "      <th>gender_bias_manual</th>\n",
       "      <th>omission_manual</th>\n",
       "      <th>stereotype_manual</th>\n",
       "      <th>type</th>\n",
       "      <th>note</th>\n",
       "      <th>eadid</th>\n",
       "      <th>description_id</th>\n",
       "      <th>rowid</th>\n",
       "      <th>field</th>\n",
       "      <th>baseline_prediction</th>\n",
       "    </tr>\n",
       "    <tr>\n",
       "      <th>index</th>\n",
       "      <th></th>\n",
       "      <th></th>\n",
       "      <th></th>\n",
       "      <th></th>\n",
       "      <th></th>\n",
       "      <th></th>\n",
       "      <th></th>\n",
       "      <th></th>\n",
       "      <th></th>\n",
       "      <th></th>\n",
       "      <th></th>\n",
       "    </tr>\n",
       "  </thead>\n",
       "  <tbody>\n",
       "    <tr>\n",
       "      <th>11452</th>\n",
       "      <td>Drafts and meeting notes relating to the creat...</td>\n",
       "      <td>n</td>\n",
       "      <td>n</td>\n",
       "      <td>n</td>\n",
       "      <td>NaN</td>\n",
       "      <td>NaN</td>\n",
       "      <td>CHE</td>\n",
       "      <td>11452</td>\n",
       "      <td>CHE/01/01</td>\n",
       "      <td>scopecontent</td>\n",
       "      <td>()</td>\n",
       "    </tr>\n",
       "    <tr>\n",
       "      <th>11467</th>\n",
       "      <td>CHE Supporters Review</td>\n",
       "      <td>n</td>\n",
       "      <td>n</td>\n",
       "      <td>n</td>\n",
       "      <td>NaN</td>\n",
       "      <td>NaN</td>\n",
       "      <td>CHE</td>\n",
       "      <td>11467</td>\n",
       "      <td>CHE/02/04</td>\n",
       "      <td>unittitle</td>\n",
       "      <td>()</td>\n",
       "    </tr>\n",
       "    <tr>\n",
       "      <th>11471</th>\n",
       "      <td>Friend Newcastle Annual Reports</td>\n",
       "      <td>n</td>\n",
       "      <td>n</td>\n",
       "      <td>n</td>\n",
       "      <td>NaN</td>\n",
       "      <td>NaN</td>\n",
       "      <td>CHE</td>\n",
       "      <td>11471</td>\n",
       "      <td>CHE/02/06</td>\n",
       "      <td>unittitle</td>\n",
       "      <td>()</td>\n",
       "    </tr>\n",
       "    <tr>\n",
       "      <th>11554</th>\n",
       "      <td>Collection of documents on sex education in sc...</td>\n",
       "      <td>n</td>\n",
       "      <td>n</td>\n",
       "      <td>n</td>\n",
       "      <td>NaN</td>\n",
       "      <td>NaN</td>\n",
       "      <td>CHE</td>\n",
       "      <td>11554</td>\n",
       "      <td>CHE/03/06/12</td>\n",
       "      <td>unittitle</td>\n",
       "      <td>()</td>\n",
       "    </tr>\n",
       "    <tr>\n",
       "      <th>11555</th>\n",
       "      <td>Letters, newsletters and leaflets on the topic...</td>\n",
       "      <td>n</td>\n",
       "      <td>n</td>\n",
       "      <td>n</td>\n",
       "      <td>NaN</td>\n",
       "      <td>NaN</td>\n",
       "      <td>CHE</td>\n",
       "      <td>11555</td>\n",
       "      <td>CHE/03/06/13</td>\n",
       "      <td>unittitle</td>\n",
       "      <td>()</td>\n",
       "    </tr>\n",
       "  </tbody>\n",
       "</table>\n",
       "</div>"
      ],
      "text/plain": [
       "                                                     doc gender_bias_manual  \\\n",
       "index                                                                         \n",
       "11452  Drafts and meeting notes relating to the creat...                  n   \n",
       "11467                              CHE Supporters Review                  n   \n",
       "11471                    Friend Newcastle Annual Reports                  n   \n",
       "11554  Collection of documents on sex education in sc...                  n   \n",
       "11555  Letters, newsletters and leaflets on the topic...                  n   \n",
       "\n",
       "      omission_manual stereotype_manual type note eadid  description_id  \\\n",
       "index                                                                     \n",
       "11452               n                 n  NaN  NaN   CHE           11452   \n",
       "11467               n                 n  NaN  NaN   CHE           11467   \n",
       "11471               n                 n  NaN  NaN   CHE           11471   \n",
       "11554               n                 n  NaN  NaN   CHE           11554   \n",
       "11555               n                 n  NaN  NaN   CHE           11555   \n",
       "\n",
       "              rowid         field baseline_prediction  \n",
       "index                                                  \n",
       "11452     CHE/01/01  scopecontent                  ()  \n",
       "11467     CHE/02/04     unittitle                  ()  \n",
       "11471     CHE/02/06     unittitle                  ()  \n",
       "11554  CHE/03/06/12     unittitle                  ()  \n",
       "11555  CHE/03/06/13     unittitle                  ()  "
      ]
     },
     "execution_count": 9,
     "metadata": {},
     "output_type": "execute_result"
    }
   ],
   "source": [
    "doc_df.insert(len(doc_df.columns), \"baseline_prediction\", predictions)\n",
    "doc_df.head()"
   ]
  },
  {
   "cell_type": "code",
   "execution_count": 10,
   "metadata": {},
   "outputs": [
    {
     "data": {
      "text/plain": [
       "()                        12168\n",
       "(Omission,)                 164\n",
       "(Stereotype,)                 3\n",
       "(Omission, Stereotype)        2\n",
       "Name: baseline_prediction, dtype: int64"
      ]
     },
     "execution_count": 10,
     "metadata": {},
     "output_type": "execute_result"
    }
   ],
   "source": [
    "doc_df.baseline_prediction.value_counts()"
   ]
  },
  {
   "cell_type": "code",
   "execution_count": 11,
   "metadata": {},
   "outputs": [
    {
     "name": "stdout",
     "output_type": "stream",
     "text": [
      "Proportion of manually coded descriptions classified: 0.0136986301369863\n"
     ]
    }
   ],
   "source": [
    "# print(\"Proportion of descriptions classified:\", (1489+909+314)/(55235+1489+909+314))  # about 4.7%\n",
    "print(\"Proportion of manually coded descriptions classified:\", (164+3+2)/(12168+164+3+2))  # about 1.4%"
   ]
  },
  {
   "cell_type": "markdown",
   "metadata": {},
   "source": [
    "Export the classified data."
   ]
  },
  {
   "cell_type": "code",
   "execution_count": 12,
   "metadata": {},
   "outputs": [],
   "source": [
    "# filename = \"baseline_osc_predictions.csv\"\n",
    "# doc_df.to_csv(config.classified_data_path+filename)\n",
    "\n",
    "filename = \"manually_coded_baselineosc.csv\"\n",
    "doc_df.to_csv(config.coded_and_classified+filename)"
   ]
  },
  {
   "cell_type": "markdown",
   "metadata": {},
   "source": [
    "***\n",
    "Deduplicate the descriptions and create a new export where each row has a unique doc-eadid-prediction combination."
   ]
  },
  {
   "cell_type": "code",
   "execution_count": 12,
   "metadata": {},
   "outputs": [
    {
     "name": "stdout",
     "output_type": "stream",
     "text": [
      "(27235, 6)\n",
      "(27209, 6)\n",
      "(27209, 6)\n"
     ]
    }
   ],
   "source": [
    "doc_df_dedup1 = doc_df.drop_duplicates(subset=[\"eadid\", \"doc\", \"prediction\"])\n",
    "doc_df_dedup2 = doc_df.drop_duplicates(subset=[\"doc\", \"prediction\"])\n",
    "doc_df_dedup3 = doc_df.drop_duplicates(subset=[\"doc\"])\n",
    "print(doc_df_dedup1.shape)\n",
    "print(doc_df_dedup2.shape)  # as expected, same as next\n",
    "print(doc_df_dedup3.shape)  # as expected, same as previous"
   ]
  },
  {
   "cell_type": "code",
   "execution_count": 13,
   "metadata": {},
   "outputs": [],
   "source": [
    "dedup_filename = \"baseline_osc_predictions_deduplicated.csv\"\n",
    "doc_df_dedup1.to_csv(config.classified_data_path+dedup_filename)"
   ]
  },
  {
   "cell_type": "code",
   "execution_count": 14,
   "metadata": {},
   "outputs": [
    {
     "data": {
      "text/plain": [
       "()                        24819\n",
       "(Omission,)                1362\n",
       "(Omission, Stereotype)      773\n",
       "(Stereotype,)               281\n",
       "Name: prediction, dtype: int64"
      ]
     },
     "execution_count": 14,
     "metadata": {},
     "output_type": "execute_result"
    }
   ],
   "source": [
    "doc_df_dedup1.prediction.value_counts()"
   ]
  },
  {
   "cell_type": "code",
   "execution_count": 15,
   "metadata": {},
   "outputs": [
    {
     "name": "stdout",
     "output_type": "stream",
     "text": [
      "Proportion of unique descriptions classified: 0.09734477617953986\n"
     ]
    }
   ],
   "source": [
    "print(\"Proportion of unique descriptions classified:\", (1362+773+281)/24819) # about 10%"
   ]
  },
  {
   "cell_type": "markdown",
   "metadata": {},
   "source": [
    "### 3. Manual Review\n",
    "Export a selection of descriptions for manual review, including a combination of unclassified and classified descriptions, randomly selected to include, per collection equal parts descriptions that were unclassified, that were classified as *Omission*, that were classified as *Omission* and *Stereotype*, and that were classified as *Stereotype*."
   ]
  },
  {
   "cell_type": "code",
   "execution_count": 17,
   "metadata": {},
   "outputs": [
    {
     "name": "stdout",
     "output_type": "stream",
     "text": [
      "['BP', 'BXB', 'CHE', 'CPT', 'GB', 'HL', 'OBR', 'SH', 'SW', 'THS', 'WCT']\n"
     ]
    }
   ],
   "source": [
    "eadid_col = \"eadid\"\n",
    "eadids = list(doc_df_dedup1[eadid_col].unique())\n",
    "print(eadids)"
   ]
  },
  {
   "cell_type": "code",
   "execution_count": 18,
   "metadata": {},
   "outputs": [],
   "source": [
    "sample_path = config.classified_data_path+\"sample_baseline/\"\n",
    "Path(sample_path).mkdir(parents=True, exist_ok=True)"
   ]
  },
  {
   "cell_type": "code",
   "execution_count": 19,
   "metadata": {},
   "outputs": [
    {
     "name": "stdout",
     "output_type": "stream",
     "text": [
      "Wrote BP_sample.csv!\n",
      "Wrote BXB_sample.csv!\n",
      "Wrote CHE_sample.csv!\n",
      "Wrote CPT_sample.csv!\n",
      "Wrote GB_sample.csv!\n",
      "Wrote HL_sample.csv!\n",
      "Wrote OBR_sample.csv!\n",
      "Wrote SH_sample.csv!\n",
      "Wrote SW_sample.csv!\n",
      "Wrote THS_sample.csv!\n",
      "Wrote WCT_sample.csv!\n"
     ]
    }
   ],
   "source": [
    "file_suffix = \"_sample.csv\"\n",
    "pred_col = \"prediction\"\n",
    "sample_size = 0.05 # 5%\n",
    "for eadid in eadids:\n",
    "    subdf = doc_df_dedup1.loc[doc_df_dedup1[eadid_col] == eadid]\n",
    "    unclf_docs = subdf.loc[subdf[pred_col] == ()] # descriptions without an Omission or Stereotype classification\n",
    "    o_docs = subdf.loc[subdf[pred_col] == ('Omission',)] # descriptions with an Omission but no Stereotype classification\n",
    "    s_docs = subdf.loc[subdf[pred_col] == ('Stereotype',)] # descriptions with a Stereotype but no Omission classification\n",
    "    os_docs = subdf.loc[subdf[pred_col] == ('Omission', 'Stereotype')] # descriptions with an Omission and a Stereotype classification\n",
    "    dfs = [unclf_docs, o_docs, s_docs, os_docs]\n",
    "\n",
    "    all_samples = pd.DataFrame()\n",
    "    for df in dfs:\n",
    "        desc_id_list = list(df.description_id)\n",
    "        if len(desc_id_list) > 0:\n",
    "            sample_ids = random.sample(desc_id_list, int((len(desc_id_list))*sample_size))\n",
    "        else:\n",
    "            sample_ids = []\n",
    "        sample = df.loc[df.description_id.isin(sample_ids)]\n",
    "    \n",
    "        all_samples = pd.concat([all_samples, sample])\n",
    "    \n",
    "    all_samples.sort_values(by=[\"description_id\"])\n",
    "    # print(eadid, \"-\", all_samples.shape)\n",
    "    all_samples.to_csv(sample_path+eadid+file_suffix)\n",
    "    print(\"Wrote\",eadid+file_suffix+\"!\")"
   ]
  },
  {
   "cell_type": "code",
   "execution_count": 20,
   "metadata": {},
   "outputs": [],
   "source": [
    "sample_path = config.classified_data_path+\"sample_no_preds/\"\n",
    "Path(sample_path).mkdir(parents=True, exist_ok=True)"
   ]
  },
  {
   "cell_type": "code",
   "execution_count": 21,
   "metadata": {},
   "outputs": [
    {
     "data": {
      "text/html": [
       "<div>\n",
       "<style scoped>\n",
       "    .dataframe tbody tr th:only-of-type {\n",
       "        vertical-align: middle;\n",
       "    }\n",
       "\n",
       "    .dataframe tbody tr th {\n",
       "        vertical-align: top;\n",
       "    }\n",
       "\n",
       "    .dataframe thead th {\n",
       "        text-align: right;\n",
       "    }\n",
       "</style>\n",
       "<table border=\"1\" class=\"dataframe\">\n",
       "  <thead>\n",
       "    <tr style=\"text-align: right;\">\n",
       "      <th></th>\n",
       "      <th>description_id</th>\n",
       "      <th>eadid</th>\n",
       "      <th>rowid</th>\n",
       "      <th>field</th>\n",
       "      <th>doc</th>\n",
       "      <th>prediction</th>\n",
       "    </tr>\n",
       "  </thead>\n",
       "  <tbody>\n",
       "    <tr>\n",
       "      <th>0</th>\n",
       "      <td>0</td>\n",
       "      <td>BP</td>\n",
       "      <td>BP</td>\n",
       "      <td>processinfo</td>\n",
       "      <td>This EAD description created by Ruth Sheret 27...</td>\n",
       "      <td>()</td>\n",
       "    </tr>\n",
       "    <tr>\n",
       "      <th>1</th>\n",
       "      <td>1</td>\n",
       "      <td>BP</td>\n",
       "      <td>BP</td>\n",
       "      <td>scopecontent</td>\n",
       "      <td>The papers of the distinguished public servant...</td>\n",
       "      <td>()</td>\n",
       "    </tr>\n",
       "    <tr>\n",
       "      <th>2</th>\n",
       "      <td>2</td>\n",
       "      <td>BP</td>\n",
       "      <td>BP</td>\n",
       "      <td>unittitle</td>\n",
       "      <td>Plowden (Lady Bridget) Archive</td>\n",
       "      <td>()</td>\n",
       "    </tr>\n",
       "    <tr>\n",
       "      <th>3</th>\n",
       "      <td>3</td>\n",
       "      <td>BP</td>\n",
       "      <td>BP/01</td>\n",
       "      <td>scopecontent</td>\n",
       "      <td>Formerly the 'Working Ladies Guild', the organ...</td>\n",
       "      <td>()</td>\n",
       "    </tr>\n",
       "    <tr>\n",
       "      <th>4</th>\n",
       "      <td>4</td>\n",
       "      <td>BP</td>\n",
       "      <td>BP/01</td>\n",
       "      <td>unittitle</td>\n",
       "      <td>Chairman (Managing Committee) of the Mary Fiel...</td>\n",
       "      <td>()</td>\n",
       "    </tr>\n",
       "  </tbody>\n",
       "</table>\n",
       "</div>"
      ],
      "text/plain": [
       "   description_id eadid  rowid         field  \\\n",
       "0               0    BP     BP   processinfo   \n",
       "1               1    BP     BP  scopecontent   \n",
       "2               2    BP     BP     unittitle   \n",
       "3               3    BP  BP/01  scopecontent   \n",
       "4               4    BP  BP/01     unittitle   \n",
       "\n",
       "                                                 doc prediction  \n",
       "0  This EAD description created by Ruth Sheret 27...         ()  \n",
       "1  The papers of the distinguished public servant...         ()  \n",
       "2                     Plowden (Lady Bridget) Archive         ()  \n",
       "3  Formerly the 'Working Ladies Guild', the organ...         ()  \n",
       "4  Chairman (Managing Committee) of the Mary Fiel...         ()  "
      ]
     },
     "execution_count": 21,
     "metadata": {},
     "output_type": "execute_result"
    }
   ],
   "source": [
    "doc_df_dedup1.head()"
   ]
  },
  {
   "cell_type": "code",
   "execution_count": 22,
   "metadata": {},
   "outputs": [
    {
     "name": "stdout",
     "output_type": "stream",
     "text": [
      "Wrote BP_sample_no_preds.csv!\n",
      "Wrote BXB_sample_no_preds.csv!\n",
      "Wrote CHE_sample_no_preds.csv!\n",
      "Wrote CPT_sample_no_preds.csv!\n",
      "Wrote GB_sample_no_preds.csv!\n",
      "Wrote HL_sample_no_preds.csv!\n",
      "Wrote OBR_sample_no_preds.csv!\n",
      "Wrote SH_sample_no_preds.csv!\n",
      "Wrote SW_sample_no_preds.csv!\n",
      "Wrote THS_sample_no_preds.csv!\n",
      "Wrote WCT_sample_no_preds.csv!\n"
     ]
    }
   ],
   "source": [
    "file_suffix = \"_sample_no_preds.csv\"\n",
    "pred_col = \"prediction\"\n",
    "sample_size = 0.05 # 5%\n",
    "for eadid in eadids:\n",
    "    subdf = doc_df_dedup1.loc[doc_df_dedup1[eadid_col] == eadid]\n",
    "    unclf_docs = subdf.loc[subdf[pred_col] == ()] # descriptions without an Omission or Stereotype classification\n",
    "    o_docs = subdf.loc[subdf[pred_col] == ('Omission',)] # descriptions with an Omission but no Stereotype classification\n",
    "    s_docs = subdf.loc[subdf[pred_col] == ('Stereotype',)] # descriptions with a Stereotype but no Omission classification\n",
    "    os_docs = subdf.loc[subdf[pred_col] == ('Omission', 'Stereotype')] # descriptions with an Omission and a Stereotype classification\n",
    "    dfs = [unclf_docs, o_docs, s_docs, os_docs]\n",
    "\n",
    "    all_samples = pd.DataFrame()\n",
    "    for df in dfs:\n",
    "        df = df.drop(columns=[pred_col])\n",
    "        desc_id_list = list(df.description_id)\n",
    "        if len(desc_id_list) > 0:\n",
    "            sample_ids = random.sample(desc_id_list, int((len(desc_id_list))*sample_size))\n",
    "        else:\n",
    "            sample_ids = []\n",
    "        sample = df.loc[df.description_id.isin(sample_ids)]\n",
    "    \n",
    "        all_samples = pd.concat([all_samples, sample])\n",
    "    \n",
    "    all_samples.sort_values(by=[\"description_id\"])\n",
    "    # print(eadid, \"-\", all_samples.shape)\n",
    "    all_samples.to_csv(sample_path+eadid+file_suffix)\n",
    "    print(\"Wrote\",eadid+file_suffix+\"!\")"
   ]
  },
  {
   "cell_type": "markdown",
   "metadata": {},
   "source": [
    "#### 3.1 Analyze Description Lengths"
   ]
  },
  {
   "cell_type": "code",
   "execution_count": 23,
   "metadata": {},
   "outputs": [
    {
     "data": {
      "text/html": [
       "<div>\n",
       "<style scoped>\n",
       "    .dataframe tbody tr th:only-of-type {\n",
       "        vertical-align: middle;\n",
       "    }\n",
       "\n",
       "    .dataframe tbody tr th {\n",
       "        vertical-align: top;\n",
       "    }\n",
       "\n",
       "    .dataframe thead th {\n",
       "        text-align: right;\n",
       "    }\n",
       "</style>\n",
       "<table border=\"1\" class=\"dataframe\">\n",
       "  <thead>\n",
       "    <tr style=\"text-align: right;\">\n",
       "      <th></th>\n",
       "      <th>description_id</th>\n",
       "      <th>eadid</th>\n",
       "      <th>rowid</th>\n",
       "      <th>field</th>\n",
       "      <th>doc</th>\n",
       "      <th>prediction</th>\n",
       "    </tr>\n",
       "  </thead>\n",
       "  <tbody>\n",
       "    <tr>\n",
       "      <th>0</th>\n",
       "      <td>0</td>\n",
       "      <td>BP</td>\n",
       "      <td>BP</td>\n",
       "      <td>processinfo</td>\n",
       "      <td>This EAD description created by Ruth Sheret 27...</td>\n",
       "      <td>()</td>\n",
       "    </tr>\n",
       "    <tr>\n",
       "      <th>1</th>\n",
       "      <td>1</td>\n",
       "      <td>BP</td>\n",
       "      <td>BP</td>\n",
       "      <td>scopecontent</td>\n",
       "      <td>The papers of the distinguished public servant...</td>\n",
       "      <td>()</td>\n",
       "    </tr>\n",
       "    <tr>\n",
       "      <th>2</th>\n",
       "      <td>2</td>\n",
       "      <td>BP</td>\n",
       "      <td>BP</td>\n",
       "      <td>unittitle</td>\n",
       "      <td>Plowden (Lady Bridget) Archive</td>\n",
       "      <td>()</td>\n",
       "    </tr>\n",
       "    <tr>\n",
       "      <th>3</th>\n",
       "      <td>3</td>\n",
       "      <td>BP</td>\n",
       "      <td>BP/01</td>\n",
       "      <td>scopecontent</td>\n",
       "      <td>Formerly the 'Working Ladies Guild', the organ...</td>\n",
       "      <td>()</td>\n",
       "    </tr>\n",
       "    <tr>\n",
       "      <th>4</th>\n",
       "      <td>4</td>\n",
       "      <td>BP</td>\n",
       "      <td>BP/01</td>\n",
       "      <td>unittitle</td>\n",
       "      <td>Chairman (Managing Committee) of the Mary Fiel...</td>\n",
       "      <td>()</td>\n",
       "    </tr>\n",
       "  </tbody>\n",
       "</table>\n",
       "</div>"
      ],
      "text/plain": [
       "   description_id eadid  rowid         field  \\\n",
       "0               0    BP     BP   processinfo   \n",
       "1               1    BP     BP  scopecontent   \n",
       "2               2    BP     BP     unittitle   \n",
       "3               3    BP  BP/01  scopecontent   \n",
       "4               4    BP  BP/01     unittitle   \n",
       "\n",
       "                                                 doc prediction  \n",
       "0  This EAD description created by Ruth Sheret 27...         ()  \n",
       "1  The papers of the distinguished public servant...         ()  \n",
       "2                     Plowden (Lady Bridget) Archive         ()  \n",
       "3  Formerly the 'Working Ladies Guild', the organ...         ()  \n",
       "4  Chairman (Managing Committee) of the Mary Fiel...         ()  "
      ]
     },
     "execution_count": 23,
     "metadata": {},
     "output_type": "execute_result"
    }
   ],
   "source": [
    "unclf_docs = doc_df_dedup1.loc[doc_df_dedup1.prediction == tuple()]\n",
    "unclf_docs.head()"
   ]
  },
  {
   "cell_type": "code",
   "execution_count": 24,
   "metadata": {},
   "outputs": [
    {
     "data": {
      "text/html": [
       "<div>\n",
       "<style scoped>\n",
       "    .dataframe tbody tr th:only-of-type {\n",
       "        vertical-align: middle;\n",
       "    }\n",
       "\n",
       "    .dataframe tbody tr th {\n",
       "        vertical-align: top;\n",
       "    }\n",
       "\n",
       "    .dataframe thead th {\n",
       "        text-align: right;\n",
       "    }\n",
       "</style>\n",
       "<table border=\"1\" class=\"dataframe\">\n",
       "  <thead>\n",
       "    <tr style=\"text-align: right;\">\n",
       "      <th></th>\n",
       "      <th>description_id</th>\n",
       "      <th>eadid</th>\n",
       "      <th>rowid</th>\n",
       "      <th>field</th>\n",
       "      <th>doc</th>\n",
       "      <th>prediction</th>\n",
       "    </tr>\n",
       "  </thead>\n",
       "  <tbody>\n",
       "    <tr>\n",
       "      <th>51</th>\n",
       "      <td>51</td>\n",
       "      <td>BP</td>\n",
       "      <td>BP/03/03/05</td>\n",
       "      <td>scopecontent</td>\n",
       "      <td>A collection of reports published by external ...</td>\n",
       "      <td>(Omission,)</td>\n",
       "    </tr>\n",
       "    <tr>\n",
       "      <th>108</th>\n",
       "      <td>108</td>\n",
       "      <td>BP</td>\n",
       "      <td>BP/08/02/03</td>\n",
       "      <td>scopecontent</td>\n",
       "      <td>Priority Area Development: Preparation for Par...</td>\n",
       "      <td>(Omission,)</td>\n",
       "    </tr>\n",
       "    <tr>\n",
       "      <th>129</th>\n",
       "      <td>129</td>\n",
       "      <td>BP</td>\n",
       "      <td>BP/08/06</td>\n",
       "      <td>scopecontent</td>\n",
       "      <td>Correspondence files kept by Lady Plowden in r...</td>\n",
       "      <td>(Omission,)</td>\n",
       "    </tr>\n",
       "    <tr>\n",
       "      <th>131</th>\n",
       "      <td>131</td>\n",
       "      <td>BP</td>\n",
       "      <td>BP/08/07</td>\n",
       "      <td>scopecontent</td>\n",
       "      <td>Notes on various speeches made by Lady Plowden...</td>\n",
       "      <td>(Omission,)</td>\n",
       "    </tr>\n",
       "    <tr>\n",
       "      <th>188</th>\n",
       "      <td>188</td>\n",
       "      <td>BP</td>\n",
       "      <td>BP/09/09/05</td>\n",
       "      <td>scopecontent</td>\n",
       "      <td>A submission from ACERT to the inquiry organis...</td>\n",
       "      <td>(Omission,)</td>\n",
       "    </tr>\n",
       "  </tbody>\n",
       "</table>\n",
       "</div>"
      ],
      "text/plain": [
       "     description_id eadid        rowid         field  \\\n",
       "51               51    BP  BP/03/03/05  scopecontent   \n",
       "108             108    BP  BP/08/02/03  scopecontent   \n",
       "129             129    BP     BP/08/06  scopecontent   \n",
       "131             131    BP     BP/08/07  scopecontent   \n",
       "188             188    BP  BP/09/09/05  scopecontent   \n",
       "\n",
       "                                                   doc   prediction  \n",
       "51   A collection of reports published by external ...  (Omission,)  \n",
       "108  Priority Area Development: Preparation for Par...  (Omission,)  \n",
       "129  Correspondence files kept by Lady Plowden in r...  (Omission,)  \n",
       "131  Notes on various speeches made by Lady Plowden...  (Omission,)  \n",
       "188  A submission from ACERT to the inquiry organis...  (Omission,)  "
      ]
     },
     "execution_count": 24,
     "metadata": {},
     "output_type": "execute_result"
    }
   ],
   "source": [
    "clf_docs = doc_df_dedup1.loc[doc_df_dedup1.prediction != tuple()]\n",
    "clf_docs.head()"
   ]
  },
  {
   "cell_type": "code",
   "execution_count": 25,
   "metadata": {},
   "outputs": [
    {
     "name": "stdout",
     "output_type": "stream",
     "text": [
      "(24819, 6)\n",
      "(2416, 6)\n"
     ]
    }
   ],
   "source": [
    "print(unclf_docs.shape)\n",
    "print(clf_docs.shape)"
   ]
  },
  {
   "cell_type": "code",
   "execution_count": 26,
   "metadata": {},
   "outputs": [
    {
     "name": "stdout",
     "output_type": "stream",
     "text": [
      "A collection of reports published by external organisations. This collection is assumed to have been accumulated by Lady Plowden to inform her work with the Council - the collection was found with Lady Plowden's Council files and deal with related issues.\n",
      "Note, although these publications relate specifically to Lady Plowden’s work with the Council , Lady Plowden also held an extensive library of reports and publications which covered the range of her personal and professional interests. A complete list of reports and publications held by Lady Plowden can be viewed at: INSERT LINK\n"
     ]
    }
   ],
   "source": [
    "unclf_docs_list = list(unclf_docs.doc)\n",
    "clf_docs_list = list(clf_docs.doc)\n",
    "print(clf_docs_list[0])"
   ]
  },
  {
   "cell_type": "code",
   "execution_count": 27,
   "metadata": {},
   "outputs": [
    {
     "name": "stdout",
     "output_type": "stream",
     "text": [
      "16\n",
      "101\n"
     ]
    }
   ],
   "source": [
    "unclf_token_counts = [len(word_tokenize(doc)) for doc in unclf_docs_list]\n",
    "clf_token_counts = [len(word_tokenize(doc)) for doc in clf_docs_list]\n",
    "print(unclf_token_counts[0])\n",
    "print(clf_token_counts[0])"
   ]
  },
  {
   "cell_type": "code",
   "execution_count": 28,
   "metadata": {},
   "outputs": [
    {
     "name": "stdout",
     "output_type": "stream",
     "text": [
      "Minimum, average, standard deviation, median, and maximum token counts in UNCLASSIFIED descriptions:\n",
      "1\n",
      "16.73999758249728\n",
      "31.397437371032396\n",
      "11.0\n",
      "2478\n"
     ]
    }
   ],
   "source": [
    "print(\"Minimum, average, standard deviation, median, and maximum token counts in UNCLASSIFIED descriptions:\")\n",
    "print(np.min(unclf_token_counts))\n",
    "print(np.mean(unclf_token_counts))\n",
    "print(np.std(unclf_token_counts))\n",
    "print(np.median(unclf_token_counts))\n",
    "print(np.max(unclf_token_counts))"
   ]
  },
  {
   "cell_type": "code",
   "execution_count": 29,
   "metadata": {},
   "outputs": [
    {
     "name": "stdout",
     "output_type": "stream",
     "text": [
      "Minimum, average, standard deviation, median, and maximum token counts in CLASSIFIED descriptions:\n",
      "2\n",
      "39.40604304635762\n",
      "68.22333998794495\n",
      "17.0\n",
      "839\n"
     ]
    }
   ],
   "source": [
    "print(\"Minimum, average, standard deviation, median, and maximum token counts in CLASSIFIED descriptions:\")\n",
    "print(np.min(clf_token_counts))\n",
    "print(np.mean(clf_token_counts))\n",
    "print(np.std(clf_token_counts))\n",
    "print(np.median(clf_token_counts))\n",
    "print(np.max(clf_token_counts))"
   ]
  },
  {
   "cell_type": "code",
   "execution_count": null,
   "metadata": {},
   "outputs": [],
   "source": []
  },
  {
   "cell_type": "code",
   "execution_count": 30,
   "metadata": {},
   "outputs": [
    {
     "name": "stdout",
     "output_type": "stream",
     "text": [
      "(1362, 6)\n"
     ]
    },
    {
     "data": {
      "text/html": [
       "<div>\n",
       "<style scoped>\n",
       "    .dataframe tbody tr th:only-of-type {\n",
       "        vertical-align: middle;\n",
       "    }\n",
       "\n",
       "    .dataframe tbody tr th {\n",
       "        vertical-align: top;\n",
       "    }\n",
       "\n",
       "    .dataframe thead th {\n",
       "        text-align: right;\n",
       "    }\n",
       "</style>\n",
       "<table border=\"1\" class=\"dataframe\">\n",
       "  <thead>\n",
       "    <tr style=\"text-align: right;\">\n",
       "      <th></th>\n",
       "      <th>description_id</th>\n",
       "      <th>eadid</th>\n",
       "      <th>rowid</th>\n",
       "      <th>field</th>\n",
       "      <th>doc</th>\n",
       "      <th>prediction</th>\n",
       "    </tr>\n",
       "  </thead>\n",
       "  <tbody>\n",
       "    <tr>\n",
       "      <th>51</th>\n",
       "      <td>51</td>\n",
       "      <td>BP</td>\n",
       "      <td>BP/03/03/05</td>\n",
       "      <td>scopecontent</td>\n",
       "      <td>A collection of reports published by external ...</td>\n",
       "      <td>(Omission,)</td>\n",
       "    </tr>\n",
       "    <tr>\n",
       "      <th>108</th>\n",
       "      <td>108</td>\n",
       "      <td>BP</td>\n",
       "      <td>BP/08/02/03</td>\n",
       "      <td>scopecontent</td>\n",
       "      <td>Priority Area Development: Preparation for Par...</td>\n",
       "      <td>(Omission,)</td>\n",
       "    </tr>\n",
       "    <tr>\n",
       "      <th>129</th>\n",
       "      <td>129</td>\n",
       "      <td>BP</td>\n",
       "      <td>BP/08/06</td>\n",
       "      <td>scopecontent</td>\n",
       "      <td>Correspondence files kept by Lady Plowden in r...</td>\n",
       "      <td>(Omission,)</td>\n",
       "    </tr>\n",
       "    <tr>\n",
       "      <th>131</th>\n",
       "      <td>131</td>\n",
       "      <td>BP</td>\n",
       "      <td>BP/08/07</td>\n",
       "      <td>scopecontent</td>\n",
       "      <td>Notes on various speeches made by Lady Plowden...</td>\n",
       "      <td>(Omission,)</td>\n",
       "    </tr>\n",
       "    <tr>\n",
       "      <th>188</th>\n",
       "      <td>188</td>\n",
       "      <td>BP</td>\n",
       "      <td>BP/09/09/05</td>\n",
       "      <td>scopecontent</td>\n",
       "      <td>A submission from ACERT to the inquiry organis...</td>\n",
       "      <td>(Omission,)</td>\n",
       "    </tr>\n",
       "  </tbody>\n",
       "</table>\n",
       "</div>"
      ],
      "text/plain": [
       "     description_id eadid        rowid         field  \\\n",
       "51               51    BP  BP/03/03/05  scopecontent   \n",
       "108             108    BP  BP/08/02/03  scopecontent   \n",
       "129             129    BP     BP/08/06  scopecontent   \n",
       "131             131    BP     BP/08/07  scopecontent   \n",
       "188             188    BP  BP/09/09/05  scopecontent   \n",
       "\n",
       "                                                   doc   prediction  \n",
       "51   A collection of reports published by external ...  (Omission,)  \n",
       "108  Priority Area Development: Preparation for Par...  (Omission,)  \n",
       "129  Correspondence files kept by Lady Plowden in r...  (Omission,)  \n",
       "131  Notes on various speeches made by Lady Plowden...  (Omission,)  \n",
       "188  A submission from ACERT to the inquiry organis...  (Omission,)  "
      ]
     },
     "execution_count": 30,
     "metadata": {},
     "output_type": "execute_result"
    }
   ],
   "source": [
    "o_docs = clf_docs.loc[clf_docs.prediction == ('Omission',)]\n",
    "print(o_docs.shape)\n",
    "o_docs.head()"
   ]
  },
  {
   "cell_type": "code",
   "execution_count": 31,
   "metadata": {},
   "outputs": [
    {
     "name": "stdout",
     "output_type": "stream",
     "text": [
      "(773, 6)\n"
     ]
    },
    {
     "data": {
      "text/html": [
       "<div>\n",
       "<style scoped>\n",
       "    .dataframe tbody tr th:only-of-type {\n",
       "        vertical-align: middle;\n",
       "    }\n",
       "\n",
       "    .dataframe tbody tr th {\n",
       "        vertical-align: top;\n",
       "    }\n",
       "\n",
       "    .dataframe thead th {\n",
       "        text-align: right;\n",
       "    }\n",
       "</style>\n",
       "<table border=\"1\" class=\"dataframe\">\n",
       "  <thead>\n",
       "    <tr style=\"text-align: right;\">\n",
       "      <th></th>\n",
       "      <th>description_id</th>\n",
       "      <th>eadid</th>\n",
       "      <th>rowid</th>\n",
       "      <th>field</th>\n",
       "      <th>doc</th>\n",
       "      <th>prediction</th>\n",
       "    </tr>\n",
       "  </thead>\n",
       "  <tbody>\n",
       "    <tr>\n",
       "      <th>655</th>\n",
       "      <td>655</td>\n",
       "      <td>BXB</td>\n",
       "      <td>BXB/1/1/AGA/1/4</td>\n",
       "      <td>scopecontent</td>\n",
       "      <td>Consists of a photocopy of both the book cover...</td>\n",
       "      <td>(Omission, Stereotype)</td>\n",
       "    </tr>\n",
       "    <tr>\n",
       "      <th>724</th>\n",
       "      <td>724</td>\n",
       "      <td>BXB</td>\n",
       "      <td>BXB/1/1/AGA/6/11</td>\n",
       "      <td>scopecontent</td>\n",
       "      <td>Consists of photocopies of a poem entitled 'Ma...</td>\n",
       "      <td>(Omission, Stereotype)</td>\n",
       "    </tr>\n",
       "    <tr>\n",
       "      <th>840</th>\n",
       "      <td>840</td>\n",
       "      <td>BXB</td>\n",
       "      <td>BXB/1/1/ALV/1</td>\n",
       "      <td>unittitle</td>\n",
       "      <td>Carrying My Wife</td>\n",
       "      <td>(Omission, Stereotype)</td>\n",
       "    </tr>\n",
       "    <tr>\n",
       "      <th>1177</th>\n",
       "      <td>1177</td>\n",
       "      <td>BXB</td>\n",
       "      <td>BXB/1/1/BOL</td>\n",
       "      <td>bioghist</td>\n",
       "      <td>Robyn Bolam (formerly Marion Lomax) was born i...</td>\n",
       "      <td>(Omission, Stereotype)</td>\n",
       "    </tr>\n",
       "    <tr>\n",
       "      <th>1197</th>\n",
       "      <td>1197</td>\n",
       "      <td>BXB</td>\n",
       "      <td>BXB/1/1/BON/1</td>\n",
       "      <td>bioghist</td>\n",
       "      <td>Galway Kinnell was born in Providence, Rhode I...</td>\n",
       "      <td>(Omission, Stereotype)</td>\n",
       "    </tr>\n",
       "  </tbody>\n",
       "</table>\n",
       "</div>"
      ],
      "text/plain": [
       "      description_id eadid             rowid         field  \\\n",
       "655              655   BXB   BXB/1/1/AGA/1/4  scopecontent   \n",
       "724              724   BXB  BXB/1/1/AGA/6/11  scopecontent   \n",
       "840              840   BXB     BXB/1/1/ALV/1     unittitle   \n",
       "1177            1177   BXB       BXB/1/1/BOL      bioghist   \n",
       "1197            1197   BXB     BXB/1/1/BON/1      bioghist   \n",
       "\n",
       "                                                    doc  \\\n",
       "655   Consists of a photocopy of both the book cover...   \n",
       "724   Consists of photocopies of a poem entitled 'Ma...   \n",
       "840                                    Carrying My Wife   \n",
       "1177  Robyn Bolam (formerly Marion Lomax) was born i...   \n",
       "1197  Galway Kinnell was born in Providence, Rhode I...   \n",
       "\n",
       "                  prediction  \n",
       "655   (Omission, Stereotype)  \n",
       "724   (Omission, Stereotype)  \n",
       "840   (Omission, Stereotype)  \n",
       "1177  (Omission, Stereotype)  \n",
       "1197  (Omission, Stereotype)  "
      ]
     },
     "execution_count": 31,
     "metadata": {},
     "output_type": "execute_result"
    }
   ],
   "source": [
    "os_docs = clf_docs.loc[clf_docs.prediction == ('Omission', 'Stereotype')]\n",
    "print(os_docs.shape)\n",
    "os_docs.head()"
   ]
  },
  {
   "cell_type": "code",
   "execution_count": 32,
   "metadata": {},
   "outputs": [
    {
     "name": "stdout",
     "output_type": "stream",
     "text": [
      "(281, 6)\n"
     ]
    },
    {
     "data": {
      "text/html": [
       "<div>\n",
       "<style scoped>\n",
       "    .dataframe tbody tr th:only-of-type {\n",
       "        vertical-align: middle;\n",
       "    }\n",
       "\n",
       "    .dataframe tbody tr th {\n",
       "        vertical-align: top;\n",
       "    }\n",
       "\n",
       "    .dataframe thead th {\n",
       "        text-align: right;\n",
       "    }\n",
       "</style>\n",
       "<table border=\"1\" class=\"dataframe\">\n",
       "  <thead>\n",
       "    <tr style=\"text-align: right;\">\n",
       "      <th></th>\n",
       "      <th>description_id</th>\n",
       "      <th>eadid</th>\n",
       "      <th>rowid</th>\n",
       "      <th>field</th>\n",
       "      <th>doc</th>\n",
       "      <th>prediction</th>\n",
       "    </tr>\n",
       "  </thead>\n",
       "  <tbody>\n",
       "    <tr>\n",
       "      <th>374</th>\n",
       "      <td>374</td>\n",
       "      <td>BP</td>\n",
       "      <td>BP/19/02/10</td>\n",
       "      <td>unittitle</td>\n",
       "      <td>Women and Employment</td>\n",
       "      <td>(Stereotype,)</td>\n",
       "    </tr>\n",
       "    <tr>\n",
       "      <th>459</th>\n",
       "      <td>459</td>\n",
       "      <td>BP</td>\n",
       "      <td>BP/27/39</td>\n",
       "      <td>unittitle</td>\n",
       "      <td>Research File: Women and Work</td>\n",
       "      <td>(Stereotype,)</td>\n",
       "    </tr>\n",
       "    <tr>\n",
       "      <th>460</th>\n",
       "      <td>460</td>\n",
       "      <td>BP</td>\n",
       "      <td>BP/27/40</td>\n",
       "      <td>unittitle</td>\n",
       "      <td>Research File: A Woman's View of the Recession...</td>\n",
       "      <td>(Stereotype,)</td>\n",
       "    </tr>\n",
       "    <tr>\n",
       "      <th>871</th>\n",
       "      <td>871</td>\n",
       "      <td>BXB</td>\n",
       "      <td>BXB/1/1/ARM</td>\n",
       "      <td>bioghist</td>\n",
       "      <td>Simon Armitage was born in 1963 in Huddersfiel...</td>\n",
       "      <td>(Stereotype,)</td>\n",
       "    </tr>\n",
       "    <tr>\n",
       "      <th>1180</th>\n",
       "      <td>1180</td>\n",
       "      <td>BXB</td>\n",
       "      <td>BXB/1/1/BOL/1</td>\n",
       "      <td>unittitle</td>\n",
       "      <td>The Peepshow Girl</td>\n",
       "      <td>(Stereotype,)</td>\n",
       "    </tr>\n",
       "  </tbody>\n",
       "</table>\n",
       "</div>"
      ],
      "text/plain": [
       "      description_id eadid          rowid      field  \\\n",
       "374              374    BP    BP/19/02/10  unittitle   \n",
       "459              459    BP       BP/27/39  unittitle   \n",
       "460              460    BP       BP/27/40  unittitle   \n",
       "871              871   BXB    BXB/1/1/ARM   bioghist   \n",
       "1180            1180   BXB  BXB/1/1/BOL/1  unittitle   \n",
       "\n",
       "                                                    doc     prediction  \n",
       "374                                Women and Employment  (Stereotype,)  \n",
       "459                       Research File: Women and Work  (Stereotype,)  \n",
       "460   Research File: A Woman's View of the Recession...  (Stereotype,)  \n",
       "871   Simon Armitage was born in 1963 in Huddersfiel...  (Stereotype,)  \n",
       "1180                                  The Peepshow Girl  (Stereotype,)  "
      ]
     },
     "execution_count": 32,
     "metadata": {},
     "output_type": "execute_result"
    }
   ],
   "source": [
    "s_docs = clf_docs.loc[clf_docs.prediction == ('Stereotype',)]\n",
    "print(s_docs.shape)\n",
    "s_docs.head()"
   ]
  },
  {
   "cell_type": "code",
   "execution_count": null,
   "metadata": {},
   "outputs": [],
   "source": []
  }
 ],
 "metadata": {
  "kernelspec": {
   "display_name": "gender-bias-env",
   "language": "python",
   "name": "python3"
  },
  "language_info": {
   "codemirror_mode": {
    "name": "ipython",
    "version": 3
   },
   "file_extension": ".py",
   "mimetype": "text/x-python",
   "name": "python",
   "nbconvert_exporter": "python",
   "pygments_lexer": "ipython3",
   "version": "3.9.20"
  }
 },
 "nbformat": 4,
 "nbformat_minor": 2
}
