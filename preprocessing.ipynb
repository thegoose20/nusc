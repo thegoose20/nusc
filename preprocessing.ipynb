{
 "cells": [
  {
   "cell_type": "markdown",
   "metadata": {},
   "source": [
    "# Preprocessing\n",
    "\n",
    "Preprocess the data for classification, combining the EAD-formatted and custom-formatted data into a single file."
   ]
  },
  {
   "cell_type": "code",
   "execution_count": null,
   "metadata": {},
   "outputs": [],
   "source": [
    "# Custom filepaths and functions\n",
    "import config, ext_utils\n",
    "\n",
    "# Libraries for data, file, and model loading\n",
    "import pandas as pd"
   ]
  },
  {
   "cell_type": "markdown",
   "metadata": {},
   "source": [
    "### 1. Preprocessing\n",
    "\n",
    "Load the extracted archival metadata from the Newcastle University Special Collections catalog."
   ]
  },
  {
   "cell_type": "code",
   "execution_count": 14,
   "metadata": {},
   "outputs": [
    {
     "name": "stdout",
     "output_type": "stream",
     "text": [
      "(37943, 9) (11990, 10)\n"
     ]
    }
   ],
   "source": [
    "extracted_dir = \"data/extracted/\"\n",
    "ead_f = \"nusc_ead_all_fonds.csv\"  #\"newcastle_archival_metadata_sample.csv\"\n",
    "ead_df = pd.read_csv(extracted_dir + ead_f, index_col=0)\n",
    "nonead_df = pd.read_csv(extracted_dir + \"complete_bell_archival_metadata_nonead.csv\", index_col=0)   #nonead_df = pd.read_csv(extracted_dir + \"bell_archival_metadata_nonead.csv\", index_col=0)\n",
    "print(ead_df.shape, nonead_df.shape)"
   ]
  },
  {
   "cell_type": "code",
   "execution_count": 15,
   "metadata": {},
   "outputs": [
    {
     "data": {
      "text/plain": [
       "array(['WBC', 'LAY', 'SWAN', 'G', 'RBD', 'DB', 'LV', 'NS', 'DAG', 'LE',\n",
       "       'Bradshaw-Berwick', 'Crawhall', 'ILL', \"Benefactor's Library\",\n",
       "       'Fletcher', 'Hev', 'K', 'BAI', 'St Bees', 'Maurice Bell Coll.',\n",
       "       'HL', 'MISC.MSS', '20th C. Coll', '21st C. Coll.', '17th C. Coll',\n",
       "       '18th C. Coll', '19th C. Coll', 'Inc.', 'PI', 'RB', 'Sandes', 'HD',\n",
       "       'Friends', 'ECG', 'Bradshaw', 'Layard', 'JJ', 'Bell-White',\n",
       "       'Clarke Misc.', 'NHG', 'TH', 'Burman Alnwick', 'Clarke', 'JTB',\n",
       "       'Clarke Med.', 'CPT', 'AUWH', 'NI', 'JWD', 'CHE', 'BBHB', 'TS',\n",
       "       'Heslop', 'SWL', 'NCN', 'PD', 'PDCOLL', 'Meade', 'FW', 'Ure Coll.',\n",
       "       'Burnett', 'Chorley', 'PB', 'MAP', 'SH', 'Walmsley',\n",
       "       'AC Poetry Coll.', 'Bloodaxe', 'BXB', 'FLP', 'IRONP Coll.', 'GG',\n",
       "       'JC', 'MT', 'Eagle Press', 'W', 'EWL', 'Robinson', 'THH', 'CG',\n",
       "       'M', 'THODG', 'Med. Coll.', 'NRI', 'Pyb', 'LD', 'FP', 'Ent. Coll.',\n",
       "       'MAPS', 'Ritchie', 'Wallis', 'HH', 'MM', 'MS', 'THP', 'JCII', 'JG',\n",
       "       'MSA', 'Broadsides', 'LAP', 'SW', 'MC', 'AW', 'SC', 'HOL', 'OBR',\n",
       "       'IRO', 'BR', 'Flambard Press', 'TON', 'MA', 'WCT', 'WB', 'BM',\n",
       "       'Booktrust', 'GOT', 'HFB', 'NUA', 'Chapbooks', 'Indian Tracts',\n",
       "       'Kipling/Pollard', 'CET', 'Grey Tracts', 'Cowen Tracts',\n",
       "       'Napoleon', 'BP', 'WR', 'WIL', 'TBB', '20th C. Pam', 'SMETR',\n",
       "       'Vernon Hugh Coll.', 'CVS', 'B', 'GB', 'GEX', 'THS', 'Alderson',\n",
       "       'AN', 'MAK', 'Joan Butler Coll.', 'GC', 'MTSC', 'TF'], dtype=object)"
      ]
     },
     "execution_count": 15,
     "metadata": {},
     "output_type": "execute_result"
    }
   ],
   "source": [
    "ead_df.eadid.unique()"
   ]
  },
  {
   "cell_type": "markdown",
   "metadata": {},
   "source": [
    "Transform the data so all the text that will be classified is in a single column."
   ]
  },
  {
   "cell_type": "code",
   "execution_count": 16,
   "metadata": {},
   "outputs": [
    {
     "data": {
      "text/html": [
       "<div>\n",
       "<style scoped>\n",
       "    .dataframe tbody tr th:only-of-type {\n",
       "        vertical-align: middle;\n",
       "    }\n",
       "\n",
       "    .dataframe tbody tr th {\n",
       "        vertical-align: top;\n",
       "    }\n",
       "\n",
       "    .dataframe thead th {\n",
       "        text-align: right;\n",
       "    }\n",
       "</style>\n",
       "<table border=\"1\" class=\"dataframe\">\n",
       "  <thead>\n",
       "    <tr style=\"text-align: right;\">\n",
       "      <th></th>\n",
       "      <th>eadid</th>\n",
       "      <th>rowid</th>\n",
       "      <th>field</th>\n",
       "      <th>doc</th>\n",
       "    </tr>\n",
       "  </thead>\n",
       "  <tbody>\n",
       "    <tr>\n",
       "      <th>6621</th>\n",
       "      <td>17th C. Coll</td>\n",
       "      <td>17th C. Coll</td>\n",
       "      <td>bioghist</td>\n",
       "      <td>Formed in 1963 after an amalgamation of instit...</td>\n",
       "    </tr>\n",
       "    <tr>\n",
       "      <th>6622</th>\n",
       "      <td>17th C. Coll</td>\n",
       "      <td>17th C. Coll</td>\n",
       "      <td>scopecontent</td>\n",
       "      <td>The 17th Century Collection is a small but exp...</td>\n",
       "    </tr>\n",
       "    <tr>\n",
       "      <th>6620</th>\n",
       "      <td>17th C. Coll</td>\n",
       "      <td>17th C. Coll</td>\n",
       "      <td>unittitle</td>\n",
       "      <td>17th Century Collection</td>\n",
       "    </tr>\n",
       "    <tr>\n",
       "      <th>6625</th>\n",
       "      <td>18th C. Coll</td>\n",
       "      <td>18th C. Coll</td>\n",
       "      <td>bioghist</td>\n",
       "      <td>Formed in 1963 after an amalgamation of instit...</td>\n",
       "    </tr>\n",
       "    <tr>\n",
       "      <th>6626</th>\n",
       "      <td>18th C. Coll</td>\n",
       "      <td>18th C. Coll</td>\n",
       "      <td>scopecontent</td>\n",
       "      <td>The 18th Century Collection contains approxima...</td>\n",
       "    </tr>\n",
       "  </tbody>\n",
       "</table>\n",
       "</div>"
      ],
      "text/plain": [
       "             eadid         rowid         field  \\\n",
       "6621  17th C. Coll  17th C. Coll      bioghist   \n",
       "6622  17th C. Coll  17th C. Coll  scopecontent   \n",
       "6620  17th C. Coll  17th C. Coll     unittitle   \n",
       "6625  18th C. Coll  18th C. Coll      bioghist   \n",
       "6626  18th C. Coll  18th C. Coll  scopecontent   \n",
       "\n",
       "                                                    doc  \n",
       "6621  Formed in 1963 after an amalgamation of instit...  \n",
       "6622  The 17th Century Collection is a small but exp...  \n",
       "6620                            17th Century Collection  \n",
       "6625  Formed in 1963 after an amalgamation of instit...  \n",
       "6626  The 18th Century Collection contains approxima...  "
      ]
     },
     "execution_count": 16,
     "metadata": {},
     "output_type": "execute_result"
    }
   ],
   "source": [
    "text_cols = [\"unittitle\", \"bioghist\", \"scopecontent\", \"processinfo\"]\n",
    "ead_doc_df = ext_utils.consolidateText(ead_df, text_cols, \"unitid\")\n",
    "\n",
    "text_cols = [\"title\", \"description\", \"extent-and-medium\"]\n",
    "nonead_doc_df = ext_utils.consolidateText(nonead_df, text_cols, \"node_id\")\n",
    "\n",
    "doc_df = pd.concat([ead_doc_df, nonead_doc_df])\n",
    "doc_df.sort_values([\"eadid\", \"rowid\", \"field\", \"doc\"], inplace=True)\n",
    "doc_df.head()"
   ]
  },
  {
   "cell_type": "markdown",
   "metadata": {},
   "source": [
    "Create a unique identifier for each description:"
   ]
  },
  {
   "cell_type": "code",
   "execution_count": 17,
   "metadata": {},
   "outputs": [
    {
     "data": {
      "text/html": [
       "<div>\n",
       "<style scoped>\n",
       "    .dataframe tbody tr th:only-of-type {\n",
       "        vertical-align: middle;\n",
       "    }\n",
       "\n",
       "    .dataframe tbody tr th {\n",
       "        vertical-align: top;\n",
       "    }\n",
       "\n",
       "    .dataframe thead th {\n",
       "        text-align: right;\n",
       "    }\n",
       "</style>\n",
       "<table border=\"1\" class=\"dataframe\">\n",
       "  <thead>\n",
       "    <tr style=\"text-align: right;\">\n",
       "      <th></th>\n",
       "      <th>description_id</th>\n",
       "      <th>eadid</th>\n",
       "      <th>rowid</th>\n",
       "      <th>field</th>\n",
       "      <th>doc</th>\n",
       "    </tr>\n",
       "  </thead>\n",
       "  <tbody>\n",
       "    <tr>\n",
       "      <th>0</th>\n",
       "      <td>0</td>\n",
       "      <td>17th C. Coll</td>\n",
       "      <td>17th C. Coll</td>\n",
       "      <td>bioghist</td>\n",
       "      <td>Formed in 1963 after an amalgamation of instit...</td>\n",
       "    </tr>\n",
       "    <tr>\n",
       "      <th>1</th>\n",
       "      <td>1</td>\n",
       "      <td>17th C. Coll</td>\n",
       "      <td>17th C. Coll</td>\n",
       "      <td>scopecontent</td>\n",
       "      <td>The 17th Century Collection is a small but exp...</td>\n",
       "    </tr>\n",
       "    <tr>\n",
       "      <th>2</th>\n",
       "      <td>2</td>\n",
       "      <td>17th C. Coll</td>\n",
       "      <td>17th C. Coll</td>\n",
       "      <td>unittitle</td>\n",
       "      <td>17th Century Collection</td>\n",
       "    </tr>\n",
       "    <tr>\n",
       "      <th>3</th>\n",
       "      <td>3</td>\n",
       "      <td>18th C. Coll</td>\n",
       "      <td>18th C. Coll</td>\n",
       "      <td>bioghist</td>\n",
       "      <td>Formed in 1963 after an amalgamation of instit...</td>\n",
       "    </tr>\n",
       "    <tr>\n",
       "      <th>4</th>\n",
       "      <td>4</td>\n",
       "      <td>18th C. Coll</td>\n",
       "      <td>18th C. Coll</td>\n",
       "      <td>scopecontent</td>\n",
       "      <td>The 18th Century Collection contains approxima...</td>\n",
       "    </tr>\n",
       "  </tbody>\n",
       "</table>\n",
       "</div>"
      ],
      "text/plain": [
       "   description_id         eadid         rowid         field  \\\n",
       "0               0  17th C. Coll  17th C. Coll      bioghist   \n",
       "1               1  17th C. Coll  17th C. Coll  scopecontent   \n",
       "2               2  17th C. Coll  17th C. Coll     unittitle   \n",
       "3               3  18th C. Coll  18th C. Coll      bioghist   \n",
       "4               4  18th C. Coll  18th C. Coll  scopecontent   \n",
       "\n",
       "                                                 doc  \n",
       "0  Formed in 1963 after an amalgamation of instit...  \n",
       "1  The 17th Century Collection is a small but exp...  \n",
       "2                            17th Century Collection  \n",
       "3  Formed in 1963 after an amalgamation of instit...  \n",
       "4  The 18th Century Collection contains approxima...  "
      ]
     },
     "execution_count": 17,
     "metadata": {},
     "output_type": "execute_result"
    }
   ],
   "source": [
    "doc_df = doc_df.reset_index()\n",
    "doc_df = doc_df.drop(columns=[\"index\"])\n",
    "doc_df = doc_df.reset_index()\n",
    "doc_df = doc_df.rename(columns={\"index\":\"description_id\"})\n",
    "doc_df.head()"
   ]
  },
  {
   "cell_type": "code",
   "execution_count": 18,
   "metadata": {},
   "outputs": [
    {
     "name": "stdout",
     "output_type": "stream",
     "text": [
      "(99312, 5)\n"
     ]
    }
   ],
   "source": [
    "print(doc_df.shape)"
   ]
  },
  {
   "cell_type": "markdown",
   "metadata": {},
   "source": [
    "Save the descriptions with the unique identifier column."
   ]
  },
  {
   "cell_type": "code",
   "execution_count": 19,
   "metadata": {},
   "outputs": [],
   "source": [
    "#f = \"nusc_archival_descs_for_clf.csv\" # for classification\n",
    "f = \"nusc_archival_descs_consolidated.csv\" # EAD and non-EAD (i.e., Bell descriptions)\n",
    "doc_df.to_csv(extracted_dir+f)"
   ]
  },
  {
   "cell_type": "code",
   "execution_count": null,
   "metadata": {},
   "outputs": [],
   "source": []
  }
 ],
 "metadata": {
  "kernelspec": {
   "display_name": "nusc",
   "language": "python",
   "name": "python3"
  },
  "language_info": {
   "codemirror_mode": {
    "name": "ipython",
    "version": 3
   },
   "file_extension": ".py",
   "mimetype": "text/x-python",
   "name": "python",
   "nbconvert_exporter": "python",
   "pygments_lexer": "ipython3",
   "version": "3.12.2"
  }
 },
 "nbformat": 4,
 "nbformat_minor": 2
}
